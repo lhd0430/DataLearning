{
 "cells": [
  {
   "cell_type": "code",
   "execution_count": 229,
   "metadata": {},
   "outputs": [],
   "source": [
    "import numpy as np\n",
    "import itertools\n",
    "import random as rd"
   ]
  },
  {
   "cell_type": "code",
   "execution_count": 230,
   "metadata": {},
   "outputs": [],
   "source": [
    "def vertNum(v):\n",
    "    return len(set(itertools.chain(*v)))"
   ]
  },
  {
   "cell_type": "code",
   "execution_count": 231,
   "metadata": {},
   "outputs": [],
   "source": [
    "def randEdg(v):\n",
    "    v1_idx = rd.randint(0,len(v)-1)\n",
    "    v2_idx = rd.randint(1,len(v[v1_idx])-1)\n",
    "    v2 = v[v1_idx][v2_idx]\n",
    "    return v1_idx,v2"
   ]
  },
  {
   "cell_type": "code",
   "execution_count": 232,
   "metadata": {},
   "outputs": [],
   "source": [
    "def mergeVert(v,v1_idx,v2):\n",
    "    v1 = v[v1_idx][0]\n",
    "    v2Edgs = [x for x in v if x[0]==v2]   \n",
    "    v[v1_idx].extend(v2Edgs[0][1:])\n",
    "    v.remove(v2Edgs[0])\n",
    "    for i in range(len(v)):\n",
    "        v[i] = [x if x!=v2 else v1 for x in v[i]]\n",
    "    return v"
   ]
  },
  {
   "cell_type": "code",
   "execution_count": 233,
   "metadata": {},
   "outputs": [],
   "source": [
    "def rmSelfLoop(v):\n",
    "    v_new = [x for x in v  if x!=v[0]]\n",
    "    v_new.insert(0,v[0])\n",
    "    return v_new"
   ]
  },
  {
   "cell_type": "code",
   "execution_count": 234,
   "metadata": {},
   "outputs": [],
   "source": [
    "def minCut(T):\n",
    "    if len(T)==2:\n",
    "        return T\n",
    "    else:\n",
    "        v1_idx,v2=randEdg(T)\n",
    "        T = mergeVert(T,v1_idx,v2)\n",
    "        for i in range(len(T)):\n",
    "            T[i]=rmSelfLoop(T[i])\n",
    "        final_T = minCut(T)\n",
    "        return final_T"
   ]
  },
  {
   "cell_type": "code",
   "execution_count": 367,
   "metadata": {},
   "outputs": [
    {
     "name": "stdout",
     "output_type": "stream",
     "text": [
      "17\n"
     ]
    }
   ],
   "source": [
    "f=open('kargerMinCut.txt','r')\n",
    "c=f.read()\n",
    "T = c.split(sep='\\n')\n",
    "T = [t.split(sep='\\t') for t in T]\n",
    "T = [[int(x) for x in t if x is not ''] for t in T[:-1]]\n",
    "iter = 500\n",
    "minCutNum = 1000\n",
    "\n",
    "for k in range(iter):\n",
    "    rd.seed()\n",
    "    t = minCut(T)\n",
    "    minCutNum = len(t[0])-1 if (len(t[0])-1)<minCutNum else minCutNum\n",
    "print(minCutNum)"
   ]
  },
  {
   "cell_type": "code",
   "execution_count": null,
   "metadata": {},
   "outputs": [],
   "source": []
  }
 ],
 "metadata": {
  "kernelspec": {
   "display_name": "Python 3",
   "language": "python",
   "name": "python3"
  },
  "language_info": {
   "codemirror_mode": {
    "name": "ipython",
    "version": 3
   },
   "file_extension": ".py",
   "mimetype": "text/x-python",
   "name": "python",
   "nbconvert_exporter": "python",
   "pygments_lexer": "ipython3",
   "version": "3.6.0"
  }
 },
 "nbformat": 4,
 "nbformat_minor": 2
}
