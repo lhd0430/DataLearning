{
 "cells": [
  {
   "cell_type": "code",
   "execution_count": 46,
   "metadata": {},
   "outputs": [],
   "source": [
    "file=open('week1_SCC.txt','r')\n",
    "c=file.read()\n",
    "T = c.split(sep='\\n')\n",
    "T = [t.split(sep=' ') for t in T]\n",
    "T = [[int(x) for x in t if x is not ''] for t in T[:-1]]"
   ]
  },
  {
   "cell_type": "code",
   "execution_count": 49,
   "metadata": {},
   "outputs": [
    {
     "data": {
      "text/plain": [
       "[[1, 1],\n",
       " [1, 2],\n",
       " [1, 5],\n",
       " [1, 6],\n",
       " [1, 7],\n",
       " [1, 3],\n",
       " [1, 8],\n",
       " [1, 4],\n",
       " [2, 47646],\n",
       " [2, 47647]]"
      ]
     },
     "execution_count": 49,
     "metadata": {},
     "output_type": "execute_result"
    }
   ],
   "source": []
  },
  {
   "cell_type": "code",
   "execution_count": 30,
   "metadata": {
    "collapsed": true
   },
   "outputs": [],
   "source": [
    "# Global\n",
    "n=875714 # node number\n",
    "G=T"
   ]
  },
  {
   "cell_type": "code",
   "execution_count": 31,
   "metadata": {
    "collapsed": true
   },
   "outputs": [],
   "source": [
    "def Arc(G,i,step):\n",
    "    # to find all j of (i,j) in G\n",
    "    if(step==1):\n",
    "        return [v[0] for v in G if v[1]==i]\n",
    "    else:\n",
    "        return [v[1] for v in G if v[0]==i]\n",
    "\n",
    "\n",
    "\n",
    "def DFS(G,i,step):\n",
    "    global leader\n",
    "    global t\n",
    "    global f\n",
    "    global scc\n",
    "    set_explored.append(i)\n",
    "    if(step==1):\n",
    "        leader[i-1]=s\n",
    "    else:\n",
    "        scc.append(i)\n",
    "    for j in Arc(G,i,step):\n",
    "        if(j not in set_explored):\n",
    "            DFS(G,j,step)\n",
    "    t+=1\n",
    "    if(step==1):\n",
    "        f[i-1]=t\n"
   ]
  },
  {
   "cell_type": "code",
   "execution_count": 32,
   "metadata": {},
   "outputs": [],
   "source": [
    "# DFS on G_reverse\n",
    "s=None\n",
    "leader=[0]*n\n",
    "f=[0]*n\n",
    "t=0\n",
    "set_explored=[]\n",
    "for i in range(n,0,-1):\n",
    "    if(i not in set_explored):\n",
    "        s=i\n",
    "        DFS(G,i,1)"
   ]
  },
  {
   "cell_type": "code",
   "execution_count": 40,
   "metadata": {},
   "outputs": [],
   "source": [
    "# DFS on G\n",
    "scc=[]\n",
    "scc_set=[]\n",
    "set_explored=[]\n",
    "t=0\n",
    "for fi in range(n,0,-1):\n",
    "    t=0\n",
    "    scc=[]\n",
    "    i=f.index(fi)+1\n",
    "    if(i not in set_explored): \n",
    "        DFS(G,i,2)\n",
    "        scc_set.append(scc)\n",
    "        \n",
    "scc_size=[len(scc) for scc in scc_set]\n",
    "scc_num = len(scc_set)"
   ]
  },
  {
   "cell_type": "code",
   "execution_count": 44,
   "metadata": {},
   "outputs": [
    {
     "name": "stdout",
     "output_type": "stream",
     "text": [
      "SCC number is  2\n",
      "Size of each scc is  [3, 3]\n"
     ]
    }
   ],
   "source": [
    "print('SCC number is ', scc_num)\n",
    "print('Size of each scc is ', scc_size)"
   ]
  }
 ],
 "metadata": {
  "kernelspec": {
   "display_name": "Python 3",
   "language": "python",
   "name": "python3"
  },
  "language_info": {
   "codemirror_mode": {
    "name": "ipython",
    "version": 3
   },
   "file_extension": ".py",
   "mimetype": "text/x-python",
   "name": "python",
   "nbconvert_exporter": "python",
   "pygments_lexer": "ipython3",
   "version": "3.6.1"
  }
 },
 "nbformat": 4,
 "nbformat_minor": 2
}
