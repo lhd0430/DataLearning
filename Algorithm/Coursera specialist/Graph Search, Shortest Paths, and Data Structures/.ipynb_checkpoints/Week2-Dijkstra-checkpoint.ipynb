{
 "cells": [
  {
   "cell_type": "code",
   "execution_count": 39,
   "metadata": {},
   "outputs": [],
   "source": [
    "file=open('week2_dijkstraData.txt','r')\n",
    "c=file.read()\n",
    "T = c.split(sep='\\n')\n",
    "T = [t.split(sep='\\t') for t in T]\n",
    "T = [ [ [s] for s in t[:-2] ] for t in T[:-1]]\n",
    "\n",
    "for i in range(len(T)):\n",
    "    for j in range(len(T[i])):\n",
    "        T[i][j] = [int(T[i][j][0])] if j==0 else [ int(c) for c in T[i][j][0].split(sep=',')]\n",
    "    "
   ]
  },
  {
   "cell_type": "code",
   "execution_count": 40,
   "metadata": {},
   "outputs": [
    {
     "data": {
      "text/plain": [
       "[[1],\n",
       " [80, 982],\n",
       " [163, 8164],\n",
       " [170, 2620],\n",
       " [145, 648],\n",
       " [200, 8021],\n",
       " [173, 2069],\n",
       " [92, 647],\n",
       " [26, 4122],\n",
       " [140, 546],\n",
       " [11, 1913],\n",
       " [160, 6461],\n",
       " [27, 7905],\n",
       " [40, 9047],\n",
       " [150, 2183],\n",
       " [61, 9146],\n",
       " [159, 7420],\n",
       " [198, 1724],\n",
       " [114, 508],\n",
       " [104, 6647],\n",
       " [30, 4612],\n",
       " [99, 2367],\n",
       " [138, 7896],\n",
       " [169, 8700],\n",
       " [49, 2437],\n",
       " [125, 2909],\n",
       " [117, 2597]]"
      ]
     },
     "execution_count": 40,
     "metadata": {},
     "output_type": "execute_result"
    }
   ],
   "source": [
    "T[0]"
   ]
  },
  {
   "cell_type": "code",
   "execution_count": 41,
   "metadata": {},
   "outputs": [],
   "source": [
    "def minEdge():\n",
    "    global X\n",
    "    global A\n",
    "    global G\n",
    "\n",
    "    w = None\n",
    "    Aw = float('inf')\n",
    "    \n",
    "    for i in X:\n",
    "        for e in G[i-1][1:]:\n",
    "            if((e[0] not in X) and (A[i-1]+e[1])<Aw):\n",
    "                Aw=A[i-1]+e[1]\n",
    "                w=e[0]\n",
    "    \n",
    "    return w,Aw\n",
    "        \n",
    "    "
   ]
  },
  {
   "cell_type": "code",
   "execution_count": 42,
   "metadata": {},
   "outputs": [
    {
     "name": "stdout",
     "output_type": "stream",
     "text": [
      "[0, 2971, 2644, 3056, 3281, 2818, 2599, 1875, 745, 3205, 1551, 2906, 4394, 1803, 2942, 1837, 3111, 2284, 1044, 2351, 3630, 4028, 2650, 3653, 2249, 2150, 1222, 2090, 3540, 2303, 3455, 3004, 2551, 2656, 998, 2236, 2610, 3548, 1851, 4091, 2732, 2040, 3312, 2142, 3438, 2937, 2979, 3465, 2437, 3636, 3802, 2817, 2420, 4038, 3803, 2609, 2857, 3668, 2947, 2592, 1676, 2573, 2498, 2047, 826, 3393, 2535, 4636, 3650, 743, 1265, 1539, 3007, 4286, 2720, 3220, 2298, 2795, 2806, 982, 2976, 2052, 3997, 2656, 1193, 2461, 1608, 3046, 3261, 2018, 2786, 647, 3542, 3415, 2186, 2398, 4248, 3515, 2367, 3751, 3536, 2478, 1826, 2551, 3917, 2303, 2540, 1169, 3140, 2317, 2535, 1759, 1899, 508, 2399, 3513, 2597, 2176, 1090, 2328, 2818, 3231, 2805, 2057, 2618, 1694, 3285, 1203, 676, 1820, 1445, 2468, 2029, 1257, 1533, 2417, 3949, 2494, 4101, 546, 1889, 2616, 2141, 2359, 648, 2682, 3464, 2873, 3109, 2183, 4159, 1832, 2080, 1831, 2001, 3013, 2143, 1376, 1627, 2403, 4772, 2556, 2124, 1693, 2442, 3814, 2630, 2038, 2776, 1365, 3929, 1990, 2069, 3558, 1432, 2279, 3829, 2435, 3691, 3027, 2345, 4476, 2145, 2703, 2884, 3806, 1151, 2505, 2340, 2596, 4123, 1737, 3136, 1073, 1707, 2417, 3068, 1724, 815, 2060]\n"
     ]
    }
   ],
   "source": [
    "G=T\n",
    "n=200\n",
    "X=[1]\n",
    "A=[0]*n\n",
    "\n",
    "while len(X)<n:\n",
    "    w,Aw = minEdge()\n",
    "    X.append(w)\n",
    "    A[w-1] = Aw\n",
    "    \n",
    "print(A)"
   ]
  },
  {
   "cell_type": "code",
   "execution_count": 43,
   "metadata": {},
   "outputs": [
    {
     "data": {
      "text/plain": [
       "982"
      ]
     },
     "execution_count": 43,
     "metadata": {},
     "output_type": "execute_result"
    }
   ],
   "source": [
    "A[79]"
   ]
  },
  {
   "cell_type": "code",
   "execution_count": null,
   "metadata": {},
   "outputs": [],
   "source": []
  }
 ],
 "metadata": {
  "kernelspec": {
   "display_name": "Python 3",
   "language": "python",
   "name": "python3"
  },
  "language_info": {
   "codemirror_mode": {
    "name": "ipython",
    "version": 3
   },
   "file_extension": ".py",
   "mimetype": "text/x-python",
   "name": "python",
   "nbconvert_exporter": "python",
   "pygments_lexer": "ipython3",
   "version": "3.6.0"
  }
 },
 "nbformat": 4,
 "nbformat_minor": 2
}
