{
 "cells": [
  {
   "cell_type": "code",
   "execution_count": null,
   "metadata": {
    "collapsed": true
   },
   "outputs": [],
   "source": []
  },
  {
   "cell_type": "code",
   "execution_count": null,
   "metadata": {
    "collapsed": true
   },
   "outputs": [],
   "source": []
  },
  {
   "cell_type": "code",
   "execution_count": null,
   "metadata": {
    "collapsed": true
   },
   "outputs": [],
   "source": []
  },
  {
   "cell_type": "code",
   "execution_count": null,
   "metadata": {
    "collapsed": true
   },
   "outputs": [],
   "source": []
  },
  {
   "cell_type": "code",
   "execution_count": 21,
   "metadata": {
    "collapsed": true
   },
   "outputs": [],
   "source": [
    "def heapInsert(x,flag):\n",
    "    global H_low\n",
    "    global H_high\n",
    "    \n",
    "    if(flag=='low'):\n",
    "        # stick x at the end of H_low\n",
    "        H_low.append(x)\n",
    "        # bubble up x until x's parent is <= x\n",
    "        i=len(H_low)\n",
    "        parent_i=i//2\n",
    "        parent=H_low[parent_i-1]\n",
    "        while(parent<x and i>1):\n",
    "            H_low[parent_i-1]=x\n",
    "            H_low[i-1]=parent\n",
    "            i=parent_i\n",
    "            parent_i=i//2\n",
    "            parent=H_low[parent_i-1]   \n",
    "    else:\n",
    "         # stick x at the end of H_high\n",
    "        H_high.append(x)\n",
    "        # bubble up x until x's parent is <= x\n",
    "        i=len(H_high)\n",
    "        parent_i=i//2\n",
    "        parent=H_high[parent_i-1]\n",
    "        while(parent>x and i>1):\n",
    "            H_high[parent_i-1]=x\n",
    "            H_high[i-1]=parent\n",
    "            i=parent_i\n",
    "            parent_i=i//2\n",
    "            parent=H_high[parent_i-1]"
   ]
  },
  {
   "cell_type": "code",
   "execution_count": 22,
   "metadata": {},
   "outputs": [],
   "source": [
    "def extractMax():\n",
    "    global H_low\n",
    "    \n",
    "    H_max=H_low[0]\n",
    "    H_low.remove(H_max)\n",
    "    H_low.insert(0,H_low[-1])\n",
    "    H_low=H_low[:-1]\n",
    "    \n",
    "    # bubble down\n",
    "    i=1\n",
    "    c1_i=2*i\n",
    "    c2_i=2*i+1\n",
    "    while((c1_i<len(H_low) and H_low[i-1]<H_low[c1_i-1]) or (c2_i<len(H_low) and H_low[i-1]<H_low[c2_i-1]) ):\n",
    "        if(c1_i<len(H_low)):\n",
    "            x=H_low[i-1]\n",
    "            H_low[i-1]=H_low[c1_i-1]\n",
    "            H_low[c1_i-1]=x\n",
    "            i=c1_i\n",
    "            c1_i=2*i\n",
    "            c2_i=2*i+1\n",
    "        elif(c2_i<len(H_low)):\n",
    "            x=H_low[i-1]\n",
    "            H_low[i-1]=H_low[c2_i]\n",
    "            H_low[c2_i]=x\n",
    "            i=c2_i\n",
    "            c1_i=2*i\n",
    "            c2_i=2*i+1\n",
    "            \n",
    "    return H_max"
   ]
  },
  {
   "cell_type": "code",
   "execution_count": 23,
   "metadata": {},
   "outputs": [],
   "source": [
    "def extractMin():\n",
    "    global H_high\n",
    "    \n",
    "    H_min=H_high[0]\n",
    "    H_high.remove(H_min)\n",
    "    H_high.insert(0,H_high[-1])\n",
    "    H_high=H_high[:-1]\n",
    "    \n",
    "    # bubble down\n",
    "    i=1\n",
    "    c1_i=2*i\n",
    "    c2_i=2*i+1\n",
    "    while((c1_i<len(H_high) and H_high[i-1]>H_high[c1_i-1]) or (c2_i<len(H_high) and H_high[i-1]>H_high[c2_i-1]) ):\n",
    "        if(c1_i<len(H_high)):\n",
    "            x=H_high[i-1]\n",
    "            H_high[i-1]=H_high[c1_i-1]\n",
    "            H_high[c1_i-1]=x\n",
    "            i=c1_i\n",
    "            c1_i=2*i\n",
    "            c2_i=2*i+1\n",
    "        elif(c2_i<len(H_high)):\n",
    "            x=H_high[i-1]\n",
    "            H_high[i-1]=H_high[c2_i]\n",
    "            H_high[c2_i]=x\n",
    "            i=c2_i\n",
    "            c1_i=2*i\n",
    "            c2_i=2*i+1\n",
    "            \n",
    "    return H_min\n",
    "    \n",
    "    \n",
    "    "
   ]
  },
  {
   "cell_type": "code",
   "execution_count": 26,
   "metadata": {},
   "outputs": [
    {
     "name": "stdout",
     "output_type": "stream",
     "text": [
      "x is 2\n",
      "1st if: in high [1] [2]\n",
      "3rd if: append low\n",
      "H_low is [1]\n",
      "H_high is [2]\n",
      "The list of median is:\n",
      " [1, 1]\n",
      "x is 3\n",
      "1st if: in high [1] [2, 3]\n",
      "3rd if: append high\n",
      "H_low is [1]\n",
      "H_high is [2, 3]\n",
      "The list of median is:\n",
      " [1, 1, 2]\n",
      "x is 4\n",
      "1st if: in high [1] [2, 3, 4]\n",
      "2nd if: insert low [2, 1] [4, 3]\n",
      "3rd if: append low\n",
      "H_low is [2, 1]\n",
      "H_high is [4, 3]\n",
      "The list of median is:\n",
      " [1, 1, 2, 2]\n",
      "x is 5\n",
      "1st if: in high [2, 1] [4, 3, 5]\n",
      "3rd if: append high\n",
      "H_low is [2, 1]\n",
      "H_high is [4, 3, 5]\n",
      "The list of median is:\n",
      " [1, 1, 2, 2, 4]\n",
      "x is 1\n",
      "1st if: in low [2, 1, 1] [4, 3, 5]\n",
      "3rd if: append low\n",
      "H_low is [2, 1, 1]\n",
      "H_high is [4, 3, 5]\n",
      "The list of median is:\n",
      " [1, 1, 2, 2, 4, 2]\n"
     ]
    }
   ],
   "source": [
    "# Initialize lists for data, median, H_low and H_high\n",
    "data=[1,2,3,4,5,1]\n",
    "m=[]\n",
    "H_low=[]\n",
    "H_high=[]\n",
    "\n",
    "# Append the first element in data to H_low and median\n",
    "H_low.append(data[0])\n",
    "m.append(data[0])\n",
    "\n",
    "for x in data[1:]: \n",
    "    print('x is', x)\n",
    "    # If x<max(H_low) then insert x to H_low, else insert x to H_high\n",
    "    if(x<H_low[0]):\n",
    "        heapInsert(x,'low')\n",
    "        print('1st if: in low', H_low,H_high)\n",
    "    else:\n",
    "        heapInsert(x,'high')\n",
    "        print('1st if: in high', H_low,H_high)\n",
    "    \n",
    "    \n",
    "    # If |len(H_low)-len(H_high)|==2 then extract max(min) of H_low(H_high) and insert to H_high(H_low)\n",
    "    if(len(H_low)-len(H_high)==2):\n",
    "        y=extractMax()\n",
    "        heapInsert(y,'high')\n",
    "        print('2nd if: insert high', H_low,H_high)\n",
    "    elif(len(H_low)-len(H_high)==-2):\n",
    "        y=extractMin()\n",
    "        heapInsert(y,'low')\n",
    "        print('2nd if: insert low', H_low,H_high)\n",
    "    \n",
    "    # Append extract_max(H_low) to the median list\n",
    "    if(len(H_low)>=len(H_high)):\n",
    "        m.append(H_low[0])\n",
    "        print('3rd if: append low')\n",
    "    else:\n",
    "        m.append(H_high[0])\n",
    "        print('3rd if: append high')\n",
    "    \n",
    "    print('H_low is', H_low)\n",
    "    print('H_high is', H_high)\n",
    "    print('The list of median is:\\n', m)"
   ]
  },
  {
   "cell_type": "code",
   "execution_count": 16,
   "metadata": {
    "collapsed": true
   },
   "outputs": [],
   "source": [
    "a=[2,3,4]"
   ]
  },
  {
   "cell_type": "code",
   "execution_count": 17,
   "metadata": {},
   "outputs": [
    {
     "data": {
      "text/plain": [
       "[2, 3]"
      ]
     },
     "execution_count": 17,
     "metadata": {},
     "output_type": "execute_result"
    }
   ],
   "source": [
    "a[:-1]"
   ]
  },
  {
   "cell_type": "code",
   "execution_count": 27,
   "metadata": {},
   "outputs": [
    {
     "data": {
      "text/plain": [
       "4"
      ]
     },
     "execution_count": 27,
     "metadata": {},
     "output_type": "execute_result"
    }
   ],
   "source": [
    "a[-1]"
   ]
  },
  {
   "cell_type": "code",
   "execution_count": null,
   "metadata": {
    "collapsed": true
   },
   "outputs": [],
   "source": []
  }
 ],
 "metadata": {
  "kernelspec": {
   "display_name": "Python 3",
   "language": "python",
   "name": "python3"
  },
  "language_info": {
   "codemirror_mode": {
    "name": "ipython",
    "version": 3
   },
   "file_extension": ".py",
   "mimetype": "text/x-python",
   "name": "python",
   "nbconvert_exporter": "python",
   "pygments_lexer": "ipython3",
   "version": "3.6.1"
  }
 },
 "nbformat": 4,
 "nbformat_minor": 2
}
