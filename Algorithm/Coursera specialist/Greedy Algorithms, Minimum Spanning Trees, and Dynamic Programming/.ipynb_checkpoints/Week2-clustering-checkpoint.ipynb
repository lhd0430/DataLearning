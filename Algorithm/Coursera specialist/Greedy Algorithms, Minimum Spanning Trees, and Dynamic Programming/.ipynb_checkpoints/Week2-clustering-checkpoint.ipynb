{
 "cells": [
  {
   "cell_type": "code",
   "execution_count": 41,
   "metadata": {
    "collapsed": true
   },
   "outputs": [],
   "source": [
    "file=open('week2_clustering1.txt','r')\n",
    "c=file.read()\n",
    "T = c.split(sep='\\n')\n",
    "T = [t.split(sep='\\t') for t in T]\n",
    "T = [t[0].split(sep=' ') for t in T[:-1]]\n",
    "T = [ [int(t[0]),int(t[1]), int(t[2])] for t in T[1:]]"
   ]
  },
  {
   "cell_type": "code",
   "execution_count": 42,
   "metadata": {
    "collapsed": true
   },
   "outputs": [],
   "source": [
    "def w(V):\n",
    "    return V[2]"
   ]
  },
  {
   "cell_type": "code",
   "execution_count": 43,
   "metadata": {},
   "outputs": [],
   "source": [
    "def merge(e):\n",
    "    global clusters\n",
    "    global k_num\n",
    "    \n",
    "    idx0=-1\n",
    "    idx1=-2\n",
    "    \n",
    "    for i in range(len(clusters)):\n",
    "        if(e[0] in clusters[i]):\n",
    "            idx0 = i\n",
    "        if(e[1] in clusters[i]):\n",
    "            idx1 = i\n",
    "        if(idx0==idx1):\n",
    "            return 'no_merge'\n",
    "    \n",
    "    if(len(clusters)!=k_num):\n",
    "        clusters[idx0] = clusters[idx0]+clusters[idx1]\n",
    "        clusters.pop(idx1)\n",
    "    \n",
    "    return 'merge'\n",
    "\n",
    "            "
   ]
  },
  {
   "cell_type": "code",
   "execution_count": null,
   "metadata": {
    "collapsed": true
   },
   "outputs": [],
   "source": []
  },
  {
   "cell_type": "code",
   "execution_count": 46,
   "metadata": {},
   "outputs": [
    {
     "name": "stdout",
     "output_type": "stream",
     "text": [
      "Clusters are:  [[384], [414, 165, 282, 63, 93, 50, 254, 35, 206, 127, 367, 364, 87, 77, 251, 65, 313, 42, 307, 207, 70, 227, 1, 348, 209, 81, 233, 49, 28, 379, 213, 2, 317, 163, 15, 380, 129, 23, 188, 151, 349, 319, 201, 428, 104, 304, 265, 466, 111, 261, 314, 95, 164, 105, 73, 69, 5, 64, 229, 86, 24, 159, 141, 170, 456, 142, 13, 344, 12, 373, 286, 320, 85, 333, 76, 16, 156, 284, 336, 396, 458, 250, 376, 406, 78, 437, 152, 177, 237, 461, 401, 478, 447, 446, 451, 43, 74, 280, 363, 435, 57, 45, 66, 171, 351, 58, 75, 26, 390, 292, 309, 407, 10, 169, 178, 4, 366, 134, 448, 119, 318, 144, 259, 221, 410, 217, 215, 36, 155, 114, 244, 385, 143, 457, 488, 106, 266, 62, 67, 132, 303, 240, 40, 115, 150, 20, 412, 433, 283, 182, 225, 235, 327, 8, 301, 21, 37, 278, 321, 416, 425, 295, 491, 471, 197, 120, 109, 436, 495, 226, 290, 274, 110, 453, 145, 305, 267, 88, 485, 68, 116, 3, 426, 460, 183, 260, 190, 139, 220, 389, 430, 83, 107, 185, 328, 160, 176, 308, 475, 128, 378, 397, 82, 214, 361, 189, 80, 362, 355, 153, 56, 382, 375, 454, 350, 210, 337, 19, 293, 499, 94, 124, 223, 289, 371, 203, 6, 273, 25, 208, 126, 480, 288, 92, 387, 257, 370, 31, 17, 400, 476, 30, 52, 79, 138, 255, 463, 147, 22, 296, 146, 256, 48, 368, 72, 291, 38, 270, 272, 374, 187, 123, 294, 352, 192, 442, 239, 429, 33, 96, 47, 393, 9, 358, 486, 18, 61, 230, 166, 198, 404, 477, 268, 347, 113, 51, 101, 137, 149, 102, 438, 154, 157, 287, 158, 11, 424, 98, 112, 125, 180, 341, 46, 122, 231, 449, 372, 423, 415, 427, 60, 175, 34, 300, 238, 311, 326, 377, 395, 353, 262, 199, 117, 439, 202, 205, 275, 234, 484, 14, 179, 338, 71, 316, 27, 487, 354, 360, 7, 222, 277, 269, 263, 264, 161, 271, 172, 298, 130, 420, 440, 493, 55, 322, 162, 332, 356, 365, 200, 32, 167, 417, 472, 243, 489, 469, 90, 473, 474, 168, 452, 419, 245, 212, 258, 279, 29, 312, 329, 335, 84, 249, 391, 500, 103, 184, 392, 339, 173, 186, 306, 431, 345, 281, 331, 330, 418, 388, 479, 434, 285, 131, 276, 53, 41, 481, 181, 219, 236, 39, 369, 224, 121, 422, 89, 140, 357, 97, 193, 324, 108, 253, 402, 343, 403, 492, 432, 386, 482, 496, 44, 325, 455, 334, 413, 118, 297, 444, 459, 59, 241, 408, 383, 91, 100, 467, 247, 494, 195, 54, 148, 381, 450, 398, 411, 299, 204, 405, 211, 252, 421, 445, 196, 498, 342, 399, 483, 133, 248, 443, 470, 359, 135, 497, 136, 323, 409, 302, 468, 464, 441, 246, 346, 315, 242, 99, 194, 310, 232, 174, 218, 216, 340, 465, 490, 228, 191, 394], [462]]\n",
      "max dist is:  106\n"
     ]
    }
   ],
   "source": [
    "#T = [[1,2,10],[1,5,7],[2,3,100],[2,4,-10],[2,5,1000],[3,4,-5],[4,5,50]]\n",
    "n_num = 500\n",
    "k_num = 4\n",
    "dist = 0\n",
    "clusters = [[c] for c in range(1,n_num+1)]\n",
    "\n",
    "# sort edges asending\n",
    "T.sort(key=w)\n",
    "\n",
    "# clustering\n",
    "for e in T:\n",
    "    if(len(clusters) > k_num):\n",
    "        # check cycle and merge\n",
    "        isMerge = merge(e)\n",
    "    elif(len(clusters)==k_num):\n",
    "        isMerge = merge(e)\n",
    "        if(isMerge=='merge'):\n",
    "            dist=e[2]\n",
    "            break\n",
    "\n",
    "print('Clusters are: ',clusters)\n",
    "print('max dist is: ', dist)"
   ]
  },
  {
   "cell_type": "code",
   "execution_count": null,
   "metadata": {
    "collapsed": true
   },
   "outputs": [],
   "source": []
  }
 ],
 "metadata": {
  "kernelspec": {
   "display_name": "Python 3",
   "language": "python",
   "name": "python3"
  },
  "language_info": {
   "codemirror_mode": {
    "name": "ipython",
    "version": 3
   },
   "file_extension": ".py",
   "mimetype": "text/x-python",
   "name": "python",
   "nbconvert_exporter": "python",
   "pygments_lexer": "ipython3",
   "version": "3.6.1"
  }
 },
 "nbformat": 4,
 "nbformat_minor": 2
}
