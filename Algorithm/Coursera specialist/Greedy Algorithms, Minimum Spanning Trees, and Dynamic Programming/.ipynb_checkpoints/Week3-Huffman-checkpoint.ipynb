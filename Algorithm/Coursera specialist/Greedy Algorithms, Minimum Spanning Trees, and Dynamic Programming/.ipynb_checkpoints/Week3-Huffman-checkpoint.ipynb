{
 "cells": [
  {
   "cell_type": "code",
   "execution_count": 221,
   "metadata": {},
   "outputs": [
    {
     "name": "stdout",
     "output_type": "stream",
     "text": [
      "[10, 37, 59, 43, 27, 30, 96, 96, 71, 8, 76]\n"
     ]
    }
   ],
   "source": [
    "file=open('week3_test1.txt','r')\n",
    "c=file.read()\n",
    "T = c.split(sep='\\n')\n",
    "T = [ int(t) for t in T]\n",
    "print(T)"
   ]
  },
  {
   "cell_type": "code",
   "execution_count": 212,
   "metadata": {
    "collapsed": true
   },
   "outputs": [],
   "source": [
    "class Node(object):\n",
    "    def __init__(self):\n",
    "        self.left = None\n",
    "        self.right = None\n",
    "        self.data = None\n",
    "        \n",
    "    def PrintTree(self):\n",
    "        print( self.data),\n",
    "        if self.left:\n",
    "            self.left.PrintTree()\n",
    "        if self.right:\n",
    "            self.right.PrintTree()\n",
    "    \n",
    "    def Replace(self,a,b):\n",
    "        #print('in replace')\n",
    "        if(self.left):\n",
    "            self.left.Replace(a,b)\n",
    "        if(self.right):\n",
    "            self.right.Replace(a,b)\n",
    "        if(self.data==(a+b)):\n",
    "            #print('found')\n",
    "            self.data=None\n",
    "            nL=Node()\n",
    "            nL.data=a\n",
    "            nR=Node()\n",
    "            nR.data=b\n",
    "            self.left=nL\n",
    "            self.right=nR\n",
    "        \n",
    "       \n",
    "            \n",
    "            \n",
    "        "
   ]
  },
  {
   "cell_type": "code",
   "execution_count": 213,
   "metadata": {
    "collapsed": true
   },
   "outputs": [],
   "source": [
    "def w(s):\n",
    "    return s[1]"
   ]
  },
  {
   "cell_type": "code",
   "execution_count": 214,
   "metadata": {
    "collapsed": true
   },
   "outputs": [],
   "source": [
    "def huffman(S):\n",
    "    if(len(S)==2):\n",
    "        nRoot=Node()\n",
    "        nL=Node()\n",
    "        nL.data=S[0][0]\n",
    "        nR=Node()\n",
    "        nR.data=S[1][0]\n",
    "        nRoot.left=nL\n",
    "        nRoot.right=nR\n",
    "        return nRoot\n",
    "    \n",
    "    S.sort(key=w)\n",
    "    a=S[0][0]\n",
    "    b=S[1][0]\n",
    "    ab=a+b\n",
    "    w_ab=S[0][1]+S[1][1]\n",
    "    S.pop(0)\n",
    "    S.pop(0)\n",
    "    S.append([ab,w_ab])\n",
    "    nRoot=huffman(S)\n",
    "    nRoot.Replace(a,b)\n",
    "\n",
    "    return nRoot"
   ]
  },
  {
   "cell_type": "code",
   "execution_count": 215,
   "metadata": {
    "collapsed": true
   },
   "outputs": [],
   "source": [
    "def minDepth(root):\n",
    "    if(root.left is None and root.right is None):\n",
    "        return 0\n",
    "    \n",
    "    if(root.left is None):\n",
    "        return minDepth(root.right)+1\n",
    "\n",
    "    if(root.right is None):\n",
    "        return minDepth(root.left)+1\n",
    "    \n",
    "    return min(minDepth(root.left),minDepth(root.right))+1\n",
    "    \n",
    "    "
   ]
  },
  {
   "cell_type": "code",
   "execution_count": 216,
   "metadata": {
    "collapsed": true
   },
   "outputs": [],
   "source": [
    "def maxDepth(root):\n",
    "    if(root.left is None and root.right is None):\n",
    "        return 0\n",
    "    \n",
    "    if(root.left is None):\n",
    "        return maxDepth(root.right)+1\n",
    "\n",
    "    if(root.right is None):\n",
    "        return maxDepth(root.left)+1\n",
    "    \n",
    "    return max(maxDepth(root.left),maxDepth(root.right))+1"
   ]
  },
  {
   "cell_type": "code",
   "execution_count": 222,
   "metadata": {},
   "outputs": [],
   "source": [
    "#S=[[[1],4],[[2],2],[[3],5],[[4],6],[[5],34],[[6],10]]\n",
    "#S=[[[1],4],[[2],2],[[3],5],[[4],6]]\n",
    "n=len(T[1:])\n",
    "S=[[[s],t] for (s,t) in zip(range(1,n),T[1:])]\n",
    "\n",
    "r = huffman(S)\n",
    "\n"
   ]
  },
  {
   "cell_type": "code",
   "execution_count": 223,
   "metadata": {},
   "outputs": [
    {
     "data": {
      "text/plain": [
       "5"
      ]
     },
     "execution_count": 223,
     "metadata": {},
     "output_type": "execute_result"
    }
   ],
   "source": [
    "maxDepth(r)"
   ]
  },
  {
   "cell_type": "code",
   "execution_count": 224,
   "metadata": {},
   "outputs": [
    {
     "data": {
      "text/plain": [
       "2"
      ]
     },
     "execution_count": 224,
     "metadata": {},
     "output_type": "execute_result"
    }
   ],
   "source": [
    "minDepth(r)"
   ]
  },
  {
   "cell_type": "code",
   "execution_count": null,
   "metadata": {
    "collapsed": true
   },
   "outputs": [],
   "source": []
  }
 ],
 "metadata": {
  "kernelspec": {
   "display_name": "Python 3",
   "language": "python",
   "name": "python3"
  },
  "language_info": {
   "codemirror_mode": {
    "name": "ipython",
    "version": 3
   },
   "file_extension": ".py",
   "mimetype": "text/x-python",
   "name": "python",
   "nbconvert_exporter": "python",
   "pygments_lexer": "ipython3",
   "version": "3.6.1"
  }
 },
 "nbformat": 4,
 "nbformat_minor": 2
}
