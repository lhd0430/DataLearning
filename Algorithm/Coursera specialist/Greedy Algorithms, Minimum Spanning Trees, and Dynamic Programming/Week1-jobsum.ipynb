{
 "cells": [
  {
   "cell_type": "code",
   "execution_count": 64,
   "metadata": {
    "collapsed": true
   },
   "outputs": [],
   "source": [
    "import numpy as np"
   ]
  },
  {
   "cell_type": "code",
   "execution_count": 65,
   "metadata": {},
   "outputs": [],
   "source": [
    "file=open('week1_jobs.txt','r')\n",
    "c=file.read()\n",
    "T = c.split(sep='\\n')\n",
    "T = [t.split(sep='\\t') for t in T]\n",
    "T = [t[0].split(sep=' ') for t in T[1:-1]]\n",
    "T = [ [int(t[0]),int(t[1])] for t in T]"
   ]
  },
  {
   "cell_type": "code",
   "execution_count": 66,
   "metadata": {},
   "outputs": [],
   "source": [
    "def wl(job):\n",
    "    return job[0]-job[1]\n",
    "\n",
    "def w(job):\n",
    "    return job[0]\n",
    "\n",
    "def woverl(job):\n",
    "    return job[0]/job[1]\n"
   ]
  },
  {
   "cell_type": "code",
   "execution_count": 67,
   "metadata": {},
   "outputs": [
    {
     "data": {
      "text/plain": [
       "399900916"
      ]
     },
     "execution_count": 67,
     "metadata": {},
     "output_type": "execute_result"
    }
   ],
   "source": [
    "# Q1\n",
    "T.sort(key=w, reverse=True)\n",
    "T.sort(key=wl,reverse=True)\n",
    "data = np.array(T)\n",
    "C=np.cumsum(data[:,1])\n",
    "job_sum1 = np.dot(data[:,0],C)\n",
    "job_sum1"
   ]
  },
  {
   "cell_type": "code",
   "execution_count": 91,
   "metadata": {},
   "outputs": [
    {
     "data": {
      "text/plain": [
       "67311454237"
      ]
     },
     "execution_count": 91,
     "metadata": {},
     "output_type": "execute_result"
    }
   ],
   "source": [
    "# Q2\n",
    "T.sort(key=woverl, reverse=True)\n",
    "data = np.array(T,dtype='int64')\n",
    "C=np.cumsum(data[:,1])\n",
    "job_sum2 = np.matmul(data[:,0],C)\n",
    "job_sum2"
   ]
  },
  {
   "cell_type": "code",
   "execution_count": null,
   "metadata": {
    "collapsed": true
   },
   "outputs": [],
   "source": []
  }
 ],
 "metadata": {
  "kernelspec": {
   "display_name": "Python 3",
   "language": "python",
   "name": "python3"
  },
  "language_info": {
   "codemirror_mode": {
    "name": "ipython",
    "version": 3
   },
   "file_extension": ".py",
   "mimetype": "text/x-python",
   "name": "python",
   "nbconvert_exporter": "python",
   "pygments_lexer": "ipython3",
   "version": "3.6.1"
  }
 },
 "nbformat": 4,
 "nbformat_minor": 2
}
