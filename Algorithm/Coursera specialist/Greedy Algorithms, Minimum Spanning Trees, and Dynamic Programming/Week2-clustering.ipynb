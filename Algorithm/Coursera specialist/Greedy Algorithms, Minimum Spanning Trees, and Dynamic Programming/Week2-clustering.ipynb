{
 "cells": [
  {
   "cell_type": "code",
   "execution_count": 54,
   "metadata": {},
   "outputs": [],
   "source": [
    "file=open('week2_test1.txt','r')\n",
    "c=file.read()\n",
    "T = c.split(sep='\\n\\n')\n",
    "T = [t.split(sep='\\t') for t in T]\n",
    "T = [t[0].split(sep=' ') for t in T[:-1]]\n",
    "T = [ [int(t[0]),int(t[1]), int(t[2])] for t in T[1:]]"
   ]
  },
  {
   "cell_type": "code",
   "execution_count": 55,
   "metadata": {},
   "outputs": [
    {
     "data": {
      "text/plain": [
       "[[1, 2, 14],\n",
       " [1, 3, 10],\n",
       " [1, 4, 100],\n",
       " [1, 5, 101],\n",
       " [1, 6, 102],\n",
       " [1, 7, 103],\n",
       " [1, 8, 104],\n",
       " [1, 9, 105],\n",
       " [1, 10, 106],\n",
       " [1, 11, 107],\n",
       " [1, 12, 108],\n",
       " [2, 3, 7],\n",
       " [2, 4, 99],\n",
       " [2, 5, 100],\n",
       " [2, 6, 101],\n",
       " [2, 7, 102],\n",
       " [2, 8, 103],\n",
       " [2, 9, 104],\n",
       " [2, 10, 105],\n",
       " [2, 11, 106],\n",
       " [2, 12, 107],\n",
       " [3, 4, 100],\n",
       " [3, 5, 101],\n",
       " [3, 6, 102],\n",
       " [3, 7, 103],\n",
       " [3, 8, 104],\n",
       " [3, 9, 105],\n",
       " [3, 10, 106],\n",
       " [3, 11, 106],\n",
       " [3, 12, 108],\n",
       " [4, 5, 16],\n",
       " [4, 6, 1],\n",
       " [4, 7, 102],\n",
       " [4, 8, 103],\n",
       " [4, 9, 104],\n",
       " [4, 10, 105],\n",
       " [4, 11, 106],\n",
       " [4, 12, 107],\n",
       " [5, 6, 8],\n",
       " [5, 7, 102],\n",
       " [5, 8, 103],\n",
       " [5, 9, 104],\n",
       " [5, 10, 105],\n",
       " [5, 11, 106],\n",
       " [5, 12, 107],\n",
       " [6, 7, 102],\n",
       " [6, 8, 103],\n",
       " [6, 9, 104],\n",
       " [6, 10, 105],\n",
       " [6, 11, 106],\n",
       " [6, 12, 107],\n",
       " [7, 8, 9],\n",
       " [7, 9, 10],\n",
       " [7, 10, 105],\n",
       " [7, 11, 106],\n",
       " [7, 12, 107],\n",
       " [8, 9, 11],\n",
       " [8, 10, 105],\n",
       " [8, 11, 106],\n",
       " [8, 12, 107],\n",
       " [9, 10, 105],\n",
       " [9, 11, 106],\n",
       " [9, 12, 107],\n",
       " [10, 11, 12],\n",
       " [10, 12, 13]]"
      ]
     },
     "execution_count": 55,
     "metadata": {},
     "output_type": "execute_result"
    }
   ],
   "source": [
    "T"
   ]
  },
  {
   "cell_type": "code",
   "execution_count": 56,
   "metadata": {
    "collapsed": true
   },
   "outputs": [],
   "source": [
    "def w(V):\n",
    "    return V[2]"
   ]
  },
  {
   "cell_type": "code",
   "execution_count": 57,
   "metadata": {},
   "outputs": [],
   "source": [
    "def merge(e):\n",
    "    global clusters\n",
    "    global k_num\n",
    "    \n",
    "    idx0=-1\n",
    "    idx1=-2\n",
    "    \n",
    "    for i in range(len(clusters)):\n",
    "        if(e[0] in clusters[i]):\n",
    "            idx0 = i\n",
    "        if(e[1] in clusters[i]):\n",
    "            idx1 = i\n",
    "        if(idx0==idx1):\n",
    "            return 'no_merge'\n",
    "    \n",
    "    if(len(clusters)!=k_num):\n",
    "        clusters[idx0] = clusters[idx0]+clusters[idx1]\n",
    "        clusters.pop(idx1)\n",
    "    \n",
    "    return 'merge'\n",
    "\n",
    "            "
   ]
  },
  {
   "cell_type": "code",
   "execution_count": null,
   "metadata": {
    "collapsed": true
   },
   "outputs": [],
   "source": []
  },
  {
   "cell_type": "code",
   "execution_count": 60,
   "metadata": {},
   "outputs": [
    {
     "name": "stdout",
     "output_type": "stream",
     "text": [
      "Clusters are:  [[1, 2, 3], [5, 4, 6], [7, 8, 9], [10, 11, 12]]\n",
      "max dist is:  99\n"
     ]
    }
   ],
   "source": [
    "#T = [[1,2,10],[1,5,7],[2,3,100],[2,4,-10],[2,5,1000],[3,4,-5],[4,5,50]]\n",
    "n_num = 12\n",
    "k_num = 4\n",
    "dist = 0\n",
    "clusters = [[c] for c in range(1,n_num+1)]\n",
    "\n",
    "# sort edges asending\n",
    "T.sort(key=w)\n",
    "\n",
    "# clustering\n",
    "for e in T:\n",
    "    if(len(clusters) > k_num):\n",
    "        # check cycle and merge\n",
    "        isMerge = merge(e)\n",
    "    elif(len(clusters)==k_num):\n",
    "        isMerge = merge(e)\n",
    "        if(isMerge=='merge'):\n",
    "            dist=e[2]\n",
    "            break\n",
    "\n",
    "print('Clusters are: ',clusters)\n",
    "print('max dist is: ', dist)"
   ]
  },
  {
   "cell_type": "code",
   "execution_count": null,
   "metadata": {
    "collapsed": true
   },
   "outputs": [],
   "source": []
  }
 ],
 "metadata": {
  "kernelspec": {
   "display_name": "Python 3",
   "language": "python",
   "name": "python3"
  },
  "language_info": {
   "codemirror_mode": {
    "name": "ipython",
    "version": 3
   },
   "file_extension": ".py",
   "mimetype": "text/x-python",
   "name": "python",
   "nbconvert_exporter": "python",
   "pygments_lexer": "ipython3",
   "version": "3.6.1"
  }
 },
 "nbformat": 4,
 "nbformat_minor": 2
}
