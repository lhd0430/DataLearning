{
 "cells": [
  {
   "cell_type": "code",
   "execution_count": 34,
   "metadata": {},
   "outputs": [],
   "source": [
    "W = [280,618,762,908,409,34,59,277,246,779]\n",
    "#W=[460,250,730,63,379,638,122,435,705,84]\n",
    "\n",
    "n=len(W)\n",
    "\n",
    "A = [0]*(n+1)\n",
    "A[1]=W[0]\n",
    "\n",
    "for i in range(2,n+1):\n",
    "    A[i]=max(A[i-1],A[i-2]+W[i-1])\n",
    "\n",
    "S = []\n",
    "i=n\n",
    "\n",
    "while i>=1:\n",
    "    if(i>1 and A[i-1]>=A[i-2]+W[i-1]):\n",
    "        i-=1\n",
    "    else:\n",
    "        S.append(i)\n",
    "        i-=2\n",
    "\n"
   ]
  },
  {
   "cell_type": "code",
   "execution_count": 35,
   "metadata": {},
   "outputs": [
    {
     "name": "stdout",
     "output_type": "stream",
     "text": [
      "[0, 280, 618, 1042, 1526, 1526, 1560, 1585, 1837, 1837, 2616]\n",
      "[10, 8, 6, 4, 2]\n"
     ]
    }
   ],
   "source": [
    "print(A)\n",
    "print(S)"
   ]
  },
  {
   "cell_type": "code",
   "execution_count": null,
   "metadata": {},
   "outputs": [],
   "source": []
  }
 ],
 "metadata": {
  "kernelspec": {
   "display_name": "Python 3",
   "language": "python",
   "name": "python3"
  },
  "language_info": {
   "codemirror_mode": {
    "name": "ipython",
    "version": 3
   },
   "file_extension": ".py",
   "mimetype": "text/x-python",
   "name": "python",
   "nbconvert_exporter": "python",
   "pygments_lexer": "ipython3",
   "version": "3.6.0"
  }
 },
 "nbformat": 4,
 "nbformat_minor": 2
}
