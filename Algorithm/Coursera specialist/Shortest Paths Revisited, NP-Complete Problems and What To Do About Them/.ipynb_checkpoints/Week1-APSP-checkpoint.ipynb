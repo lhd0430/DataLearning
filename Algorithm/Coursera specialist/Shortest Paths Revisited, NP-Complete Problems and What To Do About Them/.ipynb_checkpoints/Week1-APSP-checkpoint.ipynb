{
 "cells": [
  {
   "cell_type": "code",
   "execution_count": 104,
   "metadata": {},
   "outputs": [],
   "source": [
    "# Bellman-Ford Algorithm\n",
    "\n",
    "file=open('week1_test.txt','r')\n",
    "c=file.read()\n",
    "T = c.split(sep='\\n')\n",
    "T = [t.split(sep=' ') for t in T]\n",
    "nV=int(T[0][0])\n",
    "nE=int(T[0][1])\n",
    "T = [ [int(t[0]),int(t[1]),int(t[2])]  for t in T[1:-1]]"
   ]
  },
  {
   "cell_type": "code",
   "execution_count": 105,
   "metadata": {},
   "outputs": [
    {
     "data": {
      "text/plain": [
       "[[1, 2, -5], [1, 3, 4], [2, 3, 1], [3, 4, 2], [4, 1, 1]]"
      ]
     },
     "execution_count": 105,
     "metadata": {},
     "output_type": "execute_result"
    }
   ],
   "source": [
    "T"
   ]
  },
  {
   "cell_type": "code",
   "execution_count": 106,
   "metadata": {},
   "outputs": [],
   "source": [
    "S = [[0,x,0] for x in range(nV+1)]"
   ]
  },
  {
   "cell_type": "code",
   "execution_count": 107,
   "metadata": {},
   "outputs": [],
   "source": [
    "G = S+T"
   ]
  },
  {
   "cell_type": "code",
   "execution_count": 108,
   "metadata": {},
   "outputs": [
    {
     "data": {
      "text/plain": [
       "[[0, 0, 0],\n",
       " [0, 1, 0],\n",
       " [0, 2, 0],\n",
       " [0, 3, 0],\n",
       " [0, 4, 0],\n",
       " [1, 2, -5],\n",
       " [1, 3, 4],\n",
       " [2, 3, 1],\n",
       " [3, 4, 2],\n",
       " [4, 1, 1]]"
      ]
     },
     "execution_count": 108,
     "metadata": {},
     "output_type": "execute_result"
    }
   ],
   "source": [
    "G"
   ]
  },
  {
   "cell_type": "code",
   "execution_count": 109,
   "metadata": {
    "collapsed": true
   },
   "outputs": [],
   "source": [
    "nV+=1\n",
    "A=[ [0]*nV for x in range(nV) ]"
   ]
  },
  {
   "cell_type": "code",
   "execution_count": 110,
   "metadata": {},
   "outputs": [],
   "source": [
    "A[0]=[0]+[float('inf')]*(nV-1)"
   ]
  },
  {
   "cell_type": "code",
   "execution_count": 111,
   "metadata": {
    "collapsed": true
   },
   "outputs": [],
   "source": [
    "def minEdg(i,v):\n",
    "    global A\n",
    "    global G\n",
    "    \n",
    "    return min([ A[i-1][e[0]]+e[2] for e in G if e[1]==v])"
   ]
  },
  {
   "cell_type": "code",
   "execution_count": 112,
   "metadata": {},
   "outputs": [],
   "source": [
    "for i in range(1,nV):\n",
    "    for v in range(nV):\n",
    "        A[i][v]=min(A[i-1][v],minEdg(i,v))\n",
    "    if A[i]==A[i-1]:\n",
    "        break"
   ]
  },
  {
   "cell_type": "code",
   "execution_count": 113,
   "metadata": {},
   "outputs": [
    {
     "name": "stdout",
     "output_type": "stream",
     "text": [
      "nc\n"
     ]
    }
   ],
   "source": [
    "for v in range(nV):\n",
    "    if A[i][v]!=minEdg(i+1,v):\n",
    "        print('nc')\n"
   ]
  },
  {
   "cell_type": "code",
   "execution_count": 95,
   "metadata": {},
   "outputs": [
    {
     "data": {
      "text/plain": [
       "4"
      ]
     },
     "execution_count": 95,
     "metadata": {},
     "output_type": "execute_result"
    }
   ],
   "source": [
    "nV"
   ]
  },
  {
   "cell_type": "code",
   "execution_count": null,
   "metadata": {
    "collapsed": true
   },
   "outputs": [],
   "source": []
  }
 ],
 "metadata": {
  "kernelspec": {
   "display_name": "Python 3",
   "language": "python",
   "name": "python3"
  },
  "language_info": {
   "codemirror_mode": {
    "name": "ipython",
    "version": 3
   },
   "file_extension": ".py",
   "mimetype": "text/x-python",
   "name": "python",
   "nbconvert_exporter": "python",
   "pygments_lexer": "ipython3",
   "version": "3.6.1"
  }
 },
 "nbformat": 4,
 "nbformat_minor": 2
}
