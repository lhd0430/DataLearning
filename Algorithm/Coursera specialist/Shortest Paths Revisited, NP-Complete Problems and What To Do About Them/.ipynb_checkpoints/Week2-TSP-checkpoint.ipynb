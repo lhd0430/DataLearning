{
 "cells": [
  {
   "cell_type": "code",
   "execution_count": 122,
   "metadata": {
    "collapsed": true
   },
   "outputs": [],
   "source": [
    "import itertools\n",
    "import math"
   ]
  },
  {
   "cell_type": "code",
   "execution_count": 123,
   "metadata": {},
   "outputs": [],
   "source": [
    "file=open('week2_test2.txt','r')\n",
    "c=file.read()\n",
    "T = c.split(sep='\\n')\n",
    "nV=int(T[0])\n",
    "T = [t.split(sep=' ') for t in T[1:]]\n",
    "T = [ [float(t[0]),float(t[1])]  for t in T]"
   ]
  },
  {
   "cell_type": "code",
   "execution_count": 124,
   "metadata": {},
   "outputs": [
    {
     "data": {
      "text/plain": [
       "[[0.0, 0.0], [4.0, 3.0], [4.0, 0.0], [0.0, 3.0]]"
      ]
     },
     "execution_count": 124,
     "metadata": {},
     "output_type": "execute_result"
    }
   ],
   "source": [
    "T"
   ]
  },
  {
   "cell_type": "code",
   "execution_count": 125,
   "metadata": {},
   "outputs": [],
   "source": [
    "G = [x for x in range(nV)]"
   ]
  },
  {
   "cell_type": "code",
   "execution_count": 126,
   "metadata": {},
   "outputs": [
    {
     "data": {
      "text/plain": [
       "[0, 1, 2, 3]"
      ]
     },
     "execution_count": 126,
     "metadata": {},
     "output_type": "execute_result"
    }
   ],
   "source": [
    "G"
   ]
  },
  {
   "cell_type": "code",
   "execution_count": 127,
   "metadata": {
    "collapsed": true
   },
   "outputs": [],
   "source": [
    "def subset(G):\n",
    "    S=[]\n",
    "    for i in range(1,len(G)+1):\n",
    "        c=itertools.combinations(G,i)\n",
    "        S=S+[x for x in c]\n",
    "    return S"
   ]
  },
  {
   "cell_type": "code",
   "execution_count": 128,
   "metadata": {},
   "outputs": [
    {
     "name": "stdout",
     "output_type": "stream",
     "text": [
      "[(0,), (0, 1), (0, 2), (0, 3), (0, 1, 2), (0, 1, 3), (0, 2, 3), (0, 1, 2, 3)]\n"
     ]
    }
   ],
   "source": [
    "startV=0\n",
    "S=subset(G[:nV])\n",
    "S=[s for s in S if s.count(startV)]\n",
    "A=[[float('inf')]*nV for x in range(len(S))]\n",
    "A[0][0]=0\n",
    "print(S)"
   ]
  },
  {
   "cell_type": "code",
   "execution_count": 129,
   "metadata": {
    "collapsed": true
   },
   "outputs": [],
   "source": [
    "def getA(s,j):\n",
    "    global A\n",
    "    global S\n",
    "    m=float('inf')\n",
    "    sMinJ=list(s[1])\n",
    "    sMinJ.remove(j)\n",
    "    sMinJ=tuple(sMinJ)\n",
    "    idxS = [S.index(x) for x in S if x==sMinJ]\n",
    "    \n",
    "    for k in sMinJ:\n",
    "        w = A[idxS[0]][k]+math.sqrt((T[k][0]-T[j][0])**2+(T[k][1]-T[j][1])**2)\n",
    "        if w<m:\n",
    "            m=w\n",
    "    \n",
    "    return m"
   ]
  },
  {
   "cell_type": "code",
   "execution_count": 130,
   "metadata": {
    "collapsed": true
   },
   "outputs": [],
   "source": [
    "def getFinalA(startV):\n",
    "    global A\n",
    "    global G\n",
    "    m=float('inf')\n",
    "    \n",
    "    for j in [x for x in G if x!=startV]:  \n",
    "        w=A[len(S)-1][j]+math.sqrt((T[startV][0]-T[j][0])**2+(T[startV][1]-T[j][1])**2)\n",
    "        if w<m:\n",
    "            m=w\n",
    "    \n",
    "    return m"
   ]
  },
  {
   "cell_type": "code",
   "execution_count": 131,
   "metadata": {},
   "outputs": [
    {
     "name": "stdout",
     "output_type": "stream",
     "text": [
      "[[1, (0, 1)], [2, (0, 2)], [3, (0, 3)]]\n",
      "[[4, (0, 1, 2)], [5, (0, 1, 3)], [6, (0, 2, 3)]]\n",
      "[[7, (0, 1, 2, 3)]]\n"
     ]
    }
   ],
   "source": [
    "for m in range(2,nV+1):\n",
    "    # get S with len m\n",
    "    subS=[[S.index(s),s] for s in S if (len(s)==m and s.count(startV))]\n",
    "    print(subS)\n",
    "    for s in subS:\n",
    "        for j in s[1]:\n",
    "            if j!=startV:\n",
    "                A[s[0]][j]=getA(s,j)\n",
    "\n",
    "r=getFinalA(startV)"
   ]
  },
  {
   "cell_type": "code",
   "execution_count": 132,
   "metadata": {},
   "outputs": [
    {
     "data": {
      "text/plain": [
       "14.0"
      ]
     },
     "execution_count": 132,
     "metadata": {},
     "output_type": "execute_result"
    }
   ],
   "source": [
    "r"
   ]
  },
  {
   "cell_type": "code",
   "execution_count": null,
   "metadata": {
    "collapsed": true
   },
   "outputs": [],
   "source": []
  },
  {
   "cell_type": "code",
   "execution_count": null,
   "metadata": {
    "collapsed": true
   },
   "outputs": [],
   "source": []
  }
 ],
 "metadata": {
  "kernelspec": {
   "display_name": "Python 3",
   "language": "python",
   "name": "python3"
  },
  "language_info": {
   "codemirror_mode": {
    "name": "ipython",
    "version": 3
   },
   "file_extension": ".py",
   "mimetype": "text/x-python",
   "name": "python",
   "nbconvert_exporter": "python",
   "pygments_lexer": "ipython3",
   "version": "3.6.1"
  }
 },
 "nbformat": 4,
 "nbformat_minor": 2
}
