{
 "cells": [
  {
   "cell_type": "code",
   "execution_count": 29,
   "metadata": {
    "collapsed": true
   },
   "outputs": [],
   "source": [
    "import itertools\n",
    "import math"
   ]
  },
  {
   "cell_type": "code",
   "execution_count": 35,
   "metadata": {
    "collapsed": true
   },
   "outputs": [],
   "source": [
    "file=open('week2_test1.txt','r')\n",
    "c=file.read()\n",
    "T = c.split(sep='\\n')\n",
    "nV=int(T[0])\n",
    "T = [t.split(sep=' ') for t in T[1:]]\n",
    "T = [ [float(t[0]),float(t[1])]  for t in T]"
   ]
  },
  {
   "cell_type": "code",
   "execution_count": 36,
   "metadata": {
    "collapsed": true
   },
   "outputs": [],
   "source": [
    "G = [x for x in range(nV)]"
   ]
  },
  {
   "cell_type": "code",
   "execution_count": 37,
   "metadata": {},
   "outputs": [],
   "source": [
    "S=[]"
   ]
  },
  {
   "cell_type": "code",
   "execution_count": 38,
   "metadata": {
    "collapsed": true
   },
   "outputs": [],
   "source": [
    "def findMin(u):\n",
    "    global T\n",
    "    global G\n",
    "    global S\n",
    "    \n",
    "    m=float('inf')\n",
    "    r=-1\n",
    "    for v in G:\n",
    "        w =(T[u][0]-T[v][0])**2+(T[u][1]-T[v][1])**2\n",
    "        if w<m:\n",
    "            m=w \n",
    "            r=v\n",
    "    return r\n",
    "    "
   ]
  },
  {
   "cell_type": "code",
   "execution_count": null,
   "metadata": {
    "collapsed": true
   },
   "outputs": [],
   "source": []
  },
  {
   "cell_type": "code",
   "execution_count": 39,
   "metadata": {},
   "outputs": [
    {
     "name": "stdout",
     "output_type": "stream",
     "text": [
      "[0, 1, 2, 0]\n",
      "10.242640687119284\n"
     ]
    }
   ],
   "source": [
    "u=G[0]\n",
    "S.append(u)\n",
    "while len(G)>1:\n",
    "    G.remove(u)\n",
    "    v=findMin(u)\n",
    "    S.append(v)\n",
    "    u=v\n",
    "S.append(0)\n",
    "print(S)\n",
    "\n",
    "d=0\n",
    "for i in range(len(S)-1):\n",
    "    d+=math.sqrt((T[S[i]][0]-T[S[i+1]][0])**2+(T[S[i]][1]-T[S[i+1]][1])**2)\n",
    "print(d)"
   ]
  },
  {
   "cell_type": "code",
   "execution_count": null,
   "metadata": {
    "collapsed": true
   },
   "outputs": [],
   "source": []
  },
  {
   "cell_type": "code",
   "execution_count": null,
   "metadata": {
    "collapsed": true
   },
   "outputs": [],
   "source": []
  }
 ],
 "metadata": {
  "kernelspec": {
   "display_name": "Python 3",
   "language": "python",
   "name": "python3"
  },
  "language_info": {
   "codemirror_mode": {
    "name": "ipython",
    "version": 3
   },
   "file_extension": ".py",
   "mimetype": "text/x-python",
   "name": "python",
   "nbconvert_exporter": "python",
   "pygments_lexer": "ipython3",
   "version": "3.6.1"
  }
 },
 "nbformat": 4,
 "nbformat_minor": 2
}
