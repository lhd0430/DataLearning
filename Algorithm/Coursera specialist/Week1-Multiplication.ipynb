{
 "cells": [
  {
   "cell_type": "code",
   "execution_count": 53,
   "metadata": {
    "collapsed": true
   },
   "outputs": [],
   "source": [
    "import numpy as np"
   ]
  },
  {
   "cell_type": "code",
   "execution_count": 95,
   "metadata": {
    "collapsed": true
   },
   "outputs": [],
   "source": [
    "def karatsuba(x,y):\n",
    "    # x, y: string of numbers\n",
    "    \n",
    "    if(int(x)<10 or int(y)<10):\n",
    "        return str(int(x)*int(y))\n",
    "    \n",
    "    # size of numbers\n",
    "    x=str(int(x))\n",
    "    y=str(int(y))\n",
    "    \n",
    "    s_x = len(x)\n",
    "    s_y = len(y)\n",
    "    m = min(s_x,s_y)//2\n",
    "    \n",
    "    # split the numbers\n",
    "    h1 = x[0:m]\n",
    "    l1 = x[m:]\n",
    "    h2 = y[0:m]\n",
    "    l2 = y[m:]\n",
    "    \n",
    "    # compute z0 z1 z2\n",
    "    z0=karatsuba(l1,l2)\n",
    "    z1=karatsuba(str(int(l1)+int(h1)),str(int(l2)+int(h2)))\n",
    "    z2=karatsuba(h1,h2)\n",
    "    \n",
    "    return str(int(z2)*(10**(2*m))+((int(z1)-int(z2)-int(z0))*(10**m))+int(z0))\n",
    "    \n",
    "    \n",
    "    \n",
    "    \n",
    "    \n",
    "    \n",
    "    "
   ]
  },
  {
   "cell_type": "code",
   "execution_count": 97,
   "metadata": {},
   "outputs": [
    {
     "data": {
      "text/plain": [
       "'1234000'"
      ]
     },
     "execution_count": 97,
     "metadata": {},
     "output_type": "execute_result"
    }
   ],
   "source": [
    "karatsuba('1234','1000')"
   ]
  },
  {
   "cell_type": "code",
   "execution_count": 68,
   "metadata": {},
   "outputs": [
    {
     "data": {
      "text/plain": [
       "83810205"
      ]
     },
     "execution_count": 68,
     "metadata": {},
     "output_type": "execute_result"
    }
   ],
   "source": [
    "12345*6789"
   ]
  },
  {
   "cell_type": "code",
   "execution_count": 72,
   "metadata": {},
   "outputs": [
    {
     "data": {
      "text/plain": [
       "7"
      ]
     },
     "execution_count": 72,
     "metadata": {},
     "output_type": "execute_result"
    }
   ],
   "source": [
    "15//2"
   ]
  },
  {
   "cell_type": "code",
   "execution_count": 90,
   "metadata": {},
   "outputs": [
    {
     "data": {
      "text/plain": [
       "2"
      ]
     },
     "execution_count": 90,
     "metadata": {},
     "output_type": "execute_result"
    }
   ],
   "source": [
    "int('002')"
   ]
  },
  {
   "cell_type": "code",
   "execution_count": null,
   "metadata": {
    "collapsed": true
   },
   "outputs": [],
   "source": []
  }
 ],
 "metadata": {
  "kernelspec": {
   "display_name": "Python 3",
   "language": "python",
   "name": "python3"
  },
  "language_info": {
   "codemirror_mode": {
    "name": "ipython",
    "version": 3
   },
   "file_extension": ".py",
   "mimetype": "text/x-python",
   "name": "python",
   "nbconvert_exporter": "python",
   "pygments_lexer": "ipython3",
   "version": "3.6.1"
  }
 },
 "nbformat": 4,
 "nbformat_minor": 2
}
