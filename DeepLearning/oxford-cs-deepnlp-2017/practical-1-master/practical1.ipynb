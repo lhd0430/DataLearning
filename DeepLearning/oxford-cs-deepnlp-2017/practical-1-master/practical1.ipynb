{
 "cells": [
  {
   "cell_type": "markdown",
   "metadata": {},
   "source": [
    "## Practical 1: word2vec\n",
    "<p>Oxford CS - Deep NLP 2017<br>\n",
    "https://www.cs.ox.ac.uk/teaching/courses/2016-2017/dl/</p>\n",
    "<p>[Yannis Assael, Brendan Shillingford, Chris Dyer]</p>"
   ]
  },
  {
   "cell_type": "markdown",
   "metadata": {},
   "source": [
    "This practical is presented as an IPython Notebook, with the code written for recent versions of **Python 3**. The code in this practical will not work with Python 2 unless you modify it. If you are using your own Python installation, ensure you have a setup identical to that described in the installation shell script (which is intended for use with the department lab machines). We will be unable to support installation on personal machines due to time constraints, so please use the lab machines and the setup script if you are unfamiliar with how to install Anaconda.\n",
    "\n",
    "To execute a notebook cell, press `shift-enter`. The return value of the last command will be displayed, if it is not `None`.\n",
    "\n",
    "Potentially useful library documentation, references, and resources:\n",
    "\n",
    "* IPython notebooks: <https://ipython.org/ipython-doc/3/notebook/notebook.html#introduction>\n",
    "* Numpy numerical array library: <https://docs.scipy.org/doc/>\n",
    "* Gensim's word2vec: <https://radimrehurek.com/gensim/models/word2vec.html>\n",
    "* Bokeh interactive plots: <http://bokeh.pydata.org/en/latest/> (we provide plotting code here, but click the thumbnails for more examples to copy-paste)\n",
    "* scikit-learn ML library (aka `sklearn`): <http://scikit-learn.org/stable/documentation.html>\n",
    "* nltk NLP toolkit: <http://www.nltk.org/>\n",
    "* tutorial for processing xml in python using `lxml`: <http://lxml.de/tutorial.html> (we did this for you below, but in case you need it in the future)"
   ]
  },
  {
   "cell_type": "code",
   "execution_count": 2,
   "metadata": {},
   "outputs": [],
   "source": [
    "import numpy as np\n",
    "import os\n",
    "from random import shuffle\n",
    "import re\n",
    "from collections import Counter"
   ]
  },
  {
   "cell_type": "code",
   "execution_count": 3,
   "metadata": {},
   "outputs": [
    {
     "data": {
      "text/html": [
       "\n",
       "    <div class=\"bk-root\">\n",
       "        <a href=\"https://bokeh.pydata.org\" target=\"_blank\" class=\"bk-logo bk-logo-small bk-logo-notebook\"></a>\n",
       "        <span id=\"d33fa6e6-e237-4d89-97e2-a01ca12cf223\">Loading BokehJS ...</span>\n",
       "    </div>"
      ]
     },
     "metadata": {},
     "output_type": "display_data"
    },
    {
     "data": {
      "application/javascript": [
       "\n",
       "(function(root) {\n",
       "  function now() {\n",
       "    return new Date();\n",
       "  }\n",
       "\n",
       "  var force = true;\n",
       "\n",
       "  if (typeof (root._bokeh_onload_callbacks) === \"undefined\" || force === true) {\n",
       "    root._bokeh_onload_callbacks = [];\n",
       "    root._bokeh_is_loading = undefined;\n",
       "  }\n",
       "\n",
       "  var JS_MIME_TYPE = 'application/javascript';\n",
       "  var HTML_MIME_TYPE = 'text/html';\n",
       "  var EXEC_MIME_TYPE = 'application/vnd.bokehjs_exec.v0+json';\n",
       "  var CLASS_NAME = 'output_bokeh rendered_html';\n",
       "\n",
       "  /**\n",
       "   * Render data to the DOM node\n",
       "   */\n",
       "  function render(props, node) {\n",
       "    var script = document.createElement(\"script\");\n",
       "    node.appendChild(script);\n",
       "  }\n",
       "\n",
       "  /**\n",
       "   * Handle when an output is cleared or removed\n",
       "   */\n",
       "  function handleClearOutput(event, handle) {\n",
       "    var cell = handle.cell;\n",
       "\n",
       "    var id = cell.output_area._bokeh_element_id;\n",
       "    var server_id = cell.output_area._bokeh_server_id;\n",
       "    // Clean up Bokeh references\n",
       "    if (id != null && id in Bokeh.index) {\n",
       "      Bokeh.index[id].model.document.clear();\n",
       "      delete Bokeh.index[id];\n",
       "    }\n",
       "\n",
       "    if (server_id !== undefined) {\n",
       "      // Clean up Bokeh references\n",
       "      var cmd = \"from bokeh.io.state import curstate; print(curstate().uuid_to_server['\" + server_id + \"'].get_sessions()[0].document.roots[0]._id)\";\n",
       "      cell.notebook.kernel.execute(cmd, {\n",
       "        iopub: {\n",
       "          output: function(msg) {\n",
       "            var id = msg.content.text.trim();\n",
       "            if (id in Bokeh.index) {\n",
       "              Bokeh.index[id].model.document.clear();\n",
       "              delete Bokeh.index[id];\n",
       "            }\n",
       "          }\n",
       "        }\n",
       "      });\n",
       "      // Destroy server and session\n",
       "      var cmd = \"import bokeh.io.notebook as ion; ion.destroy_server('\" + server_id + \"')\";\n",
       "      cell.notebook.kernel.execute(cmd);\n",
       "    }\n",
       "  }\n",
       "\n",
       "  /**\n",
       "   * Handle when a new output is added\n",
       "   */\n",
       "  function handleAddOutput(event, handle) {\n",
       "    var output_area = handle.output_area;\n",
       "    var output = handle.output;\n",
       "\n",
       "    // limit handleAddOutput to display_data with EXEC_MIME_TYPE content only\n",
       "    if ((output.output_type != \"display_data\") || (!output.data.hasOwnProperty(EXEC_MIME_TYPE))) {\n",
       "      return\n",
       "    }\n",
       "\n",
       "    var toinsert = output_area.element.find(\".\" + CLASS_NAME.split(' ')[0]);\n",
       "\n",
       "    if (output.metadata[EXEC_MIME_TYPE][\"id\"] !== undefined) {\n",
       "      toinsert[toinsert.length - 1].firstChild.textContent = output.data[JS_MIME_TYPE];\n",
       "      // store reference to embed id on output_area\n",
       "      output_area._bokeh_element_id = output.metadata[EXEC_MIME_TYPE][\"id\"];\n",
       "    }\n",
       "    if (output.metadata[EXEC_MIME_TYPE][\"server_id\"] !== undefined) {\n",
       "      var bk_div = document.createElement(\"div\");\n",
       "      bk_div.innerHTML = output.data[HTML_MIME_TYPE];\n",
       "      var script_attrs = bk_div.children[0].attributes;\n",
       "      for (var i = 0; i < script_attrs.length; i++) {\n",
       "        toinsert[toinsert.length - 1].firstChild.setAttribute(script_attrs[i].name, script_attrs[i].value);\n",
       "      }\n",
       "      // store reference to server id on output_area\n",
       "      output_area._bokeh_server_id = output.metadata[EXEC_MIME_TYPE][\"server_id\"];\n",
       "    }\n",
       "  }\n",
       "\n",
       "  function register_renderer(events, OutputArea) {\n",
       "\n",
       "    function append_mime(data, metadata, element) {\n",
       "      // create a DOM node to render to\n",
       "      var toinsert = this.create_output_subarea(\n",
       "        metadata,\n",
       "        CLASS_NAME,\n",
       "        EXEC_MIME_TYPE\n",
       "      );\n",
       "      this.keyboard_manager.register_events(toinsert);\n",
       "      // Render to node\n",
       "      var props = {data: data, metadata: metadata[EXEC_MIME_TYPE]};\n",
       "      render(props, toinsert[toinsert.length - 1]);\n",
       "      element.append(toinsert);\n",
       "      return toinsert\n",
       "    }\n",
       "\n",
       "    /* Handle when an output is cleared or removed */\n",
       "    events.on('clear_output.CodeCell', handleClearOutput);\n",
       "    events.on('delete.Cell', handleClearOutput);\n",
       "\n",
       "    /* Handle when a new output is added */\n",
       "    events.on('output_added.OutputArea', handleAddOutput);\n",
       "\n",
       "    /**\n",
       "     * Register the mime type and append_mime function with output_area\n",
       "     */\n",
       "    OutputArea.prototype.register_mime_type(EXEC_MIME_TYPE, append_mime, {\n",
       "      /* Is output safe? */\n",
       "      safe: true,\n",
       "      /* Index of renderer in `output_area.display_order` */\n",
       "      index: 0\n",
       "    });\n",
       "  }\n",
       "\n",
       "  // register the mime type if in Jupyter Notebook environment and previously unregistered\n",
       "  if (root.Jupyter !== undefined) {\n",
       "    var events = require('base/js/events');\n",
       "    var OutputArea = require('notebook/js/outputarea').OutputArea;\n",
       "\n",
       "    if (OutputArea.prototype.mime_types().indexOf(EXEC_MIME_TYPE) == -1) {\n",
       "      register_renderer(events, OutputArea);\n",
       "    }\n",
       "  }\n",
       "\n",
       "  \n",
       "  if (typeof (root._bokeh_timeout) === \"undefined\" || force === true) {\n",
       "    root._bokeh_timeout = Date.now() + 5000;\n",
       "    root._bokeh_failed_load = false;\n",
       "  }\n",
       "\n",
       "  var NB_LOAD_WARNING = {'data': {'text/html':\n",
       "     \"<div style='background-color: #fdd'>\\n\"+\n",
       "     \"<p>\\n\"+\n",
       "     \"BokehJS does not appear to have successfully loaded. If loading BokehJS from CDN, this \\n\"+\n",
       "     \"may be due to a slow or bad network connection. Possible fixes:\\n\"+\n",
       "     \"</p>\\n\"+\n",
       "     \"<ul>\\n\"+\n",
       "     \"<li>re-rerun `output_notebook()` to attempt to load from CDN again, or</li>\\n\"+\n",
       "     \"<li>use INLINE resources instead, as so:</li>\\n\"+\n",
       "     \"</ul>\\n\"+\n",
       "     \"<code>\\n\"+\n",
       "     \"from bokeh.resources import INLINE\\n\"+\n",
       "     \"output_notebook(resources=INLINE)\\n\"+\n",
       "     \"</code>\\n\"+\n",
       "     \"</div>\"}};\n",
       "\n",
       "  function display_loaded() {\n",
       "    var el = document.getElementById(\"d33fa6e6-e237-4d89-97e2-a01ca12cf223\");\n",
       "    if (el != null) {\n",
       "      el.textContent = \"BokehJS is loading...\";\n",
       "    }\n",
       "    if (root.Bokeh !== undefined) {\n",
       "      if (el != null) {\n",
       "        el.textContent = \"BokehJS \" + root.Bokeh.version + \" successfully loaded.\";\n",
       "      }\n",
       "    } else if (Date.now() < root._bokeh_timeout) {\n",
       "      setTimeout(display_loaded, 100)\n",
       "    }\n",
       "  }\n",
       "\n",
       "\n",
       "  function run_callbacks() {\n",
       "    try {\n",
       "      root._bokeh_onload_callbacks.forEach(function(callback) { callback() });\n",
       "    }\n",
       "    finally {\n",
       "      delete root._bokeh_onload_callbacks\n",
       "    }\n",
       "    console.info(\"Bokeh: all callbacks have finished\");\n",
       "  }\n",
       "\n",
       "  function load_libs(js_urls, callback) {\n",
       "    root._bokeh_onload_callbacks.push(callback);\n",
       "    if (root._bokeh_is_loading > 0) {\n",
       "      console.log(\"Bokeh: BokehJS is being loaded, scheduling callback at\", now());\n",
       "      return null;\n",
       "    }\n",
       "    if (js_urls == null || js_urls.length === 0) {\n",
       "      run_callbacks();\n",
       "      return null;\n",
       "    }\n",
       "    console.log(\"Bokeh: BokehJS not loaded, scheduling load and callback at\", now());\n",
       "    root._bokeh_is_loading = js_urls.length;\n",
       "    for (var i = 0; i < js_urls.length; i++) {\n",
       "      var url = js_urls[i];\n",
       "      var s = document.createElement('script');\n",
       "      s.src = url;\n",
       "      s.async = false;\n",
       "      s.onreadystatechange = s.onload = function() {\n",
       "        root._bokeh_is_loading--;\n",
       "        if (root._bokeh_is_loading === 0) {\n",
       "          console.log(\"Bokeh: all BokehJS libraries loaded\");\n",
       "          run_callbacks()\n",
       "        }\n",
       "      };\n",
       "      s.onerror = function() {\n",
       "        console.warn(\"failed to load library \" + url);\n",
       "      };\n",
       "      console.log(\"Bokeh: injecting script tag for BokehJS library: \", url);\n",
       "      document.getElementsByTagName(\"head\")[0].appendChild(s);\n",
       "    }\n",
       "  };var element = document.getElementById(\"d33fa6e6-e237-4d89-97e2-a01ca12cf223\");\n",
       "  if (element == null) {\n",
       "    console.log(\"Bokeh: ERROR: autoload.js configured with elementid 'd33fa6e6-e237-4d89-97e2-a01ca12cf223' but no matching script tag was found. \")\n",
       "    return false;\n",
       "  }\n",
       "\n",
       "  var js_urls = [\"https://cdn.pydata.org/bokeh/release/bokeh-0.13.0.min.js\", \"https://cdn.pydata.org/bokeh/release/bokeh-widgets-0.13.0.min.js\", \"https://cdn.pydata.org/bokeh/release/bokeh-tables-0.13.0.min.js\", \"https://cdn.pydata.org/bokeh/release/bokeh-gl-0.13.0.min.js\"];\n",
       "\n",
       "  var inline_js = [\n",
       "    function(Bokeh) {\n",
       "      Bokeh.set_log_level(\"info\");\n",
       "    },\n",
       "    \n",
       "    function(Bokeh) {\n",
       "      \n",
       "    },\n",
       "    function(Bokeh) {\n",
       "      console.log(\"Bokeh: injecting CSS: https://cdn.pydata.org/bokeh/release/bokeh-0.13.0.min.css\");\n",
       "      Bokeh.embed.inject_css(\"https://cdn.pydata.org/bokeh/release/bokeh-0.13.0.min.css\");\n",
       "      console.log(\"Bokeh: injecting CSS: https://cdn.pydata.org/bokeh/release/bokeh-widgets-0.13.0.min.css\");\n",
       "      Bokeh.embed.inject_css(\"https://cdn.pydata.org/bokeh/release/bokeh-widgets-0.13.0.min.css\");\n",
       "      console.log(\"Bokeh: injecting CSS: https://cdn.pydata.org/bokeh/release/bokeh-tables-0.13.0.min.css\");\n",
       "      Bokeh.embed.inject_css(\"https://cdn.pydata.org/bokeh/release/bokeh-tables-0.13.0.min.css\");\n",
       "    }\n",
       "  ];\n",
       "\n",
       "  function run_inline_js() {\n",
       "    \n",
       "    if ((root.Bokeh !== undefined) || (force === true)) {\n",
       "      for (var i = 0; i < inline_js.length; i++) {\n",
       "        inline_js[i].call(root, root.Bokeh);\n",
       "      }if (force === true) {\n",
       "        display_loaded();\n",
       "      }} else if (Date.now() < root._bokeh_timeout) {\n",
       "      setTimeout(run_inline_js, 100);\n",
       "    } else if (!root._bokeh_failed_load) {\n",
       "      console.log(\"Bokeh: BokehJS failed to load within specified timeout.\");\n",
       "      root._bokeh_failed_load = true;\n",
       "    } else if (force !== true) {\n",
       "      var cell = $(document.getElementById(\"d33fa6e6-e237-4d89-97e2-a01ca12cf223\")).parents('.cell').data().cell;\n",
       "      cell.output_area.append_execute_result(NB_LOAD_WARNING)\n",
       "    }\n",
       "\n",
       "  }\n",
       "\n",
       "  if (root._bokeh_is_loading === 0) {\n",
       "    console.log(\"Bokeh: BokehJS loaded, going straight to plotting\");\n",
       "    run_inline_js();\n",
       "  } else {\n",
       "    load_libs(js_urls, function() {\n",
       "      console.log(\"Bokeh: BokehJS plotting callback run at\", now());\n",
       "      run_inline_js();\n",
       "    });\n",
       "  }\n",
       "}(window));"
      ],
      "application/vnd.bokehjs_load.v0+json": "\n(function(root) {\n  function now() {\n    return new Date();\n  }\n\n  var force = true;\n\n  if (typeof (root._bokeh_onload_callbacks) === \"undefined\" || force === true) {\n    root._bokeh_onload_callbacks = [];\n    root._bokeh_is_loading = undefined;\n  }\n\n  \n\n  \n  if (typeof (root._bokeh_timeout) === \"undefined\" || force === true) {\n    root._bokeh_timeout = Date.now() + 5000;\n    root._bokeh_failed_load = false;\n  }\n\n  var NB_LOAD_WARNING = {'data': {'text/html':\n     \"<div style='background-color: #fdd'>\\n\"+\n     \"<p>\\n\"+\n     \"BokehJS does not appear to have successfully loaded. If loading BokehJS from CDN, this \\n\"+\n     \"may be due to a slow or bad network connection. Possible fixes:\\n\"+\n     \"</p>\\n\"+\n     \"<ul>\\n\"+\n     \"<li>re-rerun `output_notebook()` to attempt to load from CDN again, or</li>\\n\"+\n     \"<li>use INLINE resources instead, as so:</li>\\n\"+\n     \"</ul>\\n\"+\n     \"<code>\\n\"+\n     \"from bokeh.resources import INLINE\\n\"+\n     \"output_notebook(resources=INLINE)\\n\"+\n     \"</code>\\n\"+\n     \"</div>\"}};\n\n  function display_loaded() {\n    var el = document.getElementById(\"d33fa6e6-e237-4d89-97e2-a01ca12cf223\");\n    if (el != null) {\n      el.textContent = \"BokehJS is loading...\";\n    }\n    if (root.Bokeh !== undefined) {\n      if (el != null) {\n        el.textContent = \"BokehJS \" + root.Bokeh.version + \" successfully loaded.\";\n      }\n    } else if (Date.now() < root._bokeh_timeout) {\n      setTimeout(display_loaded, 100)\n    }\n  }\n\n\n  function run_callbacks() {\n    try {\n      root._bokeh_onload_callbacks.forEach(function(callback) { callback() });\n    }\n    finally {\n      delete root._bokeh_onload_callbacks\n    }\n    console.info(\"Bokeh: all callbacks have finished\");\n  }\n\n  function load_libs(js_urls, callback) {\n    root._bokeh_onload_callbacks.push(callback);\n    if (root._bokeh_is_loading > 0) {\n      console.log(\"Bokeh: BokehJS is being loaded, scheduling callback at\", now());\n      return null;\n    }\n    if (js_urls == null || js_urls.length === 0) {\n      run_callbacks();\n      return null;\n    }\n    console.log(\"Bokeh: BokehJS not loaded, scheduling load and callback at\", now());\n    root._bokeh_is_loading = js_urls.length;\n    for (var i = 0; i < js_urls.length; i++) {\n      var url = js_urls[i];\n      var s = document.createElement('script');\n      s.src = url;\n      s.async = false;\n      s.onreadystatechange = s.onload = function() {\n        root._bokeh_is_loading--;\n        if (root._bokeh_is_loading === 0) {\n          console.log(\"Bokeh: all BokehJS libraries loaded\");\n          run_callbacks()\n        }\n      };\n      s.onerror = function() {\n        console.warn(\"failed to load library \" + url);\n      };\n      console.log(\"Bokeh: injecting script tag for BokehJS library: \", url);\n      document.getElementsByTagName(\"head\")[0].appendChild(s);\n    }\n  };var element = document.getElementById(\"d33fa6e6-e237-4d89-97e2-a01ca12cf223\");\n  if (element == null) {\n    console.log(\"Bokeh: ERROR: autoload.js configured with elementid 'd33fa6e6-e237-4d89-97e2-a01ca12cf223' but no matching script tag was found. \")\n    return false;\n  }\n\n  var js_urls = [\"https://cdn.pydata.org/bokeh/release/bokeh-0.13.0.min.js\", \"https://cdn.pydata.org/bokeh/release/bokeh-widgets-0.13.0.min.js\", \"https://cdn.pydata.org/bokeh/release/bokeh-tables-0.13.0.min.js\", \"https://cdn.pydata.org/bokeh/release/bokeh-gl-0.13.0.min.js\"];\n\n  var inline_js = [\n    function(Bokeh) {\n      Bokeh.set_log_level(\"info\");\n    },\n    \n    function(Bokeh) {\n      \n    },\n    function(Bokeh) {\n      console.log(\"Bokeh: injecting CSS: https://cdn.pydata.org/bokeh/release/bokeh-0.13.0.min.css\");\n      Bokeh.embed.inject_css(\"https://cdn.pydata.org/bokeh/release/bokeh-0.13.0.min.css\");\n      console.log(\"Bokeh: injecting CSS: https://cdn.pydata.org/bokeh/release/bokeh-widgets-0.13.0.min.css\");\n      Bokeh.embed.inject_css(\"https://cdn.pydata.org/bokeh/release/bokeh-widgets-0.13.0.min.css\");\n      console.log(\"Bokeh: injecting CSS: https://cdn.pydata.org/bokeh/release/bokeh-tables-0.13.0.min.css\");\n      Bokeh.embed.inject_css(\"https://cdn.pydata.org/bokeh/release/bokeh-tables-0.13.0.min.css\");\n    }\n  ];\n\n  function run_inline_js() {\n    \n    if ((root.Bokeh !== undefined) || (force === true)) {\n      for (var i = 0; i < inline_js.length; i++) {\n        inline_js[i].call(root, root.Bokeh);\n      }if (force === true) {\n        display_loaded();\n      }} else if (Date.now() < root._bokeh_timeout) {\n      setTimeout(run_inline_js, 100);\n    } else if (!root._bokeh_failed_load) {\n      console.log(\"Bokeh: BokehJS failed to load within specified timeout.\");\n      root._bokeh_failed_load = true;\n    } else if (force !== true) {\n      var cell = $(document.getElementById(\"d33fa6e6-e237-4d89-97e2-a01ca12cf223\")).parents('.cell').data().cell;\n      cell.output_area.append_execute_result(NB_LOAD_WARNING)\n    }\n\n  }\n\n  if (root._bokeh_is_loading === 0) {\n    console.log(\"Bokeh: BokehJS loaded, going straight to plotting\");\n    run_inline_js();\n  } else {\n    load_libs(js_urls, function() {\n      console.log(\"Bokeh: BokehJS plotting callback run at\", now());\n      run_inline_js();\n    });\n  }\n}(window));"
     },
     "metadata": {},
     "output_type": "display_data"
    }
   ],
   "source": [
    "from bokeh.models import ColumnDataSource, LabelSet\n",
    "from bokeh.plotting import figure, show, output_file\n",
    "from bokeh.io import output_notebook\n",
    "output_notebook()"
   ]
  },
  {
   "cell_type": "markdown",
   "metadata": {},
   "source": [
    "### Part 0: Download the TED dataset"
   ]
  },
  {
   "cell_type": "code",
   "execution_count": 4,
   "metadata": {},
   "outputs": [],
   "source": [
    "import urllib.request\n",
    "import zipfile\n",
    "import lxml.etree"
   ]
  },
  {
   "cell_type": "code",
   "execution_count": 5,
   "metadata": {},
   "outputs": [],
   "source": [
    "# Download the dataset if it's not already there: this may take a minute as it is 75MB\n",
    "if not os.path.isfile('ted_en-20160408.zip'):\n",
    "    urllib.request.urlretrieve(\"https://wit3.fbk.eu/get.php?path=XML_releases/xml/ted_en-20160408.zip&filename=ted_en-20160408.zip\", filename=\"ted_en-20160408.zip\")"
   ]
  },
  {
   "cell_type": "code",
   "execution_count": 6,
   "metadata": {},
   "outputs": [],
   "source": [
    "# For now, we're only interested in the subtitle text, so let's extract that from the XML:\n",
    "with zipfile.ZipFile('ted_en-20160408.zip', 'r') as z:\n",
    "    doc = lxml.etree.parse(z.open('ted_en-20160408.xml', 'r'))\n",
    "input_text = '\\n'.join(doc.xpath('//content/text()'))\n",
    "del doc"
   ]
  },
  {
   "cell_type": "markdown",
   "metadata": {},
   "source": [
    "### Part 1: Preprocessing\n",
    "\n",
    "In this part, we attempt to clean up the raw subtitles a bit, so that we get only sentences. The following substring shows examples of what we're trying to get rid of. Since it's hard to define precisely what we want to get rid of, we'll just use some simple heuristics."
   ]
  },
  {
   "cell_type": "code",
   "execution_count": 7,
   "metadata": {
    "scrolled": false
   },
   "outputs": [
    {
     "data": {
      "text/plain": [
       "' baby does.\\n(Video) Hyowon Gweon: See this? (Ball squeaks) Did you see that? (Ball squeaks) Cool. See this one? (Ball squeaks) Wow.\\nLaura Schulz: Told you. (Laughs)\\n(Vide'"
      ]
     },
     "execution_count": 7,
     "metadata": {},
     "output_type": "execute_result"
    }
   ],
   "source": [
    "i = input_text.find(\"Hyowon Gweon: See this?\")\n",
    "input_text[i-20:i+150]"
   ]
  },
  {
   "cell_type": "markdown",
   "metadata": {},
   "source": [
    "Let's start by removing all parenthesized strings using a regex:"
   ]
  },
  {
   "cell_type": "code",
   "execution_count": 8,
   "metadata": {},
   "outputs": [],
   "source": [
    "input_text_noparens = re.sub(r'\\([^)]*\\)', '', input_text)"
   ]
  },
  {
   "cell_type": "markdown",
   "metadata": {},
   "source": [
    "We can verify the same location in the text is now clean as follows. We won't worry about the irregular spaces since we'll later split the text into sentences and tokenize it anyway."
   ]
  },
  {
   "cell_type": "code",
   "execution_count": 9,
   "metadata": {},
   "outputs": [
    {
     "data": {
      "text/plain": [
       "\"hat the baby does.\\n Hyowon Gweon: See this?  Did you see that?  Cool. See this one?  Wow.\\nLaura Schulz: Told you. \\n HG: See this one?  Hey Clara, this one's for you. You \""
      ]
     },
     "execution_count": 9,
     "metadata": {},
     "output_type": "execute_result"
    }
   ],
   "source": [
    "i = input_text_noparens.find(\"Hyowon Gweon: See this?\")\n",
    "input_text_noparens[i-20:i+150]"
   ]
  },
  {
   "cell_type": "markdown",
   "metadata": {},
   "source": [
    "Now, let's attempt to remove speakers' names that occur at the beginning of a line, by deleting pieces of the form \"`<up to 20 characters>:`\", as shown in this example. Of course, this is an imperfect heuristic. "
   ]
  },
  {
   "cell_type": "code",
   "execution_count": 10,
   "metadata": {},
   "outputs": [
    {
     "data": {
      "text/plain": [
       "[\"Here are two reasons companies fail: they only do more of the same, or they only do what's new\",\n",
       " 'To me the real, real solution to quality growth is figuring out the balance between two activities: exploration and exploitation',\n",
       " ' Both are necessary, but it can be too much of a good thing',\n",
       " 'Consider Facit',\n",
       " \" I'm actually old enough to remember them\"]"
      ]
     },
     "execution_count": 10,
     "metadata": {},
     "output_type": "execute_result"
    }
   ],
   "source": [
    "sentences_strings_ted = []\n",
    "for line in input_text_noparens.split('\\n'):\n",
    "    m = re.match(r'^(?:(?P<precolon>[^:]{,20}):)?(?P<postcolon>.*)$', line)\n",
    "    sentences_strings_ted.extend(sent for sent in m.groupdict()['postcolon'].split('.') if sent)\n",
    "\n",
    "# Uncomment if you need to save some RAM: these strings are about 50MB.\n",
    "# del input_text, input_text_noparens\n",
    "\n",
    "# Let's view the first few:\n",
    "sentences_strings_ted[:5]"
   ]
  },
  {
   "cell_type": "markdown",
   "metadata": {},
   "source": [
    "Now that we have sentences, we're ready to tokenize each of them into words. This tokenization is imperfect, of course. For instance, how many tokens is \"can't\", and where/how do we split it? We'll take the simplest naive approach of splitting on spaces. Before splitting, we remove non-alphanumeric characters, such as punctuation. You may want to consider the following question: why do we replace these characters with spaces rather than deleting them? Think of a case where this yields a different answer."
   ]
  },
  {
   "cell_type": "code",
   "execution_count": 11,
   "metadata": {},
   "outputs": [],
   "source": [
    "sentences_ted = []\n",
    "for sent_str in sentences_strings_ted:\n",
    "    tokens = re.sub(r\"[^a-z0-9]+\", \" \", sent_str.lower()).split()\n",
    "    sentences_ted.append(tokens)"
   ]
  },
  {
   "cell_type": "markdown",
   "metadata": {},
   "source": [
    "Two sample processed sentences:"
   ]
  },
  {
   "cell_type": "code",
   "execution_count": 12,
   "metadata": {},
   "outputs": [
    {
     "data": {
      "text/plain": [
       "266694"
      ]
     },
     "execution_count": 12,
     "metadata": {},
     "output_type": "execute_result"
    }
   ],
   "source": [
    "len(sentences_ted)"
   ]
  },
  {
   "cell_type": "code",
   "execution_count": 18,
   "metadata": {},
   "outputs": [
    {
     "name": "stdout",
     "output_type": "stream",
     "text": [
      "['here', 'are', 'two', 'reasons', 'companies', 'fail', 'they', 'only', 'do', 'more', 'of', 'the', 'same', 'or', 'they', 'only', 'do', 'what', 's', 'new']\n",
      "['to', 'me', 'the', 'real', 'real', 'solution', 'to', 'quality', 'growth', 'is', 'figuring', 'out', 'the', 'balance', 'between', 'two', 'activities', 'exploration', 'and', 'exploitation']\n"
     ]
    },
    {
     "ename": "AttributeError",
     "evalue": "'list' object has no attribute 'shape'",
     "output_type": "error",
     "traceback": [
      "\u001b[0;31m---------------------------------------------------------------------------\u001b[0m",
      "\u001b[0;31mAttributeError\u001b[0m                            Traceback (most recent call last)",
      "\u001b[0;32m<ipython-input-18-dadeaaf5700c>\u001b[0m in \u001b[0;36m<module>\u001b[0;34m()\u001b[0m\n\u001b[1;32m      1\u001b[0m \u001b[0mprint\u001b[0m\u001b[0;34m(\u001b[0m\u001b[0msentences_ted\u001b[0m\u001b[0;34m[\u001b[0m\u001b[0;36m0\u001b[0m\u001b[0;34m]\u001b[0m\u001b[0;34m)\u001b[0m\u001b[0;34m\u001b[0m\u001b[0m\n\u001b[1;32m      2\u001b[0m \u001b[0mprint\u001b[0m\u001b[0;34m(\u001b[0m\u001b[0msentences_ted\u001b[0m\u001b[0;34m[\u001b[0m\u001b[0;36m1\u001b[0m\u001b[0;34m]\u001b[0m\u001b[0;34m)\u001b[0m\u001b[0;34m\u001b[0m\u001b[0m\n\u001b[0;32m----> 3\u001b[0;31m \u001b[0msentences_ted\u001b[0m\u001b[0;34m.\u001b[0m\u001b[0mshape\u001b[0m\u001b[0;34m(\u001b[0m\u001b[0;34m)\u001b[0m\u001b[0;34m\u001b[0m\u001b[0m\n\u001b[0m",
      "\u001b[0;31mAttributeError\u001b[0m: 'list' object has no attribute 'shape'"
     ]
    }
   ],
   "source": [
    "print(sentences_ted[0])\n",
    "print(sentences_ted[1])\n"
   ]
  },
  {
   "cell_type": "markdown",
   "metadata": {},
   "source": [
    "### Part 2: Word Frequencies"
   ]
  },
  {
   "cell_type": "markdown",
   "metadata": {},
   "source": [
    "If you store the counts of the top 1000 words in a list called `counts_ted_top1000`, the code below will plot the histogram requested in the writeup."
   ]
  },
  {
   "cell_type": "code",
   "execution_count": 37,
   "metadata": {},
   "outputs": [
    {
     "name": "stdout",
     "output_type": "stream",
     "text": [
      "[207748, 149305, 125169, 114818, 105399, 95146, 83180, 78070, 74738, 70923, 67629, 63251, 57156, 49241, 37014, 33102, 30806, 29713, 27995, 27344, 26732, 26519, 25962, 24706, 23377, 22757, 21246, 21041, 20201, 19488, 19216, 19021, 18626, 17928, 17908, 17551, 17012, 16723, 16273, 15868, 15452, 14387, 14061, 13986, 13917, 13896, 13882, 13864, 13278, 12879, 12363, 12302, 12163, 11935, 11595, 11576, 11506, 11445, 11366, 10902, 10900, 10463, 10446, 10180, 10179, 10091, 10029, 10021, 9911, 9872, 9675, 9376, 9312, 9239, 9160, 8906, 8841, 8823, 8629, 8262, 8256, 8011, 7858, 7735, 7724, 7617, 7537, 7536, 7281, 7227, 7183, 7168, 7141, 7119, 6937, 6806, 6521, 6424, 6358, 6307, 6292, 6229, 6207, 5972, 5907, 5695, 5684, 5571, 5552, 5501, 5456, 5379, 5374, 5312, 5275, 5220, 5197, 5175, 5153, 5133, 4935, 4929, 4919, 4660, 4546, 4544, 4511, 4485, 4454, 4399, 4299, 4143, 4132, 4130, 4120, 4079, 4034, 3971, 3968, 3799, 3798, 3791, 3787, 3786, 3707, 3611, 3494, 3449, 3364, 3346, 3301, 3245, 3217, 3201, 3188, 3171, 3080, 3032, 3031, 2999, 2983, 2916, 2914, 2899, 2873, 2869, 2861, 2856, 2846, 2779, 2778, 2775, 2757, 2745, 2726, 2701, 2674, 2644, 2636, 2616, 2616, 2613, 2601, 2586, 2579, 2563, 2561, 2532, 2514, 2513, 2505, 2495, 2478, 2460, 2457, 2455, 2451, 2412, 2374, 2342, 2340, 2332, 2327, 2306, 2291, 2268, 2265, 2245, 2244, 2240, 2225, 2197, 2195, 2194, 2192, 2162, 2158, 2154, 2144, 2117, 2107, 2080, 2076, 2073, 2065, 2045, 2045, 2033, 2016, 2015, 2002, 2001, 2001, 1979, 1977, 1961, 1950, 1941, 1941, 1934, 1930, 1929, 1924, 1920, 1893, 1877, 1841, 1840, 1834, 1833, 1781, 1772, 1765, 1765, 1762, 1755, 1748, 1744, 1740, 1729, 1720, 1716, 1708, 1681, 1678, 1654, 1652, 1650, 1637, 1636, 1635, 1625, 1618, 1615, 1600, 1590, 1585, 1584, 1582, 1576, 1576, 1575, 1575, 1550, 1548, 1544, 1537, 1527, 1522, 1519, 1510, 1510, 1492, 1482, 1482, 1479, 1478, 1469, 1466, 1466, 1463, 1444, 1433, 1423, 1423, 1420, 1419, 1417, 1409, 1400, 1400, 1393, 1390, 1390, 1389, 1387, 1386, 1382, 1379, 1374, 1374, 1373, 1357, 1357, 1353, 1352, 1351, 1349, 1348, 1346, 1341, 1334, 1334, 1329, 1326, 1321, 1309, 1309, 1308, 1302, 1300, 1296, 1293, 1291, 1285, 1284, 1284, 1282, 1277, 1270, 1269, 1268, 1267, 1267, 1265, 1264, 1257, 1254, 1249, 1246, 1238, 1238, 1238, 1235, 1234, 1214, 1211, 1201, 1198, 1198, 1197, 1191, 1190, 1189, 1189, 1188, 1188, 1185, 1179, 1176, 1176, 1172, 1170, 1170, 1166, 1162, 1162, 1161, 1161, 1154, 1151, 1151, 1149, 1147, 1146, 1144, 1140, 1133, 1132, 1131, 1121, 1119, 1119, 1119, 1112, 1109, 1108, 1107, 1102, 1100, 1096, 1093, 1092, 1089, 1088, 1084, 1082, 1081, 1078, 1071, 1067, 1064, 1063, 1059, 1052, 1051, 1051, 1048, 1047, 1046, 1042, 1041, 1039, 1038, 1037, 1035, 1034, 1030, 1029, 1027, 1024, 1017, 1015, 1013, 1012, 1011, 1011, 1010, 1008, 1007, 1004, 1004, 1003, 1000, 1000, 999, 998, 996, 995, 995, 992, 990, 987, 985, 984, 983, 982, 981, 977, 973, 973, 971, 967, 966, 961, 959, 958, 957, 957, 956, 952, 950, 941, 941, 940, 939, 936, 935, 933, 927, 924, 924, 922, 919, 917, 911, 908, 907, 906, 904, 903, 900, 899, 899, 895, 893, 886, 884, 884, 883, 883, 881, 880, 878, 874, 874, 873, 872, 870, 865, 864, 860, 860, 859, 856, 855, 853, 852, 850, 849, 849, 845, 844, 840, 835, 834, 831, 831, 829, 824, 824, 820, 819, 816, 812, 810, 810, 808, 804, 803, 803, 795, 794, 793, 793, 791, 789, 783, 781, 780, 777, 769, 769, 765, 764, 761, 760, 758, 758, 755, 755, 753, 752, 752, 750, 749, 748, 747, 746, 745, 745, 742, 742, 740, 739, 738, 737, 735, 735, 733, 732, 732, 730, 729, 725, 723, 722, 721, 717, 714, 712, 711, 711, 708, 708, 705, 703, 701, 698, 698, 698, 697, 695, 694, 690, 688, 688, 687, 687, 686, 686, 685, 683, 681, 679, 678, 677, 677, 676, 673, 670, 667, 665, 664, 663, 663, 662, 660, 660, 659, 657, 657, 654, 654, 652, 645, 643, 642, 641, 641, 638, 637, 637, 637, 637, 637, 637, 635, 635, 635, 635, 635, 634, 633, 629, 628, 627, 626, 625, 623, 622, 620, 620, 618, 617, 615, 614, 613, 613, 611, 611, 609, 609, 607, 606, 605, 605, 604, 603, 602, 602, 602, 601, 599, 599, 598, 596, 595, 595, 593, 592, 592, 591, 590, 590, 589, 585, 585, 584, 583, 579, 579, 579, 578, 577, 573, 573, 573, 572, 571, 571, 570, 569, 568, 568, 565, 563, 563, 562, 562, 561, 561, 559, 558, 556, 555, 555, 554, 552, 552, 551, 550, 550, 550, 546, 546, 542, 541, 541, 541, 541, 541, 540, 539, 534, 533, 533, 532, 532, 532, 532, 531, 530, 530, 530, 530, 530, 529, 529, 529, 529, 529, 528, 528, 527, 527, 527, 526, 526, 526, 525, 525, 524, 522, 521, 521, 520, 518, 518, 518, 517, 517, 517, 516, 516, 516, 516, 515, 514, 514, 512, 511, 511, 510, 509, 505, 505, 505, 504, 504, 504, 503, 503, 503, 503, 502, 502, 502, 502, 502, 501, 501, 500, 500, 498, 498, 498, 496, 496, 496, 495, 493, 492, 492, 492, 490, 490, 490, 489, 489, 486, 485, 485, 485, 483, 483, 483, 482, 482, 482, 482, 481, 480, 480, 479, 479, 479, 478, 477, 477, 476, 476, 475, 475, 474, 474, 473, 473, 472, 471, 471, 470, 469, 469, 468, 468, 468, 468, 468, 467, 465, 465, 464, 464, 464, 463, 462, 460, 459, 458, 458, 456, 455, 455, 455, 455, 454, 453, 452, 451, 451, 450, 449, 445, 444, 444, 444, 442, 441, 441, 440, 440, 439, 439, 438, 438, 437, 437, 437, 437, 436, 436, 436, 436, 435, 435, 435, 435, 434, 433, 433, 433, 433, 433, 432, 432, 432, 432, 431, 431, 430, 430, 429, 429, 428, 428, 427, 427, 427, 426, 425, 425, 424, 423, 423, 423, 423, 422, 422, 422, 421, 420, 420, 419, 419, 419, 419, 419, 418, 418, 417, 417, 417, 417, 416, 415, 414, 414, 414, 414, 414, 414, 412, 412, 411, 410, 410, 409, 409, 409, 407, 407, 406, 406, 406, 405, 405, 404, 404, 404]\n"
     ]
    }
   ],
   "source": [
    "# ...\n",
    "\n",
    "c = Counter([y for x in sentences_ted for y in x])\n",
    "counts_ted_top1000 = [x[1] for x in c.most_common(1000)]\n",
    "print(counts_ted_top1000)"
   ]
  },
  {
   "cell_type": "markdown",
   "metadata": {},
   "source": [
    "Plot distribution of top-1000 words"
   ]
  },
  {
   "cell_type": "code",
   "execution_count": 38,
   "metadata": {},
   "outputs": [
    {
     "name": "stderr",
     "output_type": "stream",
     "text": [
      "/home/osboxes/anaconda3/envs/py36/lib/python3.6/site-packages/ipykernel_launcher.py:1: DeprecationWarning: The normed argument is ignored when density is provided. In future passing both will result in an error.\n",
      "  \"\"\"Entry point for launching an IPython kernel.\n"
     ]
    },
    {
     "data": {
      "text/html": [
       "\n",
       "\n",
       "\n",
       "\n",
       "\n",
       "\n",
       "  <div class=\"bk-root\" id=\"4eaaf56b-a850-4b0d-80c4-0858df395886\"></div>\n"
      ]
     },
     "metadata": {},
     "output_type": "display_data"
    },
    {
     "data": {
      "application/javascript": [
       "(function(root) {\n",
       "  function embed_document(root) {\n",
       "    \n",
       "  var docs_json = {\"0498ba72-6bbf-4475-9e29-ecea8cebed0f\":{\"roots\":{\"references\":[{\"attributes\":{},\"id\":\"cda62835-616c-4469-8bde-bb52c78a8f05\",\"type\":\"BasicTicker\"},{\"attributes\":{\"dimension\":1,\"plot\":{\"id\":\"c5091b24-8f72-44ef-bf27-29fae1439d95\",\"subtype\":\"Figure\",\"type\":\"Plot\"},\"ticker\":{\"id\":\"cda62835-616c-4469-8bde-bb52c78a8f05\",\"type\":\"BasicTicker\"}},\"id\":\"a8591abb-21ad-43a1-98ec-235f57e97191\",\"type\":\"Grid\"},{\"attributes\":{\"below\":[{\"id\":\"359f37af-fbd8-45c1-beb5-400f670e386a\",\"type\":\"LinearAxis\"}],\"left\":[{\"id\":\"7f7668d6-c47b-456a-92a3-78d1816a3869\",\"type\":\"LinearAxis\"}],\"renderers\":[{\"id\":\"359f37af-fbd8-45c1-beb5-400f670e386a\",\"type\":\"LinearAxis\"},{\"id\":\"98d5e69b-1715-42f2-8d3b-ab452c9ed370\",\"type\":\"Grid\"},{\"id\":\"7f7668d6-c47b-456a-92a3-78d1816a3869\",\"type\":\"LinearAxis\"},{\"id\":\"a8591abb-21ad-43a1-98ec-235f57e97191\",\"type\":\"Grid\"},{\"id\":\"029836a6-f984-4f7e-8c07-ff7b1708af37\",\"type\":\"GlyphRenderer\"}],\"title\":{\"id\":\"0550d300-b898-41dc-ac69-575bf41910ae\",\"type\":\"Title\"},\"toolbar\":{\"id\":\"e62344fc-e143-429c-97bf-609cf51930b4\",\"type\":\"Toolbar\"},\"toolbar_location\":\"above\",\"x_range\":{\"id\":\"9c79d28d-16a6-4d18-a3d3-86c92a4be554\",\"type\":\"DataRange1d\"},\"x_scale\":{\"id\":\"c517169e-0a82-48d7-a8a9-7b7e1a9124b1\",\"type\":\"LinearScale\"},\"y_range\":{\"id\":\"0c719548-aecc-45bd-8db4-355e3257981e\",\"type\":\"DataRange1d\"},\"y_scale\":{\"id\":\"98f04d26-13f0-4599-942c-063ee69f0fab\",\"type\":\"LinearScale\"}},\"id\":\"c5091b24-8f72-44ef-bf27-29fae1439d95\",\"subtype\":\"Figure\",\"type\":\"Plot\"},{\"attributes\":{},\"id\":\"0cf6b349-0dd5-4722-a29b-81bb46b856a3\",\"type\":\"PanTool\"},{\"attributes\":{\"callback\":null},\"id\":\"9c79d28d-16a6-4d18-a3d3-86c92a4be554\",\"type\":\"DataRange1d\"},{\"attributes\":{},\"id\":\"a3cff80e-c741-4957-bf17-7cbd51641eeb\",\"type\":\"BasicTickFormatter\"},{\"attributes\":{\"plot\":null,\"text\":\"Top-1000 words distribution\"},\"id\":\"0550d300-b898-41dc-ac69-575bf41910ae\",\"type\":\"Title\"},{\"attributes\":{\"callback\":null,\"data\":{\"left\":{\"__ndarray__\":\"AAAAAABAeUB7FK5H4VqjQHsUrkfhxrFAuB6F61HguUB7FK5H4fzAQJqZmZmZCcVAuB6F61EWyUDXo3A9CiPNQHsUrkfhl9BACtejcD2e0kCamZmZmaTUQClcj8L1qtZAuB6F61Gx2EBI4XoUrrfaQNejcD0KvtxAZ2ZmZmbE3kB7FK5HYWXgQMP1KFyPaOFACtejcL1r4kBSuB6F627jQJqZmZkZcuRA4XoUrkd15UApXI/CdXjmQHE9Cteje+dAuB6F69F+6EAAAAAAAILpQEjhehQuhepAkML1KFyI60DXo3A9iovsQB+F61G4ju1AZ2ZmZuaR7kCuR+F6FJXvQHsUrkchTPBAH4XrUbjN8EDD9ShcT0/xQGdmZmbm0PFACtejcH1S8kCuR+F6FNTyQFK4HoWrVfNA9ihcj0LX80CamZmZ2Vj0QD4K16Nw2vRA4XoUrgdc9UCF61G4nt31QClcj8I1X/ZAzczMzMzg9kBxPQrXY2L3QBWuR+H64/dAuB6F65Fl+EBcj8L1KOf4QAAAAADAaPlApHA9Clfq+UBI4XoU7mv6QOxRuB6F7fpAkML1KBxv+0AzMzMzs/D7QNejcD1KcvxAexSuR+Hz/EAfhetReHX9QMP1KFwP9/1AZ2ZmZqZ4/kAK16NwPfr+QK5H4XrUe/9AUrgehWv9/0B7FK5HgT8AQc3MzMxMgABBH4XrURjBAEFxPQrX4wEBQcP1KFyvQgFBFa5H4XqDAUFnZmZmRsQBQbgehesRBQJBCtejcN1FAkFcj8L1qIYCQa5H4Xp0xwJBAAAAAEAIA0FSuB6FC0kDQaRwPQrXiQNB9ihcj6LKA0FI4XoUbgsEQZqZmZk5TARB7FG4HgWNBEE+Ctej0M0EQZDC9SicDgVB4XoUrmdPBUEzMzMzM5AFQYXrUbj+0AVB16NwPcoRBkEpXI/ClVIGQXsUrkdhkwZBzczMzCzUBkEfhetR+BQHQXE9CtfDVQdBw/UoXI+WB0EVrkfhWtcHQWdmZmYmGAhBuB6F6/FYCEEK16NwvZkIQVyPwvWI2ghBrkfhelQbCUE=\",\"dtype\":\"float64\",\"shape\":[100]},\"right\":{\"__ndarray__\":\"exSuR+Fao0B7FK5H4caxQLgehetR4LlAexSuR+H8wECamZmZmQnFQLgehetRFslA16NwPQojzUB7FK5H4ZfQQArXo3A9ntJAmpmZmZmk1EApXI/C9arWQLgehetRsdhASOF6FK632kDXo3A9Cr7cQGdmZmZmxN5AexSuR2Fl4EDD9Shcj2jhQArXo3C9a+JAUrgehetu40CamZmZGXLkQOF6FK5HdeVAKVyPwnV45kBxPQrXo3vnQLgehevRfuhAAAAAAACC6UBI4XoULoXqQJDC9ShciOtA16NwPYqL7EAfhetRuI7tQGdmZmbmke5ArkfhehSV70B7FK5HIUzwQB+F61G4zfBAw/UoXE9P8UBnZmZm5tDxQArXo3B9UvJArkfhehTU8kBSuB6Fq1XzQPYoXI9C1/NAmpmZmdlY9EA+CtejcNr0QOF6FK4HXPVAhetRuJ7d9UApXI/CNV/2QM3MzMzM4PZAcT0K12Ni90AVrkfh+uP3QLgeheuRZfhAXI/C9Sjn+EAAAAAAwGj5QKRwPQpX6vlASOF6FO5r+kDsUbgehe36QJDC9Sgcb/tAMzMzM7Pw+0DXo3A9SnL8QHsUrkfh8/xAH4XrUXh1/UDD9ShcD/f9QGdmZmameP5ACtejcD36/kCuR+F61Hv/QFK4HoVr/f9AexSuR4E/AEHNzMzMTIAAQR+F61EYwQBBcT0K1+MBAUHD9Shcr0IBQRWuR+F6gwFBZ2ZmZkbEAUG4HoXrEQUCQQrXo3DdRQJBXI/C9aiGAkGuR+F6dMcCQQAAAABACANBUrgehQtJA0GkcD0K14kDQfYoXI+iygNBSOF6FG4LBEGamZmZOUwEQexRuB4FjQRBPgrXo9DNBEGQwvUonA4FQeF6FK5nTwVBMzMzMzOQBUGF61G4/tAFQdejcD3KEQZBKVyPwpVSBkF7FK5HYZMGQc3MzMws1AZBH4XrUfgUB0FxPQrXw1UHQcP1KFyPlgdBFa5H4VrXB0FnZmZmJhgIQbgehevxWAhBCtejcL2ZCEFcj8L1iNoIQa5H4XpUGwlBAAAAACBcCUE=\",\"dtype\":\"float64\",\"shape\":[100]},\"top\":{\"__ndarray__\":\"50H1zNSBOT/ypb1tgHIBPwsriUb5Uew+zuTFiLI04j78kGUPxTHhPh40R25oQNY+zuTFiLI00j4pPQWW1y7APsTbB2FDRsg+JT0FltcuwD4tPQWW1y6wPi09BZbXLrA+JT0FltcuwD4tPQWW1y6gPiU9BZbXLrA+LT0FltcuoD4AAAAAAAAAADU9BZbXLqA+AAAAAAAAAAAAAAAAAAAAAAAAAAAAAAAAAAAAAAAAAAAAAAAAAAAAADU9BZbXLqA+AAAAAAAAAAAAAAAAAAAAAAAAAAAAAAAANT0FltcuoD4AAAAAAAAAAAAAAAAAAAAANT0FltcuoD4AAAAAAAAAACU9BZbXLqA+AAAAAAAAAAAlPQWW1y6gPkU9BZbXLqA+AAAAAAAAAAAlPQWW1y6gPgAAAAAAAAAAJT0FltcuoD4AAAAAAAAAAAAAAAAAAAAAAAAAAAAAAAAAAAAAAAAAAAAAAAAAAAAAJT0FltcuoD4AAAAAAAAAAAAAAAAAAAAAAAAAAAAAAAAAAAAAAAAAACU9BZbXLqA+AAAAAAAAAAAAAAAAAAAAAAAAAAAAAAAAAAAAAAAAAAAlPQWW1y6gPgAAAAAAAAAAAAAAAAAAAAAAAAAAAAAAAAAAAAAAAAAART0FltcuoD4AAAAAAAAAAAAAAAAAAAAAAAAAAAAAAAAAAAAAAAAAAAAAAAAAAAAAAAAAAAAAAAAAAAAAAAAAAAAAAAAAAAAAAAAAAAAAAAAAAAAAAAAAACU9BZbXLqA+AAAAAAAAAAAAAAAAAAAAAAAAAAAAAAAAAAAAAAAAAAAAAAAAAAAAAAAAAAAAAAAAAAAAAAAAAAAAAAAAAAAAAAAAAAAAAAAAAAAAAAAAAAAAAAAAAAAAAAAAAAAAAAAAAAAAAAAAAAAAAAAAAAAAAAAAAAAAAAAAAAAAAAAAAAAAAAAAAAAAAAAAAAAAAAAAAAAAAAAAAAAAAAAAAAAAAAAAAAAAAAAAAAAAAAAAAAAAAAAAAAAAAAAAAAAAAAAAAAAAAAAAAAAAAAAAAAAAAAAAAAAAAAAAJT0FltcuoD4=\",\"dtype\":\"float64\",\"shape\":[100]}},\"selected\":{\"id\":\"7bdf8859-a1f5-4652-9991-05a25ab93e5a\",\"type\":\"Selection\"},\"selection_policy\":{\"id\":\"7b4861d7-be03-4e46-b7d5-4906bb1474c4\",\"type\":\"UnionRenderers\"}},\"id\":\"80ee2560-334d-40b0-a236-878f2eaadf9d\",\"type\":\"ColumnDataSource\"},{\"attributes\":{},\"id\":\"d44a32a5-0b84-4624-a77a-e6a7cd997482\",\"type\":\"WheelZoomTool\"},{\"attributes\":{\"source\":{\"id\":\"80ee2560-334d-40b0-a236-878f2eaadf9d\",\"type\":\"ColumnDataSource\"}},\"id\":\"ca44d366-e6da-4ff5-810f-aaca5f05f1c8\",\"type\":\"CDSView\"},{\"attributes\":{},\"id\":\"e68742c9-03e0-4c35-a3cd-ac93e4a497db\",\"type\":\"ResetTool\"},{\"attributes\":{\"active_drag\":\"auto\",\"active_inspect\":\"auto\",\"active_multi\":null,\"active_scroll\":\"auto\",\"active_tap\":\"auto\",\"tools\":[{\"id\":\"0cf6b349-0dd5-4722-a29b-81bb46b856a3\",\"type\":\"PanTool\"},{\"id\":\"d44a32a5-0b84-4624-a77a-e6a7cd997482\",\"type\":\"WheelZoomTool\"},{\"id\":\"e68742c9-03e0-4c35-a3cd-ac93e4a497db\",\"type\":\"ResetTool\"},{\"id\":\"c671258f-f087-476d-8ce2-4e71c14c405b\",\"type\":\"SaveTool\"}]},\"id\":\"e62344fc-e143-429c-97bf-609cf51930b4\",\"type\":\"Toolbar\"},{\"attributes\":{},\"id\":\"c671258f-f087-476d-8ce2-4e71c14c405b\",\"type\":\"SaveTool\"},{\"attributes\":{},\"id\":\"c517169e-0a82-48d7-a8a9-7b7e1a9124b1\",\"type\":\"LinearScale\"},{\"attributes\":{\"bottom\":{\"value\":0},\"fill_alpha\":{\"value\":0.1},\"fill_color\":{\"value\":\"#1f77b4\"},\"left\":{\"field\":\"left\"},\"line_alpha\":{\"value\":0.1},\"line_color\":{\"value\":\"#1f77b4\"},\"right\":{\"field\":\"right\"},\"top\":{\"field\":\"top\"}},\"id\":\"19dee7a6-f54a-45fc-ad34-00f168447396\",\"type\":\"Quad\"},{\"attributes\":{\"callback\":null},\"id\":\"0c719548-aecc-45bd-8db4-355e3257981e\",\"type\":\"DataRange1d\"},{\"attributes\":{},\"id\":\"98f04d26-13f0-4599-942c-063ee69f0fab\",\"type\":\"LinearScale\"},{\"attributes\":{\"data_source\":{\"id\":\"80ee2560-334d-40b0-a236-878f2eaadf9d\",\"type\":\"ColumnDataSource\"},\"glyph\":{\"id\":\"36b5764f-d867-40cb-b30e-1742e73f746b\",\"type\":\"Quad\"},\"hover_glyph\":null,\"muted_glyph\":null,\"nonselection_glyph\":{\"id\":\"19dee7a6-f54a-45fc-ad34-00f168447396\",\"type\":\"Quad\"},\"selection_glyph\":null,\"view\":{\"id\":\"ca44d366-e6da-4ff5-810f-aaca5f05f1c8\",\"type\":\"CDSView\"}},\"id\":\"029836a6-f984-4f7e-8c07-ff7b1708af37\",\"type\":\"GlyphRenderer\"},{\"attributes\":{},\"id\":\"7bdf8859-a1f5-4652-9991-05a25ab93e5a\",\"type\":\"Selection\"},{\"attributes\":{\"formatter\":{\"id\":\"0415cffa-a3db-4c6d-9a97-0407f02cff89\",\"type\":\"BasicTickFormatter\"},\"plot\":{\"id\":\"c5091b24-8f72-44ef-bf27-29fae1439d95\",\"subtype\":\"Figure\",\"type\":\"Plot\"},\"ticker\":{\"id\":\"d4454f1e-8611-443b-9091-4d928e1d87cb\",\"type\":\"BasicTicker\"}},\"id\":\"359f37af-fbd8-45c1-beb5-400f670e386a\",\"type\":\"LinearAxis\"},{\"attributes\":{},\"id\":\"0415cffa-a3db-4c6d-9a97-0407f02cff89\",\"type\":\"BasicTickFormatter\"},{\"attributes\":{},\"id\":\"d4454f1e-8611-443b-9091-4d928e1d87cb\",\"type\":\"BasicTicker\"},{\"attributes\":{},\"id\":\"7b4861d7-be03-4e46-b7d5-4906bb1474c4\",\"type\":\"UnionRenderers\"},{\"attributes\":{\"bottom\":{\"value\":0},\"fill_color\":{\"value\":\"#1f77b4\"},\"left\":{\"field\":\"left\"},\"line_color\":{\"value\":\"#555555\"},\"right\":{\"field\":\"right\"},\"top\":{\"field\":\"top\"}},\"id\":\"36b5764f-d867-40cb-b30e-1742e73f746b\",\"type\":\"Quad\"},{\"attributes\":{\"plot\":{\"id\":\"c5091b24-8f72-44ef-bf27-29fae1439d95\",\"subtype\":\"Figure\",\"type\":\"Plot\"},\"ticker\":{\"id\":\"d4454f1e-8611-443b-9091-4d928e1d87cb\",\"type\":\"BasicTicker\"}},\"id\":\"98d5e69b-1715-42f2-8d3b-ab452c9ed370\",\"type\":\"Grid\"},{\"attributes\":{\"formatter\":{\"id\":\"a3cff80e-c741-4957-bf17-7cbd51641eeb\",\"type\":\"BasicTickFormatter\"},\"plot\":{\"id\":\"c5091b24-8f72-44ef-bf27-29fae1439d95\",\"subtype\":\"Figure\",\"type\":\"Plot\"},\"ticker\":{\"id\":\"cda62835-616c-4469-8bde-bb52c78a8f05\",\"type\":\"BasicTicker\"}},\"id\":\"7f7668d6-c47b-456a-92a3-78d1816a3869\",\"type\":\"LinearAxis\"}],\"root_ids\":[\"c5091b24-8f72-44ef-bf27-29fae1439d95\"]},\"title\":\"Bokeh Application\",\"version\":\"0.13.0\"}};\n",
       "  var render_items = [{\"docid\":\"0498ba72-6bbf-4475-9e29-ecea8cebed0f\",\"roots\":{\"c5091b24-8f72-44ef-bf27-29fae1439d95\":\"4eaaf56b-a850-4b0d-80c4-0858df395886\"}}];\n",
       "  root.Bokeh.embed.embed_items_notebook(docs_json, render_items);\n",
       "\n",
       "  }\n",
       "  if (root.Bokeh !== undefined) {\n",
       "    embed_document(root);\n",
       "  } else {\n",
       "    var attempts = 0;\n",
       "    var timer = setInterval(function(root) {\n",
       "      if (root.Bokeh !== undefined) {\n",
       "        embed_document(root);\n",
       "        clearInterval(timer);\n",
       "      }\n",
       "      attempts++;\n",
       "      if (attempts > 100) {\n",
       "        console.log(\"Bokeh: ERROR: Unable to run BokehJS code because BokehJS library is missing\")\n",
       "        clearInterval(timer);\n",
       "      }\n",
       "    }, 10, root)\n",
       "  }\n",
       "})(window);"
      ],
      "application/vnd.bokehjs_exec.v0+json": ""
     },
     "metadata": {
      "application/vnd.bokehjs_exec.v0+json": {
       "id": "c5091b24-8f72-44ef-bf27-29fae1439d95"
      }
     },
     "output_type": "display_data"
    }
   ],
   "source": [
    "hist, edges = np.histogram(counts_ted_top1000, density=True, bins=100, normed=True)\n",
    "\n",
    "p = figure(tools=\"pan,wheel_zoom,reset,save\",\n",
    "           toolbar_location=\"above\",\n",
    "           title=\"Top-1000 words distribution\")\n",
    "p.quad(top=hist, bottom=0, left=edges[:-1], right=edges[1:], line_color=\"#555555\")\n",
    "show(p)"
   ]
  },
  {
   "cell_type": "markdown",
   "metadata": {},
   "source": [
    "### Part 3: Train Word2Vec"
   ]
  },
  {
   "cell_type": "code",
   "execution_count": 39,
   "metadata": {},
   "outputs": [],
   "source": [
    "from gensim.models import Word2Vec"
   ]
  },
  {
   "cell_type": "code",
   "execution_count": 40,
   "metadata": {},
   "outputs": [],
   "source": [
    "# ...\n",
    "model_ted = Word2Vec(sentences_ted, min_count=10)"
   ]
  },
  {
   "cell_type": "code",
   "execution_count": 51,
   "metadata": {},
   "outputs": [
    {
     "data": {
      "text/plain": [
       "14427"
      ]
     },
     "execution_count": 51,
     "metadata": {},
     "output_type": "execute_result"
    }
   ],
   "source": [
    "len(model_ted.wv.vocab)"
   ]
  },
  {
   "cell_type": "markdown",
   "metadata": {},
   "source": [
    "### Part 4: Ted Learnt Representations"
   ]
  },
  {
   "cell_type": "markdown",
   "metadata": {},
   "source": [
    "Finding similar words: (see gensim docs for more functionality of `most_similar`)"
   ]
  },
  {
   "cell_type": "code",
   "execution_count": 42,
   "metadata": {},
   "outputs": [
    {
     "name": "stderr",
     "output_type": "stream",
     "text": [
      "/home/osboxes/anaconda3/envs/py36/lib/python3.6/site-packages/ipykernel_launcher.py:1: DeprecationWarning: Call to deprecated `most_similar` (Method will be removed in 4.0.0, use self.wv.most_similar() instead).\n",
      "  \"\"\"Entry point for launching an IPython kernel.\n",
      "/home/osboxes/anaconda3/envs/py36/lib/python3.6/site-packages/gensim/matutils.py:737: FutureWarning: Conversion of the second argument of issubdtype from `int` to `np.signedinteger` is deprecated. In future, it will be treated as `np.int64 == np.dtype(int).type`.\n",
      "  if np.issubdtype(vec.dtype, np.int):\n"
     ]
    },
    {
     "data": {
      "text/plain": [
       "[('woman', 0.8463952541351318),\n",
       " ('guy', 0.824913740158081),\n",
       " ('girl', 0.7642336487770081),\n",
       " ('boy', 0.7619692087173462),\n",
       " ('lady', 0.7520687580108643),\n",
       " ('david', 0.7102624773979187),\n",
       " ('soldier', 0.7011938095092773),\n",
       " ('gentleman', 0.7008219361305237),\n",
       " ('poet', 0.6912198066711426),\n",
       " ('kid', 0.687893807888031)]"
      ]
     },
     "execution_count": 42,
     "metadata": {},
     "output_type": "execute_result"
    }
   ],
   "source": [
    "model_ted.most_similar(\"man\")"
   ]
  },
  {
   "cell_type": "code",
   "execution_count": 43,
   "metadata": {},
   "outputs": [
    {
     "name": "stderr",
     "output_type": "stream",
     "text": [
      "/home/osboxes/anaconda3/envs/py36/lib/python3.6/site-packages/ipykernel_launcher.py:1: DeprecationWarning: Call to deprecated `most_similar` (Method will be removed in 4.0.0, use self.wv.most_similar() instead).\n",
      "  \"\"\"Entry point for launching an IPython kernel.\n",
      "/home/osboxes/anaconda3/envs/py36/lib/python3.6/site-packages/gensim/matutils.py:737: FutureWarning: Conversion of the second argument of issubdtype from `int` to `np.signedinteger` is deprecated. In future, it will be treated as `np.int64 == np.dtype(int).type`.\n",
      "  if np.issubdtype(vec.dtype, np.int):\n"
     ]
    },
    {
     "data": {
      "text/plain": [
       "[('machine', 0.7458442449569702),\n",
       " ('software', 0.7268987894058228),\n",
       " ('robot', 0.7182953357696533),\n",
       " ('device', 0.6782342791557312),\n",
       " ('3d', 0.6656662821769714),\n",
       " ('program', 0.6439570188522339),\n",
       " ('chip', 0.6298129558563232),\n",
       " ('camera', 0.6239331364631653),\n",
       " ('interface', 0.6209791898727417),\n",
       " ('test', 0.6184127330780029)]"
      ]
     },
     "execution_count": 43,
     "metadata": {},
     "output_type": "execute_result"
    }
   ],
   "source": [
    "model_ted.most_similar(\"computer\")"
   ]
  },
  {
   "cell_type": "code",
   "execution_count": null,
   "metadata": {
    "collapsed": true
   },
   "outputs": [],
   "source": [
    "# ..."
   ]
  },
  {
   "cell_type": "markdown",
   "metadata": {},
   "source": [
    "#### t-SNE visualization\n",
    "To use the t-SNE code below, first put a list of the top 1000 words (as strings) into a variable `words_top_ted`. The following code gets the corresponding vectors from the model, assuming it's called `model_ted`:"
   ]
  },
  {
   "cell_type": "code",
   "execution_count": 53,
   "metadata": {},
   "outputs": [
    {
     "name": "stderr",
     "output_type": "stream",
     "text": [
      "/home/osboxes/anaconda3/envs/py36/lib/python3.6/site-packages/ipykernel_launcher.py:3: DeprecationWarning: Call to deprecated `__getitem__` (Method will be removed in 4.0.0, use self.wv.__getitem__() instead).\n",
      "  This is separate from the ipykernel package so we can avoid doing imports until\n"
     ]
    }
   ],
   "source": [
    "# This assumes words_top_ted is a list of strings, the top 1000 words\n",
    "words_top_ted = [x[0] for x in c.most_common(1000)]\n",
    "words_top_vec_ted = model_ted[words_top_ted]"
   ]
  },
  {
   "cell_type": "code",
   "execution_count": 54,
   "metadata": {},
   "outputs": [],
   "source": [
    "from sklearn.manifold import TSNE\n",
    "tsne = TSNE(n_components=2, random_state=0)\n",
    "words_top_ted_tsne = tsne.fit_transform(words_top_vec_ted)"
   ]
  },
  {
   "cell_type": "code",
   "execution_count": 55,
   "metadata": {},
   "outputs": [
    {
     "data": {
      "text/html": [
       "\n",
       "\n",
       "\n",
       "\n",
       "\n",
       "\n",
       "  <div class=\"bk-root\" id=\"622b3d78-ec0d-40be-a6e8-ebd9f8bcebd1\"></div>\n"
      ]
     },
     "metadata": {},
     "output_type": "display_data"
    },
    {
     "data": {
      "application/javascript": [
       "(function(root) {\n",
       "  function embed_document(root) {\n",
       "    \n",
       "  var docs_json = {\"bf085848-a8b7-47c3-b570-6e7429e4b540\":{\"roots\":{\"references\":[{\"attributes\":{\"below\":[{\"id\":\"856d0634-03b7-435e-87ba-a484b4bc663d\",\"type\":\"LinearAxis\"}],\"left\":[{\"id\":\"7d5968b1-3be2-43cc-82a3-4f1124425193\",\"type\":\"LinearAxis\"}],\"renderers\":[{\"id\":\"856d0634-03b7-435e-87ba-a484b4bc663d\",\"type\":\"LinearAxis\"},{\"id\":\"b82906d0-b324-4616-853b-aa4663cd48c9\",\"type\":\"Grid\"},{\"id\":\"7d5968b1-3be2-43cc-82a3-4f1124425193\",\"type\":\"LinearAxis\"},{\"id\":\"40dfee51-d69d-4582-9329-369390b7b68f\",\"type\":\"Grid\"},{\"id\":\"ede78d70-b8c7-46ab-8239-71e816e07254\",\"type\":\"GlyphRenderer\"},{\"id\":\"ef178aa2-7638-4c35-b732-b36f1df35b59\",\"type\":\"LabelSet\"}],\"title\":{\"id\":\"d90dd2fd-723d-4105-8879-9358c8a0feac\",\"type\":\"Title\"},\"toolbar\":{\"id\":\"30661740-28bf-4cf8-bfbd-09fb24f916e1\",\"type\":\"Toolbar\"},\"toolbar_location\":\"above\",\"x_range\":{\"id\":\"75a3a6c4-7d17-4d5f-9df0-4833bc763c6f\",\"type\":\"DataRange1d\"},\"x_scale\":{\"id\":\"67f6058c-c05c-4e22-ab74-b7c9429dcc93\",\"type\":\"LinearScale\"},\"y_range\":{\"id\":\"390f98d6-7182-469d-b92f-81ac06d1f309\",\"type\":\"DataRange1d\"},\"y_scale\":{\"id\":\"fdda2d1d-fe1e-43be-92aa-a884dbdd4a49\",\"type\":\"LinearScale\"}},\"id\":\"5e24503d-6214-4c13-a2c6-154b4b306e97\",\"subtype\":\"Figure\",\"type\":\"Plot\"},{\"attributes\":{},\"id\":\"6e3e63cc-036b-4d98-9461-8955aaefa677\",\"type\":\"PanTool\"},{\"attributes\":{},\"id\":\"48b29919-ee61-4acd-ad02-75339fb3ddbd\",\"type\":\"UnionRenderers\"},{\"attributes\":{\"fill_color\":{\"value\":\"#1f77b4\"},\"line_color\":{\"value\":\"#1f77b4\"},\"size\":{\"units\":\"screen\",\"value\":8},\"x\":{\"field\":\"x1\"},\"y\":{\"field\":\"x2\"}},\"id\":\"ed3d999c-a0b3-4c65-b5de-47aafdb9b785\",\"type\":\"Circle\"},{\"attributes\":{\"fill_alpha\":{\"value\":0.1},\"fill_color\":{\"value\":\"#1f77b4\"},\"line_alpha\":{\"value\":0.1},\"line_color\":{\"value\":\"#1f77b4\"},\"size\":{\"units\":\"screen\",\"value\":8},\"x\":{\"field\":\"x1\"},\"y\":{\"field\":\"x2\"}},\"id\":\"3a10fd63-8213-44fe-956a-205c517255fc\",\"type\":\"Circle\"},{\"attributes\":{},\"id\":\"1dfe6e4e-b5b6-48b8-9f71-2f0824b01b96\",\"type\":\"WheelZoomTool\"},{\"attributes\":{\"plot\":null,\"text\":\"word2vec T-SNE for most common words\"},\"id\":\"d90dd2fd-723d-4105-8879-9358c8a0feac\",\"type\":\"Title\"},{\"attributes\":{},\"id\":\"33f2b408-50cd-489d-8861-bb4d64a353af\",\"type\":\"BasicTickFormatter\"},{\"attributes\":{},\"id\":\"9c1415fe-4933-4363-8974-c9a87234a9e4\",\"type\":\"ResetTool\"},{\"attributes\":{\"callback\":null},\"id\":\"75a3a6c4-7d17-4d5f-9df0-4833bc763c6f\",\"type\":\"DataRange1d\"},{\"attributes\":{},\"id\":\"8495a302-07f7-4011-8828-27ae26e2cacc\",\"type\":\"SaveTool\"},{\"attributes\":{\"active_drag\":\"auto\",\"active_inspect\":\"auto\",\"active_multi\":null,\"active_scroll\":\"auto\",\"active_tap\":\"auto\",\"tools\":[{\"id\":\"6e3e63cc-036b-4d98-9461-8955aaefa677\",\"type\":\"PanTool\"},{\"id\":\"1dfe6e4e-b5b6-48b8-9f71-2f0824b01b96\",\"type\":\"WheelZoomTool\"},{\"id\":\"9c1415fe-4933-4363-8974-c9a87234a9e4\",\"type\":\"ResetTool\"},{\"id\":\"8495a302-07f7-4011-8828-27ae26e2cacc\",\"type\":\"SaveTool\"}]},\"id\":\"30661740-28bf-4cf8-bfbd-09fb24f916e1\",\"type\":\"Toolbar\"},{\"attributes\":{},\"id\":\"e9f2e6ec-2d36-4ca6-867a-6aced1a3c72a\",\"type\":\"Selection\"},{\"attributes\":{},\"id\":\"67f6058c-c05c-4e22-ab74-b7c9429dcc93\",\"type\":\"LinearScale\"},{\"attributes\":{\"callback\":null},\"id\":\"390f98d6-7182-469d-b92f-81ac06d1f309\",\"type\":\"DataRange1d\"},{\"attributes\":{},\"id\":\"fdda2d1d-fe1e-43be-92aa-a884dbdd4a49\",\"type\":\"LinearScale\"},{\"attributes\":{\"plot\":{\"id\":\"5e24503d-6214-4c13-a2c6-154b4b306e97\",\"subtype\":\"Figure\",\"type\":\"Plot\"},\"ticker\":{\"id\":\"f9786d12-b787-4868-8cc1-2e4a7bd6f6ca\",\"type\":\"BasicTicker\"}},\"id\":\"b82906d0-b324-4616-853b-aa4663cd48c9\",\"type\":\"Grid\"},{\"attributes\":{\"source\":{\"id\":\"c09b4839-07ac-4b92-819b-47429f84cd4c\",\"type\":\"ColumnDataSource\"}},\"id\":\"ea3ead26-07c4-4720-9927-ef56f1bc0f26\",\"type\":\"CDSView\"},{\"attributes\":{\"formatter\":{\"id\":\"33f2b408-50cd-489d-8861-bb4d64a353af\",\"type\":\"BasicTickFormatter\"},\"plot\":{\"id\":\"5e24503d-6214-4c13-a2c6-154b4b306e97\",\"subtype\":\"Figure\",\"type\":\"Plot\"},\"ticker\":{\"id\":\"f9786d12-b787-4868-8cc1-2e4a7bd6f6ca\",\"type\":\"BasicTicker\"}},\"id\":\"856d0634-03b7-435e-87ba-a484b4bc663d\",\"type\":\"LinearAxis\"},{\"attributes\":{},\"id\":\"f9786d12-b787-4868-8cc1-2e4a7bd6f6ca\",\"type\":\"BasicTicker\"},{\"attributes\":{\"formatter\":{\"id\":\"f70d7ce9-59eb-4673-ad68-0b87af66b10f\",\"type\":\"BasicTickFormatter\"},\"plot\":{\"id\":\"5e24503d-6214-4c13-a2c6-154b4b306e97\",\"subtype\":\"Figure\",\"type\":\"Plot\"},\"ticker\":{\"id\":\"3a5f7942-26b0-46c4-84d4-4bbe124a181d\",\"type\":\"BasicTicker\"}},\"id\":\"7d5968b1-3be2-43cc-82a3-4f1124425193\",\"type\":\"LinearAxis\"},{\"attributes\":{},\"id\":\"3a5f7942-26b0-46c4-84d4-4bbe124a181d\",\"type\":\"BasicTicker\"},{\"attributes\":{\"dimension\":1,\"plot\":{\"id\":\"5e24503d-6214-4c13-a2c6-154b4b306e97\",\"subtype\":\"Figure\",\"type\":\"Plot\"},\"ticker\":{\"id\":\"3a5f7942-26b0-46c4-84d4-4bbe124a181d\",\"type\":\"BasicTicker\"}},\"id\":\"40dfee51-d69d-4582-9329-369390b7b68f\",\"type\":\"Grid\"},{\"attributes\":{},\"id\":\"f70d7ce9-59eb-4673-ad68-0b87af66b10f\",\"type\":\"BasicTickFormatter\"},{\"attributes\":{\"data_source\":{\"id\":\"c09b4839-07ac-4b92-819b-47429f84cd4c\",\"type\":\"ColumnDataSource\"},\"glyph\":{\"id\":\"ed3d999c-a0b3-4c65-b5de-47aafdb9b785\",\"type\":\"Circle\"},\"hover_glyph\":null,\"muted_glyph\":null,\"nonselection_glyph\":{\"id\":\"3a10fd63-8213-44fe-956a-205c517255fc\",\"type\":\"Circle\"},\"selection_glyph\":null,\"view\":{\"id\":\"ea3ead26-07c4-4720-9927-ef56f1bc0f26\",\"type\":\"CDSView\"}},\"id\":\"ede78d70-b8c7-46ab-8239-71e816e07254\",\"type\":\"GlyphRenderer\"},{\"attributes\":{\"plot\":{\"id\":\"5e24503d-6214-4c13-a2c6-154b4b306e97\",\"subtype\":\"Figure\",\"type\":\"Plot\"},\"source\":{\"id\":\"c09b4839-07ac-4b92-819b-47429f84cd4c\",\"type\":\"ColumnDataSource\"},\"text\":{\"field\":\"names\"},\"text_align\":\"center\",\"text_color\":{\"value\":\"#555555\"},\"text_font_size\":{\"value\":\"8pt\"},\"x\":{\"field\":\"x1\"},\"y\":{\"field\":\"x2\"},\"y_offset\":{\"value\":6}},\"id\":\"ef178aa2-7638-4c35-b732-b36f1df35b59\",\"type\":\"LabelSet\"},{\"attributes\":{\"callback\":null,\"data\":{\"names\":[\"the\",\"and\",\"to\",\"of\",\"a\",\"that\",\"i\",\"in\",\"it\",\"you\",\"we\",\"is\",\"s\",\"this\",\"so\",\"they\",\"was\",\"for\",\"are\",\"have\",\"but\",\"what\",\"on\",\"with\",\"can\",\"t\",\"about\",\"there\",\"be\",\"as\",\"at\",\"all\",\"not\",\"do\",\"my\",\"one\",\"re\",\"people\",\"like\",\"if\",\"from\",\"now\",\"our\",\"he\",\"an\",\"just\",\"these\",\"or\",\"when\",\"because\",\"very\",\"me\",\"out\",\"by\",\"them\",\"how\",\"know\",\"up\",\"going\",\"had\",\"more\",\"think\",\"who\",\"were\",\"see\",\"your\",\"their\",\"which\",\"would\",\"here\",\"really\",\"get\",\"ve\",\"then\",\"m\",\"world\",\"us\",\"time\",\"some\",\"has\",\"don\",\"actually\",\"into\",\"way\",\"where\",\"will\",\"years\",\"things\",\"other\",\"no\",\"could\",\"go\",\"well\",\"want\",\"been\",\"make\",\"right\",\"she\",\"said\",\"something\",\"those\",\"first\",\"two\",\"than\",\"much\",\"also\",\"look\",\"new\",\"thing\",\"little\",\"got\",\"back\",\"over\",\"most\",\"say\",\"even\",\"his\",\"life\",\"only\",\"work\",\"many\",\"take\",\"need\",\"did\",\"lot\",\"kind\",\"why\",\"good\",\"around\",\"every\",\"different\",\"down\",\"ll\",\"let\",\"her\",\"through\",\"same\",\"being\",\"come\",\"d\",\"day\",\"year\",\"three\",\"use\",\"doing\",\"put\",\"called\",\"any\",\"today\",\"percent\",\"made\",\"after\",\"thank\",\"tell\",\"great\",\"human\",\"find\",\"didn\",\"fact\",\"talk\",\"change\",\"started\",\"another\",\"idea\",\"big\",\"last\",\"own\",\"before\",\"its\",\"never\",\"should\",\"better\",\"give\",\"thought\",\"went\",\"might\",\"important\",\"000\",\"again\",\"able\",\"together\",\"still\",\"problem\",\"off\",\"next\",\"part\",\"course\",\"system\",\"him\",\"does\",\"each\",\"start\",\"show\",\"long\",\"ago\",\"story\",\"came\",\"brain\",\"few\",\"bit\",\"between\",\"used\",\"place\",\"technology\",\"women\",\"too\",\"old\",\"mean\",\"data\",\"water\",\"looking\",\"question\",\"maybe\",\"found\",\"love\",\"doesn\",\"end\",\"example\",\"10\",\"done\",\"point\",\"four\",\"real\",\"wanted\",\"ever\",\"school\",\"understand\",\"sort\",\"live\",\"call\",\"whole\",\"children\",\"always\",\"trying\",\"may\",\"person\",\"away\",\"believe\",\"feel\",\"try\",\"million\",\"working\",\"help\",\"everything\",\"five\",\"country\",\"thinking\",\"second\",\"using\",\"information\",\"money\",\"means\",\"power\",\"took\",\"times\",\"high\",\"space\",\"number\",\"kids\",\"home\",\"become\",\"create\",\"small\",\"design\",\"making\",\"best\",\"left\",\"getting\",\"future\",\"enough\",\"man\",\"quite\",\"city\",\"without\",\"sense\",\"happened\",\"comes\",\"social\",\"probably\",\"less\",\"light\",\"talking\",\"energy\",\"am\",\"building\",\"science\",\"food\",\"body\",\"told\",\"interesting\",\"ask\",\"half\",\"pretty\",\"hard\",\"play\",\"anything\",\"lives\",\"countries\",\"coming\",\"such\",\"family\",\"stuff\",\"dollars\",\"earth\",\"moment\",\"20\",\"imagine\",\"across\",\"side\",\"while\",\"saw\",\"happen\",\"once\",\"okay\",\"build\",\"having\",\"men\",\"later\",\"experience\",\"makes\",\"asked\",\"living\",\"seen\",\"says\",\"room\",\"hand\",\"simple\",\"health\",\"ways\",\"else\",\"case\",\"yet\",\"almost\",\"young\",\"days\",\"nothing\",\"care\",\"bad\",\"happens\",\"goes\",\"move\",\"states\",\"reason\",\"computer\",\"open\",\"learn\",\"africa\",\"process\",\"inside\",\"someone\",\"six\",\"far\",\"mind\",\"project\",\"remember\",\"single\",\"picture\",\"both\",\"whether\",\"problems\",\"saying\",\"community\",\"basically\",\"already\",\"within\",\"looked\",\"myself\",\"billion\",\"often\",\"possible\",\"business\",\"planet\",\"global\",\"everybody\",\"top\",\"sure\",\"public\",\"set\",\"wrong\",\"car\",\"book\",\"keep\",\"yes\",\"answer\",\"oh\",\"hope\",\"sometimes\",\"true\",\"history\",\"war\",\"guy\",\"child\",\"instead\",\"months\",\"ideas\",\"looks\",\"matter\",\"government\",\"amazing\",\"united\",\"since\",\"bring\",\"age\",\"cells\",\"job\",\"heard\",\"until\",\"face\",\"wasn\",\"100\",\"read\",\"control\",\"isn\",\"research\",\"30\",\"words\",\"u\",\"group\",\"under\",\"self\",\"somebody\",\"built\",\"state\",\"woman\",\"turn\",\"friends\",\"beautiful\",\"line\",\"knew\",\"couple\",\"order\",\"form\",\"yeah\",\"internet\",\"middle\",\"music\",\"piece\",\"nature\",\"head\",\"though\",\"stop\",\"everyone\",\"50\",\"places\",\"video\",\"learned\",\"language\",\"run\",\"night\",\"decided\",\"study\",\"word\",\"cancer\",\"taking\",\"works\",\"became\",\"exactly\",\"species\",\"society\",\"completely\",\"education\",\"against\",\"stories\",\"large\",\"share\",\"level\",\"heart\",\"america\",\"model\",\"questions\",\"gets\",\"mother\",\"god\",\"company\",\"turns\",\"ourselves\",\"happening\",\"hear\",\"art\",\"themselves\",\"must\",\"itself\",\"rather\",\"kinds\",\"students\",\"name\",\"hours\",\"disease\",\"front\",\"house\",\"huge\",\"couldn\",\"created\",\"universe\",\"ok\",\"animals\",\"american\",\"environment\",\"worked\",\"minutes\",\"ones\",\"black\",\"perhaps\",\"1\",\"past\",\"third\",\"along\",\"others\",\"finally\",\"sound\",\"early\",\"game\",\"thousands\",\"century\",\"based\",\"least\",\"per\",\"ted\",\"lots\",\"figure\",\"free\",\"guys\",\"particular\",\"happy\",\"news\",\"learning\",\"entire\",\"won\",\"gave\",\"machine\",\"india\",\"during\",\"systems\",\"air\",\"difference\",\"outside\",\"natural\",\"taken\",\"seven\",\"given\",\"changed\",\"leave\",\"cell\",\"15\",\"close\",\"behind\",\"cities\",\"full\",\"scale\",\"difficult\",\"china\",\"takes\",\"companies\",\"yourself\",\"area\",\"reality\",\"seeing\",\"easy\",\"turned\",\"cost\",\"eyes\",\"team\",\"moving\",\"population\",\"culture\",\"york\",\"hands\",\"whatever\",\"began\",\"needs\",\"terms\",\"image\",\"simply\",\"needed\",\"beginning\",\"father\",\"local\",\"realized\",\"media\",\"death\",\"parents\",\"view\",\"walk\",\"white\",\"market\",\"parts\",\"ocean\",\"economic\",\"eight\",\"powerful\",\"known\",\"week\",\"size\",\"felt\",\"humans\",\"certain\",\"spend\",\"longer\",\"phone\",\"wonderful\",\"cannot\",\"grow\",\"common\",\"center\",\"tried\",\"fish\",\"land\",\"oil\",\"political\",\"interested\",\"deal\",\"red\",\"gone\",\"amount\",\"weeks\",\"spent\",\"opportunity\",\"paper\",\"lost\",\"national\",\"quickly\",\"blue\",\"step\",\"poor\",\"green\",\"buy\",\"growth\",\"wouldn\",\"either\",\"patients\",\"sitting\",\"ability\",\"changes\",\"write\",\"challenge\",\"south\",\"low\",\"growing\",\"friend\",\"field\",\"shows\",\"2\",\"born\",\"rest\",\"climate\",\"40\",\"test\",\"street\",\"surface\",\"incredible\",\"average\",\"physical\",\"morning\",\"scientists\",\"program\",\"pay\",\"value\",\"feeling\",\"hundreds\",\"girl\",\"met\",\"behavior\",\"economy\",\"dna\",\"complex\",\"access\",\"risk\",\"animal\",\"structure\",\"feet\",\"attention\",\"areas\",\"anyone\",\"deep\",\"watch\",\"short\",\"absolutely\",\"speak\",\"brought\",\"die\",\"bottom\",\"numbers\",\"audience\",\"stage\",\"realize\",\"law\",\"images\",\"wrote\",\"understanding\",\"knowledge\",\"literally\",\"books\",\"movement\",\"ground\",\"giving\",\"eat\",\"force\",\"seems\",\"alone\",\"telling\",\"starting\",\"hold\",\"nice\",\"forward\",\"sea\",\"developed\",\"individual\",\"kid\",\"millions\",\"support\",\"miles\",\"tools\",\"running\",\"online\",\"result\",\"act\",\"medical\",\"technologies\",\"north\",\"lab\",\"development\",\"blood\",\"fear\",\"nobody\",\"map\",\"personal\",\"issue\",\"voice\",\"material\",\"key\",\"12\",\"recently\",\"theory\",\"cut\",\"cars\",\"sun\",\"fast\",\"changing\",\"playing\",\"clear\",\"especially\",\"soon\",\"girls\",\"patient\",\"choice\",\"fly\",\"creating\",\"normal\",\"discovered\",\"europe\",\"talked\",\"relationship\",\"gives\",\"generation\",\"dark\",\"type\",\"showed\",\"chance\",\"seem\",\"industry\",\"asking\",\"rate\",\"fun\",\"issues\",\"color\",\"designed\",\"hour\",\"university\",\"innovation\",\"several\",\"class\",\"computers\",\"english\",\"tiny\",\"allow\",\"save\",\"focus\",\"digital\",\"solve\",\"developing\",\"network\",\"film\",\"special\",\"wall\",\"situation\",\"baby\",\"solution\",\"reasons\",\"box\",\"knows\",\"meet\",\"dead\",\"stand\",\"begin\",\"haven\",\"impact\",\"anybody\",\"term\",\"beyond\",\"pictures\",\"please\",\"ice\",\"produce\",\"shape\",\"non\",\"resources\",\"robot\",\"cool\",\"groups\",\"likely\",\"stay\",\"available\",\"truth\",\"rights\",\"major\",\"cause\",\"evidence\",\"obviously\",\"writing\",\"experiment\",\"modern\",\"drug\",\"becomes\",\"incredibly\",\"aren\",\"bigger\",\"guess\",\"nine\",\"product\",\"drugs\",\"lived\",\"involved\",\"perfect\",\"google\",\"month\",\"effect\",\"similar\",\"putting\",\"eye\",\"pick\",\"message\",\"quality\",\"violence\",\"web\",\"evolution\",\"security\",\"office\",\"basic\",\"solar\",\"indeed\",\"general\",\"towards\",\"present\",\"drive\",\"send\",\"listen\",\"worth\",\"revolution\",\"explain\",\"hundred\",\"certainly\",\"died\",\"ready\",\"teach\",\"journey\",\"25\",\"hit\",\"walking\",\"led\",\"approach\",\"international\",\"200\",\"scientific\",\"games\",\"60\",\"potential\",\"crazy\",\"communities\",\"chinese\",\"device\",\"source\",\"camera\",\"rules\",\"sex\",\"carbon\",\"sounds\",\"boy\",\"reach\",\"starts\",\"examples\",\"west\",\"3\",\"success\",\"measure\",\"particularly\",\"software\",\"totally\",\"suddenly\",\"action\",\"college\",\"higher\",\"code\",\"eventually\",\"democracy\",\"among\",\"minute\",\"sit\",\"largest\",\"showing\",\"hospital\",\"notice\",\"period\",\"mass\",\"develop\",\"dream\",\"onto\",\"plants\",\"break\",\"add\",\"memory\",\"everywhere\",\"favorite\",\"11\",\"zero\",\"speed\",\"schools\",\"moved\",\"response\",\"wants\",\"extremely\",\"movie\",\"individuals\",\"table\",\"wait\",\"medicine\",\"follow\",\"anyway\",\"trust\",\"plant\",\"biggest\",\"watching\",\"organization\",\"creative\",\"road\",\"choose\",\"worse\",\"lead\",\"results\",\"500\",\"exciting\",\"grew\",\"materials\",\"jobs\",\"plan\",\"east\",\"poverty\",\"positive\",\"safe\",\"strong\",\"fall\",\"essentially\",\"object\",\"door\",\"son\",\"vision\",\"further\",\"happiness\",\"continue\",\"student\",\"doctor\",\"including\",\"named\",\"role\",\"objects\",\"extraordinary\",\"standing\",\"skin\",\"leaders\",\"usually\",\"african\",\"conversation\",\"projects\",\"allowed\",\"models\",\"supposed\",\"faster\",\"interest\",\"families\",\"police\",\"fight\",\"tree\",\"connected\",\"screen\",\"5\",\"cases\",\"goal\",\"somewhere\",\"finding\",\"buildings\",\"shown\"],\"x1\":{\"__ndarray__\":\"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\",\"dtype\":\"float32\",\"shape\":[1000]},\"x2\":{\"__ndarray__\":\"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\",\"dtype\":\"float32\",\"shape\":[1000]}},\"selected\":{\"id\":\"e9f2e6ec-2d36-4ca6-867a-6aced1a3c72a\",\"type\":\"Selection\"},\"selection_policy\":{\"id\":\"48b29919-ee61-4acd-ad02-75339fb3ddbd\",\"type\":\"UnionRenderers\"}},\"id\":\"c09b4839-07ac-4b92-819b-47429f84cd4c\",\"type\":\"ColumnDataSource\"}],\"root_ids\":[\"5e24503d-6214-4c13-a2c6-154b4b306e97\"]},\"title\":\"Bokeh Application\",\"version\":\"0.13.0\"}};\n",
       "  var render_items = [{\"docid\":\"bf085848-a8b7-47c3-b570-6e7429e4b540\",\"roots\":{\"5e24503d-6214-4c13-a2c6-154b4b306e97\":\"622b3d78-ec0d-40be-a6e8-ebd9f8bcebd1\"}}];\n",
       "  root.Bokeh.embed.embed_items_notebook(docs_json, render_items);\n",
       "\n",
       "  }\n",
       "  if (root.Bokeh !== undefined) {\n",
       "    embed_document(root);\n",
       "  } else {\n",
       "    var attempts = 0;\n",
       "    var timer = setInterval(function(root) {\n",
       "      if (root.Bokeh !== undefined) {\n",
       "        embed_document(root);\n",
       "        clearInterval(timer);\n",
       "      }\n",
       "      attempts++;\n",
       "      if (attempts > 100) {\n",
       "        console.log(\"Bokeh: ERROR: Unable to run BokehJS code because BokehJS library is missing\")\n",
       "        clearInterval(timer);\n",
       "      }\n",
       "    }, 10, root)\n",
       "  }\n",
       "})(window);"
      ],
      "application/vnd.bokehjs_exec.v0+json": ""
     },
     "metadata": {
      "application/vnd.bokehjs_exec.v0+json": {
       "id": "5e24503d-6214-4c13-a2c6-154b4b306e97"
      }
     },
     "output_type": "display_data"
    }
   ],
   "source": [
    "p = figure(tools=\"pan,wheel_zoom,reset,save\",\n",
    "           toolbar_location=\"above\",\n",
    "           title=\"word2vec T-SNE for most common words\")\n",
    "\n",
    "source = ColumnDataSource(data=dict(x1=words_top_ted_tsne[:,0],\n",
    "                                    x2=words_top_ted_tsne[:,1],\n",
    "                                    names=words_top_ted))\n",
    "\n",
    "p.scatter(x=\"x1\", y=\"x2\", size=8, source=source)\n",
    "\n",
    "labels = LabelSet(x=\"x1\", y=\"x2\", text=\"names\", y_offset=6,\n",
    "                  text_font_size=\"8pt\", text_color=\"#555555\",\n",
    "                  source=source, text_align='center')\n",
    "p.add_layout(labels)\n",
    "\n",
    "show(p)"
   ]
  },
  {
   "cell_type": "markdown",
   "metadata": {},
   "source": [
    "### Part 5: Wiki Learnt Representations"
   ]
  },
  {
   "cell_type": "markdown",
   "metadata": {},
   "source": [
    "Download dataset"
   ]
  },
  {
   "cell_type": "code",
   "execution_count": 56,
   "metadata": {},
   "outputs": [],
   "source": [
    "if not os.path.isfile('wikitext-103-raw-v1.zip'):\n",
    "    urllib.request.urlretrieve(\"https://s3.amazonaws.com/research.metamind.io/wikitext/wikitext-103-raw-v1.zip\", filename=\"wikitext-103-raw-v1.zip\")"
   ]
  },
  {
   "cell_type": "code",
   "execution_count": 57,
   "metadata": {},
   "outputs": [],
   "source": [
    "with zipfile.ZipFile('wikitext-103-raw-v1.zip', 'r') as z:\n",
    "    input_text = str(z.open('wikitext-103-raw/wiki.train.raw', 'r').read(), encoding='utf-8') # Thanks Robert Bastian"
   ]
  },
  {
   "cell_type": "markdown",
   "metadata": {},
   "source": [
    "Preprocess sentences (note that it's important to remove small sentences for performance)"
   ]
  },
  {
   "cell_type": "code",
   "execution_count": 58,
   "metadata": {},
   "outputs": [],
   "source": [
    "sentences_wiki = []\n",
    "for line in input_text.split('\\n'):\n",
    "    s = [x for x in line.split('.') if x and len(x.split()) >= 5]\n",
    "    sentences_wiki.extend(s)\n",
    "    \n",
    "for s_i in range(len(sentences_wiki)):\n",
    "    sentences_wiki[s_i] = re.sub(\"[^a-z]\", \" \", sentences_wiki[s_i].lower())\n",
    "    sentences_wiki[s_i] = re.sub(r'\\([^)]*\\)', '', sentences_wiki[s_i])\n",
    "del input_text"
   ]
  },
  {
   "cell_type": "code",
   "execution_count": 59,
   "metadata": {},
   "outputs": [
    {
     "name": "stdout",
     "output_type": "stream",
     "text": [
      "4267112\n",
      "853422\n"
     ]
    }
   ],
   "source": [
    "# sample 1/5 of the data\n",
    "shuffle(sentences_wiki)\n",
    "print(len(sentences_wiki))\n",
    "sentences_wiki = sentences_wiki[:int(len(sentences_wiki)/5)]\n",
    "print(len(sentences_wiki))"
   ]
  },
  {
   "cell_type": "code",
   "execution_count": 71,
   "metadata": {},
   "outputs": [],
   "source": [
    "sentences_token_wiki = []\n",
    "for sent_str in sentences_wiki:\n",
    "    tokens = re.sub(r\"[^a-z0-9]+\", \" \", sent_str.lower()).split()\n",
    "    sentences_token_wiki.append(tokens)"
   ]
  },
  {
   "cell_type": "markdown",
   "metadata": {},
   "source": [
    "Now, repeat all the same steps that you performed above. You should be able to reuse essentially all the code."
   ]
  },
  {
   "cell_type": "code",
   "execution_count": 73,
   "metadata": {},
   "outputs": [
    {
     "name": "stdout",
     "output_type": "stream",
     "text": [
      "[('the', 1286909), ('of', 547311), ('and', 499176), ('in', 433935), ('to', 399238), ('a', 358293), ('was', 215283), ('s', 164469), ('on', 153563), ('as', 145060), ('for', 140511), ('that', 138041), ('with', 129424), ('by', 126099), ('is', 103287), ('his', 92834), ('at', 92806), ('he', 91714), ('it', 89124), ('from', 88826), ('were', 70688), ('an', 64198), ('had', 58530), ('which', 55034), ('be', 47827), ('this', 43297), ('but', 42644), ('are', 41033), ('first', 40906), ('not', 39562), ('their', 38795), ('after', 38448), ('one', 38041), ('her', 37494), ('also', 37053), ('its', 36655), ('they', 35020), ('two', 34300), ('or', 33451), ('have', 32962), ('who', 31835), ('new', 30591), ('been', 30374), ('has', 29845), ('she', 29612), ('when', 27027), ('during', 26490), ('time', 26285), ('other', 25469), ('would', 25190), ('into', 24905), ('all', 24355), ('i', 23673), ('more', 22930), ('while', 21546), ('over', 21417), ('him', 19900), ('game', 19859), ('only', 19661), ('later', 19564), ('most', 19213), ('up', 19200), ('out', 18939), ('three', 18896), ('th', 18624), ('about', 18621), ('between', 18598), ('there', 18009), ('than', 17809), ('some', 17051), ('film', 16832), ('may', 16732), ('before', 16140), ('year', 15994), ('no', 15791), ('made', 15664), ('such', 15543), ('second', 15469), ('where', 15280), ('season', 15224), ('years', 14750), ('world', 14631), ('war', 14621), ('then', 14177), ('however', 14000), ('used', 13976), ('both', 13966), ('being', 13870), ('against', 13829), ('them', 13788), ('through', 13782), ('song', 13637), ('these', 13627), ('series', 13573), ('m', 13380), ('album', 13293), ('many', 13089), ('city', 12907), ('became', 12870), ('can', 12774), ('united', 12764), ('well', 12754), ('part', 12742), ('team', 12714), ('north', 12655), ('number', 12619), ('several', 12585), ('including', 12574), ('four', 12523), ('under', 12380), ('early', 12240), ('state', 12056), ('so', 11804), ('south', 11796), ('music', 11687), ('episode', 11557), ('day', 11546), ('states', 11416), ('following', 11319), ('said', 11210), ('known', 11034), ('although', 10993), ('could', 10945), ('american', 10932), ('did', 10849), ('began', 10744), ('work', 10612), ('until', 10316), ('because', 10299), ('released', 10289), ('t', 10130), ('like', 10113), ('called', 10105), ('high', 9914), ('people', 9877), ('end', 9690), ('british', 9464), ('around', 9345), ('since', 9293), ('long', 9289), ('national', 9234), ('best', 9211), ('if', 9199), ('each', 9165), ('found', 9102), ('september', 9089), ('million', 9075), ('life', 9067), ('same', 9051), ('us', 9016), ('another', 8893), ('along', 8877), ('five', 8857), ('back', 8825), ('west', 8799), ('show', 8752), ('any', 8664), ('took', 8635), ('use', 8627), ('area', 8513), ('group', 8505), ('august', 8486), ('km', 8455), ('off', 8451), ('received', 8437), ('final', 8432), ('you', 8282), ('october', 8276), ('century', 8219), ('due', 8108), ('what', 8019), ('school', 8011), ('june', 7936), ('line', 7906), ('john', 7892), ('single', 7865), ('system', 7828), ('will', 7810), ('east', 7754), ('government', 7748), ('home', 7747), ('march', 7743), ('july', 7657), ('november', 7649), ('set', 7559), ('games', 7535), ('much', 7533), ('third', 7471), ('large', 7423), ('april', 7381), ('based', 7311), ('general', 7310), ('york', 7268), ('left', 7260), ('major', 7245), ('family', 7241), ('down', 7232), ('just', 7166), ('place', 7143), ('house', 7134), ('december', 7098), ('road', 7092), ('name', 7051), ('company', 7046), ('played', 7025), ('army', 7013), ('january', 6998), ('history', 6964), ('king', 6961), ('six', 6961), ('we', 6919), ('character', 6912), ('included', 6873), ('main', 6860), ('wrote', 6855), ('band', 6821), ('now', 6806), ('won', 6749), ('led', 6693), ('according', 6667), ('near', 6664), ('times', 6648), ('d', 6635), ('those', 6616), ('men', 6610), ('river', 6609), ('last', 6597), ('within', 6597), ('de', 6578), ('next', 6573), ('battle', 6562), ('death', 6557), ('video', 6533), ('described', 6529), ('record', 6528), ('own', 6517), ('named', 6509), ('release', 6467), ('air', 6456), ('way', 6442), ('make', 6434), ('still', 6434), ('st', 6433), ('original', 6403), ('late', 6350), ('man', 6341), ('ship', 6339), ('production', 6331), ('top', 6315), ('even', 6306), ('very', 6299), ('club', 6273), ('february', 6261), ('league', 6234), ('small', 6224), ('public', 6217), ('storm', 6213), ('route', 6202), ('great', 6189), ('species', 6165), ('force', 6155), ('old', 6132), ('u', 6113), ('built', 6099), ('play', 6011), ('days', 6003), ('again', 5998), ('though', 5973), ('among', 5960), ('held', 5931), ('b', 5912), ('book', 5904), ('university', 5904), ('division', 5873), ('do', 5870), ('service', 5828), ('role', 5824), ('further', 5816), ('story', 5813), ('match', 5741), ('side', 5726), ('members', 5725), ('french', 5717), ('white', 5709), ('power', 5683), ('having', 5665), ('point', 5640), ('career', 5625), ('german', 5623), ('player', 5620), ('water', 5565), ('often', 5550), ('order', 5531), ('h', 5511), ('park', 5462), ('local', 5460), ('came', 5431), ('former', 5415), ('continued', 5395), ('without', 5393), ('half', 5343), ('development', 5342), ('black', 5338), ('town', 5329), ('despite', 5316), ('considered', 5306), ('version', 5299), ('party', 5263), ('england', 5260), ('island', 5250), ('take', 5239), ('songs', 5216), ('form', 5208), ('moved', 5148), ('few', 5112), ('written', 5106), ('support', 5073), ('president', 5072), ('c', 5049), ('different', 5046), ('county', 5025), ('ii', 5023), ('forces', 5012), ('military', 5001), ('building', 4998), ('become', 4993), ('country', 4989), ('lost', 4984), ('period', 4978), ('international', 4978), ('london', 4973), ('given', 4938), ('court', 4938), ('english', 4900), ('tropical', 4895), ('little', 4883), ('re', 4858), ('attack', 4846), ('n', 4816), ('using', 4777), ('tour', 4776), ('similar', 4763), ('church', 4759), ('lead', 4748), ('street', 4732), ('gave', 4722), ('returned', 4721), ('my', 4704), ('never', 4700), ('published', 4694), ('produced', 4685), ('total', 4682), ('performance', 4679), ('short', 4678), ('royal', 4669), ('track', 4665), ('position', 4645), ('went', 4637), ('class', 4629), ('stated', 4611), ('western', 4610), ('live', 4576), ('control', 4574), ('how', 4566), ('aircraft', 4563), ('land', 4551), ('children', 4545), ('father', 4533), ('television', 4533), ('per', 4507), ('ships', 4494), ('fire', 4486), ('star', 4485), ('recorded', 4476), ('good', 4461), ('run', 4457), ('include', 4445), ('highway', 4442), ('week', 4438), ('women', 4430), ('making', 4420), ('right', 4405), ('upon', 4401), ('throughout', 4364), ('himself', 4358), ('head', 4348), ('characters', 4325), ('once', 4322), ('me', 4317), ('australia', 4309), ('love', 4308), ('central', 4303), ('players', 4296), ('light', 4273), ('design', 4253), ('across', 4252), ('less', 4236), ('young', 4235), ('title', 4223), ('months', 4213), ('age', 4206), ('away', 4200), ('writing', 4197), ('center', 4193), ('previous', 4180), ('instead', 4169), ('r', 4165), ('sea', 4164), ('seven', 4153), ('red', 4149), ('law', 4138), ('developed', 4129), ('station', 4121), ('rock', 4120), ('night', 4100), ('hurricane', 4098), ('political', 4097), ('remained', 4083), ('died', 4082), ('return', 4079), ('eight', 4057), ('ten', 4049), ('ft', 4044), ('southern', 4032), ('e', 4031), ('race', 4030), ('office', 4019), ('field', 4013), ('various', 4000), ('act', 3991), ('college', 3990), ('result', 3989), ('eventually', 3982), ('felt', 3979), ('too', 3973), ('william', 3954), ('announced', 3949), ('reported', 3946), ('sent', 3942), ('areas', 3933), ('low', 3929), ('win', 3922), ('should', 3919), ('award', 3915), ('james', 3904), ('noted', 3899), ('son', 3896), ('created', 3895), ('america', 3875), ('style', 3872), ('reached', 3855), ('served', 3850), ('japanese', 3831), ('construction', 3831), ('performed', 3827), ('miles', 3817), ('able', 3806), ('followed', 3789), ('member', 3780), ('killed', 3754), ('points', 3749), ('seen', 3736), ('together', 3731), ('level', 3711), ('full', 3704), ('mm', 3700), ('range', 3700), ('campaign', 3696), ('body', 3695), ('common', 3685), ('taken', 3673), ('northern', 3669), ('works', 3665), ('others', 3665), ('located', 3659), ('appeared', 3650), ('bridge', 3643), ('originally', 3642), ('thought', 3629), ('established', 3625), ('success', 3623), ('post', 3622), ('project', 3614), ('front', 3613), ('special', 3611), ('playing', 3610), ('born', 3597), ('chart', 3592), ('stage', 3580), ('george', 3576), ('football', 3559), ('australian', 3554), ('features', 3552), ('action', 3550), ('addition', 3542), ('added', 3516), ('caused', 3515), ('critics', 3506), ('get', 3505), ('fourth', 3493), ('behind', 3491), ('started', 3487), ('rather', 3485), ('formed', 3479), ('feet', 3479), ('important', 3472), ('decided', 3471), ('sold', 3469), ('present', 3451), ('opened', 3431), ('go', 3431), ('modern', 3418), ('popular', 3411), ('damage', 3400), ('soon', 3398), ('every', 3397), ('population', 3387), ('initially', 3387), ('completed', 3378), ('f', 3373), ('see', 3372), ('awards', 3371), ('kingdom', 3371), ('o', 3366), ('strong', 3360), ('david', 3346), ('guns', 3346), ('open', 3345), ('almost', 3344), ('site', 3344), ('eastern', 3341), ('championship', 3340), ('non', 3330), ('fleet', 3330), ('heavy', 3330), ('saw', 3328), ('command', 3323), ('close', 3319), ('mother', 3315), ('event', 3306), ('director', 3301), ('case', 3287), ('towards', 3280), ('leading', 3278), ('ground', 3271), ('worked', 3271), ('art', 3269), ('region', 3262), ('working', 3245), ('weeks', 3244), ('free', 3232), ('hall', 3217), ('michael', 3206), ('scored', 3205), ('least', 3201), ('france', 3199), ('coast', 3199), ('union', 3198), ('l', 3187), ('training', 3184), ('provided', 3162), ('wanted', 3155), ('mi', 3144), ('sound', 3127), ('cup', 3120), ('either', 3116), ('brought', 3115), ('ever', 3111), ('featured', 3103), ('put', 3084), ('recording', 3077), ('wife', 3075), ('allowed', 3070), ('washington', 3068), ('scene', 3066), ('help', 3064), ('records', 3060), ('navy', 3053), ('generally', 3048), ('magazine', 3024), ('victory', 3015), ('events', 3013), ('hit', 2997), ('council', 2997), ('henry', 2996), ('list', 2996), ('troops', 2991), ('co', 2986), ('average', 2985), ('does', 2982), ('placed', 2981), ('human', 2979), ('mid', 2978), ('opening', 2967), ('runs', 2965), ('far', 2955), ('example', 2951), ('studio', 2950), ('police', 2927), ('designed', 2921), ('believed', 2920), ('joined', 2918), ('hours', 2917), ('squadron', 2904), ('summer', 2900), ('start', 2879), ('nine', 2877), ('europe', 2876), ('base', 2876), ('brown', 2855), ('finished', 2853), ('replaced', 2852), ('highest', 2845), ('rest', 2845), ('involved', 2845), ('robert', 2829), ('european', 2829), ('radio', 2828), ('al', 2826), ('significant', 2826), ('films', 2817), ('possible', 2817), ('earlier', 2816), ('minutes', 2807), ('met', 2805), ('operation', 2803), ('official', 2797), ('month', 2787), ('section', 2777), ('successful', 2771), ('largest', 2771), ('beginning', 2771), ('shot', 2770), ('change', 2769), ('captain', 2765), ('x', 2760), ('process', 2758), ('association', 2750), ('particularly', 2749), ('society', 2748), ('better', 2747), ('saying', 2745), ('media', 2745), ('test', 2739), ('available', 2739), ('outside', 2738), ('san', 2735), ('research', 2732), ('japan', 2720), ('crew', 2718), ('mph', 2714), ('going', 2713), ('cast', 2711), ('units', 2697), ('turned', 2697), ('business', 2696), ('must', 2695), ('forced', 2693), ('review', 2685), ('ordered', 2677), ('additional', 2677), ('above', 2676), ('taking', 2674), ('community', 2669), ('move', 2664), ('relationship', 2664), ('increased', 2662), ('social', 2658), ('real', 2654), ('big', 2643), ('appearance', 2640), ('goal', 2640), ('stone', 2639), ('thus', 2629), ('passed', 2627), ('come', 2626), ('middle', 2623), ('lower', 2620), ('directed', 2618), ('elements', 2614), ('program', 2613), ('signed', 2611), ('charles', 2607), ('spent', 2606), ('reviews', 2600), ('praised', 2600), ('infantry', 2591), ('enough', 2590), ('ended', 2588), ('future', 2587), ('space', 2578), ('type', 2570), ('hill', 2569), ('board', 2568), ('previously', 2568), ('staff', 2562), ('g', 2560), ('brother', 2556), ('give', 2551), ('required', 2549), ('chief', 2548), ('canada', 2547), ('gold', 2536), ('paul', 2528), ('interest', 2527), ('california', 2519), ('castle', 2518), ('committee', 2518), ('rights', 2517), ('cross', 2515), ('winds', 2514), ('gun', 2512), ('musical', 2504), ('round', 2499), ('parts', 2495), ('asked', 2495), ('positive', 2491), ('failed', 2489), ('don', 2489), ('district', 2487), ('female', 2485), ('room', 2485), ('term', 2485), ('evidence', 2483), ('lake', 2476), ('told', 2476), ('lines', 2474), ('groups', 2473), ('thomas', 2465), ('whom', 2463), ('critical', 2456), ('sometimes', 2455), ('money', 2454), ('grand', 2448), ('overall', 2447), ('india', 2447), ('education', 2444), ('our', 2441), ('find', 2436), ('itself', 2435), ('prior', 2430), ('battalion', 2428), ('attempt', 2424), ('reception', 2420), ('study', 2419), ('green', 2417), ('germany', 2415), ('uk', 2408), ('personal', 2402), ('plan', 2393), ('entire', 2387), ('background', 2385), ('effects', 2385), ('smith', 2384), ('quickly', 2383), ('election', 2383), ('news', 2376), ('claimed', 2365), ('v', 2364), ('usually', 2360), ('plot', 2358), ('stars', 2357), ('square', 2350), ('introduced', 2349), ('cover', 2348), ('governor', 2342), ('already', 2338), ('blue', 2335), ('past', 2332), ('hand', 2330), ('whose', 2330), ('score', 2329), ('bill', 2323), ('person', 2322), ('idea', 2322), ('p', 2320), ('complete', 2315), ('debut', 2312), ('indian', 2312), ('k', 2311), ('services', 2310), ('port', 2310), ('speed', 2306), ('commander', 2305), ('surface', 2303), ('loss', 2300), ('students', 2297), ('minister', 2294), ('limited', 2292), ('arrived', 2283), ('writer', 2282), ('press', 2282), ('issue', 2281), ('decision', 2279), ('britain', 2278), ('response', 2278), ('food', 2277), ('pressure', 2274), ('department', 2269), ('ny', 2269), ('episodes', 2267), ('teams', 2266), ('queen', 2261), ('turn', 2258), ('structure', 2257), ('science', 2257), ('virginia', 2256), ('mark', 2256), ('novel', 2256), ('flight', 2254), ('carried', 2254), ('defeated', 2248), ('voice', 2247), ('anti', 2244), ('industry', 2244), ('los', 2244), ('shows', 2242), ('operations', 2237), ('village', 2236), ('movement', 2236), ('latter', 2235), ('becoming', 2233), ('peter', 2232), ('leaving', 2232), ('appointed', 2230), ('richard', 2228), ('earth', 2228), ('report', 2228), ('estimated', 2226), ('god', 2226), ('civil', 2224), ('living', 2223), ('larger', 2219), ('remaining', 2215), ('bay', 2212), ('winning', 2212), ('proposed', 2210), ('fifth', 2208), ('length', 2207), ('material', 2207), ('especially', 2207), ('la', 2205), ('view', 2203), ('might', 2201), ('car', 2196), ('commercial', 2195), ('influence', 2195), ('daughter', 2195), ('experience', 2193), ('date', 2190), ('naval', 2190), ('immediately', 2188), ('cut', 2185), ('hot', 2185), ('scenes', 2183), ('centre', 2180), ('running', 2180), ('woman', 2177), ('entered', 2174), ('nearly', 2169), ('today', 2163), ('changes', 2157), ('depression', 2156), ('shortly', 2151), ('producer', 2150), ('course', 2149), ('self', 2141), ('leader', 2139), ('railway', 2139), ('nd', 2134), ('suggested', 2132), ('cost', 2132), ('contract', 2131), ('dark', 2128), ('supported', 2127), ('network', 2127), ('approximately', 2127), ('ball', 2124), ('higher', 2118), ('officer', 2117), ('empire', 2113), ('compared', 2112), ('agreed', 2109), ('islands', 2109), ('brigade', 2107), ('provide', 2107), ('tracks', 2105), ('health', 2105), ('percent', 2104), ('current', 2104), ('spanish', 2103), ('intended', 2098), ('fact', 2098), ('child', 2096), ('subsequently', 2095), ('fans', 2095), ('wide', 2086), ('chicago', 2086), ('nature', 2083), ('size', 2082), ('finally', 2082), ('pop', 2082), ('friends', 2080), ('destroyed', 2078), ('something', 2076), ('planned', 2075), ('manager', 2075), ('language', 2074), ('regular', 2072), ('awarded', 2072), ('trade', 2071), ('appear', 2069), ('museum', 2064), ('private', 2062), ('guitar', 2060), ('soviet', 2055), ('professional', 2054), ('done', 2052), ('helped', 2050), ('corps', 2048), ('related', 2041), ('effect', 2039), ('mostly', 2037), ('longer', 2035), ('lack', 2033), ('billboard', 2032), ('face', 2029), ('create', 2027), ('chinese', 2027), ('your', 2024), ('upper', 2024), ('ran', 2023), ('changed', 2021), ('soldiers', 2021), ('lyrics', 2016), ('extended', 2016), ('whether', 2014), ('information', 2010), ('federal', 2009), ('plans', 2005), ('jackson', 2004), ('moving', 2001), ('singles', 2000), ('officers', 1996), ('lord', 1994), ('regiment', 1992), ('mixed', 1992), ('leave', 1991), ('status', 1989), ('key', 1989), ('forward', 1988), ('initial', 1988), ('via', 1985), ('pacific', 1984), ('yet', 1982), ('natural', 1979), ('remains', 1975), ('fort', 1973), ('singer', 1973), ('conference', 1971), ('atlantic', 1971), ('married', 1969), ('minor', 1967), ('really', 1965), ('probably', 1957), ('edward', 1956), ('themselves', 1955), ('edition', 1953), ('captured', 1952), ('location', 1951), ('countries', 1945), ('independent', 1944), ('fight', 1942), ('johnson', 1941), ('know', 1940), ('associated', 1940), ('always', 1938), ('numerous', 1938), ('buildings', 1934), ('pre', 1933), ('energy', 1933), ('suffered', 1930), ('difficult', 1929), ('issued', 1926), ('dead', 1921), ('texas', 1917), ('inspired', 1914), ('allow', 1914), ('cm', 1913), ('damaged', 1913), ('includes', 1912), ('copies', 1910), ('valley', 1908), ('feature', 1908), ('problems', 1908), ('pass', 1904), ('wind', 1901), ('likely', 1901), ('unit', 1900), ('dance', 1899)]\n"
     ]
    }
   ],
   "source": [
    "# ...\n",
    "c = Counter([y for x in sentences_token_wiki for y in x])\n",
    "counts_wiki_top1000 = [x[1] for x in c.most_common(1000)]\n",
    "print(c.most_common(1000))"
   ]
  },
  {
   "cell_type": "code",
   "execution_count": 74,
   "metadata": {},
   "outputs": [],
   "source": [
    "model_wiki = Word2Vec(sentences_token_wiki, min_count=10)"
   ]
  },
  {
   "cell_type": "markdown",
   "metadata": {},
   "source": [
    "#### t-SNE visualization"
   ]
  },
  {
   "cell_type": "code",
   "execution_count": 75,
   "metadata": {},
   "outputs": [],
   "source": [
    "# This assumes words_top_wiki is a list of strings, the top 1000 words\n",
    "words_top_wiki = [x[0] for x in c.most_common(1000)]\n",
    "words_top_vec_wiki = model_wiki.wv[words_top_wiki]\n",
    "\n",
    "tsne = TSNE(n_components=2, random_state=0)\n",
    "words_top_wiki_tsne = tsne.fit_transform(words_top_vec_wiki)"
   ]
  },
  {
   "cell_type": "code",
   "execution_count": 76,
   "metadata": {},
   "outputs": [
    {
     "data": {
      "text/html": [
       "\n",
       "\n",
       "\n",
       "\n",
       "\n",
       "\n",
       "  <div class=\"bk-root\" id=\"2957876d-b55e-423d-823d-4ea6fd286b3a\"></div>\n"
      ]
     },
     "metadata": {},
     "output_type": "display_data"
    },
    {
     "data": {
      "application/javascript": [
       "(function(root) {\n",
       "  function embed_document(root) {\n",
       "    \n",
       "  var docs_json = {\"676429b3-3045-47a2-9174-cf9693afd7bf\":{\"roots\":{\"references\":[{\"attributes\":{\"callback\":null},\"id\":\"e06f3524-65a9-4275-bef5-2da8b2b10028\",\"type\":\"DataRange1d\"},{\"attributes\":{},\"id\":\"eb4c019a-db79-4547-8ffb-829279b8e781\",\"type\":\"Selection\"},{\"attributes\":{},\"id\":\"581d7b3e-4ccf-4968-a713-644a96c08cd4\",\"type\":\"LinearScale\"},{\"attributes\":{},\"id\":\"9e4d4476-d2b5-4ef6-80ee-2c9aa5ac044b\",\"type\":\"BasicTickFormatter\"},{\"attributes\":{\"plot\":{\"id\":\"13e42be1-c292-401b-b3a0-1328fce7c931\",\"subtype\":\"Figure\",\"type\":\"Plot\"},\"ticker\":{\"id\":\"1c4bcd74-d02a-4d0d-b3b5-4eba7a42f66b\",\"type\":\"BasicTicker\"}},\"id\":\"2d0c20b5-0f43-4541-8f22-be5f4ef05686\",\"type\":\"Grid\"},{\"attributes\":{\"formatter\":{\"id\":\"9e4d4476-d2b5-4ef6-80ee-2c9aa5ac044b\",\"type\":\"BasicTickFormatter\"},\"plot\":{\"id\":\"13e42be1-c292-401b-b3a0-1328fce7c931\",\"subtype\":\"Figure\",\"type\":\"Plot\"},\"ticker\":{\"id\":\"1c4bcd74-d02a-4d0d-b3b5-4eba7a42f66b\",\"type\":\"BasicTicker\"}},\"id\":\"3bc64f2c-e56e-4af7-b3a9-10c86da4ad2b\",\"type\":\"LinearAxis\"},{\"attributes\":{},\"id\":\"1c4bcd74-d02a-4d0d-b3b5-4eba7a42f66b\",\"type\":\"BasicTicker\"},{\"attributes\":{\"formatter\":{\"id\":\"9a1cd8b5-4b12-4200-9381-70b15cb00494\",\"type\":\"BasicTickFormatter\"},\"plot\":{\"id\":\"13e42be1-c292-401b-b3a0-1328fce7c931\",\"subtype\":\"Figure\",\"type\":\"Plot\"},\"ticker\":{\"id\":\"311dcaf1-31d0-4f54-a85b-c56b0dbed795\",\"type\":\"BasicTicker\"}},\"id\":\"d373b2d5-f6ac-400c-ae00-728d4eea4e39\",\"type\":\"LinearAxis\"},{\"attributes\":{},\"id\":\"311dcaf1-31d0-4f54-a85b-c56b0dbed795\",\"type\":\"BasicTicker\"},{\"attributes\":{\"dimension\":1,\"plot\":{\"id\":\"13e42be1-c292-401b-b3a0-1328fce7c931\",\"subtype\":\"Figure\",\"type\":\"Plot\"},\"ticker\":{\"id\":\"311dcaf1-31d0-4f54-a85b-c56b0dbed795\",\"type\":\"BasicTicker\"}},\"id\":\"ee45f661-8f18-43ce-b645-b8394c2ef530\",\"type\":\"Grid\"},{\"attributes\":{},\"id\":\"9a1cd8b5-4b12-4200-9381-70b15cb00494\",\"type\":\"BasicTickFormatter\"},{\"attributes\":{\"plot\":{\"id\":\"13e42be1-c292-401b-b3a0-1328fce7c931\",\"subtype\":\"Figure\",\"type\":\"Plot\"},\"source\":{\"id\":\"ae3d8278-07f8-444d-b191-0629b5b30d4e\",\"type\":\"ColumnDataSource\"},\"text\":{\"field\":\"names\"},\"text_align\":\"center\",\"text_color\":{\"value\":\"#555555\"},\"text_font_size\":{\"value\":\"8pt\"},\"x\":{\"field\":\"x1\"},\"y\":{\"field\":\"x2\"},\"y_offset\":{\"value\":6}},\"id\":\"4d7b2ff9-109a-4323-9fe7-c03aba14514c\",\"type\":\"LabelSet\"},{\"attributes\":{\"source\":{\"id\":\"ae3d8278-07f8-444d-b191-0629b5b30d4e\",\"type\":\"ColumnDataSource\"}},\"id\":\"bef495bf-4dc1-44a1-b6d4-02193414606f\",\"type\":\"CDSView\"},{\"attributes\":{\"below\":[{\"id\":\"3bc64f2c-e56e-4af7-b3a9-10c86da4ad2b\",\"type\":\"LinearAxis\"}],\"left\":[{\"id\":\"d373b2d5-f6ac-400c-ae00-728d4eea4e39\",\"type\":\"LinearAxis\"}],\"renderers\":[{\"id\":\"3bc64f2c-e56e-4af7-b3a9-10c86da4ad2b\",\"type\":\"LinearAxis\"},{\"id\":\"2d0c20b5-0f43-4541-8f22-be5f4ef05686\",\"type\":\"Grid\"},{\"id\":\"d373b2d5-f6ac-400c-ae00-728d4eea4e39\",\"type\":\"LinearAxis\"},{\"id\":\"ee45f661-8f18-43ce-b645-b8394c2ef530\",\"type\":\"Grid\"},{\"id\":\"d6ab0437-c6fb-43ff-a5ac-0a72d5bd3c01\",\"type\":\"GlyphRenderer\"},{\"id\":\"4d7b2ff9-109a-4323-9fe7-c03aba14514c\",\"type\":\"LabelSet\"}],\"title\":{\"id\":\"1fcc17ab-597e-4eb7-a08a-d4027b041d7d\",\"type\":\"Title\"},\"toolbar\":{\"id\":\"2c1042f8-7f92-4218-b608-2b8bd3314485\",\"type\":\"Toolbar\"},\"toolbar_location\":\"above\",\"x_range\":{\"id\":\"8a5f3c26-2645-495b-9b14-0e1d15e7498b\",\"type\":\"DataRange1d\"},\"x_scale\":{\"id\":\"64782399-e3e6-46ab-ba16-21100e741f12\",\"type\":\"LinearScale\"},\"y_range\":{\"id\":\"e06f3524-65a9-4275-bef5-2da8b2b10028\",\"type\":\"DataRange1d\"},\"y_scale\":{\"id\":\"581d7b3e-4ccf-4968-a713-644a96c08cd4\",\"type\":\"LinearScale\"}},\"id\":\"13e42be1-c292-401b-b3a0-1328fce7c931\",\"subtype\":\"Figure\",\"type\":\"Plot\"},{\"attributes\":{},\"id\":\"7f3f2143-3293-41f4-9774-ca0f40a3e924\",\"type\":\"PanTool\"},{\"attributes\":{\"callback\":null,\"data\":{\"names\":[\"the\",\"of\",\"and\",\"in\",\"to\",\"a\",\"was\",\"s\",\"on\",\"as\",\"for\",\"that\",\"with\",\"by\",\"is\",\"his\",\"at\",\"he\",\"it\",\"from\",\"were\",\"an\",\"had\",\"which\",\"be\",\"this\",\"but\",\"are\",\"first\",\"not\",\"their\",\"after\",\"one\",\"her\",\"also\",\"its\",\"they\",\"two\",\"or\",\"have\",\"who\",\"new\",\"been\",\"has\",\"she\",\"when\",\"during\",\"time\",\"other\",\"would\",\"into\",\"all\",\"i\",\"more\",\"while\",\"over\",\"him\",\"game\",\"only\",\"later\",\"most\",\"up\",\"out\",\"three\",\"th\",\"about\",\"between\",\"there\",\"than\",\"some\",\"film\",\"may\",\"before\",\"year\",\"no\",\"made\",\"such\",\"second\",\"where\",\"season\",\"years\",\"world\",\"war\",\"then\",\"however\",\"used\",\"both\",\"being\",\"against\",\"them\",\"through\",\"song\",\"these\",\"series\",\"m\",\"album\",\"many\",\"city\",\"became\",\"can\",\"united\",\"well\",\"part\",\"team\",\"north\",\"number\",\"several\",\"including\",\"four\",\"under\",\"early\",\"state\",\"so\",\"south\",\"music\",\"episode\",\"day\",\"states\",\"following\",\"said\",\"known\",\"although\",\"could\",\"american\",\"did\",\"began\",\"work\",\"until\",\"because\",\"released\",\"t\",\"like\",\"called\",\"high\",\"people\",\"end\",\"british\",\"around\",\"since\",\"long\",\"national\",\"best\",\"if\",\"each\",\"found\",\"september\",\"million\",\"life\",\"same\",\"us\",\"another\",\"along\",\"five\",\"back\",\"west\",\"show\",\"any\",\"took\",\"use\",\"area\",\"group\",\"august\",\"km\",\"off\",\"received\",\"final\",\"you\",\"october\",\"century\",\"due\",\"what\",\"school\",\"june\",\"line\",\"john\",\"single\",\"system\",\"will\",\"east\",\"government\",\"home\",\"march\",\"july\",\"november\",\"set\",\"games\",\"much\",\"third\",\"large\",\"april\",\"based\",\"general\",\"york\",\"left\",\"major\",\"family\",\"down\",\"just\",\"place\",\"house\",\"december\",\"road\",\"name\",\"company\",\"played\",\"army\",\"january\",\"history\",\"king\",\"six\",\"we\",\"character\",\"included\",\"main\",\"wrote\",\"band\",\"now\",\"won\",\"led\",\"according\",\"near\",\"times\",\"d\",\"those\",\"men\",\"river\",\"last\",\"within\",\"de\",\"next\",\"battle\",\"death\",\"video\",\"described\",\"record\",\"own\",\"named\",\"release\",\"air\",\"way\",\"make\",\"still\",\"st\",\"original\",\"late\",\"man\",\"ship\",\"production\",\"top\",\"even\",\"very\",\"club\",\"february\",\"league\",\"small\",\"public\",\"storm\",\"route\",\"great\",\"species\",\"force\",\"old\",\"u\",\"built\",\"play\",\"days\",\"again\",\"though\",\"among\",\"held\",\"b\",\"book\",\"university\",\"division\",\"do\",\"service\",\"role\",\"further\",\"story\",\"match\",\"side\",\"members\",\"french\",\"white\",\"power\",\"having\",\"point\",\"career\",\"german\",\"player\",\"water\",\"often\",\"order\",\"h\",\"park\",\"local\",\"came\",\"former\",\"continued\",\"without\",\"half\",\"development\",\"black\",\"town\",\"despite\",\"considered\",\"version\",\"party\",\"england\",\"island\",\"take\",\"songs\",\"form\",\"moved\",\"few\",\"written\",\"support\",\"president\",\"c\",\"different\",\"county\",\"ii\",\"forces\",\"military\",\"building\",\"become\",\"country\",\"lost\",\"period\",\"international\",\"london\",\"given\",\"court\",\"english\",\"tropical\",\"little\",\"re\",\"attack\",\"n\",\"using\",\"tour\",\"similar\",\"church\",\"lead\",\"street\",\"gave\",\"returned\",\"my\",\"never\",\"published\",\"produced\",\"total\",\"performance\",\"short\",\"royal\",\"track\",\"position\",\"went\",\"class\",\"stated\",\"western\",\"live\",\"control\",\"how\",\"aircraft\",\"land\",\"children\",\"father\",\"television\",\"per\",\"ships\",\"fire\",\"star\",\"recorded\",\"good\",\"run\",\"include\",\"highway\",\"week\",\"women\",\"making\",\"right\",\"upon\",\"throughout\",\"himself\",\"head\",\"characters\",\"once\",\"me\",\"australia\",\"love\",\"central\",\"players\",\"light\",\"design\",\"across\",\"less\",\"young\",\"title\",\"months\",\"age\",\"away\",\"writing\",\"center\",\"previous\",\"instead\",\"r\",\"sea\",\"seven\",\"red\",\"law\",\"developed\",\"station\",\"rock\",\"night\",\"hurricane\",\"political\",\"remained\",\"died\",\"return\",\"eight\",\"ten\",\"ft\",\"southern\",\"e\",\"race\",\"office\",\"field\",\"various\",\"act\",\"college\",\"result\",\"eventually\",\"felt\",\"too\",\"william\",\"announced\",\"reported\",\"sent\",\"areas\",\"low\",\"win\",\"should\",\"award\",\"james\",\"noted\",\"son\",\"created\",\"america\",\"style\",\"reached\",\"served\",\"japanese\",\"construction\",\"performed\",\"miles\",\"able\",\"followed\",\"member\",\"killed\",\"points\",\"seen\",\"together\",\"level\",\"full\",\"mm\",\"range\",\"campaign\",\"body\",\"common\",\"taken\",\"northern\",\"works\",\"others\",\"located\",\"appeared\",\"bridge\",\"originally\",\"thought\",\"established\",\"success\",\"post\",\"project\",\"front\",\"special\",\"playing\",\"born\",\"chart\",\"stage\",\"george\",\"football\",\"australian\",\"features\",\"action\",\"addition\",\"added\",\"caused\",\"critics\",\"get\",\"fourth\",\"behind\",\"started\",\"rather\",\"formed\",\"feet\",\"important\",\"decided\",\"sold\",\"present\",\"opened\",\"go\",\"modern\",\"popular\",\"damage\",\"soon\",\"every\",\"population\",\"initially\",\"completed\",\"f\",\"see\",\"awards\",\"kingdom\",\"o\",\"strong\",\"david\",\"guns\",\"open\",\"almost\",\"site\",\"eastern\",\"championship\",\"non\",\"fleet\",\"heavy\",\"saw\",\"command\",\"close\",\"mother\",\"event\",\"director\",\"case\",\"towards\",\"leading\",\"ground\",\"worked\",\"art\",\"region\",\"working\",\"weeks\",\"free\",\"hall\",\"michael\",\"scored\",\"least\",\"france\",\"coast\",\"union\",\"l\",\"training\",\"provided\",\"wanted\",\"mi\",\"sound\",\"cup\",\"either\",\"brought\",\"ever\",\"featured\",\"put\",\"recording\",\"wife\",\"allowed\",\"washington\",\"scene\",\"help\",\"records\",\"navy\",\"generally\",\"magazine\",\"victory\",\"events\",\"hit\",\"council\",\"henry\",\"list\",\"troops\",\"co\",\"average\",\"does\",\"placed\",\"human\",\"mid\",\"opening\",\"runs\",\"far\",\"example\",\"studio\",\"police\",\"designed\",\"believed\",\"joined\",\"hours\",\"squadron\",\"summer\",\"start\",\"nine\",\"europe\",\"base\",\"brown\",\"finished\",\"replaced\",\"highest\",\"rest\",\"involved\",\"robert\",\"european\",\"radio\",\"al\",\"significant\",\"films\",\"possible\",\"earlier\",\"minutes\",\"met\",\"operation\",\"official\",\"month\",\"section\",\"successful\",\"largest\",\"beginning\",\"shot\",\"change\",\"captain\",\"x\",\"process\",\"association\",\"particularly\",\"society\",\"better\",\"saying\",\"media\",\"test\",\"available\",\"outside\",\"san\",\"research\",\"japan\",\"crew\",\"mph\",\"going\",\"cast\",\"units\",\"turned\",\"business\",\"must\",\"forced\",\"review\",\"ordered\",\"additional\",\"above\",\"taking\",\"community\",\"move\",\"relationship\",\"increased\",\"social\",\"real\",\"big\",\"appearance\",\"goal\",\"stone\",\"thus\",\"passed\",\"come\",\"middle\",\"lower\",\"directed\",\"elements\",\"program\",\"signed\",\"charles\",\"spent\",\"reviews\",\"praised\",\"infantry\",\"enough\",\"ended\",\"future\",\"space\",\"type\",\"hill\",\"board\",\"previously\",\"staff\",\"g\",\"brother\",\"give\",\"required\",\"chief\",\"canada\",\"gold\",\"paul\",\"interest\",\"california\",\"castle\",\"committee\",\"rights\",\"cross\",\"winds\",\"gun\",\"musical\",\"round\",\"parts\",\"asked\",\"positive\",\"failed\",\"don\",\"district\",\"female\",\"room\",\"term\",\"evidence\",\"lake\",\"told\",\"lines\",\"groups\",\"thomas\",\"whom\",\"critical\",\"sometimes\",\"money\",\"grand\",\"overall\",\"india\",\"education\",\"our\",\"find\",\"itself\",\"prior\",\"battalion\",\"attempt\",\"reception\",\"study\",\"green\",\"germany\",\"uk\",\"personal\",\"plan\",\"entire\",\"background\",\"effects\",\"smith\",\"quickly\",\"election\",\"news\",\"claimed\",\"v\",\"usually\",\"plot\",\"stars\",\"square\",\"introduced\",\"cover\",\"governor\",\"already\",\"blue\",\"past\",\"hand\",\"whose\",\"score\",\"bill\",\"person\",\"idea\",\"p\",\"complete\",\"debut\",\"indian\",\"k\",\"services\",\"port\",\"speed\",\"commander\",\"surface\",\"loss\",\"students\",\"minister\",\"limited\",\"arrived\",\"writer\",\"press\",\"issue\",\"decision\",\"britain\",\"response\",\"food\",\"pressure\",\"department\",\"ny\",\"episodes\",\"teams\",\"queen\",\"turn\",\"structure\",\"science\",\"virginia\",\"mark\",\"novel\",\"flight\",\"carried\",\"defeated\",\"voice\",\"anti\",\"industry\",\"los\",\"shows\",\"operations\",\"village\",\"movement\",\"latter\",\"becoming\",\"peter\",\"leaving\",\"appointed\",\"richard\",\"earth\",\"report\",\"estimated\",\"god\",\"civil\",\"living\",\"larger\",\"remaining\",\"bay\",\"winning\",\"proposed\",\"fifth\",\"length\",\"material\",\"especially\",\"la\",\"view\",\"might\",\"car\",\"commercial\",\"influence\",\"daughter\",\"experience\",\"date\",\"naval\",\"immediately\",\"cut\",\"hot\",\"scenes\",\"centre\",\"running\",\"woman\",\"entered\",\"nearly\",\"today\",\"changes\",\"depression\",\"shortly\",\"producer\",\"course\",\"self\",\"leader\",\"railway\",\"nd\",\"suggested\",\"cost\",\"contract\",\"dark\",\"supported\",\"network\",\"approximately\",\"ball\",\"higher\",\"officer\",\"empire\",\"compared\",\"agreed\",\"islands\",\"brigade\",\"provide\",\"tracks\",\"health\",\"percent\",\"current\",\"spanish\",\"intended\",\"fact\",\"child\",\"subsequently\",\"fans\",\"wide\",\"chicago\",\"nature\",\"size\",\"finally\",\"pop\",\"friends\",\"destroyed\",\"something\",\"planned\",\"manager\",\"language\",\"regular\",\"awarded\",\"trade\",\"appear\",\"museum\",\"private\",\"guitar\",\"soviet\",\"professional\",\"done\",\"helped\",\"corps\",\"related\",\"effect\",\"mostly\",\"longer\",\"lack\",\"billboard\",\"face\",\"create\",\"chinese\",\"your\",\"upper\",\"ran\",\"changed\",\"soldiers\",\"lyrics\",\"extended\",\"whether\",\"information\",\"federal\",\"plans\",\"jackson\",\"moving\",\"singles\",\"officers\",\"lord\",\"regiment\",\"mixed\",\"leave\",\"status\",\"key\",\"forward\",\"initial\",\"via\",\"pacific\",\"yet\",\"natural\",\"remains\",\"fort\",\"singer\",\"conference\",\"atlantic\",\"married\",\"minor\",\"really\",\"probably\",\"edward\",\"themselves\",\"edition\",\"captured\",\"location\",\"countries\",\"independent\",\"fight\",\"johnson\",\"know\",\"associated\",\"always\",\"numerous\",\"buildings\",\"pre\",\"energy\",\"suffered\",\"difficult\",\"issued\",\"dead\",\"texas\",\"inspired\",\"allow\",\"cm\",\"damaged\",\"includes\",\"copies\",\"valley\",\"feature\",\"problems\",\"pass\",\"wind\",\"likely\",\"unit\",\"dance\"],\"x1\":{\"__ndarray__\":\"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\",\"dtype\":\"float32\",\"shape\":[1000]},\"x2\":{\"__ndarray__\":\"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\",\"dtype\":\"float32\",\"shape\":[1000]}},\"selected\":{\"id\":\"eb4c019a-db79-4547-8ffb-829279b8e781\",\"type\":\"Selection\"},\"selection_policy\":{\"id\":\"91020366-1cfb-460d-8176-1268da924dd1\",\"type\":\"UnionRenderers\"}},\"id\":\"ae3d8278-07f8-444d-b191-0629b5b30d4e\",\"type\":\"ColumnDataSource\"},{\"attributes\":{\"fill_color\":{\"value\":\"#1f77b4\"},\"line_color\":{\"value\":\"#1f77b4\"},\"size\":{\"units\":\"screen\",\"value\":8},\"x\":{\"field\":\"x1\"},\"y\":{\"field\":\"x2\"}},\"id\":\"32242ebe-f097-4961-b71d-99142da737fa\",\"type\":\"Circle\"},{\"attributes\":{},\"id\":\"025d1294-c06b-40ec-abea-8fd87ba63170\",\"type\":\"WheelZoomTool\"},{\"attributes\":{\"plot\":null,\"text\":\"word2vec T-SNE for most common words\"},\"id\":\"1fcc17ab-597e-4eb7-a08a-d4027b041d7d\",\"type\":\"Title\"},{\"attributes\":{},\"id\":\"a9e8cf67-20a9-4364-8bef-db67ceff88b7\",\"type\":\"ResetTool\"},{\"attributes\":{\"callback\":null},\"id\":\"8a5f3c26-2645-495b-9b14-0e1d15e7498b\",\"type\":\"DataRange1d\"},{\"attributes\":{},\"id\":\"d7093e88-3c01-4bb7-87bc-2dcf3d16e52d\",\"type\":\"SaveTool\"},{\"attributes\":{\"active_drag\":\"auto\",\"active_inspect\":\"auto\",\"active_multi\":null,\"active_scroll\":\"auto\",\"active_tap\":\"auto\",\"tools\":[{\"id\":\"7f3f2143-3293-41f4-9774-ca0f40a3e924\",\"type\":\"PanTool\"},{\"id\":\"025d1294-c06b-40ec-abea-8fd87ba63170\",\"type\":\"WheelZoomTool\"},{\"id\":\"a9e8cf67-20a9-4364-8bef-db67ceff88b7\",\"type\":\"ResetTool\"},{\"id\":\"d7093e88-3c01-4bb7-87bc-2dcf3d16e52d\",\"type\":\"SaveTool\"}]},\"id\":\"2c1042f8-7f92-4218-b608-2b8bd3314485\",\"type\":\"Toolbar\"},{\"attributes\":{},\"id\":\"91020366-1cfb-460d-8176-1268da924dd1\",\"type\":\"UnionRenderers\"},{\"attributes\":{\"data_source\":{\"id\":\"ae3d8278-07f8-444d-b191-0629b5b30d4e\",\"type\":\"ColumnDataSource\"},\"glyph\":{\"id\":\"32242ebe-f097-4961-b71d-99142da737fa\",\"type\":\"Circle\"},\"hover_glyph\":null,\"muted_glyph\":null,\"nonselection_glyph\":{\"id\":\"2a540ef0-9c54-4634-b53d-eb8bb40fc59c\",\"type\":\"Circle\"},\"selection_glyph\":null,\"view\":{\"id\":\"bef495bf-4dc1-44a1-b6d4-02193414606f\",\"type\":\"CDSView\"}},\"id\":\"d6ab0437-c6fb-43ff-a5ac-0a72d5bd3c01\",\"type\":\"GlyphRenderer\"},{\"attributes\":{\"fill_alpha\":{\"value\":0.1},\"fill_color\":{\"value\":\"#1f77b4\"},\"line_alpha\":{\"value\":0.1},\"line_color\":{\"value\":\"#1f77b4\"},\"size\":{\"units\":\"screen\",\"value\":8},\"x\":{\"field\":\"x1\"},\"y\":{\"field\":\"x2\"}},\"id\":\"2a540ef0-9c54-4634-b53d-eb8bb40fc59c\",\"type\":\"Circle\"},{\"attributes\":{},\"id\":\"64782399-e3e6-46ab-ba16-21100e741f12\",\"type\":\"LinearScale\"}],\"root_ids\":[\"13e42be1-c292-401b-b3a0-1328fce7c931\"]},\"title\":\"Bokeh Application\",\"version\":\"0.13.0\"}};\n",
       "  var render_items = [{\"docid\":\"676429b3-3045-47a2-9174-cf9693afd7bf\",\"roots\":{\"13e42be1-c292-401b-b3a0-1328fce7c931\":\"2957876d-b55e-423d-823d-4ea6fd286b3a\"}}];\n",
       "  root.Bokeh.embed.embed_items_notebook(docs_json, render_items);\n",
       "\n",
       "  }\n",
       "  if (root.Bokeh !== undefined) {\n",
       "    embed_document(root);\n",
       "  } else {\n",
       "    var attempts = 0;\n",
       "    var timer = setInterval(function(root) {\n",
       "      if (root.Bokeh !== undefined) {\n",
       "        embed_document(root);\n",
       "        clearInterval(timer);\n",
       "      }\n",
       "      attempts++;\n",
       "      if (attempts > 100) {\n",
       "        console.log(\"Bokeh: ERROR: Unable to run BokehJS code because BokehJS library is missing\")\n",
       "        clearInterval(timer);\n",
       "      }\n",
       "    }, 10, root)\n",
       "  }\n",
       "})(window);"
      ],
      "application/vnd.bokehjs_exec.v0+json": ""
     },
     "metadata": {
      "application/vnd.bokehjs_exec.v0+json": {
       "id": "13e42be1-c292-401b-b3a0-1328fce7c931"
      }
     },
     "output_type": "display_data"
    }
   ],
   "source": [
    "p = figure(tools=\"pan,wheel_zoom,reset,save\",\n",
    "           toolbar_location=\"above\",\n",
    "           title=\"word2vec T-SNE for most common words\")\n",
    "\n",
    "source = ColumnDataSource(data=dict(x1=words_top_wiki_tsne[:,0],\n",
    "                                    x2=words_top_wiki_tsne[:,1],\n",
    "                                    names=words_top_wiki))\n",
    "\n",
    "p.scatter(x=\"x1\", y=\"x2\", size=8, source=source)\n",
    "\n",
    "labels = LabelSet(x=\"x1\", y=\"x2\", text=\"names\", y_offset=6,\n",
    "                  text_font_size=\"8pt\", text_color=\"#555555\",\n",
    "                  source=source, text_align='center')\n",
    "p.add_layout(labels)\n",
    "\n",
    "show(p)"
   ]
  },
  {
   "cell_type": "code",
   "execution_count": null,
   "metadata": {},
   "outputs": [],
   "source": []
  }
 ],
 "metadata": {
  "anaconda-cloud": {},
  "kernelspec": {
   "display_name": "Python 3",
   "language": "python",
   "name": "python3"
  },
  "language_info": {
   "codemirror_mode": {
    "name": "ipython",
    "version": 3
   },
   "file_extension": ".py",
   "mimetype": "text/x-python",
   "name": "python",
   "nbconvert_exporter": "python",
   "pygments_lexer": "ipython3",
   "version": "3.6.6"
  }
 },
 "nbformat": 4,
 "nbformat_minor": 1
}
