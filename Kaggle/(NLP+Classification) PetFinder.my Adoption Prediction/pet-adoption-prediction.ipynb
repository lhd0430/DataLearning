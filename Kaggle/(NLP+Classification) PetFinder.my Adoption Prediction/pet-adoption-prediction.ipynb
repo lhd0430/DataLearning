{
 "cells": [
  {
   "cell_type": "markdown",
   "metadata": {},
   "source": [
    "## 1. Data Overview\n",
    "\n",
    "Refer to the competition page for details: https://www.kaggle.com/c/petfinder-adoption-prediction/data"
   ]
  },
  {
   "cell_type": "code",
   "execution_count": 1,
   "metadata": {},
   "outputs": [],
   "source": [
    "# Libraries\n",
    "import glob\n",
    "import os\n",
    "import json\n",
    "import matplotlib.pyplot as plt\n",
    "import numpy as np\n",
    "import pandas as pd\n",
    "from joblib import Parallel, delayed\n",
    "import gensim\n",
    "import lightgbm as lgb\n",
    "\n",
    "%matplotlib inline"
   ]
  },
  {
   "cell_type": "markdown",
   "metadata": {},
   "source": [
    "## 2. Data import\n",
    "\n"
   ]
  },
  {
   "cell_type": "code",
   "execution_count": 2,
   "metadata": {},
   "outputs": [],
   "source": [
    "# Helper functions\n",
    "def get_file_names(cat1='train',cat2='metadata'):\n",
    "    path = '../input/petfinder-adoption-prediction/'+cat1+'_'+cat2+'/*.json'\n",
    "    col_name = cat2+'_filename'\n",
    "    fileNames = sorted(glob.glob(path))\n",
    "    df_fileNames = pd.DataFrame({col_name:fileNames})\n",
    "    df_fileNames['PetID'] = df_fileNames[col_name].apply(lambda x: x.split('/')[-1].split('-')[0])\n",
    "    return df_fileNames\n",
    "\n",
    "\n",
    "def parse_metadata(filename):\n",
    "    with open(filename, 'r') as f:\n",
    "        file = json.load(f)\n",
    "\n",
    "        file_keys = list(file.keys())\n",
    "\n",
    "        if 'labelAnnotations' in file_keys:\n",
    "            file_annots = file['labelAnnotations'][:int(len(file['labelAnnotations']) * 0.3)]\n",
    "            file_top_score = np.asarray([x['score'] for x in file_annots]).mean()\n",
    "            file_top_desc = [x['description'] for x in file_annots]\n",
    "        else:\n",
    "            file_top_score = np.nan\n",
    "            file_top_desc = ['']\n",
    "\n",
    "        file_colors = file['imagePropertiesAnnotation']['dominantColors']['colors']\n",
    "        file_crops = file['cropHintsAnnotation']['cropHints']\n",
    "\n",
    "        file_color_score = np.asarray([x['score'] for x in file_colors]).mean()\n",
    "        file_color_pixelfrac = np.asarray([x['pixelFraction'] for x in file_colors]).mean()\n",
    "\n",
    "        file_crop_conf = np.asarray([x['confidence'] for x in file_crops]).mean()\n",
    "\n",
    "        if 'importanceFraction' in file_crops[0].keys():\n",
    "            file_crop_importance = np.asarray([x['importanceFraction'] for x in file_crops]).mean()\n",
    "        else:\n",
    "            file_crop_importance = np.nan\n",
    "\n",
    "        df_metadata = {\n",
    "            'annots_score': file_top_score,\n",
    "            'color_score': file_color_score,\n",
    "            'color_pixelfrac': file_color_pixelfrac,\n",
    "            'crop_conf': file_crop_conf,\n",
    "            'crop_importance': file_crop_importance,\n",
    "            'annots_top_desc': ' '.join(file_top_desc)\n",
    "        }\n",
    "\n",
    "        df_metadata = pd.DataFrame(df_metadata,index=[0])\n",
    "\n",
    "        return df_metadata\n",
    "        \n",
    "        \n",
    "def parse_sentiment(filename):\n",
    "    with open(filename, 'r') as f:\n",
    "        file = json.load(f)\n",
    "        \n",
    "        file_sentiment_magnitude = file['documentSentiment']['magnitude']\n",
    "        file_sentiment_score = file['documentSentiment']['score']\n",
    "        file_entities = [x['name'] for x in file['entities']]\n",
    "        file_entities = ' '.join(file_entities)\n",
    "        \n",
    "        df_sentiment = {\n",
    "            'sentiment_magnitude': file_sentiment_magnitude,\n",
    "            'sentiment_score': file_sentiment_score,\n",
    "            'entities': file_entities\n",
    "        }\n",
    "        \n",
    "        df_sentiment = pd.DataFrame(df_sentiment,index=[0])\n",
    "\n",
    "        return df_sentiment"
   ]
  },
  {
   "cell_type": "code",
   "execution_count": 3,
   "metadata": {},
   "outputs": [
    {
     "name": "stderr",
     "output_type": "stream",
     "text": [
      "[Parallel(n_jobs=6)]: Using backend LokyBackend with 6 concurrent workers.\n",
      "[Parallel(n_jobs=6)]: Done  43 tasks      | elapsed:    2.1s\n",
      "[Parallel(n_jobs=6)]: Done 3094 tasks      | elapsed:    6.5s\n",
      "[Parallel(n_jobs=6)]: Done 8594 tasks      | elapsed:   14.2s\n",
      "[Parallel(n_jobs=6)]: Done 16294 tasks      | elapsed:   25.0s\n",
      "[Parallel(n_jobs=6)]: Done 26194 tasks      | elapsed:   38.8s\n",
      "[Parallel(n_jobs=6)]: Done 38294 tasks      | elapsed:   56.2s\n",
      "[Parallel(n_jobs=6)]: Done 52594 tasks      | elapsed:  1.3min\n",
      "[Parallel(n_jobs=6)]: Done 58311 out of 58311 | elapsed:  1.4min finished\n",
      "[Parallel(n_jobs=6)]: Using backend LokyBackend with 6 concurrent workers.\n",
      "[Parallel(n_jobs=6)]: Done 328 tasks      | elapsed:    0.8s\n",
      "[Parallel(n_jobs=6)]: Done 6028 tasks      | elapsed:    8.6s\n",
      "[Parallel(n_jobs=6)]: Done 14465 out of 14465 | elapsed:   20.1s finished\n",
      "[Parallel(n_jobs=6)]: Using backend LokyBackend with 6 concurrent workers.\n",
      "[Parallel(n_jobs=6)]: Done 692 tasks      | elapsed:    1.1s\n",
      "[Parallel(n_jobs=6)]: Done 6692 tasks      | elapsed:    8.3s\n",
      "[Parallel(n_jobs=6)]: Done 14442 out of 14442 | elapsed:   18.0s finished\n",
      "[Parallel(n_jobs=6)]: Using backend LokyBackend with 6 concurrent workers.\n",
      "[Parallel(n_jobs=6)]: Done 884 tasks      | elapsed:    1.4s\n",
      "[Parallel(n_jobs=6)]: Done 3865 out of 3865 | elapsed:    4.8s finished\n"
     ]
    }
   ],
   "source": [
    "# Tables from csv\n",
    "df_train = pd.read_csv('../input/petfinder-adoption-prediction/train/train.csv')\n",
    "df_test = pd.read_csv('../input/petfinder-adoption-prediction/test/test.csv')\n",
    "\n",
    "# Labels from csv\n",
    "df_breed = pd.read_csv('../input/petfinder-adoption-prediction/breed_labels.csv')\n",
    "df_color = pd.read_csv('../input/petfinder-adoption-prediction/color_labels.csv')\n",
    "df_state = pd.read_csv('../input/petfinder-adoption-prediction/state_labels.csv')\n",
    "\n",
    "# Image metadata from json\n",
    "train_metadata = get_file_names(cat1='train',cat2='metadata')\n",
    "test_metadata = get_file_names(cat1='test',cat2='metadata')\n",
    "train_metadata_parse = Parallel(n_jobs=6, verbose=1)(delayed(parse_metadata)(f) for f in train_metadata['metadata_filename'].values)\n",
    "train_metadata_parse = pd.concat(train_metadata_parse, ignore_index=True, sort=False)\n",
    "test_metadata_parse = Parallel(n_jobs=6, verbose=1)(delayed(parse_metadata)(f) for f in test_metadata['metadata_filename'].values)\n",
    "test_metadata_parse = pd.concat(test_metadata_parse, ignore_index=True, sort=False)\n",
    "df_train_metadata = pd.concat([train_metadata,train_metadata_parse],axis=1)\n",
    "df_test_metadata = pd.concat([test_metadata,test_metadata_parse],axis=1)\n",
    "\n",
    "# Sentiment data from json\n",
    "train_sentiment = get_file_names(cat1='train',cat2='sentiment')\n",
    "test_sentiment = get_file_names(cat1='test',cat2='sentiment')\n",
    "train_sentiment_parse = Parallel(n_jobs=6, verbose=1)(delayed(parse_sentiment)(f) for f in train_sentiment['sentiment_filename'].values)\n",
    "train_sentiment_parse = pd.concat(train_sentiment_parse, ignore_index=True, sort=False)\n",
    "test_sentiment_parse = Parallel(n_jobs=6, verbose=1)(delayed(parse_sentiment)(f) for f in test_sentiment['sentiment_filename'].values)\n",
    "test_sentiment_parse = pd.concat(test_sentiment_parse, ignore_index=True, sort=False)\n",
    "df_train_sentiment = pd.concat([train_sentiment,train_sentiment_parse],axis=1)\n",
    "df_test_sentiment = pd.concat([test_sentiment,test_sentiment_parse],axis=1)"
   ]
  },
  {
   "cell_type": "markdown",
   "metadata": {},
   "source": [
    "## 3. Data processing\n"
   ]
  },
  {
   "cell_type": "markdown",
   "metadata": {},
   "source": [
    "### 3.1 Check data types for columns\n",
    "From the output, we only need to encode annots_top_desc from metadata and entities from sentiment. \n",
    "\n",
    "We will apply LDA for encoding the text."
   ]
  },
  {
   "cell_type": "code",
   "execution_count": 4,
   "metadata": {},
   "outputs": [
    {
     "name": "stdout",
     "output_type": "stream",
     "text": [
      "Type               int64\n",
      "Name              object\n",
      "Age                int64\n",
      "Breed1             int64\n",
      "Breed2             int64\n",
      "Gender             int64\n",
      "Color1             int64\n",
      "Color2             int64\n",
      "Color3             int64\n",
      "MaturitySize       int64\n",
      "FurLength          int64\n",
      "Vaccinated         int64\n",
      "Dewormed           int64\n",
      "Sterilized         int64\n",
      "Health             int64\n",
      "Quantity           int64\n",
      "Fee                int64\n",
      "State              int64\n",
      "RescuerID         object\n",
      "VideoAmt           int64\n",
      "Description       object\n",
      "PetID             object\n",
      "PhotoAmt         float64\n",
      "AdoptionSpeed      int64\n",
      "dtype: object\n",
      "annots_score       float64\n",
      "color_score        float64\n",
      "color_pixelfrac    float64\n",
      "crop_conf          float64\n",
      "crop_importance    float64\n",
      "annots_top_desc     object\n",
      "dtype: object\n",
      "sentiment_magnitude    float64\n",
      "sentiment_score        float64\n",
      "entities                object\n",
      "dtype: object\n"
     ]
    }
   ],
   "source": [
    "print(df_train.dtypes)\n",
    "print(train_metadata_parse.dtypes)\n",
    "print(train_sentiment_parse.dtypes)"
   ]
  },
  {
   "cell_type": "code",
   "execution_count": 5,
   "metadata": {},
   "outputs": [],
   "source": [
    "# Helper functions\n",
    "def encodeText(tokens,num_topics=3,passes=5,chunksize=100,alpha=1/50,seed=13):\n",
    "    # Create Gensim dic from the tokens\n",
    "    lda_dic = gensim.corpora.Dictionary(tokens)\n",
    "\n",
    "    # Create corpus from the dic\n",
    "    lda_corpus = [lda_dic.doc2bow(doc) for doc in tokens]\n",
    "\n",
    "    # Create tf-idf from corpus\n",
    "    tfidf = gensim.models.TfidfModel(lda_corpus)\n",
    "    tfidf_corpus = tfidf[lda_corpus]\n",
    "\n",
    "    # Train model\n",
    "    lda_model = gensim.models.ldamodel.LdaModel(tfidf_corpus, num_topics=num_topics, \\\n",
    "                                                id2word = lda_dic, passes=passes,\\\n",
    "                                                chunksize=chunksize,update_every=0,\\\n",
    "                                                alpha=alpha, random_state=seed)\n",
    "    # Topic distribution\n",
    "    vec_lda = lda_model[tfidf_corpus]\n",
    "    \n",
    "    return vec_lda\n",
    "\n",
    "def formatEncode(vec,num_topics):\n",
    "    \"\"\"vec: a list of tuples (topic_id,score)\"\"\"\n",
    "    if len(vec)<num_topics:\n",
    "        topic_ids = {x[0] for x in vec}\n",
    "        topics_diff = set(range(num_topics))-topic_ids\n",
    "        vec += [(x,0) for x in topics_diff]\n",
    "    vec.sort(key=lambda x: x[0])\n",
    "    vec=[x[1] for x in vec]\n",
    "    return vec\n",
    "\n",
    "def splitEncodeCol(df,col):\n",
    "    col_names = [col+str(x) for x in range(len(df[col][0]))]\n",
    "    return pd.concat([df,pd.DataFrame(list(df[col]),columns=col_names)],axis=1)"
   ]
  },
  {
   "cell_type": "markdown",
   "metadata": {},
   "source": [
    "### 3.2 Encode metadata\n",
    "\n"
   ]
  },
  {
   "cell_type": "code",
   "execution_count": 6,
   "metadata": {},
   "outputs": [],
   "source": [
    "df_train_metadata['annots_top_desc_encode'] = list(encodeText(df_train_metadata['annots_top_desc'].str.split()))\n",
    "df_test_metadata['annots_top_desc_encode'] = list(encodeText(df_test_metadata['annots_top_desc'].str.split()))\n",
    "df_train_metadata['annots_top_desc_encode'] = df_train_metadata['annots_top_desc_encode'].apply(lambda x: formatEncode(x,3))\n",
    "df_test_metadata['annots_top_desc_encode'] = df_test_metadata['annots_top_desc_encode'].apply(lambda x: formatEncode(x,3))\n",
    "df_train_metadata = splitEncodeCol(df_train_metadata,'annots_top_desc_encode')\n",
    "df_test_metadata = splitEncodeCol(df_test_metadata,'annots_top_desc_encode')"
   ]
  },
  {
   "cell_type": "markdown",
   "metadata": {},
   "source": [
    "### 3.3 Encode sentiment"
   ]
  },
  {
   "cell_type": "code",
   "execution_count": 7,
   "metadata": {},
   "outputs": [],
   "source": [
    "sentiment_topics = 5\n",
    "df_train_sentiment['entities_encode'] = list(encodeText(df_train_sentiment['entities'].str.split(),num_topics=sentiment_topics))\n",
    "df_test_sentiment['entities_encode'] = list(encodeText(df_test_sentiment['entities'].str.split(),num_topics=sentiment_topics))\n",
    "df_train_sentiment['entities_encode'] = df_train_sentiment['entities_encode'].apply(lambda x: formatEncode(x,sentiment_topics))\n",
    "df_test_sentiment['entities_encode'] = df_test_sentiment['entities_encode'].apply(lambda x: formatEncode(x,sentiment_topics))\n",
    "df_train_sentiment = splitEncodeCol(df_train_sentiment,'entities_encode')\n",
    "df_test_sentiment = splitEncodeCol(df_test_sentiment,'entities_encode')"
   ]
  },
  {
   "cell_type": "markdown",
   "metadata": {},
   "source": [
    "## 4. EDA\n",
    "\n",
    "Adoption speed in terms of:\n",
    "\n",
    "Type,Age,Breed1,Gender,Color1,MaturitySize,FurLength,Vaccinated,Dewormed,Sterilized,Health,Fee,State,VideoAmt,PhotoAmt\n",
    "\n",
    "We show the distribution for cat and dog separately."
   ]
  },
  {
   "cell_type": "code",
   "execution_count": 8,
   "metadata": {},
   "outputs": [
    {
     "name": "stdout",
     "output_type": "stream",
     "text": [
      "Index(['Name', 'Description'], dtype='object')\n"
     ]
    }
   ],
   "source": [
    "# Check for missing data\n",
    "print(df_train.columns[np.sum(df_train.isnull())>0])\n",
    "# Get index\n",
    "cat_idx = df_train['Type']==1.0\n",
    "dog_idx = df_train['Type']==2.0"
   ]
  },
  {
   "cell_type": "code",
   "execution_count": 9,
   "metadata": {},
   "outputs": [],
   "source": [
    "# Helper functions\n",
    "def getTop(col,top_num):\n",
    "    df_train[cat_idx].groupby(col)['AdoptionSpeed'].mean().sort_values().head(top_num).plot.barh()\n",
    "    plt.subplots()\n",
    "    df_train[dog_idx].groupby(col)['AdoptionSpeed'].mean().sort_values().head(top_num).plot.barh()\n",
    "    plt.show()\n",
    "    \n",
    "def barCol(col,c):\n",
    "    d={}\n",
    "    d.update({('cat'+str(x)): df_train.loc[df_train[col]==x & cat_idx].groupby('AdoptionSpeed').count()[col] for x in c})\n",
    "    d.update({('dog'+str(x)): df_train.loc[df_train[col]==x & dog_idx].groupby('AdoptionSpeed').count()[col] for x in c})\n",
    "    pd.DataFrame(d).plot.bar()\n",
    "    plt.show()\n",
    "    \n",
    "def boxCol(col):\n",
    "    fig,(ax1,ax2) = plt.subplots(1,2)\n",
    "    temp=[df_train[col][df_train['AdoptionSpeed']==x & cat_idx] for x in df_train['AdoptionSpeed'].unique()]\n",
    "    ax1.boxplot(temp, showfliers=False)\n",
    "    temp=[df_train[col][df_train['AdoptionSpeed']==x & dog_idx] for x in df_train['AdoptionSpeed'].unique()]\n",
    "    ax2.boxplot(temp, showfliers=False)\n",
    "    plt.show()"
   ]
  },
  {
   "cell_type": "code",
   "execution_count": 10,
   "metadata": {},
   "outputs": [
    {
     "data": {
      "image/png": "[encoded data removed]",
      "text/plain": [
       "<Figure size 432x288 with 1 Axes>"
      ]
     },
     "metadata": {
      "needs_background": "light"
     },
     "output_type": "display_data"
    }
   ],
   "source": [
    "# Overall adoption\n",
    "pd.DataFrame({'cat': df_train['AdoptionSpeed'][cat_idx].value_counts().sort_index(),\\\n",
    "           'dog': df_train['AdoptionSpeed'][dog_idx].value_counts().sort_index()}).\\\n",
    "            plot.bar()\n",
    "plt.show()"
   ]
  },
  {
   "cell_type": "code",
   "execution_count": 11,
   "metadata": {},
   "outputs": [
    {
     "data": {
      "image/png": "[encoded data removed]",
      "text/plain": [
       "<Figure size 432x288 with 2 Axes>"
      ]
     },
     "metadata": {
      "needs_background": "light"
     },
     "output_type": "display_data"
    }
   ],
   "source": [
    "# Age\n",
    "boxCol('Age')"
   ]
  },
  {
   "cell_type": "code",
   "execution_count": 12,
   "metadata": {},
   "outputs": [
    {
     "data": {
      "image/png": "[encoded data removed]",
      "text/plain": [
       "<Figure size 432x288 with 1 Axes>"
      ]
     },
     "metadata": {
      "needs_background": "light"
     },
     "output_type": "display_data"
    },
    {
     "data": {
      "image/png": "[encoded data removed]",
      "text/plain": [
       "<Figure size 432x288 with 1 Axes>"
      ]
     },
     "metadata": {
      "needs_background": "light"
     },
     "output_type": "display_data"
    }
   ],
   "source": [
    "# Breed1 (top adoption)\n",
    "getTop('Breed1',10)"
   ]
  },
  {
   "cell_type": "code",
   "execution_count": 13,
   "metadata": {},
   "outputs": [
    {
     "data": {
      "image/png": "[encoded data removed]",
      "text/plain": [
       "<Figure size 432x288 with 1 Axes>"
      ]
     },
     "metadata": {
      "needs_background": "light"
     },
     "output_type": "display_data"
    }
   ],
   "source": [
    "# Gender\n",
    "barCol('Gender',[1,2,3])"
   ]
  },
  {
   "cell_type": "code",
   "execution_count": 14,
   "metadata": {},
   "outputs": [
    {
     "data": {
      "image/png": "[encoded data removed]",
      "text/plain": [
       "<Figure size 432x288 with 1 Axes>"
      ]
     },
     "metadata": {
      "needs_background": "light"
     },
     "output_type": "display_data"
    },
    {
     "data": {
      "image/png": "[encoded data removed]",
      "text/plain": [
       "<Figure size 432x288 with 1 Axes>"
      ]
     },
     "metadata": {
      "needs_background": "light"
     },
     "output_type": "display_data"
    }
   ],
   "source": [
    "# Color1\n",
    "getTop('Color1',3)"
   ]
  },
  {
   "cell_type": "code",
   "execution_count": 15,
   "metadata": {},
   "outputs": [
    {
     "data": {
      "image/png": "[encoded data removed]",
      "text/plain": [
       "<Figure size 432x288 with 2 Axes>"
      ]
     },
     "metadata": {
      "needs_background": "light"
     },
     "output_type": "display_data"
    }
   ],
   "source": [
    "# PhotoAmt\n",
    "boxCol('PhotoAmt')"
   ]
  },
  {
   "cell_type": "code",
   "execution_count": 16,
   "metadata": {},
   "outputs": [
    {
     "data": {
      "image/png": "[encoded data removed]",
      "text/plain": [
       "<Figure size 432x288 with 2 Axes>"
      ]
     },
     "metadata": {
      "needs_background": "light"
     },
     "output_type": "display_data"
    }
   ],
   "source": [
    "# PhotoAmt\n",
    "boxCol('VideoAmt')"
   ]
  },
  {
   "cell_type": "markdown",
   "metadata": {},
   "source": [
    "## 5. LGBM Model"
   ]
  },
  {
   "cell_type": "markdown",
   "metadata": {},
   "source": [
    "### 5.1 Prepare data"
   ]
  },
  {
   "cell_type": "code",
   "execution_count": 17,
   "metadata": {},
   "outputs": [],
   "source": [
    "# Merge data\n",
    "dfTemp_train = df_train.merge(df_train_sentiment,on='PetID',how='left')\n",
    "dfTemp_train = dfTemp_train.merge(df_train_metadata,left_on='PetID',right_on='PetID',how='left',suffixes=(False, False))\n",
    "dfTemp_test = df_test.merge(df_test_sentiment,on='PetID',how='left')\n",
    "dfTemp_test = dfTemp_test.merge(df_test_metadata,left_on='PetID',right_on='PetID',how='left',suffixes=(False, False))\n"
   ]
  },
  {
   "cell_type": "code",
   "execution_count": 18,
   "metadata": {},
   "outputs": [],
   "source": [
    "# Remove unnecessary columns\n",
    "remove_cols = ['Name','RescuerID','Description','PetID','sentiment_filename','entities','entities_encode',\\\n",
    "              'metadata_filename','annots_top_desc','annots_top_desc_encode']\n",
    "\n",
    "X_train = dfTemp_train.drop(columns=remove_cols)\n",
    "X_test = dfTemp_test.drop(columns=remove_cols)"
   ]
  },
  {
   "cell_type": "code",
   "execution_count": 19,
   "metadata": {},
   "outputs": [],
   "source": [
    "# Convert to lgb dataset\n",
    "n=1000\n",
    "train_data = lgb.Dataset(data=X_train.iloc[:n].drop(columns=['AdoptionSpeed']),label=X_train['AdoptionSpeed'][:n])"
   ]
  },
  {
   "cell_type": "markdown",
   "metadata": {},
   "source": [
    "### 5.2 Train Model"
   ]
  },
  {
   "cell_type": "code",
   "execution_count": 20,
   "metadata": {},
   "outputs": [],
   "source": [
    "# Helper functions\n",
    "def getRMSE(max_depth,min_data_in_leaf,mode='cv'):\n",
    "    \"\"\"p=(max_depth,min_data_in_leaf)\"\"\"\n",
    "    \n",
    "    params = {'application': 'regression',\n",
    "          'boosting': 'gbdt',\n",
    "          'metric': 'rmse',\n",
    "          'num_leaves': 2*max_depth,\n",
    "          'max_depth': max_depth,\n",
    "          'min_data_in_leaf':min_data_in_leaf,\n",
    "          'learning_rate': 0.01,\n",
    "          'bagging_fraction': 0.85,\n",
    "          'feature_fraction': 0.8,\n",
    "          'min_split_gain': 0.02,\n",
    "          'min_child_samples': 150,\n",
    "          'min_child_weight': 0.02,\n",
    "          'lambda_l2': 0.0475,\n",
    "          'verbosity': -1,\n",
    "          'data_random_seed': 17}\n",
    "\n",
    "    early_stop = 500\n",
    "    verbose_eval = None if mode=='cv' else 500\n",
    "    num_rounds = 10000\n",
    "    nfold=5\n",
    "\n",
    "    if mode=='cv':\n",
    "        mdl=lgb.cv(params=params, train_set=train_data, num_boost_round=num_rounds, nfold=nfold, verbose_eval=verbose_eval,\\\n",
    "              early_stopping_rounds=early_stop)\n",
    "        return [mdl['rmse-mean'][-1],(max_depth,min_data_in_leaf)]\n",
    "    elif mode=='train':\n",
    "        mdl=lgb.train(params=params, train_set=train_data, valid_sets=train_data,num_boost_round=num_rounds, verbose_eval=verbose_eval,\\\n",
    "              early_stopping_rounds=early_stop)\n",
    "        return mdl\n",
    "    \n",
    "    "
   ]
  },
  {
   "cell_type": "code",
   "execution_count": 21,
   "metadata": {},
   "outputs": [
    {
     "data": {
      "image/png": "[encoded data removed]",
      "text/plain": [
       "<Figure size 432x288 with 1 Axes>"
      ]
     },
     "metadata": {
      "needs_background": "light"
     },
     "output_type": "display_data"
    }
   ],
   "source": [
    "# Tuning params with CV\n",
    "max_depth=range(7,10)\n",
    "min_data_in_leaf=range(100,105)\n",
    "p=[(x,y) for x in max_depth for y in min_data_in_leaf]\n",
    "\n",
    "rmse_cv=[]\n",
    "\n",
    "for x,y in p:\n",
    "    rmse_cv.append(getRMSE(x,y))\n",
    "\n",
    "rmse_cv.sort(key=lambda x: x[0])\n",
    "plt.plot([x[0] for x in rmse_cv])\n",
    "plt.show()"
   ]
  },
  {
   "cell_type": "code",
   "execution_count": 22,
   "metadata": {},
   "outputs": [
    {
     "name": "stdout",
     "output_type": "stream",
     "text": [
      "Training until validation scores don't improve for 500 rounds.\n",
      "[500]\ttraining's rmse: 0.738472\n",
      "[1000]\ttraining's rmse: 0.647302\n",
      "[1500]\ttraining's rmse: 0.58387\n",
      "[2000]\ttraining's rmse: 0.536419\n",
      "[2500]\ttraining's rmse: 0.498799\n",
      "[3000]\ttraining's rmse: 0.468604\n",
      "[3500]\ttraining's rmse: 0.443567\n",
      "[4000]\ttraining's rmse: 0.423046\n",
      "[4500]\ttraining's rmse: 0.404654\n",
      "[5000]\ttraining's rmse: 0.38833\n",
      "[5500]\ttraining's rmse: 0.372724\n",
      "[6000]\ttraining's rmse: 0.358959\n",
      "[6500]\ttraining's rmse: 0.345804\n",
      "[7000]\ttraining's rmse: 0.336352\n",
      "Early stopping, best iteration is:\n",
      "[6961]\ttraining's rmse: 0.336352\n"
     ]
    },
    {
     "data": {
      "text/plain": [
       "<matplotlib.axes._subplots.AxesSubplot at 0x7f68b2a95748>"
      ]
     },
     "execution_count": 22,
     "metadata": {},
     "output_type": "execute_result"
    },
    {
     "data": {
      "image/png": "[encoded data removed]",
      "text/plain": [
       "<Figure size 432x288 with 1 Axes>"
      ]
     },
     "metadata": {
      "needs_background": "light"
     },
     "output_type": "display_data"
    }
   ],
   "source": [
    "# Build model\n",
    "mdl=getRMSE(rmse_cv[0][1][0],rmse_cv[0][1][1],'train')\n",
    "lgb.plot_importance(mdl)"
   ]
  },
  {
   "cell_type": "markdown",
   "metadata": {},
   "source": [
    "### 5.3 Predict"
   ]
  },
  {
   "cell_type": "code",
   "execution_count": 23,
   "metadata": {},
   "outputs": [],
   "source": [
    "# Predict testing data\n",
    "Y_test = mdl.predict(X_test, num_iteration=mdl.best_iteration)"
   ]
  },
  {
   "cell_type": "markdown",
   "metadata": {},
   "source": [
    "## 6. Create submission file"
   ]
  },
  {
   "cell_type": "code",
   "execution_count": 24,
   "metadata": {},
   "outputs": [],
   "source": [
    "submission = pd.DataFrame({'PetID': dfTemp_test['PetID'].values, 'AdoptionSpeed': Y_test.astype(np.int32)})\n",
    "submission.head()\n",
    "submission.to_csv('submission.csv', index=False)"
   ]
  }
 ],
 "metadata": {
  "kernelspec": {
   "display_name": "Python 3",
   "language": "python",
   "name": "python3"
  },
  "language_info": {
   "codemirror_mode": {
    "name": "ipython",
    "version": 3
   },
   "file_extension": ".py",
   "mimetype": "text/x-python",
   "name": "python",
   "nbconvert_exporter": "python",
   "pygments_lexer": "ipython3",
   "version": "3.6.6"
  }
 },
 "nbformat": 4,
 "nbformat_minor": 1
}
