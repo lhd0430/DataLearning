{
 "cells": [
  {
   "cell_type": "markdown",
   "metadata": {},
   "source": [
    "Lecture Notes\n",
    "\n",
    "- Most of the models in this chapter is for single predictor. However, high-dim models exist.\n",
    "\n",
    "1. Polynomial Regression\n",
    "- f(x)\n",
    "- apply LS or logistic regression with X,X^2,...X^d predictors\n",
    "- Estimate the pointwise variance of f(x): compute pointwise confidence interval by using the covariance matrix of the coefs.\n",
    "\n",
    "2. Step Functions\n",
    "- cutpoints, dummy variables\n",
    "- apply LS or logistic regression with dummy variables\n",
    "- coefs are the averages of Y for each subdomain \n",
    "\n",
    "3. Regression Spline\n",
    "- Degree-d regression spline: piecewise degree-d polynomial, whose d-1 derivative is continuous at each knot \n",
    "- Basis function\n",
    "- Cubic spline with K knots: use K+3 predictors (X,X^2,X^3 and K basis) with K+4 coef.(degree of freedom)\n",
    "- Natual spline: regression spline which is linear at the boundary\n",
    "- Use CV to determine the best K\n",
    "\n",
    "4. Smoothing Splines\n",
    "- Loss + penalty\n",
    "- tuning parameter lambda controls the smoothness\n",
    "- effective degrees of freedom (a measure of the flexibility of the smoothing spline)\n",
    "    - Note: we don't use degrees of freedom as the parameters are heavily constrained by lambda\n",
    "- There will be a knot at each training observation\n",
    "- the fit function is a natural cubic spline (a shrunken version)\n",
    "- Use CV to determine the best lambda\n",
    "\n",
    "5. Local Regression\n",
    "- fraction of training points: s\n",
    "- weight function at each point: K\n",
    "- fit a weighted LSR\n",
    "- theoretically this can be implemented in higher dimensions\n",
    "    - Note: training observations in the neighbors are very few for dim>3\n",
    "\n",
    "6. Generalized Additive Methods (GAM)\n",
    "- A way to extend MLR by replacing each linear component beta_i*Xi with a smooth nonlinear function\n",
    "- Same idea for extending logistic regression\n",
    "- Fitting method: backfitting (fitting partial residual)\n",
    "- Pros\n",
    "    - no need to transform variables\n",
    "    - non-linear fits potentially make more accurate predictions\n",
    "    - additive -> can examine the effect of X_i on Y individually\n",
    "    - smoothness of each function can be summarized via degrees of freedom\n",
    "- Cons\n",
    "    - model is restricted to be additive. Important variable interations can be missed\n",
    "        - can manually add interaction terms or interaction functions "
   ]
  },
  {
   "cell_type": "code",
   "execution_count": 61,
   "metadata": {
    "collapsed": true
   },
   "outputs": [],
   "source": [
    "import numpy as np\n",
    "import pandas as pd\n",
    "import matplotlib.pyplot as plt\n",
    "from mpl_toolkits.mplot3d import Axes3D\n",
    "from sklearn import datasets,preprocessing\n",
    "from sklearn.linear_model import LinearRegression, LogisticRegression, Ridge, Lasso, RidgeCV, LassoCV\n",
    "from sklearn.discriminant_analysis import LinearDiscriminantAnalysis as LDA\n",
    "from sklearn.discriminant_analysis import QuadraticDiscriminantAnalysis as QDA\n",
    "from sklearn.neighbors import KNeighborsClassifier as KNN\n",
    "from sklearn.metrics import mean_squared_error, r2_score, confusion_matrix\n",
    "from sklearn.pipeline import make_pipeline, Pipeline\n",
    "from sklearn.model_selection import cross_val_score\n",
    "from sklearn import metrics\n",
    "from sklearn.utils import resample\n",
    "from sklearn.decomposition import PCA\n",
    "from sklearn.cross_decomposition import PLSRegression\n",
    "from sklearn.model_selection import GridSearchCV\n",
    "\n",
    "import math\n",
    "import statsmodels.api as sm\n",
    "import statsmodels.formula.api as smf\n",
    "from patsy import dmatrices, dmatrix\n",
    "\n",
    "from pygam import LinearGAM, LogisticGAM\n",
    "\n",
    "%matplotlib inline"
   ]
  },
  {
   "cell_type": "code",
   "execution_count": 65,
   "metadata": {
    "collapsed": false
   },
   "outputs": [],
   "source": [
    "data = pd.read_csv('data/Wage.csv',header=0)\n",
    "data.head()\n",
    "data = data.dropna().reset_index(drop=True)\n",
    "X = pd.DataFrame(data.age)\n",
    "Y = data.wage\n",
    "Y_class = (Y>250).map({False:0,True:1}).as_matrix()"
   ]
  },
  {
   "cell_type": "code",
   "execution_count": 70,
   "metadata": {
    "collapsed": false
   },
   "outputs": [
    {
     "name": "stdout",
     "output_type": "stream",
     "text": [
      "{'polynomialfeatures__degree': 4}\n",
      "{'polynomialfeatures__degree': 1}\n",
      "[[2921   79]\n",
      " [   0    0]]\n"
     ]
    },
    {
     "data": {
      "image/png": "[encoded data removed]",
      "text/plain": [
       "<matplotlib.figure.Figure at 0x7f71715b3128>"
      ]
     },
     "metadata": {},
     "output_type": "display_data"
    }
   ],
   "source": [
    "# Polynomial regression\n",
    "\n",
    "# Use pipeline and GridSearchCV to find the best degree\n",
    "model_pipe = make_pipeline(preprocessing.PolynomialFeatures(),LinearRegression())\n",
    "n=list(np.arange(1,10))\n",
    "est = GridSearchCV(model_pipe,dict(polynomialfeatures__degree=n),scoring='neg_mean_squared_error',cv=5)\n",
    "est.fit(X,Y)\n",
    "print(est.best_params_)\n",
    "# Plot\n",
    "fig,ax = plt.subplots(1,2)\n",
    "ax[0].plot(X,est.predict(X),'.')\n",
    "\n",
    "\n",
    "# Polynomial logistic regression\n",
    "model_pipe = make_pipeline(preprocessing.PolynomialFeatures(),LogisticRegression())\n",
    "n=list(np.arange(1,10))\n",
    "est = GridSearchCV(model_pipe,dict(polynomialfeatures__degree=n),scoring='roc_auc',cv=5)\n",
    "est.fit(X,Y_class)\n",
    "print(est.best_params_)\n",
    "print(confusion_matrix(est.predict(X),Y_class))\n",
    "# Plot\n",
    "ax[1].plot(X,est.predict(X),'o')\n",
    "plt.show()"
   ]
  },
  {
   "cell_type": "code",
   "execution_count": 129,
   "metadata": {
    "collapsed": false
   },
   "outputs": [
    {
     "data": {
      "image/png": "[encoded data removed]",
      "text/plain": [
       "<matplotlib.figure.Figure at 0x7f7171458d30>"
      ]
     },
     "metadata": {},
     "output_type": "display_data"
    }
   ],
   "source": [
    "# Step function\n",
    "\n",
    "# Sort\n",
    "df = pd.concat([data.age,data.wage],keys=['age','wage'],axis=1)\n",
    "df = df.sort_values(by='age')\n",
    "# Cut\n",
    "X_cut = pd.cut(df.age,4)\n",
    "# Dummy variables\n",
    "X_dummies = pd.get_dummies(X_cut)\n",
    "X_dummies = X_dummies.drop(['(17.938, 33.5]'],axis=1)\n",
    "Y_class = (df.wage>250).map({False:0,True:1}).as_matrix()\n",
    "# Fit\n",
    "stepfun = LinearRegression().fit(X_dummies,df.wage)\n",
    "stepfun2 = LogisticRegression().fit(X_dummies,Y_class)\n",
    "# Plot\n",
    "fig,ax = plt.subplots(1,2)\n",
    "ax[0].plot(df.age,stepfun.predict(X_dummies),'b')\n",
    "ax[1].plot(df.age,stepfun2.predict(X_dummies),'b')\n",
    "ax[1].set_ylim(-0.01,0.05)\n",
    "plt.show()"
   ]
  },
  {
   "cell_type": "code",
   "execution_count": 56,
   "metadata": {
    "collapsed": false
   },
   "outputs": [
    {
     "data": {
      "image/png": "[encoded data removed]",
      "text/plain": [
       "<matplotlib.figure.Figure at 0x7f5f61ba3898>"
      ]
     },
     "metadata": {},
     "output_type": "display_data"
    },
    {
     "name": "stdout",
     "output_type": "stream",
     "text": [
      "5\n"
     ]
    }
   ],
   "source": [
    "# Spline - patsy+sklearn\n",
    "\n",
    "# Specify knots and degree\n",
    "X1 = dmatrix(\"bs(age,knots=(25,40,60),degree=3,include_intercept=False)\",{\"age\":data.age},return_type='dataframe')\n",
    "fit1 = LinearRegression().fit(X1,Y)\n",
    "# Knots at uniform quantiles with specific degrees of freedom\n",
    "# defaul degree is 3. The num of knots is df-degree\n",
    "X2 = dmatrix(\"bs(age,df=6,include_intercept=False)\",{\"age\":data.age},return_type='dataframe')\n",
    "fit2 = LinearRegression().fit(X2,Y)\n",
    "# Natural spline\n",
    "X3 = dmatrix(\"cr(age,df=6)\",{\"age\":data.age},return_type='dataframe')\n",
    "fit3 = LinearRegression().fit(X3,Y)\n",
    "# plot\n",
    "fig,ax = plt.subplots(1,3)\n",
    "ax[0].plot(X,fit1.predict(X1),'.')\n",
    "ax[1].plot(X,fit2.predict(X2),'.')\n",
    "ax[2].plot(X,fit3.predict(X3),'.')\n",
    "plt.show()\n",
    "\n",
    "# CV for best degree\n",
    "k_fold = 5\n",
    "cv_score = [];\n",
    "for i in np.arange(3,10):\n",
    "    form = \"cr(age,df=\"+str(i)+\")\"\n",
    "    X4 = dmatrix(form,{\"age\":data.age},return_type='dataframe')\n",
    "    model = LinearRegression()\n",
    "    test = cross_val_score(model,X4,Y,cv=k_fold,scoring='neg_mean_squared_error',n_jobs=-1)\n",
    "    cv_score.append(-test.mean())\n",
    "print(np.array(cv_score).argmin()+3)\n"
   ]
  },
  {
   "cell_type": "code",
   "execution_count": 69,
   "metadata": {
    "collapsed": false
   },
   "outputs": [
    {
     "name": "stderr",
     "output_type": "stream",
     "text": [
      "N/A% (0 of 11) |                         | Elapsed Time: 0:00:00 ETA:  --:--:--/home/cloudera/anaconda3/lib/python3.5/site-packages/pygam/utils.py:69: UserWarning: Could not import Scikit-Sparse or Suite-Sparse.\n",
      "This will slow down optimization for models with monotonicity/convexity penalties and many splines.\n",
      "See installation instructions for installing Scikit-Sparse and Suite-Sparse via Conda.\n",
      "  warnings.warn(msg)\n",
      "/home/cloudera/anaconda3/lib/python3.5/site-packages/pygam/utils.py:69: UserWarning: Could not import Scikit-Sparse or Suite-Sparse.\n",
      "This will slow down optimization for models with monotonicity/convexity penalties and many splines.\n",
      "See installation instructions for installing Scikit-Sparse and Suite-Sparse via Conda.\n",
      "  warnings.warn(msg)\n",
      " 18% (2 of 11) |####                      | Elapsed Time: 0:00:00 ETA:  0:00:00/home/cloudera/anaconda3/lib/python3.5/site-packages/pygam/utils.py:69: UserWarning: Could not import Scikit-Sparse or Suite-Sparse.\n",
      "This will slow down optimization for models with monotonicity/convexity penalties and many splines.\n",
      "See installation instructions for installing Scikit-Sparse and Suite-Sparse via Conda.\n",
      "  warnings.warn(msg)\n",
      " 27% (3 of 11) |#######                   | Elapsed Time: 0:00:00 ETA:  0:00:00/home/cloudera/anaconda3/lib/python3.5/site-packages/pygam/utils.py:69: UserWarning: Could not import Scikit-Sparse or Suite-Sparse.\n",
      "This will slow down optimization for models with monotonicity/convexity penalties and many splines.\n",
      "See installation instructions for installing Scikit-Sparse and Suite-Sparse via Conda.\n",
      "  warnings.warn(msg)\n",
      "/home/cloudera/anaconda3/lib/python3.5/site-packages/pygam/utils.py:69: UserWarning: Could not import Scikit-Sparse or Suite-Sparse.\n",
      "This will slow down optimization for models with monotonicity/convexity penalties and many splines.\n",
      "See installation instructions for installing Scikit-Sparse and Suite-Sparse via Conda.\n",
      "  warnings.warn(msg)\n",
      " 45% (5 of 11) |###########               | Elapsed Time: 0:00:00 ETA:  0:00:00/home/cloudera/anaconda3/lib/python3.5/site-packages/pygam/utils.py:69: UserWarning: Could not import Scikit-Sparse or Suite-Sparse.\n",
      "This will slow down optimization for models with monotonicity/convexity penalties and many splines.\n",
      "See installation instructions for installing Scikit-Sparse and Suite-Sparse via Conda.\n",
      "  warnings.warn(msg)\n",
      "/home/cloudera/anaconda3/lib/python3.5/site-packages/pygam/utils.py:69: UserWarning: Could not import Scikit-Sparse or Suite-Sparse.\n",
      "This will slow down optimization for models with monotonicity/convexity penalties and many splines.\n",
      "See installation instructions for installing Scikit-Sparse and Suite-Sparse via Conda.\n",
      "  warnings.warn(msg)\n",
      " 63% (7 of 11) |################          | Elapsed Time: 0:00:00 ETA:  0:00:00/home/cloudera/anaconda3/lib/python3.5/site-packages/pygam/utils.py:69: UserWarning: Could not import Scikit-Sparse or Suite-Sparse.\n",
      "This will slow down optimization for models with monotonicity/convexity penalties and many splines.\n",
      "See installation instructions for installing Scikit-Sparse and Suite-Sparse via Conda.\n",
      "  warnings.warn(msg)\n",
      "/home/cloudera/anaconda3/lib/python3.5/site-packages/pygam/utils.py:69: UserWarning: Could not import Scikit-Sparse or Suite-Sparse.\n",
      "This will slow down optimization for models with monotonicity/convexity penalties and many splines.\n",
      "See installation instructions for installing Scikit-Sparse and Suite-Sparse via Conda.\n",
      "  warnings.warn(msg)\n",
      " 81% (9 of 11) |#####################     | Elapsed Time: 0:00:00 ETA:  0:00:00/home/cloudera/anaconda3/lib/python3.5/site-packages/pygam/utils.py:69: UserWarning: Could not import Scikit-Sparse or Suite-Sparse.\n",
      "This will slow down optimization for models with monotonicity/convexity penalties and many splines.\n",
      "See installation instructions for installing Scikit-Sparse and Suite-Sparse via Conda.\n",
      "  warnings.warn(msg)\n",
      "/home/cloudera/anaconda3/lib/python3.5/site-packages/pygam/utils.py:69: UserWarning: Could not import Scikit-Sparse or Suite-Sparse.\n",
      "This will slow down optimization for models with monotonicity/convexity penalties and many splines.\n",
      "See installation instructions for installing Scikit-Sparse and Suite-Sparse via Conda.\n",
      "  warnings.warn(msg)\n",
      "100% (11 of 11) |#########################| Elapsed Time: 0:00:00 Time: 0:00:00\n"
     ]
    },
    {
     "name": "stdout",
     "output_type": "stream",
     "text": [
      "Model Statistics\n",
      "----------------------------\n",
      "edof                   5.072\n",
      "AIC                30638.806\n",
      "AICc               30638.835\n",
      "GCV                 1596.786\n",
      "loglikelihood     -15313.331\n",
      "deviance            2994.928\n",
      "scale               1591.928\n",
      "\n",
      "Pseudo-R^2\n",
      "----------------------------\n",
      "explained_deviance     0.087\n",
      "McFadden               0.009\n",
      "McFadden_adj           0.009\n"
     ]
    },
    {
     "data": {
      "image/png": "[encoded data removed]",
      "text/plain": [
       "<matplotlib.figure.Figure at 0x7f5f61adad30>"
      ]
     },
     "metadata": {},
     "output_type": "display_data"
    }
   ],
   "source": [
    "# GAM\n",
    "# https://github.com/dswah/pyGAM\n",
    "\n",
    "gam = LinearGAM(n_splines=10).gridsearch(X,Y)\n",
    "gam.summary()\n",
    "\n",
    "fig,ax = plt.subplots(1,1)\n",
    "ax.plot(X,Y,'.r')\n",
    "ax.plot(X,gam.predict(X),'.')\n",
    "plt.show()"
   ]
  },
  {
   "cell_type": "code",
   "execution_count": null,
   "metadata": {
    "collapsed": true
   },
   "outputs": [],
   "source": []
  }
 ],
 "metadata": {
  "kernelspec": {
   "display_name": "Python 3",
   "language": "python",
   "name": "python3"
  },
  "language_info": {
   "codemirror_mode": {
    "name": "ipython",
    "version": 3
   },
   "file_extension": ".py",
   "mimetype": "text/x-python",
   "name": "python",
   "nbconvert_exporter": "python",
   "pygments_lexer": "ipython3",
   "version": "3.6.0"
  }
 },
 "nbformat": 4,
 "nbformat_minor": 0
}
