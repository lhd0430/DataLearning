{
 "cells": [
  {
   "cell_type": "code",
   "execution_count": null,
   "metadata": {
    "collapsed": true
   },
   "outputs": [],
   "source": [
    "# Supervised Learning Workflow\n",
    "\n",
    "\n",
    "# Load data\n",
    "\n",
    "# Preprocessing data (missing value, corralation, convert data type, visualize data, stats summary)\n",
    "\n",
    "# Feature Engineering (add/remove/cross features, map categorical, outliers, scale, one-hot/binning,\n",
    "#                      Spark-vectorize features, TF-construct feature columns)\n",
    "\n",
    "# Split data (X_train, y_train, X_test, y_test, Spark-training and test)\n",
    "\n",
    "# Create model (model function, fun parameters, TF-optimizer)\n",
    "\n",
    "# Train/fit model (X_train, y_train, Spark-training, TF-input_fn with X_train and y_train)\n",
    "\n",
    "# Predict (X_train, X_test, visualize, Spark-training and test, TF-input_fn with X_train, y_train, X_test, y_test)\n",
    "\n",
    "# Evaluate model (metrics on predictions, visualize, tune model parameters, CV)\n",
    "\n",
    "# Predict new data"
   ]
  }
 ],
 "metadata": {
  "kernelspec": {
   "display_name": "Python 3",
   "language": "python",
   "name": "python3"
  },
  "language_info": {
   "codemirror_mode": {
    "name": "ipython",
    "version": 3
   },
   "file_extension": ".py",
   "mimetype": "text/x-python",
   "name": "python",
   "nbconvert_exporter": "python",
   "pygments_lexer": "ipython3",
   "version": "3.6.0"
  }
 },
 "nbformat": 4,
 "nbformat_minor": 2
}
