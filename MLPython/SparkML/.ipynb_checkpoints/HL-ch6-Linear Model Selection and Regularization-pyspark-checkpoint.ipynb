{
 "cells": [
  {
   "cell_type": "markdown",
   "metadata": {},
   "source": [
    "Lecture notes\n",
    "\n",
    "- Sample size: n\n",
    "- Predictor dim: p\n",
    "- Parameter #: d\n",
    "\n",
    "1. Feature selection\n",
    "- Best subset selection\n",
    "    - Evaluate for all k=0...p predictors cases\n",
    "    - Not practical for large p\n",
    "- Stepwise selection\n",
    "    - Forward: add predictor 1by1 to meet the threshold\n",
    "    - Backword: remove predictor 1by1 to meet the threshold; only valid for n>p\n",
    "    - Hybrid\n",
    "    - Not guaranteed to yield the best model\n",
    "- Choose the optimal model\n",
    "    - Cp, AIC, BIC: depend on n, d, RSS and the estimate of the variance of epsi\n",
    "    - Adjusted R^2: depends on RSS, TSS, n, and d\n",
    "    - Validation and CV (estimate the test error without estimating the variance of epsi)\n",
    "        - One-standard-error rule\n",
    "        - Note: must partition the whole sample first before selecting predictors\n",
    "\n",
    "2. Shrinkage methods\n",
    "- Ridge regression\n",
    "    - tuning parameter: lambda\n",
    "    - minimize (RSS + l2 shrinkage penalty)\n",
    "    - shrinkage penalty controls the Var(f)\n",
    "    - better standardizing the predictor first\n",
    "- Lasso\n",
    "    - Use l1 norm in shrinkage penalty\n",
    "    - Note: for sufficiently lage lambda, beta could be exact zero, which is like performing a predictor selection\n",
    "- Determine tuning parameter\n",
    "    - Compute CV error for each lambda and choose the one with the smallest error\n",
    "    - Use the selected lambda to re-fit the model with the full sample\n",
    "    \n",
    "3. Dimension reduction methods\n",
    "- Transform the p predictors to M predictors (components), where M is less than p\n",
    "- Principle component analysis (PCA)\n",
    "    - Only use X, not include Y, to determine components\n",
    "- Partial least square (PLS)\n",
    "    - Use both X and Y to determine components\n",
    "- Use CV to determine the number of components\n",
    "- Note: PCA/PLS is not predictor selection, as all predictors are used for getting each component    "
   ]
  },
  {
   "cell_type": "code",
   "execution_count": 249,
   "metadata": {
    "collapsed": false
   },
   "outputs": [],
   "source": [
    "import numpy as np\n",
    "import pandas as pd\n",
    "import matplotlib.pyplot as plt\n",
    "from mpl_toolkits.mplot3d import Axes3D\n",
    "import math\n",
    "import findspark\n",
    "from pyspark import SparkContext\n",
    "from pyspark.sql import SparkSession, DataFrame, DataFrameReader\n",
    "from pyspark.ml.regression import LinearRegression\n",
    "from pyspark.mllib.regression import LabeledPoint\n",
    "from pyspark.ml.feature import VectorAssembler, StringIndexer, VectorSlicer, StandardScaler, PCA\n",
    "from pyspark.ml.stat import Correlation\n",
    "from pyspark.ml.evaluation import RegressionEvaluator, BinaryClassificationEvaluator\n",
    "from pyspark.ml.tuning import CrossValidator, ParamGridBuilder\n",
    "from pyspark.sql.types import DoubleType, IntegerType\n",
    "from pyspark.ml.classification import LogisticRegression\n",
    "import itertools\n",
    "from pyspark.sql.functions import col\n",
    "from pyspark.sql.functions import monotonically_increasing_id\n",
    "from pyspark.ml import Pipeline\n",
    "\n",
    "%matplotlib inline\n",
    "\n",
    "# change the path on your machine\n",
    "findspark.init(\"/Users/lhd0430/Downloads/spark\")"
   ]
  },
  {
   "cell_type": "code",
   "execution_count": 2,
   "metadata": {
    "collapsed": true
   },
   "outputs": [],
   "source": [
    "# Creat spark session\n",
    "spark = SparkSession.builder \\\n",
    "   .master(\"local\") \\\n",
    "   .appName(\"Linear Regression Model\") \\\n",
    "   .config(\"spark.executor.memory\", \"1gb\") \\\n",
    "   .getOrCreate()"
   ]
  },
  {
   "cell_type": "code",
   "execution_count": 52,
   "metadata": {
    "collapsed": false
   },
   "outputs": [
    {
     "name": "stdout",
     "output_type": "stream",
     "text": [
      "322\n",
      "322\n"
     ]
    }
   ],
   "source": [
    "# Load data as pyspark.sql.DataFrame\n",
    "data = spark.read.csv(\"../data/Hitters.csv\", header=True, inferSchema=True)\n",
    "data.cache()\n",
    "print(data.count())\n",
    "data = data.dropna()\n",
    "print(data.count())"
   ]
  },
  {
   "cell_type": "code",
   "execution_count": 53,
   "metadata": {
    "collapsed": false
   },
   "outputs": [],
   "source": [
    "# Convert string to index\n",
    "data = data.withColumn(\"Salary\",data.Salary.cast(DoubleType()))\n",
    "data = data.dropna()\n",
    "catColumns = [\"League\",\"Division\",\"NewLeague\"]\n",
    "for i in catColumns:\n",
    "    indexer = StringIndexer(inputCol=i, outputCol=i+\"Indexed\")\n",
    "    model = indexer.fit(data)\n",
    "    data = model.transform(data)\n",
    "    data = data.drop(i)\n",
    "data.show(5)"
   ]
  },
  {
   "cell_type": "code",
   "execution_count": 74,
   "metadata": {
    "collapsed": false
   },
   "outputs": [
    {
     "name": "stdout",
     "output_type": "stream",
     "text": [
      "+-----+----+-----+----+---+-----+-----+------+-----+------+-----+----+------+-------+-------+------+------+-------------+---------------+----------------+--------------------+\n",
      "|AtBat|Hits|HmRun|Runs|RBI|Walks|Years|CAtBat|CHits|CHmRun|CRuns|CRBI|CWalks|PutOuts|Assists|Errors|Salary|LeagueIndexed|DivisionIndexed|NewLeagueIndexed|            features|\n",
      "+-----+----+-----+----+---+-----+-----+------+-----+------+-----+----+------+-------+-------+------+------+-------------+---------------+----------------+--------------------+\n",
      "|  315|  81|    7|  24| 38|   39|   14|  3449|  835|    69|  321| 414|   375|    632|     43|    10| 475.0|          1.0|            0.0|             1.0|[315.0,81.0,7.0,2...|\n",
      "|  479| 130|   18|  66| 72|   76|    3|  1624|  457|    63|  224| 266|   263|    880|     82|    14| 480.0|          0.0|            0.0|             0.0|[479.0,130.0,18.0...|\n",
      "|  496| 141|   20|  65| 78|   37|   11|  5628| 1575|   225|  828| 838|   354|    200|     11|     3| 500.0|          1.0|            1.0|             1.0|[496.0,141.0,20.0...|\n",
      "|  321|  87|   10|  39| 42|   30|    2|   396|  101|    12|   48|  46|    33|    805|     40|     4|  91.5|          1.0|            1.0|             1.0|[321.0,87.0,10.0,...|\n",
      "|  594| 169|    4|  74| 51|   35|   11|  4408| 1133|    19|  501| 336|   194|    282|    421|    25| 750.0|          0.0|            0.0|             0.0|[594.0,169.0,4.0,...|\n",
      "+-----+----+-----+----+---+-----+-----+------+-----+------+-----+----+------+-------+-------+------+------+-------------+---------------+----------------+--------------------+\n",
      "only showing top 5 rows\n",
      "\n"
     ]
    }
   ],
   "source": [
    "# Convert feature to vector type\n",
    "featureCol = data.columns\n",
    "featureCol.remove('Salary')\n",
    "vecAssembler = VectorAssembler(inputCols=featureCol, outputCol=\"features\")\n",
    "df = vecAssembler.transform(data)\n",
    "df.show(5)"
   ]
  },
  {
   "cell_type": "code",
   "execution_count": 100,
   "metadata": {
    "collapsed": false
   },
   "outputs": [
    {
     "name": "stdout",
     "output_type": "stream",
     "text": [
      "+-----+----+-----+----+---+-----+-----+------+-----+------+-----+----+------+-------+-------+------+-------+-------------+---------------+----------------+--------------------+--------------------+\n",
      "|AtBat|Hits|HmRun|Runs|RBI|Walks|Years|CAtBat|CHits|CHmRun|CRuns|CRBI|CWalks|PutOuts|Assists|Errors| Salary|LeagueIndexed|DivisionIndexed|NewLeagueIndexed|            features|      scaledfeatures|\n",
      "+-----+----+-----+----+---+-----+-----+------+-----+------+-----+----+------+-------+-------+------+-------+-------------+---------------+----------------+--------------------+--------------------+\n",
      "|  315|  81|    7|  24| 38|   39|   14|  3449|  835|    69|  321| 414|   375|    632|     43|    10|  475.0|          1.0|            0.0|             1.0|[315.0,81.0,7.0,2...|[2.13838822048095...|\n",
      "|  479| 130|   18|  66| 72|   76|    3|  1624|  457|    63|  224| 266|   263|    880|     82|    14|  480.0|          0.0|            0.0|             0.0|[479.0,130.0,18.0...|[3.25170780193770...|\n",
      "|  496| 141|   20|  65| 78|   37|   11|  5628| 1575|   225|  828| 838|   354|    200|     11|     3|  500.0|          1.0|            1.0|             1.0|[496.0,141.0,20.0...|[3.36711288050334...|\n",
      "|  321|  87|   10|  39| 42|   30|    2|   396|  101|    12|   48|  46|    33|    805|     40|     4|   91.5|          1.0|            1.0|             1.0|[321.0,87.0,10.0,...|[2.17911942468059...|\n",
      "|  594| 169|    4|  74| 51|   35|   11|  4408| 1133|    19|  501| 336|   194|    282|    421|    25|  750.0|          0.0|            0.0|             0.0|[594.0,169.0,4.0,...|[4.03238921576408...|\n",
      "|  185|  37|    1|  23|  8|   21|    2|   214|   42|     1|   30|   9|    24|     76|    127|     7|   70.0|          1.0|            1.0|             0.0|[185.0,37.0,1.0,2...|[1.25587879615548...|\n",
      "|  298|  73|    0|  24| 24|    7|    3|   509|  108|     0|   41|  37|    12|    121|    283|     9|  100.0|          0.0|            0.0|             0.0|[298.0,73.0,0.0,2...|[2.02298314191531...|\n",
      "|  323|  81|    6|  26| 32|    8|    2|   341|   86|     6|   32|  34|     8|    143|    290|    19|   75.0|          1.0|            0.0|             1.0|[323.0,81.0,6.0,2...|[2.19269649274713...|\n",
      "|  401|  92|   17|  49| 66|   65|   13|  5206| 1332|   253|  784| 890|   866|      0|      0|     0| 1100.0|          0.0|            1.0|             0.0|[401.0,92.0,17.0,...|[2.72220214734242...|\n",
      "|  574| 159|   21| 107| 75|   59|   10|  4631| 1300|    90|  702| 504|   488|    238|    445|    22|517.143|          0.0|            1.0|             0.0|[574.0,159.0,21.0...|[3.89661853509862...|\n",
      "|  202|  53|    4|  31| 26|   27|    9|  1876|  467|    15|  192| 186|   161|    304|     45|    11|  512.5|          1.0|            0.0|             1.0|[202.0,53.0,4.0,3...|[1.37128387472111...|\n",
      "|  418| 113|   13|  48| 61|   47|    4|  1512|  392|    41|  205| 204|   203|    211|     11|     7|  550.0|          1.0|            1.0|             1.0|[418.0,113.0,13.0...|[2.83760722590805...|\n",
      "|  239|  60|    0|  30| 11|   22|    6|  1941|  510|     4|  309| 103|   207|    121|    151|     6|  700.0|          0.0|            1.0|             0.0|[239.0,60.0,0.0,3...|[1.62245963395221...|\n",
      "|  196|  43|    7|  29| 27|   30|   13|  3231|  825|    36|  376| 290|   238|     80|     45|     8|  240.0|          1.0|            1.0|             1.0|[196.0,43.0,7.0,2...|[1.33055267052148...|\n",
      "|  568| 158|   20|  89| 75|   73|   15|  8068| 2273|   177| 1045| 993|   732|    105|    290|    10|  775.0|          1.0|            0.0|             1.0|[568.0,158.0,20.0...|[3.85588733089898...|\n",
      "|  190|  46|    2|  24|  8|   15|    5|   479|  102|     5|   65|  23|    39|    102|    177|    16|  175.0|          0.0|            0.0|             0.0|[190.0,46.0,2.0,2...|[1.28982146632184...|\n",
      "|  127|  32|    8|  16| 22|   14|    8|   727|  180|    24|   67|  82|    56|    202|     22|     2|  135.0|          1.0|            0.0|             1.0|[127.0,32.0,8.0,1...|[0.86214382222565...|\n",
      "|  413|  92|   16|  72| 48|   65|    1|   413|   92|    16|   72|  48|    65|    280|      9|     5|  100.0|          1.0|            1.0|             1.0|[413.0,92.0,16.0,...|[2.80366455574169...|\n",
      "|  426| 109|    3|  55| 43|   62|    1|   426|  109|     3|   55|  43|    62|    361|     22|     2|  115.0|          0.0|            0.0|             1.0|[426.0,109.0,3.0,...|[2.89191549817424...|\n",
      "|  472| 116|   16|  60| 62|   74|    6|  1924|  489|    67|  242| 251|   240|    518|     55|     3|  600.0|          1.0|            0.0|             1.0|[472.0,116.0,16.0...|[3.20418806370479...|\n",
      "+-----+----+-----+----+---+-----+-----+------+-----+------+-----+----+------+-------+-------+------+-------+-------------+---------------+----------------+--------------------+--------------------+\n",
      "only showing top 20 rows\n",
      "\n"
     ]
    }
   ],
   "source": [
    "# Scale data\n",
    "scaler = StandardScaler(inputCol=\"features\", outputCol=\"scaledfeatures\",\n",
    "                        withStd=True, withMean=False)\n",
    "scalerModel = scaler.fit(df)\n",
    "df = scalerModel.transform(df)\n",
    "df.show(5)"
   ]
  },
  {
   "cell_type": "code",
   "execution_count": 104,
   "metadata": {
    "collapsed": true
   },
   "outputs": [],
   "source": [
    "# Feature selection\n",
    "evaMSE = RegressionEvaluator(labelCol=\"Salary\",metricName=\"mse\")\n",
    "\n",
    "def processSubset(feature_set):\n",
    "    slicer = VectorSlicer(inputCol=\"scaledfeatures\", outputCol=\"slicedfeatures\", indices=list(feature_set))\n",
    "    sliceddf = slicer.transform(df)\n",
    "    lr = LinearRegression(featuresCol=\"slicedfeatures\", labelCol=\"Salary\")\n",
    "    ml = lr.fit(sliceddf)\n",
    "    predict = ml.transform(sliceddf)\n",
    "    mse = evaMSE.evaluate(predict)\n",
    "    return {\"Model\":ml,\"MSE\":mse}"
   ]
  },
  {
   "cell_type": "code",
   "execution_count": 114,
   "metadata": {
    "collapsed": false
   },
   "outputs": [
    {
     "name": "stdout",
     "output_type": "stream",
     "text": [
      "2\n"
     ]
    }
   ],
   "source": [
    "# Best subset selection\n",
    "def getBest(k):\n",
    "    results = []\n",
    "    for combo in itertools.combinations(range(0,len(featureCol)),k):\n",
    "        results.append(processSubset(combo))\n",
    "    models = pd.DataFrame(results)\n",
    "    best_model = models.iloc[models['MSE'].argmin()]\n",
    "    return best_model\n",
    "\n",
    "models_best = pd.DataFrame(columns=[\"Model\",\"MSE\"])\n",
    "\n",
    "for i in range(2,3):\n",
    "    models_best.loc[i] = getBest(i)\n",
    "\n",
    "print(models_best.MSE.argmin()) \n",
    "\n",
    "plt.figure\n",
    "plt.plot(np.arange(2,3),models_best.MSE)\n",
    "plt.show()"
   ]
  },
  {
   "cell_type": "code",
   "execution_count": 118,
   "metadata": {
    "collapsed": false
   },
   "outputs": [
    {
     "name": "stdout",
     "output_type": "stream",
     "text": [
      "19\n"
     ]
    },
    {
     "data": {
      "image/png": "[encoded data removed]",
      "text/plain": [
       "<matplotlib.figure.Figure at 0x112685320>"
      ]
     },
     "metadata": {},
     "output_type": "display_data"
    }
   ],
   "source": [
    "# Forward selection\n",
    "def forward(predictors):\n",
    "    results = []\n",
    "    remain_predictors = [p for p in range(len(featureCol)) if p not in predictors]\n",
    "    for p in remain_predictors:\n",
    "        results.append(processSubset(predictors+[p]))\n",
    "    models = pd.DataFrame(results)\n",
    "    best_model = models.iloc[models['MSE'].argmin()]\n",
    "    best_p = remain_predictors[models['MSE'].argmin()]\n",
    "    return best_model, predictors+[best_p]\n",
    "\n",
    "models_fwd = pd.DataFrame(columns=[\"Model\",\"MSE\"])\n",
    "predictors = []\n",
    "for i in range(1,len(featureCol)+1):\n",
    "    models_fwd.loc[i], predictors= forward(predictors)\n",
    "    \n",
    "print(models_fwd.MSE.argmin())    \n",
    "plt.figure()\n",
    "plt.plot(models_fwd.MSE)\n",
    "plt.show()"
   ]
  },
  {
   "cell_type": "code",
   "execution_count": 119,
   "metadata": {
    "collapsed": false
   },
   "outputs": [
    {
     "name": "stdout",
     "output_type": "stream",
     "text": [
      "18\n"
     ]
    },
    {
     "data": {
      "image/png": "[encoded data removed]",
      "text/plain": [
       "<matplotlib.figure.Figure at 0x10fe67358>"
      ]
     },
     "metadata": {},
     "output_type": "display_data"
    }
   ],
   "source": [
    "# Backward selection\n",
    "def backward(predictors):\n",
    "    results = []\n",
    "    new_predictors = []\n",
    "    for combo in itertools.combinations(predictors, len(predictors)-1):\n",
    "        results.append(processSubset(combo))\n",
    "        new_predictors.append(combo)\n",
    "    models = pd.DataFrame(results)\n",
    "    best_model = models.iloc[models['MSE'].argmin()]\n",
    "    best_ps = new_predictors[models['MSE'].argmin()]\n",
    "    return best_model, best_ps\n",
    "\n",
    "models_bwd = pd.DataFrame(columns=[\"Model\",\"MSE\"])\n",
    "predictors = range(len(featureCol))\n",
    "while(len(predictors)>1):\n",
    "    models_bwd.loc[len(predictors)-1], predictors= backward(predictors)\n",
    "    \n",
    "print(models_bwd.MSE.argmin())    \n",
    "fig,ax = plt.subplots(1,1)\n",
    "plt.plot(models_bwd.MSE)\n",
    "plt.show()\n"
   ]
  },
  {
   "cell_type": "code",
   "execution_count": 217,
   "metadata": {
    "collapsed": false
   },
   "outputs": [
    {
     "name": "stdout",
     "output_type": "stream",
     "text": [
      "9\n"
     ]
    },
    {
     "data": {
      "image/png": "[encoded data removed]",
      "text/plain": [
       "<matplotlib.figure.Figure at 0x10fd6a898>"
      ]
     },
     "metadata": {},
     "output_type": "display_data"
    }
   ],
   "source": [
    "# CV to find the best num of features\n",
    "\n",
    "def processSubsetCV(feature_set, trainfolds, testfolds):\n",
    "    slicer = VectorSlicer(inputCol=\"scaledfeatures\", outputCol=\"slicedfeatures\", indices=list(feature_set))\n",
    "    sliceddf = slicer.transform(df)\n",
    "    train = sliceddf.filter(trainfolds)\n",
    "    test = sliceddf.filter(testfolds)\n",
    "    lr = LinearRegression(featuresCol=\"slicedfeatures\", labelCol=\"Salary\")\n",
    "    ml = lr.fit(train)\n",
    "    predict = ml.transform(test)\n",
    "    mse = evaMSE.evaluate(predict)\n",
    "    return {\"Model\":ml,\"MSE\":mse}\n",
    "\n",
    "def forwardCV(predictors, trainfolds, testfolds):\n",
    "    results = []\n",
    "    remain_predictors = [p for p in range(len(featureCol)) if p not in predictors]\n",
    "    for p in remain_predictors:\n",
    "        results.append(processSubsetCV(predictors+[p], trainfolds, testfolds))\n",
    "    models = pd.DataFrame(results)\n",
    "    best_model = models.iloc[models['MSE'].argmin()]\n",
    "    best_p = remain_predictors[models['MSE'].argmin()]\n",
    "    return best_model, predictors+[best_p]\n",
    "\n",
    "# Create folds\n",
    "k = 3\n",
    "foldsize = df.count()/k\n",
    "df = df.withColumn(\"id\",monotonically_increasing_id())\n",
    "\n",
    "# Create a DataFrame to store the results of our upcoming calculations\n",
    "cv_errors = pd.DataFrame(columns=range(1,k+1), index=range(1,len(featureCol)+1))\n",
    "cv_errors = cv_errors.fillna(0)\n",
    "\n",
    "models_cv = pd.DataFrame(columns=[\"Model\", \"MSE\"])\n",
    "    \n",
    "# Outer loop iterates over all folds\n",
    "for j in range(1,k+1):\n",
    "\n",
    "    # Reset predictors\n",
    "    predictors = []\n",
    "    \n",
    "    # Inner loop iterates over each size i\n",
    "    for i in range(1,len(featureCol)+1):    \n",
    "    \n",
    "        # The perform forward selection on the full dataset minus the jth fold, test on jth fold\n",
    "        models_cv.loc[i],predictors = forwardCV(predictors, (df[\"id\"] < (j-1)*foldsize)|(df[\"id\"] > j*foldsize), (df[\"id\"] > (j-1)*foldsize)&(df[\"id\"] < j*foldsize))\n",
    "        \n",
    "        # Save the cross-validated error for this fold\n",
    "        cv_errors[j][i] = models_cv.MSE[i]\n",
    "\n",
    "cv_mean = cv_errors.mean(axis=1)\n",
    "print(cv_mean.argmin())\n",
    "\n",
    "plt.figure()\n",
    "plt.plot(cv_mean)\n",
    "plt.show()\n",
    "\n",
    "# Fit the model again for the best num of features \n",
    "model = getBest(9)\n"
   ]
  },
  {
   "cell_type": "code",
   "execution_count": 239,
   "metadata": {
    "collapsed": false
   },
   "outputs": [
    {
     "name": "stdout",
     "output_type": "stream",
     "text": [
      "203792.83627417978\n"
     ]
    },
    {
     "data": {
      "image/png": "[encoded data removed]",
      "text/plain": [
       "<matplotlib.figure.Figure at 0x112b4ae80>"
      ]
     },
     "metadata": {},
     "output_type": "display_data"
    }
   ],
   "source": [
    "# Ridge\n",
    "alphas = np.logspace(10,-2,10)\n",
    "coefs = []\n",
    "for a in alphas:\n",
    "    lr = LinearRegression(regParam=a,elasticNetParam=0,featuresCol=\"scaledfeatures\",labelCol=\"Salary\")\n",
    "    ml = lr.fit(df)\n",
    "    coefs.append(ml.coefficients)\n",
    "\n",
    "# CV to determine tuning parameter\n",
    "alphas = list(np.logspace(10,-2,10))\n",
    "evaMSE = RegressionEvaluator(labelCol=\"Salary\",metricName=\"mse\")\n",
    "paramGrid = ParamGridBuilder().addGrid(lr.regParam, alphas).build()\n",
    "cv = CrossValidator(estimator=lr, evaluator=evaMSE, numFolds=3, estimatorParamMaps=paramGrid)\n",
    "ml = cv.fit(df)\n",
    "print(ml.avgMetrics[0])\n",
    "\n",
    "# Plot\n",
    "fig, axes = plt.subplots(1,2)\n",
    "axes[0].plot(alphas,coefs)\n",
    "axes[0].set_xscale('log')\n",
    "axes[1].plot(alphas,ml.avgMetrics)\n",
    "axes[1].set_xscale('log')\n",
    "plt.show()"
   ]
  },
  {
   "cell_type": "code",
   "execution_count": 243,
   "metadata": {
    "collapsed": false
   },
   "outputs": [],
   "source": [
    "# Lasso\n",
    "# Same as Ridge above, with elasticParam = 1.0"
   ]
  },
  {
   "cell_type": "code",
   "execution_count": 304,
   "metadata": {
    "collapsed": false
   },
   "outputs": [
    {
     "name": "stdout",
     "output_type": "stream",
     "text": [
      "4\n"
     ]
    },
    {
     "data": {
      "image/png": "[encoded data removed]",
      "text/plain": [
       "<matplotlib.figure.Figure at 0x11318fb00>"
      ]
     },
     "metadata": {},
     "output_type": "display_data"
    }
   ],
   "source": [
    "# PCA\n",
    "\n",
    "pca = PCA(k=3, inputCol=\"features\", outputCol=\"pcafeatures\")\n",
    "model = pca.fit(df)\n",
    "result = model.transform(df)\n",
    "\n",
    "# CV with pipeline to determine best k\n",
    "# build pipeline\n",
    "k = list(range(1,5))\n",
    "pca = PCA(inputCol=\"features\", outputCol=\"pcafeatures\")\n",
    "lr = LinearRegression(featuresCol=\"pcafeatures\", labelCol=\"Salary\")\n",
    "pipeline = Pipeline(stages=[pca, lr])\n",
    "# CV\n",
    "evaMSE = RegressionEvaluator(labelCol=\"Salary\",metricName=\"mse\")\n",
    "paramGrid = ParamGridBuilder().addGrid(pca.k, k).build()\n",
    "cv = CrossValidator(estimator=pipeline, evaluator=evaMSE, numFolds=3, estimatorParamMaps=paramGrid)\n",
    "ml = cv.fit(df)\n",
    "bestpca = ml.bestModel.stages[0]\n",
    "bestk = list(bestpca.extractParamMap().values())[2]\n",
    "print(bestk)\n",
    "\n",
    "# Plot\n",
    "fig, axes = plt.subplots(1,2)\n",
    "axes[0].plot(np.array(k),ml.avgMetrics)\n",
    "axes[1].plot(bestpca.explainedVariance)\n",
    "plt.show()\n"
   ]
  },
  {
   "cell_type": "code",
   "execution_count": 305,
   "metadata": {
    "collapsed": false
   },
   "outputs": [],
   "source": [
    "# PLS\n",
    "# not available in pyspark"
   ]
  },
  {
   "cell_type": "code",
   "execution_count": 306,
   "metadata": {
    "collapsed": true
   },
   "outputs": [],
   "source": [
    "spark.stop()"
   ]
  }
 ],
 "metadata": {
  "kernelspec": {
   "display_name": "Python 3",
   "language": "python",
   "name": "python3"
  },
  "language_info": {
   "codemirror_mode": {
    "name": "ipython",
    "version": 3
   },
   "file_extension": ".py",
   "mimetype": "text/x-python",
   "name": "python",
   "nbconvert_exporter": "python",
   "pygments_lexer": "ipython3",
   "version": "3.6.0"
  }
 },
 "nbformat": 4,
 "nbformat_minor": 0
}
