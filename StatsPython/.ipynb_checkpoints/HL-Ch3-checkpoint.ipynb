{
 "cells": [
  {
   "cell_type": "markdown",
   "metadata": {
    "slideshow": {
     "slide_type": "-"
    }
   },
   "source": [
    "Notes:\n",
    "\n",
    "1. General\n",
    "Y = f(X)+epsi\n",
    "- Reducible and irreducible errors\n",
    "- Bias and variance balance\n",
    "- Sample size: n\n",
    "- Predictor dim: p\n",
    "\n",
    "2. Linear regression\n",
    "Y = b0+b1*X+epsi\n",
    "- Coefficients\n",
    "- TSS (Total sum of square): depends on Y\n",
    "- RSS (Residual sum of square): least square\n",
    "- SE (Standard Error): depends on X and epsi; for each coeff\n",
    "- t-stats: depends on coeff and its SE\n",
    "- p-value: for each coeff;large p indicates coeff=0\n",
    "- Confidence interval: for each coeff\n",
    "- RSE (Residual standard error): depends on RSS,n,p; measures the standard deviation of epsi\n",
    "- R-square (0-1): depends on TSS and RSS; measures the propotion of variance explained\n",
    "\n",
    "3. Multiple Linear regression\n",
    "Y = b0+b1*X1+b2*X2+...(bp-1)*Xp+epsi\n",
    "- F-stats: depends on TSS,RSS,n,p; for all coeff\n",
    "- Variable selection: forward selection, backward selection, mixed selection\n",
    "- Prediction interval\n",
    "- Qualitative predictors (0 or 1)\n",
    "\n",
    "4. Potential problems\n",
    "- Non-linearity data: use residual plots to identify dicernible pattern\n",
    "- Correlation of error terms: use residual plot as a function of time to idenfity dicernible pattern\n",
    "- Non-constant variance of error terms: use residual plot to identify a funnel shape; transform Y using concave functions\n",
    "- Outliers: use residual plot to eyeball them\n",
    "- High leverage points: compute leverage stats and compare with (1+p)/n; depends on X and n\n",
    "- Collinearity: look at the correlation matrix of the predictors; compute VIF (variance inflation factor); VIF=1 indicates no collinearity, VIF>5 or >10 indicates collinearity; drop one predictor or combine them into a new one.\n",
    "\n",
    "\n",
    "\n"
   ]
  },
  {
   "cell_type": "code",
   "execution_count": null,
   "metadata": {
    "collapsed": true
   },
   "outputs": [],
   "source": []
  }
 ],
 "metadata": {
  "celltoolbar": "Raw Cell Format",
  "kernelspec": {
   "display_name": "Python 3",
   "language": "python",
   "name": "python3"
  },
  "language_info": {
   "codemirror_mode": {
    "name": "ipython",
    "version": 3
   },
   "file_extension": ".py",
   "mimetype": "text/x-python",
   "name": "python",
   "nbconvert_exporter": "python",
   "pygments_lexer": "ipython3",
   "version": "3.5.1"
  }
 },
 "nbformat": 4,
 "nbformat_minor": 0
}
