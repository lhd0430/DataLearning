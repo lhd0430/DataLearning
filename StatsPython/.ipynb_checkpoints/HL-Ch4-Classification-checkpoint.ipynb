{
 "cells": [
  {
   "cell_type": "markdown",
   "metadata": {},
   "source": [
    "Lecture notes\n",
    "\n",
    "- Sample size: n\n",
    "- Predictor dim: p\n",
    "- Class numbers: k\n",
    "\n",
    "\n",
    "1. Logistic regression\n",
    "- logistic function p(X)\n",
    "- log-odds (logit) is linear in X\n",
    "- likelihood function: finding coefficients that maximize it. Number of coeff depends on predictor dim\n",
    "- z-stats\n",
    "\n",
    "2. Multiple logistic regression\n",
    "\n",
    "3. Discriminant analysis\n",
    "- Bayes' theorem\n",
    "- posterior prob. p_k(x) depends on pi_k (prior prob., easy to compute from Y), and f_k(x) (desity function of X, hard to get from X, but can assume simple forms)\n",
    "- when p=1\n",
    "    - assume f_k(x,mu_k,sigma) are Gaussian with the same variance\n",
    "    - the max of p_k(x) in k <=> the max of discriminant functions in k that is linear in x, which still depends on mu_k, sigma and pi_k\n",
    "    - need estimate pi_k, mu_k and sigma from X and Y\n",
    "    - Set pairs of discriminant functions equal to each other to determine Bayes decision boundary\n",
    "    - Once have k for given x, we can compute p_k(x) for the probability\n",
    "- when p>1\n",
    "    - assume f_k(x,mu_k,Sigma) are Gaussian with the same covariance\n",
    "    - algorithm same as p=1 case\n",
    "- Forms of discriminant analysis\n",
    "    - Linear: f_k(x) are Gaussian having the same covariance\n",
    "    - Quatratic: f_k(x) are Gaussian having different covariance\n",
    "    - Naive Bayes: X are independent in each class (covariance matrix is diagonal); useful for large p; useful for mixed feature vectors\n",
    "\n",
    "4. Evaluate threshold value\n",
    "- Confusion matrix\n",
    "- True/False positive/negative\n",
    "- Two types of error: True/False postitive rates\n",
    "- The Total Error is a weighted average of the False Positive Rate and False Negative Rate. The weights are determined by the Prior Probabilities of Positive and Negative Responses.\n",
    "- Visual method: ROC+AUC"
   ]
  },
  {
   "cell_type": "code",
   "execution_count": null,
   "metadata": {
    "collapsed": true
   },
   "outputs": [],
   "source": []
  }
 ],
 "metadata": {
  "kernelspec": {
   "display_name": "Python 3",
   "language": "python",
   "name": "python3"
  },
  "language_info": {
   "codemirror_mode": {
    "name": "ipython",
    "version": 3
   },
   "file_extension": ".py",
   "mimetype": "text/x-python",
   "name": "python",
   "nbconvert_exporter": "python",
   "pygments_lexer": "ipython3",
   "version": "3.5.1"
  }
 },
 "nbformat": 4,
 "nbformat_minor": 0
}
