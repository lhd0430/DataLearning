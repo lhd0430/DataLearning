{
 "cells": [
  {
   "cell_type": "markdown",
   "metadata": {},
   "source": [
    "Lecture notes\n",
    "\n",
    "- Sample size: n\n",
    "- Predictor dim: p\n",
    "- Class numbers: k\n",
    "\n",
    "1. Logistic regression\n",
    "- logistic function p(X)\n",
    "- log-odds (logit) is linear in X\n",
    "- likelihood function: finding coefficients that maximize it. Number of coeff depends on predictor dim\n",
    "- z-stats\n",
    "\n",
    "2. Multiple logistic regression\n",
    "\n",
    "3. Discriminant analysis\n",
    "- Bayes' theorem\n",
    "- posterior prob. p_k(x) depends on pi_k (prior prob., easy to compute from Y), and f_k(x) (desity function of X, hard to get from X, but can assume simple forms)\n",
    "- when p=1\n",
    "    - assume f_k(x,mu_k,sigma) are Gaussian with the same variance\n",
    "    - to compute the max p_k(x) for all k, convert to an equivalent problem that is linear in x, which still depends on mu_k, sigma and pi_k\n",
    "    - need estimate pi_k and mu_k\n",
    "- when p>1\n",
    "    - \n",
    "    "
   ]
  },
  {
   "cell_type": "code",
   "execution_count": null,
   "metadata": {
    "collapsed": true
   },
   "outputs": [],
   "source": []
  }
 ],
 "metadata": {
  "kernelspec": {
   "display_name": "Python 3",
   "language": "python",
   "name": "python3"
  },
  "language_info": {
   "codemirror_mode": {
    "name": "ipython",
    "version": 3
   },
   "file_extension": ".py",
   "mimetype": "text/x-python",
   "name": "python",
   "nbconvert_exporter": "python",
   "pygments_lexer": "ipython3",
   "version": "3.5.1"
  }
 },
 "nbformat": 4,
 "nbformat_minor": 0
}
