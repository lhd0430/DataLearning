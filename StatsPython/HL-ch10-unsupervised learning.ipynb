{
 "cells": [
  {
   "cell_type": "markdown",
   "metadata": {},
   "source": [
    "Lecture notes\n",
    "\n",
    "0. Challenge\n",
    "- there is no simple goal\n",
    "- hard to assess as there is no labeled data and thus CV cannot be performed\n",
    "- as part of exploratory data analysis\n",
    "\n",
    "1. PCA\n",
    "- transform p features into M components\n",
    "- find normalized principle component loading vector for each M component\n",
    "    - scale each p feature to have 0 mean\n",
    "    - first component: find its loading vector that maximize the sample variance\n",
    "    - other component 1-by-1 in order: find its loading vector maximizing the sample variance and othorgonal to the previous loading vector\n",
    "- principle component score: defined by using loading vectors and sample, which can be treated as new observation for M components\n",
    "- Biplot: show score with respect to the first two components, and the first two loading vectors in terms of p features\n",
    "- principal components provide low-dimensional linear surfaces that are closest to the observations\n",
    "    - the first component is the line in p-dimensional space that is closest to the n observations\n",
    "- proportion of variance explained (PVE): to measure how much of the variance in the data is not contained in the first few components\n",
    "    - scree plot or cumulative PVE\n",
    "- How many components to use? No simple solution for unsupervised learning\n",
    "    - typically decide by eyeballing the elbow in the scree plot\n",
    "    - in practice, if no interesting patterns are found in the first few principal components, then further principal components are unlikely to be of inter- est. Conversely, if the first few principal components are interesting, then we typically continue to look at subsequent principal components until no further interesting patterns are found.\n",
    "    - for supervised learning, can use CV\n",
    "\n",
    "2. \n",
    "\n",
    "\n",
    "\n",
    "\n",
    "\n",
    "\n",
    "\n",
    "\n",
    "\n",
    "\n",
    "\n"
   ]
  },
  {
   "cell_type": "code",
   "execution_count": null,
   "metadata": {
    "collapsed": true
   },
   "outputs": [],
   "source": []
  },
  {
   "cell_type": "code",
   "execution_count": null,
   "metadata": {
    "collapsed": true
   },
   "outputs": [],
   "source": []
  },
  {
   "cell_type": "code",
   "execution_count": null,
   "metadata": {
    "collapsed": true
   },
   "outputs": [],
   "source": []
  },
  {
   "cell_type": "code",
   "execution_count": null,
   "metadata": {
    "collapsed": true
   },
   "outputs": [],
   "source": []
  },
  {
   "cell_type": "code",
   "execution_count": null,
   "metadata": {
    "collapsed": true
   },
   "outputs": [],
   "source": []
  }
 ],
 "metadata": {
  "kernelspec": {
   "display_name": "Python 3",
   "language": "python",
   "name": "python3"
  },
  "language_info": {
   "codemirror_mode": {
    "name": "ipython",
    "version": 3
   },
   "file_extension": ".py",
   "mimetype": "text/x-python",
   "name": "python",
   "nbconvert_exporter": "python",
   "pygments_lexer": "ipython3",
   "version": "3.6.0"
  }
 },
 "nbformat": 4,
 "nbformat_minor": 0
}
