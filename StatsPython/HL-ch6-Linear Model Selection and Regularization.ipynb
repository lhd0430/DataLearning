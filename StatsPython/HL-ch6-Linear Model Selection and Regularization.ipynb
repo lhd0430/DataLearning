{
 "cells": [
  {
   "cell_type": "markdown",
   "metadata": {},
   "source": [
    "Lecture notes\n",
    "\n",
    "- Sample size: n\n",
    "- Predictor dim: p\n",
    "- Parameter #: d\n",
    "\n",
    "1. Feature selection\n",
    "- Best subset selection\n",
    "    - Evaluate for all k=0...p predictors cases\n",
    "    - Not practical for large p\n",
    "- Stepwise selection\n",
    "    - Forward: add predictor 1by1 to meet the threshold\n",
    "    - Backword: remove predictor 1by1 to meet the threshold; only valid for n>p\n",
    "    - Hybrid\n",
    "    - Not guaranteed to yield the best model\n",
    "- Choose the optimal model\n",
    "    - Cp, AIC, BIC: depend on n, d, RSS and the estimate of the variance of epsi\n",
    "    - Adjusted R^2: depends on RSS, TSS, n, and d\n",
    "    - Validation and CV (estimate the test error without estimating the variance of epsi)\n",
    "        - One-standard-error rule\n",
    "        - Note: must partition the whole sample first before selecting predictors\n",
    "\n",
    "2. Shrinkage methods\n",
    "- Ridge regression\n",
    "    - tuning parameter: lambda\n",
    "    - minimize (RSS + l2 shrinkage penalty)\n",
    "    - shrinkage penalty controls the Var(f)\n",
    "    - better standardizing the predictor first\n",
    "- Lasso\n",
    "    - Use l1 norm in shrinkage penalty\n",
    "    - Note: for sufficiently lage lambda, beta could be exact zero, which is like performing a predictor selection\n",
    "- Determine tuning parameter\n",
    "    - Compute CV error for each lambda and choose the one with the smallest error\n",
    "    - Use the selected lambda to re-fit the model with the full sample\n",
    "    \n",
    "3. Dimension reduction methods\n",
    "- Transform the p predictors to M predictors (components), where M is less than p\n",
    "- Principle component analysis (PCA)\n",
    "    - Only use X, not include Y, to determine components\n",
    "- Partial least square (PLS)\n",
    "    - Use both X and Y to determine components\n",
    "- Use CV to determine the number of components\n",
    "- Note: PCA/PLS is not predictor selection, as all predictors are used for getting each component    "
   ]
  },
  {
   "cell_type": "code",
   "execution_count": 1,
   "metadata": {
    "collapsed": true
   },
   "outputs": [],
   "source": [
    "import numpy as np\n",
    "import pandas as pd\n",
    "import matplotlib.pyplot as plt\n",
    "from mpl_toolkits.mplot3d import Axes3D\n",
    "from sklearn import datasets,preprocessing\n",
    "from sklearn.linear_model import LinearRegression, LogisticRegression, Ridge, Lasso, RidgeCV, LassoCV\n",
    "from sklearn.discriminant_analysis import LinearDiscriminantAnalysis as LDA\n",
    "from sklearn.discriminant_analysis import QuadraticDiscriminantAnalysis as QDA\n",
    "from sklearn.neighbors import KNeighborsClassifier as KNN\n",
    "from sklearn.metrics import mean_squared_error, r2_score, confusion_matrix\n",
    "from sklearn.pipeline import make_pipeline, Pipeline\n",
    "from sklearn.model_selection import cross_val_score\n",
    "from sklearn import metrics\n",
    "from sklearn.utils import resample\n",
    "from sklearn.decomposition import PCA\n",
    "from sklearn.cross_decomposition import PLSRegression\n",
    "from sklearn.model_selection import GridSearchCV\n",
    "\n",
    "import math\n",
    "import statsmodels.api as sm\n",
    "import statsmodels.formula.api as smf\n",
    "from patsy import dmatrices \n",
    "import itertools\n",
    "\n",
    "%matplotlib inline"
   ]
  },
  {
   "cell_type": "code",
   "execution_count": 2,
   "metadata": {
    "collapsed": false
   },
   "outputs": [
    {
     "data": {
      "text/html": [
       "<div>\n",
       "<table border=\"1\" class=\"dataframe\">\n",
       "  <thead>\n",
       "    <tr style=\"text-align: right;\">\n",
       "      <th></th>\n",
       "      <th>AtBat</th>\n",
       "      <th>Hits</th>\n",
       "      <th>HmRun</th>\n",
       "      <th>Runs</th>\n",
       "      <th>RBI</th>\n",
       "      <th>Walks</th>\n",
       "      <th>Years</th>\n",
       "      <th>CAtBat</th>\n",
       "      <th>CHits</th>\n",
       "      <th>CHmRun</th>\n",
       "      <th>CRuns</th>\n",
       "      <th>CRBI</th>\n",
       "      <th>CWalks</th>\n",
       "      <th>League</th>\n",
       "      <th>Division</th>\n",
       "      <th>PutOuts</th>\n",
       "      <th>Assists</th>\n",
       "      <th>Errors</th>\n",
       "      <th>Salary</th>\n",
       "      <th>NewLeague</th>\n",
       "    </tr>\n",
       "  </thead>\n",
       "  <tbody>\n",
       "    <tr>\n",
       "      <th>0</th>\n",
       "      <td>315</td>\n",
       "      <td>81</td>\n",
       "      <td>7</td>\n",
       "      <td>24</td>\n",
       "      <td>38</td>\n",
       "      <td>39</td>\n",
       "      <td>14</td>\n",
       "      <td>3449</td>\n",
       "      <td>835</td>\n",
       "      <td>69</td>\n",
       "      <td>321</td>\n",
       "      <td>414</td>\n",
       "      <td>375</td>\n",
       "      <td>N</td>\n",
       "      <td>W</td>\n",
       "      <td>632</td>\n",
       "      <td>43</td>\n",
       "      <td>10</td>\n",
       "      <td>475.0</td>\n",
       "      <td>N</td>\n",
       "    </tr>\n",
       "    <tr>\n",
       "      <th>1</th>\n",
       "      <td>479</td>\n",
       "      <td>130</td>\n",
       "      <td>18</td>\n",
       "      <td>66</td>\n",
       "      <td>72</td>\n",
       "      <td>76</td>\n",
       "      <td>3</td>\n",
       "      <td>1624</td>\n",
       "      <td>457</td>\n",
       "      <td>63</td>\n",
       "      <td>224</td>\n",
       "      <td>266</td>\n",
       "      <td>263</td>\n",
       "      <td>A</td>\n",
       "      <td>W</td>\n",
       "      <td>880</td>\n",
       "      <td>82</td>\n",
       "      <td>14</td>\n",
       "      <td>480.0</td>\n",
       "      <td>A</td>\n",
       "    </tr>\n",
       "    <tr>\n",
       "      <th>2</th>\n",
       "      <td>496</td>\n",
       "      <td>141</td>\n",
       "      <td>20</td>\n",
       "      <td>65</td>\n",
       "      <td>78</td>\n",
       "      <td>37</td>\n",
       "      <td>11</td>\n",
       "      <td>5628</td>\n",
       "      <td>1575</td>\n",
       "      <td>225</td>\n",
       "      <td>828</td>\n",
       "      <td>838</td>\n",
       "      <td>354</td>\n",
       "      <td>N</td>\n",
       "      <td>E</td>\n",
       "      <td>200</td>\n",
       "      <td>11</td>\n",
       "      <td>3</td>\n",
       "      <td>500.0</td>\n",
       "      <td>N</td>\n",
       "    </tr>\n",
       "    <tr>\n",
       "      <th>3</th>\n",
       "      <td>321</td>\n",
       "      <td>87</td>\n",
       "      <td>10</td>\n",
       "      <td>39</td>\n",
       "      <td>42</td>\n",
       "      <td>30</td>\n",
       "      <td>2</td>\n",
       "      <td>396</td>\n",
       "      <td>101</td>\n",
       "      <td>12</td>\n",
       "      <td>48</td>\n",
       "      <td>46</td>\n",
       "      <td>33</td>\n",
       "      <td>N</td>\n",
       "      <td>E</td>\n",
       "      <td>805</td>\n",
       "      <td>40</td>\n",
       "      <td>4</td>\n",
       "      <td>91.5</td>\n",
       "      <td>N</td>\n",
       "    </tr>\n",
       "    <tr>\n",
       "      <th>4</th>\n",
       "      <td>594</td>\n",
       "      <td>169</td>\n",
       "      <td>4</td>\n",
       "      <td>74</td>\n",
       "      <td>51</td>\n",
       "      <td>35</td>\n",
       "      <td>11</td>\n",
       "      <td>4408</td>\n",
       "      <td>1133</td>\n",
       "      <td>19</td>\n",
       "      <td>501</td>\n",
       "      <td>336</td>\n",
       "      <td>194</td>\n",
       "      <td>A</td>\n",
       "      <td>W</td>\n",
       "      <td>282</td>\n",
       "      <td>421</td>\n",
       "      <td>25</td>\n",
       "      <td>750.0</td>\n",
       "      <td>A</td>\n",
       "    </tr>\n",
       "  </tbody>\n",
       "</table>\n",
       "</div>"
      ],
      "text/plain": [
       "   AtBat  Hits  HmRun  Runs  RBI  Walks  Years  CAtBat  CHits  CHmRun  CRuns  \\\n",
       "0    315    81      7    24   38     39     14    3449    835      69    321   \n",
       "1    479   130     18    66   72     76      3    1624    457      63    224   \n",
       "2    496   141     20    65   78     37     11    5628   1575     225    828   \n",
       "3    321    87     10    39   42     30      2     396    101      12     48   \n",
       "4    594   169      4    74   51     35     11    4408   1133      19    501   \n",
       "\n",
       "   CRBI  CWalks League Division  PutOuts  Assists  Errors  Salary NewLeague  \n",
       "0   414     375      N        W      632       43      10   475.0         N  \n",
       "1   266     263      A        W      880       82      14   480.0         A  \n",
       "2   838     354      N        E      200       11       3   500.0         N  \n",
       "3    46      33      N        E      805       40       4    91.5         N  \n",
       "4   336     194      A        W      282      421      25   750.0         A  "
      ]
     },
     "execution_count": 2,
     "metadata": {},
     "output_type": "execute_result"
    }
   ],
   "source": [
    "data = pd.read_csv('data/Hitters.csv',header=0)\n",
    "data = data.dropna().reset_index(drop=True)\n",
    "data.head()"
   ]
  },
  {
   "cell_type": "code",
   "execution_count": 3,
   "metadata": {
    "collapsed": false
   },
   "outputs": [
    {
     "data": {
      "text/html": [
       "<div>\n",
       "<table border=\"1\" class=\"dataframe\">\n",
       "  <thead>\n",
       "    <tr style=\"text-align: right;\">\n",
       "      <th></th>\n",
       "      <th>League_A</th>\n",
       "      <th>League_N</th>\n",
       "      <th>Division_E</th>\n",
       "      <th>Division_W</th>\n",
       "      <th>NewLeague_A</th>\n",
       "      <th>NewLeague_N</th>\n",
       "    </tr>\n",
       "  </thead>\n",
       "  <tbody>\n",
       "    <tr>\n",
       "      <th>0</th>\n",
       "      <td>0</td>\n",
       "      <td>1</td>\n",
       "      <td>0</td>\n",
       "      <td>1</td>\n",
       "      <td>0</td>\n",
       "      <td>1</td>\n",
       "    </tr>\n",
       "    <tr>\n",
       "      <th>1</th>\n",
       "      <td>1</td>\n",
       "      <td>0</td>\n",
       "      <td>0</td>\n",
       "      <td>1</td>\n",
       "      <td>1</td>\n",
       "      <td>0</td>\n",
       "    </tr>\n",
       "    <tr>\n",
       "      <th>2</th>\n",
       "      <td>0</td>\n",
       "      <td>1</td>\n",
       "      <td>1</td>\n",
       "      <td>0</td>\n",
       "      <td>0</td>\n",
       "      <td>1</td>\n",
       "    </tr>\n",
       "    <tr>\n",
       "      <th>3</th>\n",
       "      <td>0</td>\n",
       "      <td>1</td>\n",
       "      <td>1</td>\n",
       "      <td>0</td>\n",
       "      <td>0</td>\n",
       "      <td>1</td>\n",
       "    </tr>\n",
       "    <tr>\n",
       "      <th>4</th>\n",
       "      <td>1</td>\n",
       "      <td>0</td>\n",
       "      <td>0</td>\n",
       "      <td>1</td>\n",
       "      <td>1</td>\n",
       "      <td>0</td>\n",
       "    </tr>\n",
       "  </tbody>\n",
       "</table>\n",
       "</div>"
      ],
      "text/plain": [
       "   League_A  League_N  Division_E  Division_W  NewLeague_A  NewLeague_N\n",
       "0         0         1           0           1            0            1\n",
       "1         1         0           0           1            1            0\n",
       "2         0         1           1           0            0            1\n",
       "3         0         1           1           0            0            1\n",
       "4         1         0           0           1            1            0"
      ]
     },
     "execution_count": 3,
     "metadata": {},
     "output_type": "execute_result"
    }
   ],
   "source": [
    "# convert categorical data to num\n",
    "dummy = pd.get_dummies(data[['League','Division','NewLeague']])\n",
    "dummy.head()"
   ]
  },
  {
   "cell_type": "code",
   "execution_count": 4,
   "metadata": {
    "collapsed": false
   },
   "outputs": [
    {
     "data": {
      "text/html": [
       "<div>\n",
       "<table border=\"1\" class=\"dataframe\">\n",
       "  <thead>\n",
       "    <tr style=\"text-align: right;\">\n",
       "      <th></th>\n",
       "      <th>AtBat</th>\n",
       "      <th>Hits</th>\n",
       "      <th>HmRun</th>\n",
       "      <th>Runs</th>\n",
       "      <th>RBI</th>\n",
       "      <th>Walks</th>\n",
       "      <th>Years</th>\n",
       "      <th>CAtBat</th>\n",
       "      <th>CHits</th>\n",
       "      <th>CHmRun</th>\n",
       "      <th>CRuns</th>\n",
       "      <th>CRBI</th>\n",
       "      <th>CWalks</th>\n",
       "      <th>PutOuts</th>\n",
       "      <th>Assists</th>\n",
       "      <th>Errors</th>\n",
       "      <th>Salary</th>\n",
       "      <th>League_N</th>\n",
       "      <th>Division_W</th>\n",
       "      <th>NewLeague_N</th>\n",
       "    </tr>\n",
       "  </thead>\n",
       "  <tbody>\n",
       "    <tr>\n",
       "      <th>0</th>\n",
       "      <td>315.0</td>\n",
       "      <td>81.0</td>\n",
       "      <td>7.0</td>\n",
       "      <td>24.0</td>\n",
       "      <td>38.0</td>\n",
       "      <td>39.0</td>\n",
       "      <td>14.0</td>\n",
       "      <td>3449.0</td>\n",
       "      <td>835.0</td>\n",
       "      <td>69.0</td>\n",
       "      <td>321.0</td>\n",
       "      <td>414.0</td>\n",
       "      <td>375.0</td>\n",
       "      <td>632.0</td>\n",
       "      <td>43.0</td>\n",
       "      <td>10.0</td>\n",
       "      <td>475.0</td>\n",
       "      <td>1</td>\n",
       "      <td>1</td>\n",
       "      <td>1</td>\n",
       "    </tr>\n",
       "    <tr>\n",
       "      <th>1</th>\n",
       "      <td>479.0</td>\n",
       "      <td>130.0</td>\n",
       "      <td>18.0</td>\n",
       "      <td>66.0</td>\n",
       "      <td>72.0</td>\n",
       "      <td>76.0</td>\n",
       "      <td>3.0</td>\n",
       "      <td>1624.0</td>\n",
       "      <td>457.0</td>\n",
       "      <td>63.0</td>\n",
       "      <td>224.0</td>\n",
       "      <td>266.0</td>\n",
       "      <td>263.0</td>\n",
       "      <td>880.0</td>\n",
       "      <td>82.0</td>\n",
       "      <td>14.0</td>\n",
       "      <td>480.0</td>\n",
       "      <td>0</td>\n",
       "      <td>1</td>\n",
       "      <td>0</td>\n",
       "    </tr>\n",
       "    <tr>\n",
       "      <th>2</th>\n",
       "      <td>496.0</td>\n",
       "      <td>141.0</td>\n",
       "      <td>20.0</td>\n",
       "      <td>65.0</td>\n",
       "      <td>78.0</td>\n",
       "      <td>37.0</td>\n",
       "      <td>11.0</td>\n",
       "      <td>5628.0</td>\n",
       "      <td>1575.0</td>\n",
       "      <td>225.0</td>\n",
       "      <td>828.0</td>\n",
       "      <td>838.0</td>\n",
       "      <td>354.0</td>\n",
       "      <td>200.0</td>\n",
       "      <td>11.0</td>\n",
       "      <td>3.0</td>\n",
       "      <td>500.0</td>\n",
       "      <td>1</td>\n",
       "      <td>0</td>\n",
       "      <td>1</td>\n",
       "    </tr>\n",
       "    <tr>\n",
       "      <th>3</th>\n",
       "      <td>321.0</td>\n",
       "      <td>87.0</td>\n",
       "      <td>10.0</td>\n",
       "      <td>39.0</td>\n",
       "      <td>42.0</td>\n",
       "      <td>30.0</td>\n",
       "      <td>2.0</td>\n",
       "      <td>396.0</td>\n",
       "      <td>101.0</td>\n",
       "      <td>12.0</td>\n",
       "      <td>48.0</td>\n",
       "      <td>46.0</td>\n",
       "      <td>33.0</td>\n",
       "      <td>805.0</td>\n",
       "      <td>40.0</td>\n",
       "      <td>4.0</td>\n",
       "      <td>91.5</td>\n",
       "      <td>1</td>\n",
       "      <td>0</td>\n",
       "      <td>1</td>\n",
       "    </tr>\n",
       "    <tr>\n",
       "      <th>4</th>\n",
       "      <td>594.0</td>\n",
       "      <td>169.0</td>\n",
       "      <td>4.0</td>\n",
       "      <td>74.0</td>\n",
       "      <td>51.0</td>\n",
       "      <td>35.0</td>\n",
       "      <td>11.0</td>\n",
       "      <td>4408.0</td>\n",
       "      <td>1133.0</td>\n",
       "      <td>19.0</td>\n",
       "      <td>501.0</td>\n",
       "      <td>336.0</td>\n",
       "      <td>194.0</td>\n",
       "      <td>282.0</td>\n",
       "      <td>421.0</td>\n",
       "      <td>25.0</td>\n",
       "      <td>750.0</td>\n",
       "      <td>0</td>\n",
       "      <td>1</td>\n",
       "      <td>0</td>\n",
       "    </tr>\n",
       "  </tbody>\n",
       "</table>\n",
       "</div>"
      ],
      "text/plain": [
       "   AtBat   Hits  HmRun  Runs   RBI  Walks  Years  CAtBat   CHits  CHmRun  \\\n",
       "0  315.0   81.0    7.0  24.0  38.0   39.0   14.0  3449.0   835.0    69.0   \n",
       "1  479.0  130.0   18.0  66.0  72.0   76.0    3.0  1624.0   457.0    63.0   \n",
       "2  496.0  141.0   20.0  65.0  78.0   37.0   11.0  5628.0  1575.0   225.0   \n",
       "3  321.0   87.0   10.0  39.0  42.0   30.0    2.0   396.0   101.0    12.0   \n",
       "4  594.0  169.0    4.0  74.0  51.0   35.0   11.0  4408.0  1133.0    19.0   \n",
       "\n",
       "   CRuns   CRBI  CWalks  PutOuts  Assists  Errors  Salary  League_N  \\\n",
       "0  321.0  414.0   375.0    632.0     43.0    10.0   475.0         1   \n",
       "1  224.0  266.0   263.0    880.0     82.0    14.0   480.0         0   \n",
       "2  828.0  838.0   354.0    200.0     11.0     3.0   500.0         1   \n",
       "3   48.0   46.0    33.0    805.0     40.0     4.0    91.5         1   \n",
       "4  501.0  336.0   194.0    282.0    421.0    25.0   750.0         0   \n",
       "\n",
       "   Division_W  NewLeague_N  \n",
       "0           1            1  \n",
       "1           1            0  \n",
       "2           0            1  \n",
       "3           0            1  \n",
       "4           1            0  "
      ]
     },
     "execution_count": 4,
     "metadata": {},
     "output_type": "execute_result"
    }
   ],
   "source": [
    "df = data.drop(['League','Division','NewLeague'],axis=1).astype('float64')\n",
    "df = pd.concat([df,dummy[['League_N','Division_W','NewLeague_N']]],axis=1)\n",
    "df.head()"
   ]
  },
  {
   "cell_type": "code",
   "execution_count": 5,
   "metadata": {
    "collapsed": false
   },
   "outputs": [],
   "source": [
    "Y = df.Salary\n",
    "X = df.drop(['Salary'],axis=1)\n",
    "scaler = preprocessing.StandardScaler().fit(X)\n",
    "X = scaler.transform(X)\n",
    "X = pd.DataFrame(X)"
   ]
  },
  {
   "cell_type": "code",
   "execution_count": 6,
   "metadata": {
    "collapsed": true
   },
   "outputs": [],
   "source": [
    "# Feature selection\n",
    "\n",
    "def processSubset(feature_set):\n",
    "    X_sub = X[list(feature_set)]\n",
    "    model = LinearRegression().fit(X_sub,Y)\n",
    "    mse = metrics.mean_squared_error(Y,model.predict(X_sub))\n",
    "    return {\"Model\":model,\"MSE\":mse}"
   ]
  },
  {
   "cell_type": "code",
   "execution_count": 7,
   "metadata": {
    "collapsed": false
   },
   "outputs": [
    {
     "name": "stdout",
     "output_type": "stream",
     "text": [
      "4\n"
     ]
    },
    {
     "data": {
      "image/png": "[encoded data removed]",
      "text/plain": [
       "<matplotlib.figure.Figure at 0x7f1bd456c278>"
      ]
     },
     "metadata": {},
     "output_type": "display_data"
    }
   ],
   "source": [
    "# Best subset selection\n",
    "def getBest(k):\n",
    "    results = []\n",
    "    for combo in itertools.combinations(X.columns,k):\n",
    "        results.append(processSubset(combo))\n",
    "    models = pd.DataFrame(results)\n",
    "    best_model = models.iloc[models['MSE'].argmin()]\n",
    "    return best_model\n",
    "\n",
    "models_best = pd.DataFrame(columns=[\"Model\",\"MSE\"])\n",
    "\n",
    "for i in range(1,5):\n",
    "    models_best.loc[i] = getBest(i)\n",
    "\n",
    "print(models_best.MSE.argmin())    \n",
    "fig,ax = plt.subplots(1,1)\n",
    "ax.plot(np.arange(1,5),models_best.MSE)\n",
    "plt.show()"
   ]
  },
  {
   "cell_type": "code",
   "execution_count": 44,
   "metadata": {
    "collapsed": false
   },
   "outputs": [
    {
     "name": "stdout",
     "output_type": "stream",
     "text": [
      "19\n"
     ]
    },
    {
     "data": {
      "image/png": "[encoded data removed]",
      "text/plain": [
       "<matplotlib.figure.Figure at 0x7fe6ef14c5c0>"
      ]
     },
     "metadata": {},
     "output_type": "display_data"
    }
   ],
   "source": [
    "# Forward selection\n",
    "def forward(predictors):\n",
    "    results = []\n",
    "    remain_predictors = [p for p in X.columns if p not in predictors]\n",
    "    for p in remain_predictors:\n",
    "        results.append(processSubset(predictors+[p]))\n",
    "    models = pd.DataFrame(results)\n",
    "    best_model = models.iloc[models['MSE'].argmin()]\n",
    "    best_p = remain_predictors[models['MSE'].argmin()]\n",
    "    return best_model, predictors+[best_p]\n",
    "\n",
    "models_fwd = pd.DataFrame(columns=[\"Model\",\"MSE\"])\n",
    "predictors = []\n",
    "for i in range(1,len(X.columns)+1):\n",
    "    models_fwd.loc[i], predictors= forward(predictors)\n",
    "    \n",
    "print(models_fwd.MSE.argmin())    \n",
    "fig,ax = plt.subplots(1,1)\n",
    "ax.plot(models_fwd.MSE)\n",
    "plt.show()"
   ]
  },
  {
   "cell_type": "code",
   "execution_count": 45,
   "metadata": {
    "collapsed": false
   },
   "outputs": [
    {
     "name": "stdout",
     "output_type": "stream",
     "text": [
      "18\n"
     ]
    },
    {
     "data": {
      "image/png": "[encoded data removed]",
      "text/plain": [
       "<matplotlib.figure.Figure at 0x7fe6ef1f6a20>"
      ]
     },
     "metadata": {},
     "output_type": "display_data"
    }
   ],
   "source": [
    "# Backward selection\n",
    "def backward(predictors):\n",
    "    results = []\n",
    "    new_predictors = []\n",
    "    for combo in itertools.combinations(predictors, len(predictors)-1):\n",
    "        results.append(processSubset(combo))\n",
    "        new_predictors.append(combo)\n",
    "    models = pd.DataFrame(results)\n",
    "    best_model = models.iloc[models['MSE'].argmin()]\n",
    "    best_ps = new_predictors[models['MSE'].argmin()]\n",
    "    return best_model, best_ps\n",
    "\n",
    "models_bwd = pd.DataFrame(columns=[\"Model\",\"MSE\"])\n",
    "predictors = X.columns\n",
    "while(len(predictors)>1):\n",
    "    models_bwd.loc[len(predictors)-1], predictors= backward(predictors)\n",
    "    \n",
    "print(models_bwd.MSE.argmin())    \n",
    "fig,ax = plt.subplots(1,1)\n",
    "ax.plot(models_bwd.MSE)\n",
    "plt.show()\n"
   ]
  },
  {
   "cell_type": "code",
   "execution_count": 8,
   "metadata": {
    "collapsed": false
   },
   "outputs": [],
   "source": [
    "# CV to find the best num of features\n",
    "\n",
    "def processSubsetCV(feature_set, X_train, y_train, X_test, y_test):\n",
    "    X_subtrain = X_train[list(feature_set)]\n",
    "    X_subtest = X_test[list(feature_set)]\n",
    "    model = LinearRegression().fit(X_subtrain,y_train)\n",
    "    mse = metrics.mean_squared_error(y_test,model.predict(X_subtest))\n",
    "    return {\"Model\":model,\"MSE\":mse}\n",
    "\n",
    "def forwardCV(predictors, X_train, y_train, X_test, y_test):\n",
    "    results = []\n",
    "    remain_predictors = [p for p in X.columns if p not in predictors]\n",
    "    for p in remain_predictors:\n",
    "        results.append(processSubsetCV(predictors+[p], X_train, y_train, X_test, y_test))\n",
    "    models = pd.DataFrame(results)\n",
    "    best_model = models.iloc[models['MSE'].argmin()]\n",
    "    best_p = remain_predictors[models['MSE'].argmin()]\n",
    "    return best_model, predictors+[best_p]\n",
    "\n",
    "# Create folds\n",
    "k = 10\n",
    "np.random.seed(seed=1)\n",
    "folds = np.random.choice(k, size = len(Y), replace = True)\n",
    "\n",
    "# Create a DataFrame to store the results of our upcoming calculations\n",
    "cv_errors = pd.DataFrame(columns=range(1,k+1), index=range(1,len(X.columns)+1))\n",
    "cv_errors = cv_errors.fillna(0)\n",
    "\n",
    "models_cv = pd.DataFrame(columns=[\"Model\", \"MSE\"])\n",
    "    \n",
    "# Outer loop iterates over all folds\n",
    "for j in range(1,k+1):\n",
    "\n",
    "    # Reset predictors\n",
    "    predictors = []\n",
    "    \n",
    "    # Inner loop iterates over each size i\n",
    "    for i in range(1,len(X.columns)+1):    \n",
    "    \n",
    "        # The perform forward selection on the full dataset minus the jth fold, test on jth fold\n",
    "        models_cv.loc[i],predictors = forwardCV(predictors, X[folds != (j-1)], Y[folds != (j-1)], X[folds == (j-1)], Y[folds == (j-1)])\n",
    "        \n",
    "        # Save the cross-validated error for this fold\n",
    "        cv_errors[j][i] = models_cv.MSE[i]\n",
    "\n",
    "cv_mean = cv_errors.mean(axis=1)\n",
    "print(cv_mean.argmin())\n",
    "\n",
    "fig,ax = plt.subplots(1,1)\n",
    "ax.plot(cv_mean)\n",
    "plt.show()\n",
    "\n",
    "# Fit the model again for the best num of features \n",
    "model = getBest(8)\n"
   ]
  },
  {
   "cell_type": "code",
   "execution_count": 9,
   "metadata": {
    "collapsed": false
   },
   "outputs": [
    {
     "name": "stdout",
     "output_type": "stream",
     "text": [
      "8\n"
     ]
    },
    {
     "data": {
      "image/png": "[encoded data removed]",
      "text/plain": [
       "<matplotlib.figure.Figure at 0x7f1bd459dc50>"
      ]
     },
     "metadata": {},
     "output_type": "display_data"
    }
   ],
   "source": []
  },
  {
   "cell_type": "code",
   "execution_count": 239,
   "metadata": {
    "collapsed": false
   },
   "outputs": [
    {
     "name": "stdout",
     "output_type": "stream",
     "text": [
      "305.385550883\n",
      "403.70172586\n",
      "{'alpha': 403.70172585965497}\n"
     ]
    },
    {
     "data": {
      "image/png": "[encoded data removed]",
      "text/plain": [
       "<matplotlib.figure.Figure at 0x7ffb73a75940>"
      ]
     },
     "metadata": {},
     "output_type": "display_data"
    }
   ],
   "source": [
    "# Ridge\n",
    "alphas = np.logspace(10,-2,100)\n",
    "coefs = []\n",
    "for a in alphas:\n",
    "    model = Ridge(alpha=a,fit_intercept=False)\n",
    "    model.fit(X,Y)\n",
    "    coefs.append(model.coef_)\n",
    "\n",
    "# CV to determine tuning parameter\n",
    "modelCV = RidgeCV(alphas=alphas,store_cv_values=True,fit_intercept=False)\n",
    "modelCV.fit(X,Y)\n",
    "mse = modelCV.cv_values_.mean(axis=0)\n",
    "mse.shape = (mse.shape[0],1)\n",
    "print(modelCV.alpha_)\n",
    "# To compare with GridSearchCV with the same f\n",
    "modelCV2 = RidgeCV(alphas=alphas,cv=10,fit_intercept=False, scoring='neg_mean_squared_error')\n",
    "modelCV2.fit(X,Y)\n",
    "print(modelCV2.alpha_)\n",
    "\n",
    "# GridSearchCV to determine tuning parameter\n",
    "ridge = Ridge(fit_intercept=False)\n",
    "est = GridSearchCV(ridge,dict(alpha=alphas),scoring='neg_mean_squared_error',cv=10)\n",
    "est.fit(X,Y)\n",
    "print(est.best_params_)\n",
    "\n",
    "# Plot\n",
    "fig, axes = plt.subplots(1,3)\n",
    "axes[0].plot(alphas,coefs)\n",
    "axes[0].set_xscale('log')\n",
    "axes[1].plot(alphas,mse)\n",
    "axes[1].axvline(modelCV.alpha_,linestyle=':')\n",
    "axes[1].set_xscale('log')\n",
    "axes[2].plot(alphas,-est.cv_results_['mean_test_score'])\n",
    "axes[2].axvline(est.best_params_['alpha'],linestyle=':')\n",
    "axes[2].set_xscale('log')\n",
    "plt.show()"
   ]
  },
  {
   "cell_type": "code",
   "execution_count": 218,
   "metadata": {
    "collapsed": false
   },
   "outputs": [
    {
     "name": "stdout",
     "output_type": "stream",
     "text": [
      "32.7454916288\n",
      "{'alpha': 32.745491628777316}\n"
     ]
    },
    {
     "data": {
      "image/png": "[encoded data removed]",
      "text/plain": [
       "<matplotlib.figure.Figure at 0x7ffb73437b00>"
      ]
     },
     "metadata": {},
     "output_type": "display_data"
    }
   ],
   "source": [
    "# Lasso\n",
    "alphas = np.logspace(10,-2,100)\n",
    "coefs = []\n",
    "for a in alphas:\n",
    "    model = Lasso(alpha=a,fit_intercept=False, max_iter=10000)\n",
    "    model.fit(X,Y)\n",
    "    coefs.append(model.coef_)\n",
    "\n",
    "# CV to determine tuning parameter\n",
    "modelCV = LassoCV(alphas=alphas,fit_intercept=False,cv=5,max_iter=10000)\n",
    "modelCV.fit(X,Y)\n",
    "mse = modelCV.mse_path_.mean(axis=1)\n",
    "mse.shape = (mse.shape[0],1)\n",
    "print(modelCV.alpha_)    \n",
    "\n",
    "# GridSearchCV to determine tuning parameter\n",
    "lasso = Lasso(fit_intercept=False,max_iter=10000)\n",
    "est = GridSearchCV(lasso,dict(alpha=alphas),cv=5,scoring='neg_mean_squared_error')\n",
    "est.fit(X,Y)\n",
    "print(est.best_params_)\n",
    "\n",
    "# Plot\n",
    "fig, axes = plt.subplots(1,3)\n",
    "axes[0].plot(alphas,coefs)\n",
    "axes[0].set_xscale('log')\n",
    "axes[1].plot(alphas,mse)\n",
    "axes[1].set_xscale('log')\n",
    "axes[2].plot(alphas,-est.cv_results_['mean_test_score'])\n",
    "axes[2].set_xscale('log')\n",
    "plt.show()\n",
    "\n"
   ]
  },
  {
   "cell_type": "code",
   "execution_count": 208,
   "metadata": {
    "collapsed": false
   },
   "outputs": [
    {
     "name": "stdout",
     "output_type": "stream",
     "text": [
      "18\n",
      "18\n"
     ]
    },
    {
     "data": {
      "image/png": "[encoded data removed]",
      "text/plain": [
       "<matplotlib.figure.Figure at 0x7ffb73264cf8>"
      ]
     },
     "metadata": {},
     "output_type": "display_data"
    }
   ],
   "source": [
    "# PCA\n",
    "pca = PCA()\n",
    "Xpca = pca.fit_transform(X)\n",
    "\n",
    "# Use for loop to find the best component num\n",
    "regr = LinearRegression()\n",
    "mse = []\n",
    "for i in np.arange(1, 20):\n",
    "    pca = PCA(i);\n",
    "    X_reduced = pca.fit_transform(X)\n",
    "    score = -1*cross_val_score(regr, X_reduced, Y, cv=5, scoring='neg_mean_squared_error').mean()\n",
    "    mse.append(score)\n",
    "print(mse.index(min(mse))+1)\n",
    "\n",
    "# Use pipeline and GridSearchCV to find the best component num\n",
    "model_pipe = make_pipeline(PCA(),LinearRegression())\n",
    "n=list(np.arange(1,20))\n",
    "est = GridSearchCV(model_pipe,dict(pca__n_components=n),scoring='neg_mean_squared_error',cv=5)\n",
    "est.fit(X,Y)\n",
    "print(est.best_params_['pca__n_components'])\n",
    "\n",
    "# Plot\n",
    "fig, axes = plt.subplots(1,2)\n",
    "axes[0].plot(np.arange(1, 20),mse)\n",
    "axes[0].axvline(mse.index(min(mse))+1,linestyle=':')\n",
    "axes[1].plot(pca.explained_variance_)\n",
    "axes[1].axvline(est.best_params_['pca__n_components'],linestyle=':')\n",
    "plt.show()"
   ]
  },
  {
   "cell_type": "code",
   "execution_count": 209,
   "metadata": {
    "collapsed": false
   },
   "outputs": [
    {
     "name": "stdout",
     "output_type": "stream",
     "text": [
      "15\n",
      "15\n"
     ]
    },
    {
     "data": {
      "image/png": "[encoded data removed]",
      "text/plain": [
       "<matplotlib.figure.Figure at 0x7ffb73a38550>"
      ]
     },
     "metadata": {},
     "output_type": "display_data"
    }
   ],
   "source": [
    "# PLS\n",
    "\n",
    "# Use for loop to find the best component num\n",
    "mse = []\n",
    "for i in np.arange(1, 20):\n",
    "    pls = PLSRegression(i)\n",
    "    score = -1*cross_val_score(pls, X, Y, cv=5, scoring='neg_mean_squared_error').mean()\n",
    "    mse.append(score)\n",
    "print(mse.index(min(mse))+1)\n",
    "\n",
    "# Use GridSearchCV to find the best component num\n",
    "n=list(np.arange(1,20))\n",
    "est = GridSearchCV(PLSRegression(),dict(n_components=n),scoring='neg_mean_squared_error',cv=5)\n",
    "est.fit(X,Y)\n",
    "print(est.best_params_['n_components'])\n",
    "\n",
    "# Plot\n",
    "fig, axes = plt.subplots(1,2)\n",
    "axes[0].plot(np.arange(1, 20),mse)\n",
    "axes[0].axvline(mse.index(min(mse))+1,linestyle=':')\n",
    "axes[1].plot(np.arange(1, 20),-est.cv_results_['mean_test_score'])\n",
    "axes[1].axvline(est.best_params_['n_components'],linestyle=':')\n",
    "plt.show()\n"
   ]
  }
 ],
 "metadata": {
  "kernelspec": {
   "display_name": "Python 3",
   "language": "python",
   "name": "python3"
  },
  "language_info": {
   "codemirror_mode": {
    "name": "ipython",
    "version": 3
   },
   "file_extension": ".py",
   "mimetype": "text/x-python",
   "name": "python",
   "nbconvert_exporter": "python",
   "pygments_lexer": "ipython3",
   "version": "3.6.0"
  }
 },
 "nbformat": 4,
 "nbformat_minor": 0
}
