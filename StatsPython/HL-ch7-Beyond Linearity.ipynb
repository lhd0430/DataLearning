{
 "cells": [
  {
   "cell_type": "markdown",
   "metadata": {},
   "source": [
    "Lecture Notes\n",
    "\n",
    "1. Polynomial Regression\n",
    "- f(x)\n",
    "- apply LS or logistic regression with X,X^2,...X^d predictors\n",
    "- Estimate the pointwise variance of f(x): compute pointwise confidence interval by using the covariance matrix of the coefs.\n",
    "\n",
    "2. Step Functions\n",
    "- cutpoints, dummy variables\n",
    "- apply LS or logistic regression with dummy variables\n",
    "\n",
    "3. Regression Spline\n",
    "- Degree-d regression spline: piecewise degree-d polynomial, whose d-1 derivative is continuous at each knot \n",
    "- Basis function\n",
    "- Cubic spline with K knots: use K+3 predictors (X,X^2,X^3 and K basis) with K+4 coef.(degree of freedom)\n",
    "- Natual spline: regression spline which is linear at the boundary\n",
    "- Use CV to determine the best K"
   ]
  }
 ],
 "metadata": {
  "kernelspec": {
   "display_name": "Python 3",
   "language": "python",
   "name": "python3"
  },
  "language_info": {
   "codemirror_mode": {
    "name": "ipython",
    "version": 3
   },
   "file_extension": ".py",
   "mimetype": "text/x-python",
   "name": "python",
   "nbconvert_exporter": "python",
   "pygments_lexer": "ipython3",
   "version": "3.5.4"
  }
 },
 "nbformat": 4,
 "nbformat_minor": 0
}
