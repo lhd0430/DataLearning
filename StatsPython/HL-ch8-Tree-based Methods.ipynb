{
 "cells": [
  {
   "cell_type": "markdown",
   "metadata": {},
   "source": [
    "Lecture notes\n",
    "\n",
    "- Tree: T\n",
    "- Num of nodes: |T|\n",
    "- terminal node, internal node\n",
    "\n",
    "1. Regression Tree\n",
    "- Find boxes R1...Rj minimizing RSS (RSS depends on the mean of Y in each box)\n",
    "- Recursive binary splitting\n",
    "    - Find Rj, Xi and s minimizing RSS\n",
    "    - Only split one region at a time\n",
    "    - Stopping criterion: num of observations in each region\n",
    "- Tree pruning\n",
    "    - Cost complexity pruning (weakest link pruning)\n",
    "        - Use recursive binary splitting to grow a large tree T0\n",
    "        - Find the subtree T minimizing RSS+Penalty, where Penaly = alpha * |T|\n",
    "    - Use CV to determine the best tuning parameter alpha\n",
    "\n",
    "2. Classification Tree\n",
    "- algorithm is the same as regression tree\n",
    "- instead of RSS, algorithm minimizes Gini index or Cross Entropy\n",
    "\n",
    "\n"
   ]
  },
  {
   "cell_type": "code",
   "execution_count": null,
   "metadata": {
    "collapsed": true
   },
   "outputs": [],
   "source": []
  },
  {
   "cell_type": "code",
   "execution_count": null,
   "metadata": {
    "collapsed": true
   },
   "outputs": [],
   "source": []
  },
  {
   "cell_type": "code",
   "execution_count": null,
   "metadata": {
    "collapsed": true
   },
   "outputs": [],
   "source": []
  },
  {
   "cell_type": "code",
   "execution_count": null,
   "metadata": {
    "collapsed": true
   },
   "outputs": [],
   "source": []
  }
 ],
 "metadata": {
  "kernelspec": {
   "display_name": "Python 3",
   "language": "python",
   "name": "python3"
  },
  "language_info": {
   "codemirror_mode": {
    "name": "ipython",
    "version": 3
   },
   "file_extension": ".py",
   "mimetype": "text/x-python",
   "name": "python",
   "nbconvert_exporter": "python",
   "pygments_lexer": "ipython3",
   "version": "3.5.4"
  }
 },
 "nbformat": 4,
 "nbformat_minor": 0
}
