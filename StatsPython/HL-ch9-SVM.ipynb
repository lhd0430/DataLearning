{
 "cells": [
  {
   "cell_type": "markdown",
   "metadata": {},
   "source": [
    "Lecture notes\n",
    "\n",
    "- SVM is for classification\n",
    "\n",
    "1. Maximal Margin Classifier\n",
    "- hyperplane: f(X)=0\n",
    "- separating hyperplane: yi*f(Xi)>0 where yi={1,-1}\n",
    "- maximal margin hyperplane (optimal separating hyperplan): the separating hyperplane farthest from the obsevations\n",
    "- construction: find M, such tha the constrains ensure each observation is on the correct side and at least a distance M\n",
    "- support vectors: observations lying directly on the bounday of the margin\n",
    "\n",
    "2. Support Vector Classifier\n",
    "- for non-separable case\n",
    "- soft margin can be violated by some observations\n",
    "- construction: similar to maximal margin hyperplane\n",
    "    - use a tuning parameter controling slack variables, which plays as a budget for the violation\n",
    "- support vectors: observations lying on the margin or the wrong side of the margin\n",
    "- SVC decision rule is based only on support vectors, meaning it is very robust to the observations far from the hyperplane\n",
    "\n",
    "3. Support Vector Machine\n",
    "- enlarge or transform feature space to accommodate a non-linear boundary between classes\n",
    "- rewrite the minimizing problem in a Loss+Penalty form and consider its Lagrangian dual problem\n",
    "    - Loss term in SVM is called hinge loss\n",
    "- generalize by using kernel k(xi,xj) to replace the inner product (xi,xj) in the dual problem\n",
    "- SVM has the form f(x)=b+sum(cj*k(x,xj)), where cj is nonzero only for support vectors xj among all n observations\n",
    "- SVM with more than two classes\n",
    "    - One-versus-one (all-pairs): construct SVMs for all pairs of the classes, assign the test observation to the class to which it's most frequently assigned in these SVMs\n",
    "    - One-versus-all: construct a SVM for one class (coded as +1) and all other classes (coded as -1), assign the test observation to the class for which its SVM value is largest\n",
    "- Note: kernels can be used in other classification methods like logistic regression\n",
    "- Note: SVM can be extended to regression problem, which is called support vector regression\n",
    "\n",
    "Reference: SVM on wiki https://en.wikipedia.org/wiki/Support_vector_machine"
   ]
  },
  {
   "cell_type": "code",
   "execution_count": 1,
   "metadata": {
    "collapsed": true
   },
   "outputs": [],
   "source": [
    "import pandas as pd\n",
    "import numpy as np\n",
    "import matplotlib as mpl\n",
    "import matplotlib.pyplot as plt\n",
    "from sklearn.metrics import confusion_matrix\n",
    "\n",
    "%matplotlib inline"
   ]
  },
  {
   "cell_type": "code",
   "execution_count": 35,
   "metadata": {
    "collapsed": false
   },
   "outputs": [],
   "source": [
    "a = np.arange(0,4)\n"
   ]
  },
  {
   "cell_type": "code",
   "execution_count": 36,
   "metadata": {
    "collapsed": false
   },
   "outputs": [
    {
     "data": {
      "text/plain": [
       "4"
      ]
     },
     "execution_count": 36,
     "metadata": {},
     "output_type": "execute_result"
    }
   ],
   "source": [
    "len(a)"
   ]
  },
  {
   "cell_type": "code",
   "execution_count": 37,
   "metadata": {
    "collapsed": false
   },
   "outputs": [
    {
     "data": {
      "text/plain": [
       "(4,)"
      ]
     },
     "execution_count": 37,
     "metadata": {},
     "output_type": "execute_result"
    }
   ],
   "source": [
    "a.shape"
   ]
  },
  {
   "cell_type": "code",
   "execution_count": 39,
   "metadata": {
    "collapsed": false
   },
   "outputs": [],
   "source": [
    "a.shape=(4,1)"
   ]
  },
  {
   "cell_type": "code",
   "execution_count": 41,
   "metadata": {
    "collapsed": false
   },
   "outputs": [
    {
     "data": {
      "text/plain": [
       "(4, 1)"
      ]
     },
     "execution_count": 41,
     "metadata": {},
     "output_type": "execute_result"
    }
   ],
   "source": [
    "a.shape"
   ]
  },
  {
   "cell_type": "code",
   "execution_count": null,
   "metadata": {
    "collapsed": true
   },
   "outputs": [],
   "source": []
  }
 ],
 "metadata": {
  "kernelspec": {
   "display_name": "Python 3",
   "language": "python",
   "name": "python3"
  },
  "language_info": {
   "codemirror_mode": {
    "name": "ipython",
    "version": 3
   },
   "file_extension": ".py",
   "mimetype": "text/x-python",
   "name": "python",
   "nbconvert_exporter": "python",
   "pygments_lexer": "ipython3",
   "version": "3.5.4"
  }
 },
 "nbformat": 4,
 "nbformat_minor": 0
}
