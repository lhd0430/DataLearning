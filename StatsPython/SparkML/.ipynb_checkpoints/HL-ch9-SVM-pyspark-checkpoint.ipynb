{
 "cells": [
  {
   "cell_type": "markdown",
   "metadata": {},
   "source": [
    "Lecture notes\n",
    "\n",
    "- SVM is for classification\n",
    "\n",
    "1. Maximal Margin Classifier\n",
    "- hyperplane: f(X)=0\n",
    "- separating hyperplane: yi*f(Xi)>0 where yi={1,-1}\n",
    "- maximal margin hyperplane (optimal separating hyperplan): the separating hyperplane farthest from the obsevations\n",
    "- construction: find M, such tha the constrains ensure each observation is on the correct side and at least a distance M\n",
    "- support vectors: observations lying directly on the bounday of the margin\n",
    "\n",
    "2. Support Vector Classifier\n",
    "- for non-separable case\n",
    "- soft margin can be violated by some observations\n",
    "- construction: similar to maximal margin hyperplane\n",
    "    - use a tuning parameter controling slack variables, which plays as a budget for the violation\n",
    "- support vectors: observations lying on the margin or the wrong side of the margin\n",
    "- SVC decision rule is based only on support vectors, meaning it is very robust to the observations far from the hyperplane\n",
    "\n",
    "3. Support Vector Machine\n",
    "- enlarge or transform feature space to accommodate a non-linear boundary between classes\n",
    "- rewrite the minimizing problem in a Loss+Penalty form and consider its Lagrangian dual problem\n",
    "    - Loss term in SVM is called hinge loss\n",
    "- generalize by using kernel k(xi,xj) to replace the inner product (xi,xj) in the dual problem\n",
    "- SVM has the form f(x)=b+sum(cj*k(x,xj)), where cj is nonzero only for support vectors xj among all n observations\n",
    "- SVM with more than two classes\n",
    "    - One-versus-one (all-pairs): construct SVMs for all pairs of the classes, assign the test observation to the class to which it's most frequently assigned in these SVMs\n",
    "    - One-versus-all: construct a SVM for one class (coded as +1) and all other classes (coded as -1), assign the test observation to the class for which its SVM value is largest\n",
    "- Note: kernels can be used in other classification methods like logistic regression\n",
    "- Note: SVM can be extended to regression problem, which is called support vector regression\n",
    "\n",
    "Reference: SVM on wiki https://en.wikipedia.org/wiki/Support_vector_machine"
   ]
  },
  {
   "cell_type": "code",
   "execution_count": 15,
   "metadata": {
    "collapsed": true
   },
   "outputs": [],
   "source": [
    "import numpy as np\n",
    "import pandas as pd\n",
    "import matplotlib as mpl\n",
    "import matplotlib.pyplot as plt\n",
    "from mpl_toolkits.mplot3d import Axes3D\n",
    "import math\n",
    "import findspark\n",
    "from pyspark import SparkContext\n",
    "from pyspark.sql import SparkSession, DataFrame, DataFrameReader\n",
    "from pyspark.ml.regression import LinearRegression, DecisionTreeRegressor, RandomForestRegressor, GBTRegressor\n",
    "from pyspark.mllib.regression import LabeledPoint\n",
    "from pyspark.ml.feature import VectorAssembler, StringIndexer, VectorSlicer, StandardScaler, PCA\n",
    "from pyspark.ml.stat import Correlation\n",
    "from pyspark.ml.evaluation import RegressionEvaluator, BinaryClassificationEvaluator, MulticlassClassificationEvaluator\n",
    "from pyspark.ml.tuning import CrossValidator, ParamGridBuilder\n",
    "from pyspark.sql.types import DoubleType, IntegerType\n",
    "from pyspark.ml.classification import LogisticRegression, DecisionTreeClassifier,LinearSVC, OneVsRest\n",
    "import itertools\n",
    "from pyspark.sql.functions import col, when\n",
    "from pyspark.sql.functions import monotonically_increasing_id\n",
    "from pyspark.ml import Pipeline\n",
    "\n",
    "import graphviz\n",
    "import os\n",
    "\n",
    "%matplotlib inline\n",
    "\n",
    "# change the path on your machine\n",
    "findspark.init(\"/Users/lhd0430/Downloads/spark\")\n"
   ]
  },
  {
   "cell_type": "code",
   "execution_count": 2,
   "metadata": {
    "collapsed": true
   },
   "outputs": [],
   "source": [
    "# Creat spark session\n",
    "spark = SparkSession.builder \\\n",
    "   .master(\"local\") \\\n",
    "   .appName(\"Linear Regression Model\") \\\n",
    "   .config(\"spark.executor.memory\", \"1gb\") \\\n",
    "   .getOrCreate()"
   ]
  },
  {
   "cell_type": "code",
   "execution_count": 13,
   "metadata": {
    "collapsed": false
   },
   "outputs": [
    {
     "name": "stdout",
     "output_type": "stream",
     "text": [
      "0.47916666666666663\n"
     ]
    },
    {
     "data": {
      "image/png": "[encoded data removed]",
      "text/plain": [
       "<matplotlib.figure.Figure at 0x1186236d8>"
      ]
     },
     "metadata": {},
     "output_type": "display_data"
    }
   ],
   "source": [
    "# SVM - linear\n",
    "\n",
    "# Generate data\n",
    "# train data\n",
    "np.random.seed(5)\n",
    "X = np.random.randn(20,2)\n",
    "y = np.repeat([1,0], 10)\n",
    "X[y == -1] = X[y == -1]+1\n",
    "plt.scatter(X[:,0], X[:,1], s=70, c=y, cmap=mpl.cm.Paired)\n",
    "df = pd.DataFrame({\"x1\":X[:,0],\"x2\":X[:,1],\"y\":y})\n",
    "train = spark.createDataFrame(df)\n",
    "vecAssembler = VectorAssembler(inputCols=[\"x1\",\"x2\"], outputCol=\"features\")\n",
    "train = vecAssembler.transform(train)\n",
    "# test data\n",
    "np.random.seed(1)\n",
    "X_test = np.random.randn(20,2)\n",
    "y_test = np.random.choice([0,1], 20)\n",
    "X_test[y_test == 1] = X_test[y_test == 1]-1\n",
    "df = pd.DataFrame({\"x1\":X_test[:,0],\"x2\":X_test[:,1],\"y\":y_test})\n",
    "test = spark.createDataFrame(df)\n",
    "vecAssembler = VectorAssembler(inputCols=[\"x1\",\"x2\"], outputCol=\"features\")\n",
    "test = vecAssembler.transform(test)\n",
    "# Fit\n",
    "svc = LinearSVC(labelCol=\"y\")\n",
    "ml = svc.fit(train)\n",
    "# Predict\n",
    "predict = ml.transform(test)\n",
    "# Evaluate\n",
    "evaAUR = BinaryClassificationEvaluator(labelCol=\"y\",metricName=\"areaUnderROC\")\n",
    "aur = evaAUR.evaluate(predict)\n",
    "print(aur)"
   ]
  },
  {
   "cell_type": "code",
   "execution_count": 14,
   "metadata": {
    "collapsed": false
   },
   "outputs": [],
   "source": [
    "# SVM - non-linear\n",
    "\n",
    "# not supported in pyspark"
   ]
  },
  {
   "cell_type": "code",
   "execution_count": 19,
   "metadata": {
    "collapsed": false
   },
   "outputs": [
    {
     "name": "stdout",
     "output_type": "stream",
     "text": [
      "0.2857142857142857\n"
     ]
    },
    {
     "data": {
      "image/png": "[encoded data removed]",
      "text/plain": [
       "<matplotlib.figure.Figure at 0x118a17dd8>"
      ]
     },
     "metadata": {},
     "output_type": "display_data"
    }
   ],
   "source": [
    "# SVM with classes >2 (1vsAll)\n",
    "\n",
    "# Generate data\n",
    "np.random.seed(8)\n",
    "XX = np.vstack([X, np.random.randn(50,2)])\n",
    "yy = np.hstack([y, np.repeat(-1,50)])\n",
    "XX[yy ==0] = XX[yy == 0] +4\n",
    "\n",
    "plt.figure()\n",
    "plt.scatter(XX[:,0], XX[:,1], s=70, c=yy, cmap=plt.cm.prism)\n",
    "plt.xlabel('XX1')\n",
    "plt.ylabel('XX2')\n",
    "\n",
    "df = pd.DataFrame({\"x1\":XX[:,0],\"x2\":XX[:,1],\"y\":yy})\n",
    "train = spark.createDataFrame(df)\n",
    "vecAssembler = VectorAssembler(inputCols=[\"x1\",\"x2\"], outputCol=\"features\")\n",
    "train = vecAssembler.transform(train)\n",
    "# Fit\n",
    "svc = LinearSVC(labelCol=\"y\")\n",
    "onevsall = OneVsRest(classifier=svc,labelCol=\"y\")\n",
    "ml = onevsall.fit(train)\n",
    "# Predict\n",
    "predict = ml.transform(train)\n",
    "# Evaluate\n",
    "evaAcc = MulticlassClassificationEvaluator(labelCol=\"y\",metricName=\"accuracy\")\n",
    "acc = evaAcc.evaluate(predict)\n",
    "print(acc)"
   ]
  }
 ],
 "metadata": {
  "kernelspec": {
   "display_name": "Python 3",
   "language": "python",
   "name": "python3"
  },
  "language_info": {
   "codemirror_mode": {
    "name": "ipython",
    "version": 3
   },
   "file_extension": ".py",
   "mimetype": "text/x-python",
   "name": "python",
   "nbconvert_exporter": "python",
   "pygments_lexer": "ipython3",
   "version": "3.6.0"
  }
 },
 "nbformat": 4,
 "nbformat_minor": 0
}
