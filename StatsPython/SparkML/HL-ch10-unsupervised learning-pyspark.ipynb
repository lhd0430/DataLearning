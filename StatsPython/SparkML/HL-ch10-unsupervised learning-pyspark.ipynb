{
 "cells": [
  {
   "cell_type": "markdown",
   "metadata": {},
   "source": [
    "Lecture notes\n",
    "\n",
    "0. Challenge\n",
    "- there is no simple goal\n",
    "- hard to assess as there is no labeled data and thus CV cannot be performed\n",
    "- as part of exploratory data analysis\n",
    "\n",
    "1. PCA\n",
    "- transform p features into M components\n",
    "- find normalized principle component loading vector for each M component\n",
    "    - scale each p feature to have 0 mean\n",
    "    - first component: find its loading vector that maximize the sample variance\n",
    "    - other component 1-by-1 in order: find its loading vector maximizing the sample variance and othorgonal to the previous loading vector\n",
    "- principle component score: defined by using loading vectors and sample, which can be treated as new observation for M components\n",
    "- Biplot: show score with respect to the first two components, and the first two loading vectors in terms of p features\n",
    "- principal components provide low-dimensional linear surfaces that are closest to the observations\n",
    "    - the first component is the line in p-dimensional space that is closest to the n observations\n",
    "- proportion of variance explained (PVE): to measure how much of the variance in the data is not contained in the first few components\n",
    "    - scree plot or cumulative PVE\n",
    "- How many components to use? No simple solution for unsupervised learning\n",
    "    - typically decide by eyeballing the elbow in the scree plot\n",
    "    - in practice, if no interesting patterns are found in the first few principal components, then further principal components are unlikely to be of inter- est. Conversely, if the first few principal components are interesting, then we typically continue to look at subsequent principal components until no further interesting patterns are found.\n",
    "    - for supervised learning, can use CV\n",
    "\n",
    "2. K-means clustering\n",
    "- within-cluster variation (WCV): a measure of the amount of difference between observations within a cluster\n",
    "    - defined using Euclidean distance\n",
    "    - sum of all of the distances between the observations in the cluster\n",
    "    - sum of all of the distances between the observation and the mean in the cluster\n",
    "- partition the observations into K clusters minimizing the total WCV\n",
    "- Algorithm\n",
    "    - Initialize: random assign each observation to one of the K clusters\n",
    "    - Iterate until nochange on the total WCV: \n",
    "        - Compute the centroid (mean) for each of the K clusters (gives the total WCV)\n",
    "        - Assign each observation to the cluster whose centroid is closest (reduces the total WCV)\n",
    "- only reach local optimum\n",
    "\n",
    "\n",
    "3. Hierarchical clustering\n",
    "- Algorithm\n",
    "    - Initialize: treat each observation as its own cluster (i.e. n clusters at the beginning)\n",
    "    - Iterate until there is one cluster\n",
    "        - Compute the dissimilarities for all pairs of clusters\n",
    "        - Fuse two clusters with least dissimilarity into a new cluster\n",
    "- linkage for computing the dissimilarity: complete, single, average, centroid\n",
    "    - need determine the measure used for computing linkage. \n",
    "        \n",
    "4. Practical issues in clustering\n",
    "- standardize observations or features first?\n",
    "- what dissimilarity measure?\n",
    "- what linkage?\n",
    "- what K?\n"
   ]
  },
  {
   "cell_type": "code",
   "execution_count": 1,
   "metadata": {
    "collapsed": true
   },
   "outputs": [],
   "source": [
    "import numpy as np\n",
    "import pandas as pd\n",
    "import matplotlib as mpl\n",
    "import matplotlib.pyplot as plt\n",
    "from mpl_toolkits.mplot3d import Axes3D\n",
    "import math\n",
    "import findspark\n",
    "from pyspark import SparkContext\n",
    "from pyspark.sql import SparkSession, DataFrame, DataFrameReader\n",
    "from pyspark.ml.regression import LinearRegression, DecisionTreeRegressor, RandomForestRegressor, GBTRegressor\n",
    "from pyspark.mllib.regression import LabeledPoint\n",
    "from pyspark.ml.feature import VectorAssembler, StringIndexer, VectorSlicer, StandardScaler, PCA\n",
    "from pyspark.ml.stat import Correlation\n",
    "from pyspark.ml.evaluation import RegressionEvaluator, BinaryClassificationEvaluator, MulticlassClassificationEvaluator, ClusteringEvaluator\n",
    "from pyspark.ml.tuning import CrossValidator, ParamGridBuilder\n",
    "from pyspark.sql.types import DoubleType, IntegerType\n",
    "from pyspark.ml.classification import LogisticRegression, DecisionTreeClassifier,LinearSVC, OneVsRest\n",
    "import itertools\n",
    "from pyspark.sql.functions import col, when\n",
    "from pyspark.sql.functions import monotonically_increasing_id\n",
    "from pyspark.ml import Pipeline\n",
    "from pyspark.ml.clustering import KMeans, BisectingKMeans\n",
    "\n",
    "import graphviz\n",
    "import os\n",
    "\n",
    "%matplotlib inline\n",
    "\n",
    "# change the path on your machine\n",
    "findspark.init(\"/Users/lhd0430/Downloads/spark\")\n"
   ]
  },
  {
   "cell_type": "code",
   "execution_count": 2,
   "metadata": {
    "collapsed": true
   },
   "outputs": [],
   "source": [
    "# Creat spark session\n",
    "spark = SparkSession.builder \\\n",
    "   .master(\"local\") \\\n",
    "   .appName(\"Linear Regression Model\") \\\n",
    "   .config(\"spark.executor.memory\", \"1gb\") \\\n",
    "   .getOrCreate()"
   ]
  },
  {
   "cell_type": "code",
   "execution_count": 20,
   "metadata": {
    "collapsed": false
   },
   "outputs": [
    {
     "data": {
      "image/png": "[encoded data removed]",
      "text/plain": [
       "<matplotlib.figure.Figure at 0x10e91a860>"
      ]
     },
     "metadata": {},
     "output_type": "display_data"
    }
   ],
   "source": [
    "# Prepare data\n",
    "\n",
    "np.random.seed(123)\n",
    "X = np.random.randn(50,2)\n",
    "X[0:25, 0] = X[0:25, 0] + 3\n",
    "X[0:25, 1] = X[0:25, 1] - 4\n",
    "\n",
    "plt.figure(figsize=(6, 5))\n",
    "plt.scatter(X[:,0], X[:,1], s=50) \n",
    "\n",
    "df = pd.DataFrame(X, columns=[\"x1\",\"x2\"])\n",
    "train = spark.createDataFrame(df)\n",
    "vecAssembler = VectorAssembler(inputCols=train.columns, outputCol=\"features\")\n",
    "train = vecAssembler.transform(train)\n"
   ]
  },
  {
   "cell_type": "code",
   "execution_count": 74,
   "metadata": {
    "collapsed": false
   },
   "outputs": [
    {
     "name": "stdout",
     "output_type": "stream",
     "text": [
      "99.66252501749241\n",
      "0.6002446192493092\n"
     ]
    },
    {
     "data": {
      "text/plain": [
       "<matplotlib.collections.PathCollection at 0x10f374cf8>"
      ]
     },
     "execution_count": 74,
     "metadata": {},
     "output_type": "execute_result"
    },
    {
     "data": {
      "image/png": "[encoded data removed]",
      "text/plain": [
       "<matplotlib.figure.Figure at 0x10e71c7f0>"
      ]
     },
     "metadata": {},
     "output_type": "display_data"
    }
   ],
   "source": [
    "# k-means\n",
    "# Fit\n",
    "k = 3\n",
    "kmeans = KMeans(k=k,seed=2)\n",
    "ml = kmeans.fit(train)\n",
    "# Predict\n",
    "predict = ml.transform(train)\n",
    "# Evaluate\n",
    "cost = ml.computeCost(train)\n",
    "print(cost)\n",
    "eva = ClusteringEvaluator()\n",
    "silhouette = eva.evaluate(predict)\n",
    "print(silhouette)\n",
    "# plot\n",
    "predictpddf = predict.toPandas()\n",
    "plt.figure(figsize=(6,5))\n",
    "plt.scatter(np.array(predictpddf.x1), np.array(predictpddf.x2), s = 50, c = np.array(predictpddf.prediction),cmap=plt.cm.prism)\n",
    "plt.scatter(np.array(ml.clusterCenters())[:,0],np.array(ml.clusterCenters())[:,1],s=100,c='cyan',marker='*')"
   ]
  },
  {
   "cell_type": "code",
   "execution_count": 75,
   "metadata": {
    "collapsed": false
   },
   "outputs": [
    {
     "name": "stdout",
     "output_type": "stream",
     "text": [
      "105.29323163986544\n",
      "0.5987144451459671\n"
     ]
    },
    {
     "data": {
      "text/plain": [
       "<matplotlib.collections.PathCollection at 0x10f47ffd0>"
      ]
     },
     "execution_count": 75,
     "metadata": {},
     "output_type": "execute_result"
    },
    {
     "data": {
      "image/png": "[encoded data removed]",
      "text/plain": [
       "<matplotlib.figure.Figure at 0x10f37e400>"
      ]
     },
     "metadata": {},
     "output_type": "display_data"
    }
   ],
   "source": [
    "# Hierarchical clustering - sklearn\n",
    "\n",
    "# Fit\n",
    "k = 3\n",
    "bkmeans = BisectingKMeans(k=k,seed=2)\n",
    "ml = bkmeans.fit(train)\n",
    "# Predict\n",
    "predict = ml.transform(train)\n",
    "# Evaluate\n",
    "cost = ml.computeCost(train)\n",
    "print(cost)\n",
    "eva = ClusteringEvaluator()\n",
    "silhouette = eva.evaluate(predict)\n",
    "print(silhouette)\n",
    "# plot\n",
    "predictpddf = predict.toPandas()\n",
    "plt.figure(figsize=(6,5))\n",
    "plt.scatter(np.array(predictpddf.x1), np.array(predictpddf.x2), s = 50, c = np.array(predictpddf.prediction),cmap=plt.cm.prism)\n",
    "plt.scatter(np.array(ml.clusterCenters())[:,0],np.array(ml.clusterCenters())[:,1],s=100,c='cyan',marker='*')"
   ]
  },
  {
   "cell_type": "code",
   "execution_count": 76,
   "metadata": {
    "collapsed": true
   },
   "outputs": [],
   "source": [
    "spark.stop()"
   ]
  }
 ],
 "metadata": {
  "kernelspec": {
   "display_name": "Python 3",
   "language": "python",
   "name": "python3"
  },
  "language_info": {
   "codemirror_mode": {
    "name": "ipython",
    "version": 3
   },
   "file_extension": ".py",
   "mimetype": "text/x-python",
   "name": "python",
   "nbconvert_exporter": "python",
   "pygments_lexer": "ipython3",
   "version": "3.6.0"
  }
 },
 "nbformat": 4,
 "nbformat_minor": 0
}
