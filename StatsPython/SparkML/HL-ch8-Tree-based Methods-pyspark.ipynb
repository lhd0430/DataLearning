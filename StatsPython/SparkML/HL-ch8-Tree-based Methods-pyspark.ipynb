{
 "cells": [
  {
   "cell_type": "markdown",
   "metadata": {},
   "source": [
    "Lecture notes\n",
    "\n",
    "- Tree: T\n",
    "- Num of nodes: |T|\n",
    "- terminal node, internal node\n",
    "\n",
    "1. Regression Tree\n",
    "- Find boxes R1...Rj minimizing RSS (RSS depends on the mean of Y in each box)\n",
    "- Recursive binary splitting\n",
    "    - Find Rj, Xi and s minimizing RSS\n",
    "    - Only split one region at a time\n",
    "    - Stopping criterion: num of observations in each region\n",
    "    - This is a greedy method, as the best split is made at each step rather than leading to a better split in the future. (like forward feature selection)\n",
    "- Tree pruning\n",
    "    - Cost complexity pruning (weakest link pruning)\n",
    "        - Use recursive binary splitting to grow a large tree T0\n",
    "        - Find the subtree T minimizing RSS+Penalty, where Penaly = alpha * |T|\n",
    "    - Use CV to determine the best tuning parameter alpha\n",
    "\n",
    "2. Classification Tree\n",
    "- algorithm is the same as regression tree\n",
    "- instead of RSS, algorithm minimizes Gini index or Cross Entropy\n",
    "\n",
    "3. Bagging\n",
    "- A method to reduce the variance of the model\n",
    "- Bootstrap creating B samples with replacement. For each sample, grow a large tree. \n",
    "- Use all trees to predict by taking the average (for regression) or majority vote (for classification)\n",
    "- Out-of-bag (OOB) error estimation\n",
    "    - One observation is only visible for 2/3 of the bagging (banefit from bootstrap). Use the left 1/3 trees to estimate the prediction error\n",
    "    - For large B, OOB is equivalent to LOO CV\n",
    "    - OOB to determine the best B\n",
    "- Variable importance: record the total decrease of RSS or Gini index due to splits over a given predictor, then average over all B trees. Large value indicates important variable.\n",
    "\n",
    "3. Random forests\n",
    "- A random sample of m=sqrt(p) predictors is used for splitting in bagging\n",
    "- Decorrelates trees by avoiding dominant predictor in the top split\n",
    "- Tuning parameters:\n",
    "    - tree num B\n",
    "    - predictor num m\n",
    "\n",
    "4. Boosting\n",
    "- Trees are grown sequentially, i.e., each tree is grown using info from previous trees, and with modified response Y\n",
    "- Learn slowly: improve the model in areas where it does not perform well\n",
    "- Tuning parameters:\n",
    "    - The number of tree B (use CV)\n",
    "    - The shrinkage parameter lambda (0.01 or 0.001)\n",
    "    - The num of splits d (1 works well)\n"
   ]
  },
  {
   "cell_type": "code",
   "execution_count": 100,
   "metadata": {
    "collapsed": false
   },
   "outputs": [],
   "source": [
    "import numpy as np\n",
    "import pandas as pd\n",
    "import matplotlib.pyplot as plt\n",
    "from mpl_toolkits.mplot3d import Axes3D\n",
    "import math\n",
    "import findspark\n",
    "from pyspark import SparkContext\n",
    "from pyspark.sql import SparkSession, DataFrame, DataFrameReader\n",
    "from pyspark.ml.regression import LinearRegression, DecisionTreeRegressor, RandomForestRegressor, GBTRegressor\n",
    "from pyspark.mllib.regression import LabeledPoint\n",
    "from pyspark.ml.feature import VectorAssembler, StringIndexer, VectorSlicer, StandardScaler, PCA\n",
    "from pyspark.ml.stat import Correlation\n",
    "from pyspark.ml.evaluation import RegressionEvaluator, BinaryClassificationEvaluator, MulticlassClassificationEvaluator\n",
    "from pyspark.ml.tuning import CrossValidator, ParamGridBuilder\n",
    "from pyspark.sql.types import DoubleType, IntegerType\n",
    "from pyspark.ml.classification import LogisticRegression, DecisionTreeClassifier\n",
    "import itertools\n",
    "from pyspark.sql.functions import col, when\n",
    "from pyspark.sql.functions import monotonically_increasing_id\n",
    "from pyspark.ml import Pipeline\n",
    "\n",
    "import graphviz\n",
    "import os\n",
    "\n",
    "%matplotlib inline\n",
    "\n",
    "# change the path on your machine\n",
    "findspark.init(\"/Users/lhd0430/Downloads/spark\")\n"
   ]
  },
  {
   "cell_type": "code",
   "execution_count": 2,
   "metadata": {
    "collapsed": true
   },
   "outputs": [],
   "source": [
    "# Creat spark session\n",
    "spark = SparkSession.builder \\\n",
    "   .master(\"local\") \\\n",
    "   .appName(\"Linear Regression Model\") \\\n",
    "   .config(\"spark.executor.memory\", \"1gb\") \\\n",
    "   .getOrCreate()"
   ]
  },
  {
   "cell_type": "code",
   "execution_count": 45,
   "metadata": {
    "collapsed": false
   },
   "outputs": [
    {
     "name": "stdout",
     "output_type": "stream",
     "text": [
      "400\n",
      "400\n"
     ]
    }
   ],
   "source": [
    "# Classification tree\n",
    "\n",
    "# Load data as pyspark.sql.DataFrame\n",
    "data = spark.read.csv(\"../data/Carseats.csv\", header=True, inferSchema=True)\n",
    "data.cache()\n",
    "print(data.count())\n",
    "data = data.dropna()\n",
    "print(data.count())\n",
    "# Convert string to index\n",
    "data = data.withColumn(\"High\", when(data[\"Sales\"]>8,1).otherwise(0))\n",
    "data = data.drop(\"Sales\")\n",
    "catColumns = [\"ShelveLoc\",\"Urban\",\"US\"]\n",
    "for i in catColumns:\n",
    "    indexer = StringIndexer(inputCol=i, outputCol=i+\"Indexed\")\n",
    "    model = indexer.fit(data)\n",
    "    data = model.transform(data)\n",
    "    data = data.drop(i)\n",
    "# Convert feature to vector type\n",
    "featureCol = data.columns\n",
    "featureCol.remove('High')\n",
    "vecAssembler = VectorAssembler(inputCols=featureCol, outputCol=\"features\")\n",
    "df = vecAssembler.transform(data)\n",
    "df.show(5)\n",
    "# Split train and test\n",
    "(train, test) = df.randomSplit([0.8, 0.2])\n",
    "# Fit\n",
    "ctree = DecisionTreeClassifier(labelCol=\"High\",featuresCol=\"features\")\n",
    "ml = ctree.fit(train)\n",
    "# Predict\n",
    "predict = ml.transform(test)\n",
    "# Evaluate\n",
    "evaAUR = BinaryClassificationEvaluator(labelCol=\"High\",metricName=\"areaUnderROC\")\n",
    "aur = evaAUR.evaluate(predict)\n",
    "print(aur)"
   ]
  },
  {
   "cell_type": "code",
   "execution_count": 50,
   "metadata": {
    "collapsed": false
   },
   "outputs": [
    {
     "name": "stdout",
     "output_type": "stream",
     "text": [
      "506\n",
      "+-------+----+-----+----+-----+-----+-----+------+---+---+-------+------+-----+----+\n",
      "|   crim|  zn|indus|chas|  nox|   rm|  age|   dis|rad|tax|ptratio| black|lstat|medv|\n",
      "+-------+----+-----+----+-----+-----+-----+------+---+---+-------+------+-----+----+\n",
      "|0.00632|18.0| 2.31|   0|0.538|6.575| 65.2|  4.09|  1|296|   15.3| 396.9| 4.98|24.0|\n",
      "|0.02731| 0.0| 7.07|   0|0.469|6.421| 78.9|4.9671|  2|242|   17.8| 396.9| 9.14|21.6|\n",
      "|0.02729| 0.0| 7.07|   0|0.469|7.185| 61.1|4.9671|  2|242|   17.8|392.83| 4.03|34.7|\n",
      "|0.03237| 0.0| 2.18|   0|0.458|6.998| 45.8|6.0622|  3|222|   18.7|394.63| 2.94|33.4|\n",
      "|0.06905| 0.0| 2.18|   0|0.458|7.147| 54.2|6.0622|  3|222|   18.7| 396.9| 5.33|36.2|\n",
      "|0.02985| 0.0| 2.18|   0|0.458| 6.43| 58.7|6.0622|  3|222|   18.7|394.12| 5.21|28.7|\n",
      "|0.08829|12.5| 7.87|   0|0.524|6.012| 66.6|5.5605|  5|311|   15.2| 395.6|12.43|22.9|\n",
      "|0.14455|12.5| 7.87|   0|0.524|6.172| 96.1|5.9505|  5|311|   15.2| 396.9|19.15|27.1|\n",
      "|0.21124|12.5| 7.87|   0|0.524|5.631|100.0|6.0821|  5|311|   15.2|386.63|29.93|16.5|\n",
      "|0.17004|12.5| 7.87|   0|0.524|6.004| 85.9|6.5921|  5|311|   15.2|386.71| 17.1|18.9|\n",
      "|0.22489|12.5| 7.87|   0|0.524|6.377| 94.3|6.3467|  5|311|   15.2|392.52|20.45|15.0|\n",
      "|0.11747|12.5| 7.87|   0|0.524|6.009| 82.9|6.2267|  5|311|   15.2| 396.9|13.27|18.9|\n",
      "|0.09378|12.5| 7.87|   0|0.524|5.889| 39.0|5.4509|  5|311|   15.2| 390.5|15.71|21.7|\n",
      "|0.62976| 0.0| 8.14|   0|0.538|5.949| 61.8|4.7075|  4|307|   21.0| 396.9| 8.26|20.4|\n",
      "|0.63796| 0.0| 8.14|   0|0.538|6.096| 84.5|4.4619|  4|307|   21.0|380.02|10.26|18.2|\n",
      "|0.62739| 0.0| 8.14|   0|0.538|5.834| 56.5|4.4986|  4|307|   21.0|395.62| 8.47|19.9|\n",
      "|1.05393| 0.0| 8.14|   0|0.538|5.935| 29.3|4.4986|  4|307|   21.0|386.85| 6.58|23.1|\n",
      "| 0.7842| 0.0| 8.14|   0|0.538| 5.99| 81.7|4.2579|  4|307|   21.0|386.75|14.67|17.5|\n",
      "|0.80271| 0.0| 8.14|   0|0.538|5.456| 36.6|3.7965|  4|307|   21.0|288.99|11.69|20.2|\n",
      "| 0.7258| 0.0| 8.14|   0|0.538|5.727| 69.5|3.7965|  4|307|   21.0|390.95|11.28|18.2|\n",
      "+-------+----+-----+----+-----+-----+-----+------+---+---+-------+------+-----+----+\n",
      "only showing top 20 rows\n",
      "\n"
     ]
    }
   ],
   "source": [
    "data = spark.read.csv(\"../data/Boston.csv\", header=True, inferSchema=True)\n",
    "data.cache()\n",
    "print(data.count())\n",
    "data = data.dropna()\n",
    "data.show()"
   ]
  },
  {
   "cell_type": "code",
   "execution_count": 75,
   "metadata": {
    "collapsed": false
   },
   "outputs": [
    {
     "name": "stdout",
     "output_type": "stream",
     "text": [
      "506\n",
      "506\n",
      "+-------+----+-----+----+-----+-----+----+------+---+---+-------+------+-----+----+--------------------+\n",
      "|   crim|  zn|indus|chas|  nox|   rm| age|   dis|rad|tax|ptratio| black|lstat|medv|            features|\n",
      "+-------+----+-----+----+-----+-----+----+------+---+---+-------+------+-----+----+--------------------+\n",
      "|0.00632|18.0| 2.31|   0|0.538|6.575|65.2|  4.09|  1|296|   15.3| 396.9| 4.98|24.0|[0.00632,18.0,2.3...|\n",
      "|0.02731| 0.0| 7.07|   0|0.469|6.421|78.9|4.9671|  2|242|   17.8| 396.9| 9.14|21.6|[0.02731,0.0,7.07...|\n",
      "|0.02729| 0.0| 7.07|   0|0.469|7.185|61.1|4.9671|  2|242|   17.8|392.83| 4.03|34.7|[0.02729,0.0,7.07...|\n",
      "|0.03237| 0.0| 2.18|   0|0.458|6.998|45.8|6.0622|  3|222|   18.7|394.63| 2.94|33.4|[0.03237,0.0,2.18...|\n",
      "|0.06905| 0.0| 2.18|   0|0.458|7.147|54.2|6.0622|  3|222|   18.7| 396.9| 5.33|36.2|[0.06905,0.0,2.18...|\n",
      "+-------+----+-----+----+-----+-----+----+------+---+---+-------+------+-----+----+--------------------+\n",
      "only showing top 5 rows\n",
      "\n",
      "12.527425080463873\n",
      "50.739567497881396\n",
      "dict_items([(Param(parent='DecisionTreeRegressor_4d0594a79cbec58b2268', name='cacheNodeIds', doc='If false, the algorithm will pass trees to executors to match instances with nodes. If true, the algorithm will cache node IDs for each instance. Caching can speed up training of deeper trees.'), False), (Param(parent='DecisionTreeRegressor_4d0594a79cbec58b2268', name='checkpointInterval', doc='set checkpoint interval (>= 1) or disable checkpoint (-1). E.g. 10 means that the cache will get checkpointed every 10 iterations. Note: this setting will be ignored if the checkpoint directory is not set in the SparkContext'), 10), (Param(parent='DecisionTreeRegressor_4d0594a79cbec58b2268', name='featuresCol', doc='features column name'), 'features'), (Param(parent='DecisionTreeRegressor_4d0594a79cbec58b2268', name='impurity', doc='Criterion used for information gain calculation (case-insensitive). Supported options: variance'), 'variance'), (Param(parent='DecisionTreeRegressor_4d0594a79cbec58b2268', name='labelCol', doc='label column name'), 'medv'), (Param(parent='DecisionTreeRegressor_4d0594a79cbec58b2268', name='maxBins', doc='Max number of bins for discretizing continuous features.  Must be >=2 and >= number of categories for any categorical feature.'), 32), (Param(parent='DecisionTreeRegressor_4d0594a79cbec58b2268', name='maxDepth', doc='Maximum depth of the tree. (>= 0) E.g., depth 0 means 1 leaf node; depth 1 means 1 internal node + 2 leaf nodes.'), 4), (Param(parent='DecisionTreeRegressor_4d0594a79cbec58b2268', name='maxMemoryInMB', doc='Maximum memory in MB allocated to histogram aggregation.'), 256), (Param(parent='DecisionTreeRegressor_4d0594a79cbec58b2268', name='minInfoGain', doc='Minimum information gain for a split to be considered at a tree node.'), 0.0), (Param(parent='DecisionTreeRegressor_4d0594a79cbec58b2268', name='minInstancesPerNode', doc='Minimum number of instances each child must have after split.  If a split causes the left or right child to have fewer than minInstancesPerNode, the split will be discarded as invalid. Should be >= 1.'), 1), (Param(parent='DecisionTreeRegressor_4d0594a79cbec58b2268', name='predictionCol', doc='prediction column name'), 'prediction'), (Param(parent='DecisionTreeRegressor_4d0594a79cbec58b2268', name='seed', doc='random seed'), -5267648402372675916)])\n"
     ]
    }
   ],
   "source": [
    "# Regression tree\n",
    "\n",
    "# Load data as pyspark.sql.DataFrame\n",
    "data = spark.read.csv(\"../data/Boston.csv\", header=True, inferSchema=True)\n",
    "data.cache()\n",
    "print(data.count())\n",
    "data = data.dropna()\n",
    "print(data.count())\n",
    "# Convert feature to vector type\n",
    "featureCol = data.columns\n",
    "featureCol.remove('medv')\n",
    "vecAssembler = VectorAssembler(inputCols=featureCol, outputCol=\"features\")\n",
    "df = vecAssembler.transform(data)\n",
    "df.show(5)\n",
    "# Split train and test\n",
    "(train, test) = df.randomSplit([0.8, 0.2])\n",
    "# Fit\n",
    "rtree = DecisionTreeRegressor(labelCol=\"medv\",featuresCol=\"features\")\n",
    "ml = rtree.fit(train)\n",
    "# Predict\n",
    "predict = ml.transform(test)\n",
    "# Evaluate\n",
    "evaMSE = RegressionEvaluator(labelCol=\"medv\",metricName=\"mse\")\n",
    "mse = evaMSE.evaluate(predict)\n",
    "print(mse)\n",
    "\n",
    "\n",
    "# CV for best depth\n",
    "paramGrid = ParamGridBuilder().addGrid(rtree.maxDepth, range(1,6)).build()\n",
    "cv = CrossValidator(estimator=rtree, evaluator=evaMSE, numFolds=3, estimatorParamMaps=paramGrid)\n",
    "ml = cv.fit(df)\n",
    "print(ml.avgMetrics[0])\n",
    "print(ml.bestModel.extractParamMap().items())"
   ]
  },
  {
   "cell_type": "code",
   "execution_count": 99,
   "metadata": {
    "collapsed": false
   },
   "outputs": [
    {
     "name": "stdout",
     "output_type": "stream",
     "text": [
      "506\n",
      "506\n",
      "+-------+----+-----+----+-----+-----+----+------+---+---+-------+------+-----+----+--------------------+\n",
      "|   crim|  zn|indus|chas|  nox|   rm| age|   dis|rad|tax|ptratio| black|lstat|medv|            features|\n",
      "+-------+----+-----+----+-----+-----+----+------+---+---+-------+------+-----+----+--------------------+\n",
      "|0.00632|18.0| 2.31|   0|0.538|6.575|65.2|  4.09|  1|296|   15.3| 396.9| 4.98|24.0|[0.00632,18.0,2.3...|\n",
      "|0.02731| 0.0| 7.07|   0|0.469|6.421|78.9|4.9671|  2|242|   17.8| 396.9| 9.14|21.6|[0.02731,0.0,7.07...|\n",
      "|0.02729| 0.0| 7.07|   0|0.469|7.185|61.1|4.9671|  2|242|   17.8|392.83| 4.03|34.7|[0.02729,0.0,7.07...|\n",
      "|0.03237| 0.0| 2.18|   0|0.458|6.998|45.8|6.0622|  3|222|   18.7|394.63| 2.94|33.4|[0.03237,0.0,2.18...|\n",
      "|0.06905| 0.0| 2.18|   0|0.458|7.147|54.2|6.0622|  3|222|   18.7| 396.9| 5.33|36.2|[0.06905,0.0,2.18...|\n",
      "+-------+----+-----+----+-----+-----+----+------+---+---+-------+------+-----+----+--------------------+\n",
      "only showing top 5 rows\n",
      "\n",
      "21.623563377403748\n"
     ]
    },
    {
     "data": {
      "image/png": "[encoded data removed]",
      "text/plain": [
       "<matplotlib.figure.Figure at 0x1164b22e8>"
      ]
     },
     "metadata": {},
     "output_type": "display_data"
    },
    {
     "name": "stdout",
     "output_type": "stream",
     "text": [
      "50.739567497881396\n",
      "dict_items([(Param(parent='RandomForestRegressor_4ba3ae14414c91ad04b4', name='cacheNodeIds', doc='If false, the algorithm will pass trees to executors to match instances with nodes. If true, the algorithm will cache node IDs for each instance. Caching can speed up training of deeper trees.'), False), (Param(parent='RandomForestRegressor_4ba3ae14414c91ad04b4', name='checkpointInterval', doc='set checkpoint interval (>= 1) or disable checkpoint (-1). E.g. 10 means that the cache will get checkpointed every 10 iterations. Note: this setting will be ignored if the checkpoint directory is not set in the SparkContext'), 10), (Param(parent='RandomForestRegressor_4ba3ae14414c91ad04b4', name='featureSubsetStrategy', doc='The number of features to consider for splits at each tree node. Supported options: auto, all, onethird, sqrt, log2, (0.0-1.0], [1-n].'), 'auto'), (Param(parent='RandomForestRegressor_4ba3ae14414c91ad04b4', name='featuresCol', doc='features column name'), 'features'), (Param(parent='RandomForestRegressor_4ba3ae14414c91ad04b4', name='impurity', doc='Criterion used for information gain calculation (case-insensitive). Supported options: variance'), 'variance'), (Param(parent='RandomForestRegressor_4ba3ae14414c91ad04b4', name='labelCol', doc='label column name'), 'medv'), (Param(parent='RandomForestRegressor_4ba3ae14414c91ad04b4', name='maxBins', doc='Max number of bins for discretizing continuous features.  Must be >=2 and >= number of categories for any categorical feature.'), 32), (Param(parent='RandomForestRegressor_4ba3ae14414c91ad04b4', name='maxDepth', doc='Maximum depth of the tree. (>= 0) E.g., depth 0 means 1 leaf node; depth 1 means 1 internal node + 2 leaf nodes.'), 2), (Param(parent='RandomForestRegressor_4ba3ae14414c91ad04b4', name='maxMemoryInMB', doc='Maximum memory in MB allocated to histogram aggregation.'), 256), (Param(parent='RandomForestRegressor_4ba3ae14414c91ad04b4', name='minInfoGain', doc='Minimum information gain for a split to be considered at a tree node.'), 0.0), (Param(parent='RandomForestRegressor_4ba3ae14414c91ad04b4', name='minInstancesPerNode', doc='Minimum number of instances each child must have after split.  If a split causes the left or right child to have fewer than minInstancesPerNode, the split will be discarded as invalid. Should be >= 1.'), 1), (Param(parent='RandomForestRegressor_4ba3ae14414c91ad04b4', name='numTrees', doc='Number of trees to train (>= 1)'), 3), (Param(parent='RandomForestRegressor_4ba3ae14414c91ad04b4', name='predictionCol', doc='prediction column name'), 'prediction'), (Param(parent='RandomForestRegressor_4ba3ae14414c91ad04b4', name='seed', doc='random seed'), 6420039670846048999), (Param(parent='RandomForestRegressor_4ba3ae14414c91ad04b4', name='subsamplingRate', doc='Fraction of the training data used for learning each decision tree, in range (0, 1].'), 1.0)])\n"
     ]
    }
   ],
   "source": [
    "# Random forests - regression\n",
    "# if m=p then this is equivalent to bagging\n",
    "\n",
    "# Load data as pyspark.sql.DataFrame\n",
    "data = spark.read.csv(\"../data/Boston.csv\", header=True, inferSchema=True)\n",
    "data.cache()\n",
    "print(data.count())\n",
    "data = data.dropna()\n",
    "print(data.count())\n",
    "# Convert feature to vector type\n",
    "featureCol = data.columns\n",
    "featureCol.remove('medv')\n",
    "vecAssembler = VectorAssembler(inputCols=featureCol, outputCol=\"features\")\n",
    "df = vecAssembler.transform(data)\n",
    "df.show(5)\n",
    "# Fit\n",
    "rand_rtree = RandomForestRegressor(labelCol=\"medv\",maxDepth=2,numTrees=10)\n",
    "ml = rand_rtree.fit(df)\n",
    "# Predict\n",
    "predict = ml.transform(df)\n",
    "# Evaluate\n",
    "evaMSE = RegressionEvaluator(labelCol=\"medv\",metricName=\"mse\")\n",
    "mse = evaMSE.evaluate(predict)\n",
    "print(mse)\n",
    "\n",
    "# Feature importance\n",
    "fimp = pd.DataFrame({\"Importance\":ml.featureImportances.toArray()*100}, index=featureCol)\n",
    "fig,ax = plt.subplots()\n",
    "ax.barh(np.arange(1,14),width = fimp.sort_values(by=\"Importance\").Importance,align='center')\n",
    "ax.set_yticks(np.arange(1,14,1))\n",
    "ax.set_yticklabels(fimp.sort_values(by=\"Importance\").index)\n",
    "plt.show()\n",
    "\n",
    "# GridSearchCV to determine the best num of features and num B (can apply this to other tuning parameters)\n",
    "paramGrid = ParamGridBuilder().addGrid(rand_rtree.maxDepth, range(1,3)).addGrid(rand_rtree.numTrees,range(1,5)).build()\n",
    "cv = CrossValidator(estimator=rand_rtree, evaluator=evaMSE, numFolds=3, estimatorParamMaps=paramGrid)\n",
    "mlcv = cv.fit(df)\n",
    "print(mlcv.avgMetrics[0])\n",
    "print(mlcv.bestModel.extractParamMap().items())"
   ]
  },
  {
   "cell_type": "code",
   "execution_count": 103,
   "metadata": {
    "collapsed": false
   },
   "outputs": [
    {
     "name": "stdout",
     "output_type": "stream",
     "text": [
      "506\n",
      "506\n",
      "+-------+----+-----+----+-----+-----+----+------+---+---+-------+------+-----+----+--------------------+\n",
      "|   crim|  zn|indus|chas|  nox|   rm| age|   dis|rad|tax|ptratio| black|lstat|medv|            features|\n",
      "+-------+----+-----+----+-----+-----+----+------+---+---+-------+------+-----+----+--------------------+\n",
      "|0.00632|18.0| 2.31|   0|0.538|6.575|65.2|  4.09|  1|296|   15.3| 396.9| 4.98|24.0|[0.00632,18.0,2.3...|\n",
      "|0.02731| 0.0| 7.07|   0|0.469|6.421|78.9|4.9671|  2|242|   17.8| 396.9| 9.14|21.6|[0.02731,0.0,7.07...|\n",
      "|0.02729| 0.0| 7.07|   0|0.469|7.185|61.1|4.9671|  2|242|   17.8|392.83| 4.03|34.7|[0.02729,0.0,7.07...|\n",
      "|0.03237| 0.0| 2.18|   0|0.458|6.998|45.8|6.0622|  3|222|   18.7|394.63| 2.94|33.4|[0.03237,0.0,2.18...|\n",
      "|0.06905| 0.0| 2.18|   0|0.458|7.147|54.2|6.0622|  3|222|   18.7| 396.9| 5.33|36.2|[0.06905,0.0,2.18...|\n",
      "+-------+----+-----+----+-----+-----+----+------+---+---+-------+------+-----+----+--------------------+\n",
      "only showing top 5 rows\n",
      "\n",
      "26.831105021403626\n"
     ]
    },
    {
     "data": {
      "image/png": "[encoded data removed]",
      "text/plain": [
       "<matplotlib.figure.Figure at 0x11668dd30>"
      ]
     },
     "metadata": {},
     "output_type": "display_data"
    },
    {
     "name": "stdout",
     "output_type": "stream",
     "text": [
      "31.797625314154146\n",
      "dict_items([(Param(parent='GBTRegressor_4b9ab83307d7e75fac5d', name='cacheNodeIds', doc='If false, the algorithm will pass trees to executors to match instances with nodes. If true, the algorithm will cache node IDs for each instance. Caching can speed up training of deeper trees.'), False), (Param(parent='GBTRegressor_4b9ab83307d7e75fac5d', name='checkpointInterval', doc='set checkpoint interval (>= 1) or disable checkpoint (-1). E.g. 10 means that the cache will get checkpointed every 10 iterations. Note: this setting will be ignored if the checkpoint directory is not set in the SparkContext'), 10), (Param(parent='GBTRegressor_4b9ab83307d7e75fac5d', name='featuresCol', doc='features column name'), 'features'), (Param(parent='GBTRegressor_4b9ab83307d7e75fac5d', name='impurity', doc='Criterion used for information gain calculation (case-insensitive). Supported options: variance'), 'variance'), (Param(parent='GBTRegressor_4b9ab83307d7e75fac5d', name='labelCol', doc='label column name'), 'medv'), (Param(parent='GBTRegressor_4b9ab83307d7e75fac5d', name='lossType', doc='Loss function which GBT tries to minimize (case-insensitive). Supported options: squared, absolute'), 'squared'), (Param(parent='GBTRegressor_4b9ab83307d7e75fac5d', name='maxBins', doc='Max number of bins for discretizing continuous features.  Must be >=2 and >= number of categories for any categorical feature.'), 32), (Param(parent='GBTRegressor_4b9ab83307d7e75fac5d', name='maxDepth', doc='Maximum depth of the tree. (>= 0) E.g., depth 0 means 1 leaf node; depth 1 means 1 internal node + 2 leaf nodes.'), 2), (Param(parent='GBTRegressor_4b9ab83307d7e75fac5d', name='maxIter', doc='maximum number of iterations (>= 0)'), 3), (Param(parent='GBTRegressor_4b9ab83307d7e75fac5d', name='maxMemoryInMB', doc='Maximum memory in MB allocated to histogram aggregation.'), 256), (Param(parent='GBTRegressor_4b9ab83307d7e75fac5d', name='minInfoGain', doc='Minimum information gain for a split to be considered at a tree node.'), 0.0), (Param(parent='GBTRegressor_4b9ab83307d7e75fac5d', name='minInstancesPerNode', doc='Minimum number of instances each child must have after split.  If a split causes the left or right child to have fewer than minInstancesPerNode, the split will be discarded as invalid. Should be >= 1.'), 1), (Param(parent='GBTRegressor_4b9ab83307d7e75fac5d', name='predictionCol', doc='prediction column name'), 'prediction'), (Param(parent='GBTRegressor_4b9ab83307d7e75fac5d', name='seed', doc='random seed'), 6057059121600367995), (Param(parent='GBTRegressor_4b9ab83307d7e75fac5d', name='stepSize', doc='Step size (a.k.a. learning rate) in interval (0, 1] for shrinking the contribution of each estimator.'), 0.001), (Param(parent='GBTRegressor_4b9ab83307d7e75fac5d', name='subsamplingRate', doc='Fraction of the training data used for learning each decision tree, in range (0, 1].'), 1.0)])\n"
     ]
    }
   ],
   "source": [
    "# Boosting\n",
    "\n",
    "# Load data as pyspark.sql.DataFrame\n",
    "data = spark.read.csv(\"../data/Boston.csv\", header=True, inferSchema=True)\n",
    "data.cache()\n",
    "print(data.count())\n",
    "data = data.dropna()\n",
    "print(data.count())\n",
    "# Convert feature to vector type\n",
    "featureCol = data.columns\n",
    "featureCol.remove('medv')\n",
    "vecAssembler = VectorAssembler(inputCols=featureCol, outputCol=\"features\")\n",
    "df = vecAssembler.transform(data)\n",
    "df.show(5)\n",
    "# Fit\n",
    "boost_rtree = GBTRegressor(labelCol=\"medv\",maxDepth=2, stepSize=0.001,maxIter=10) # maxIter = tree num\n",
    "ml = boost_rtree.fit(df)\n",
    "# Predict\n",
    "predict = ml.transform(df)\n",
    "# Evaluate\n",
    "evaMSE = RegressionEvaluator(labelCol=\"medv\",metricName=\"mse\")\n",
    "mse = evaMSE.evaluate(predict)\n",
    "print(mse)\n",
    "\n",
    "# Feature importance\n",
    "fimp = pd.DataFrame({\"Importance\":ml.featureImportances.toArray()*100}, index=featureCol)\n",
    "fig,ax = plt.subplots()\n",
    "ax.barh(np.arange(1,14),width = fimp.sort_values(by=\"Importance\").Importance,align='center')\n",
    "ax.set_yticks(np.arange(1,14,1))\n",
    "ax.set_yticklabels(fimp.sort_values(by=\"Importance\").index)\n",
    "plt.show()\n",
    "\n",
    "# GridSearchCV to determine the best num of features and num B (can apply this to other tuning parameters)\n",
    "paramGrid = ParamGridBuilder().addGrid(rand_rtree.maxDepth, range(1,3)).build()\n",
    "cv = CrossValidator(estimator=boost_rtree, evaluator=evaMSE, numFolds=3, estimatorParamMaps=paramGrid)\n",
    "mlcv = cv.fit(df)\n",
    "print(mlcv.avgMetrics[0])\n",
    "print(mlcv.bestModel.extractParamMap().items())"
   ]
  }
 ],
 "metadata": {
  "kernelspec": {
   "display_name": "Python 3",
   "language": "python",
   "name": "python3"
  },
  "language_info": {
   "codemirror_mode": {
    "name": "ipython",
    "version": 3
   },
   "file_extension": ".py",
   "mimetype": "text/x-python",
   "name": "python",
   "nbconvert_exporter": "python",
   "pygments_lexer": "ipython3",
   "version": "3.6.0"
  }
 },
 "nbformat": 4,
 "nbformat_minor": 0
}
