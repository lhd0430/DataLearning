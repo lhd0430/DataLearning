{
 "cells": [
  {
   "cell_type": "markdown",
   "metadata": {},
   "source": [
    "Lecture notes\n",
    "\n",
    "- Tree: T\n",
    "- Num of nodes: |T|\n",
    "- terminal node, internal node\n",
    "\n",
    "1. Regression Tree\n",
    "- Find boxes R1...Rj minimizing RSS (RSS depends on the mean of Y in each box)\n",
    "- Recursive binary splitting\n",
    "    - Find Rj, Xi and s minimizing RSS\n",
    "    - Only split one region at a time\n",
    "    - Stopping criterion: num of observations in each region\n",
    "    - This is a greedy method, as the best split is made at each step rather than leading to a better split in the future. (like forward feature selection)\n",
    "- Tree pruning\n",
    "    - Cost complexity pruning (weakest link pruning)\n",
    "        - Use recursive binary splitting to grow a large tree T0\n",
    "        - Find the subtree T minimizing RSS+Penalty, where Penaly = alpha * |T|\n",
    "    - Use CV to determine the best tuning parameter alpha\n",
    "\n",
    "2. Classification Tree\n",
    "- algorithm is the same as regression tree\n",
    "- instead of RSS, algorithm minimizes Gini index or Cross Entropy\n",
    "\n",
    "3. Bagging\n",
    "- A method to reduce the variance of the model\n",
    "- Bootstrap creating B samples with replacement. For each sample, grow a large tree. \n",
    "- Use all trees to predict by taking the average (for regression) or majority vote (for classification)\n",
    "- Out-of-bag (OOB) error estimation\n",
    "    - One observation is only visible for 2/3 of the bagging (banefit from bootstrap). Use the left 1/3 trees to estimate the prediction error\n",
    "    - For large B, OOB is equivalent to LOO CV\n",
    "    - OOB to determine the best B\n",
    "- Variable importance: record the total decrease of RSS or Gini index due to splits over a given predictor, then average over all B trees. Large value indicates important variable.\n",
    "\n",
    "3. Random forests\n",
    "- A random sample of m=sqrt(p) predictors is used for splitting in bagging\n",
    "- Decorrelates trees by avoiding dominant predictor in the top split\n",
    "- Tuning parameters:\n",
    "    - tree num B\n",
    "    - predictor num m\n",
    "\n",
    "4. Boosting\n",
    "- Trees are grown sequentially, i.e., each tree is grown using info from previous trees, and with modified response Y\n",
    "- Learn slowly: improve the model in areas where it does not perform well\n",
    "- Tuning parameters:\n",
    "    - The number of tree B (use CV)\n",
    "    - The shrinkage parameter lambda (0.01 or 0.001)\n",
    "    - The num of splits d (1 works well)\n"
   ]
  },
  {
   "cell_type": "code",
   "execution_count": 1,
   "metadata": {
    "collapsed": false
   },
   "outputs": [],
   "source": [
    "import numpy as np\n",
    "import pandas as pd\n",
    "import matplotlib.pyplot as plt\n",
    "from mpl_toolkits.mplot3d import Axes3D\n",
    "from sklearn import datasets,preprocessing\n",
    "from sklearn.linear_model import LinearRegression, LogisticRegression, Ridge, Lasso, RidgeCV, LassoCV\n",
    "from sklearn.discriminant_analysis import LinearDiscriminantAnalysis as LDA\n",
    "from sklearn.discriminant_analysis import QuadraticDiscriminantAnalysis as QDA\n",
    "from sklearn.neighbors import KNeighborsClassifier as KNN\n",
    "from sklearn.metrics import mean_squared_error, r2_score, confusion_matrix\n",
    "from sklearn.pipeline import make_pipeline, Pipeline\n",
    "from sklearn.model_selection import cross_val_score, GridSearchCV, train_test_split\n",
    "from sklearn import metrics\n",
    "from sklearn.utils import resample\n",
    "from sklearn.decomposition import PCA\n",
    "from sklearn.cross_decomposition import PLSRegression\n",
    "from sklearn.tree import DecisionTreeRegressor, DecisionTreeClassifier, export_graphviz\n",
    "from sklearn.ensemble import BaggingRegressor, BaggingRegressor,RandomForestRegressor, RandomForestClassifier, GradientBoostingRegressor, GradientBoostingClassifier\n",
    "\n",
    "import graphviz\n",
    "import math\n",
    "import statsmodels.api as sm\n",
    "import statsmodels.formula.api as smf\n",
    "from patsy import dmatrices, dmatrix\n",
    "\n",
    "import os\n",
    "\n",
    "\n",
    "%matplotlib inline"
   ]
  },
  {
   "cell_type": "code",
   "execution_count": 50,
   "metadata": {
    "collapsed": false
   },
   "outputs": [
    {
     "name": "stdout",
     "output_type": "stream",
     "text": [
      "[[36  7]\n",
      " [15 22]]\n"
     ]
    }
   ],
   "source": [
    "# Classification tree\n",
    "data = pd.read_csv('data/Carseats.csv').dropna()\n",
    "data['High'] = data.Sales.map(lambda x: 1 if x>8 else 0)\n",
    "data.ShelveLoc = pd.factorize(data.ShelveLoc)[0]\n",
    "data.Urban = data.Urban.map({'No':0, 'Yes':1})\n",
    "data.US = data.US.map({'No':0, 'Yes':1})\n",
    "data.head()\n",
    "\n",
    "X = data.drop(['Sales', 'High'], axis = 1)\n",
    "y = data.High\n",
    "X_train, X_test, y_train, y_test = train_test_split(X, y, train_size = 0.8, random_state = 0)\n",
    "\n",
    "\n",
    "ctree = DecisionTreeClassifier(max_depth=6).fit(X_train,y_train)\n",
    "ctree.score(X_train,y_train)\n",
    "print(confusion_matrix(y_test,ctree.predict(X_test)))\n",
    "\n",
    "# plot tree\n",
    "export_graphviz(ctree,out_file = \"carseat_tree.dot\",feature_names = X_train.columns)\n",
    "with open(\"carseat_tree.dot\") as f:\n",
    "    dot_graph = f.read()\n",
    "graphviz.Source(dot_graph)\n",
    "# os.remove(\"carseat_tree.dot\")"
   ]
  },
  {
   "cell_type": "code",
   "execution_count": 2,
   "metadata": {
    "collapsed": false
   },
   "outputs": [
    {
     "name": "stdout",
     "output_type": "stream",
     "text": [
      "35.4062158288\n",
      "{'max_depth': 3} 35.6386192265\n"
     ]
    },
    {
     "data": {
      "image/svg+xml": [
       "<?xml version=\"1.0\" encoding=\"UTF-8\" standalone=\"no\"?>\n",
       "<!DOCTYPE svg PUBLIC \"-//W3C//DTD SVG 1.1//EN\"\n",
       " \"http://www.w3.org/Graphics/SVG/1.1/DTD/svg11.dtd\">\n",
       "<!-- Generated by graphviz version 2.40.1 (20161225.0304)\n",
       " -->\n",
       "<!-- Title: Tree Pages: 1 -->\n",
       "<svg width=\"490pt\" height=\"258pt\"\n",
       " viewBox=\"0.00 0.00 489.71 258.00\" xmlns=\"http://www.w3.org/2000/svg\" xmlns:xlink=\"http://www.w3.org/1999/xlink\">\n",
       "<g id=\"graph0\" class=\"graph\" transform=\"scale(1 1) rotate(0) translate(4 254)\">\n",
       "<title>Tree</title>\n",
       "<polygon fill=\"#ffffff\" stroke=\"transparent\" points=\"-4,4 -4,-254 485.7129,-254 485.7129,4 -4,4\"/>\n",
       "<!-- 0 -->\n",
       "<g id=\"node1\" class=\"node\">\n",
       "<title>0</title>\n",
       "<polygon fill=\"none\" stroke=\"#000000\" points=\"293.5568,-250 187.1561,-250 187.1561,-186 293.5568,-186 293.5568,-250\"/>\n",
       "<text text-anchor=\"middle\" x=\"240.3564\" y=\"-234.8\" font-family=\"Times,serif\" font-size=\"14.00\" fill=\"#000000\">lstat &lt;= 8.13</text>\n",
       "<text text-anchor=\"middle\" x=\"240.3564\" y=\"-220.8\" font-family=\"Times,serif\" font-size=\"14.00\" fill=\"#000000\">mse = 85.1437</text>\n",
       "<text text-anchor=\"middle\" x=\"240.3564\" y=\"-206.8\" font-family=\"Times,serif\" font-size=\"14.00\" fill=\"#000000\">samples = 404</text>\n",
       "<text text-anchor=\"middle\" x=\"240.3564\" y=\"-192.8\" font-family=\"Times,serif\" font-size=\"14.00\" fill=\"#000000\">value = 22.6119</text>\n",
       "</g>\n",
       "<!-- 1 -->\n",
       "<g id=\"node2\" class=\"node\">\n",
       "<title>1</title>\n",
       "<polygon fill=\"none\" stroke=\"#000000\" points=\"231.5697,-150 125.1432,-150 125.1432,-86 231.5697,-86 231.5697,-150\"/>\n",
       "<text text-anchor=\"middle\" x=\"178.3564\" y=\"-134.8\" font-family=\"Times,serif\" font-size=\"14.00\" fill=\"#000000\">rm &lt;= 7.437</text>\n",
       "<text text-anchor=\"middle\" x=\"178.3564\" y=\"-120.8\" font-family=\"Times,serif\" font-size=\"14.00\" fill=\"#000000\">mse = 76.7005</text>\n",
       "<text text-anchor=\"middle\" x=\"178.3564\" y=\"-106.8\" font-family=\"Times,serif\" font-size=\"14.00\" fill=\"#000000\">samples = 139</text>\n",
       "<text text-anchor=\"middle\" x=\"178.3564\" y=\"-92.8\" font-family=\"Times,serif\" font-size=\"14.00\" fill=\"#000000\">value = 31.3784</text>\n",
       "</g>\n",
       "<!-- 0&#45;&gt;1 -->\n",
       "<g id=\"edge1\" class=\"edge\">\n",
       "<title>0&#45;&gt;1</title>\n",
       "<path fill=\"none\" stroke=\"#000000\" d=\"M220.398,-185.8089C215.0327,-177.1553 209.1599,-167.683 203.5502,-158.635\"/>\n",
       "<polygon fill=\"#000000\" stroke=\"#000000\" points=\"206.5216,-156.7855 198.2775,-150.1308 200.5723,-160.4741 206.5216,-156.7855\"/>\n",
       "<text text-anchor=\"middle\" x=\"192.5683\" y=\"-170.2701\" font-family=\"Times,serif\" font-size=\"14.00\" fill=\"#000000\">True</text>\n",
       "</g>\n",
       "<!-- 4 -->\n",
       "<g id=\"node5\" class=\"node\">\n",
       "<title>4</title>\n",
       "<polygon fill=\"none\" stroke=\"#000000\" points=\"356.5697,-150 250.1432,-150 250.1432,-86 356.5697,-86 356.5697,-150\"/>\n",
       "<text text-anchor=\"middle\" x=\"303.3564\" y=\"-134.8\" font-family=\"Times,serif\" font-size=\"14.00\" fill=\"#000000\">lstat &lt;= 15.0</text>\n",
       "<text text-anchor=\"middle\" x=\"303.3564\" y=\"-120.8\" font-family=\"Times,serif\" font-size=\"14.00\" fill=\"#000000\">mse = 28.1169</text>\n",
       "<text text-anchor=\"middle\" x=\"303.3564\" y=\"-106.8\" font-family=\"Times,serif\" font-size=\"14.00\" fill=\"#000000\">samples = 265</text>\n",
       "<text text-anchor=\"middle\" x=\"303.3564\" y=\"-92.8\" font-family=\"Times,serif\" font-size=\"14.00\" fill=\"#000000\">value = 18.0136</text>\n",
       "</g>\n",
       "<!-- 0&#45;&gt;4 -->\n",
       "<g id=\"edge4\" class=\"edge\">\n",
       "<title>0&#45;&gt;4</title>\n",
       "<path fill=\"none\" stroke=\"#000000\" d=\"M260.6368,-185.8089C266.0886,-177.1553 272.0561,-167.683 277.7564,-158.635\"/>\n",
       "<polygon fill=\"#000000\" stroke=\"#000000\" points=\"280.745,-160.4573 283.1141,-150.1308 274.8223,-156.726 280.745,-160.4573\"/>\n",
       "<text text-anchor=\"middle\" x=\"288.6481\" y=\"-170.3105\" font-family=\"Times,serif\" font-size=\"14.00\" fill=\"#000000\">False</text>\n",
       "</g>\n",
       "<!-- 2 -->\n",
       "<g id=\"node3\" class=\"node\">\n",
       "<title>2</title>\n",
       "<polygon fill=\"none\" stroke=\"#000000\" points=\"106.5697,-50 .1432,-50 .1432,0 106.5697,0 106.5697,-50\"/>\n",
       "<text text-anchor=\"middle\" x=\"53.3564\" y=\"-34.8\" font-family=\"Times,serif\" font-size=\"14.00\" fill=\"#000000\">mse = 37.7493</text>\n",
       "<text text-anchor=\"middle\" x=\"53.3564\" y=\"-20.8\" font-family=\"Times,serif\" font-size=\"14.00\" fill=\"#000000\">samples = 115</text>\n",
       "<text text-anchor=\"middle\" x=\"53.3564\" y=\"-6.8\" font-family=\"Times,serif\" font-size=\"14.00\" fill=\"#000000\">value = 28.5504</text>\n",
       "</g>\n",
       "<!-- 1&#45;&gt;2 -->\n",
       "<g id=\"edge2\" class=\"edge\">\n",
       "<title>1&#45;&gt;2</title>\n",
       "<path fill=\"none\" stroke=\"#000000\" d=\"M135.3385,-85.9947C122.3619,-76.3401 108.1403,-65.7592 95.2387,-56.1604\"/>\n",
       "<polygon fill=\"#000000\" stroke=\"#000000\" points=\"97.0897,-53.1751 86.9775,-50.014 92.9113,-58.7913 97.0897,-53.1751\"/>\n",
       "</g>\n",
       "<!-- 3 -->\n",
       "<g id=\"node4\" class=\"node\">\n",
       "<title>3</title>\n",
       "<polygon fill=\"none\" stroke=\"#000000\" points=\"231.5697,-50 125.1432,-50 125.1432,0 231.5697,0 231.5697,-50\"/>\n",
       "<text text-anchor=\"middle\" x=\"178.3564\" y=\"-34.8\" font-family=\"Times,serif\" font-size=\"14.00\" fill=\"#000000\">mse = 41.3979</text>\n",
       "<text text-anchor=\"middle\" x=\"178.3564\" y=\"-20.8\" font-family=\"Times,serif\" font-size=\"14.00\" fill=\"#000000\">samples = 24</text>\n",
       "<text text-anchor=\"middle\" x=\"178.3564\" y=\"-6.8\" font-family=\"Times,serif\" font-size=\"14.00\" fill=\"#000000\">value = 44.9292</text>\n",
       "</g>\n",
       "<!-- 1&#45;&gt;3 -->\n",
       "<g id=\"edge3\" class=\"edge\">\n",
       "<title>1&#45;&gt;3</title>\n",
       "<path fill=\"none\" stroke=\"#000000\" d=\"M178.3564,-85.9947C178.3564,-77.6273 178.3564,-68.5643 178.3564,-60.0478\"/>\n",
       "<polygon fill=\"#000000\" stroke=\"#000000\" points=\"181.8565,-60.014 178.3564,-50.014 174.8565,-60.0141 181.8565,-60.014\"/>\n",
       "</g>\n",
       "<!-- 5 -->\n",
       "<g id=\"node6\" class=\"node\">\n",
       "<title>5</title>\n",
       "<polygon fill=\"none\" stroke=\"#000000\" points=\"356.5697,-50 250.1432,-50 250.1432,0 356.5697,0 356.5697,-50\"/>\n",
       "<text text-anchor=\"middle\" x=\"303.3564\" y=\"-34.8\" font-family=\"Times,serif\" font-size=\"14.00\" fill=\"#000000\">mse = 13.4186</text>\n",
       "<text text-anchor=\"middle\" x=\"303.3564\" y=\"-20.8\" font-family=\"Times,serif\" font-size=\"14.00\" fill=\"#000000\">samples = 132</text>\n",
       "<text text-anchor=\"middle\" x=\"303.3564\" y=\"-6.8\" font-family=\"Times,serif\" font-size=\"14.00\" fill=\"#000000\">value = 21.6008</text>\n",
       "</g>\n",
       "<!-- 4&#45;&gt;5 -->\n",
       "<g id=\"edge5\" class=\"edge\">\n",
       "<title>4&#45;&gt;5</title>\n",
       "<path fill=\"none\" stroke=\"#000000\" d=\"M303.3564,-85.9947C303.3564,-77.6273 303.3564,-68.5643 303.3564,-60.0478\"/>\n",
       "<polygon fill=\"#000000\" stroke=\"#000000\" points=\"306.8565,-60.014 303.3564,-50.014 299.8565,-60.0141 306.8565,-60.014\"/>\n",
       "</g>\n",
       "<!-- 6 -->\n",
       "<g id=\"node7\" class=\"node\">\n",
       "<title>6</title>\n",
       "<polygon fill=\"none\" stroke=\"#000000\" points=\"481.5697,-50 375.1432,-50 375.1432,0 481.5697,0 481.5697,-50\"/>\n",
       "<text text-anchor=\"middle\" x=\"428.3564\" y=\"-34.8\" font-family=\"Times,serif\" font-size=\"14.00\" fill=\"#000000\">mse = 17.2587</text>\n",
       "<text text-anchor=\"middle\" x=\"428.3564\" y=\"-20.8\" font-family=\"Times,serif\" font-size=\"14.00\" fill=\"#000000\">samples = 133</text>\n",
       "<text text-anchor=\"middle\" x=\"428.3564\" y=\"-6.8\" font-family=\"Times,serif\" font-size=\"14.00\" fill=\"#000000\">value = 14.4534</text>\n",
       "</g>\n",
       "<!-- 4&#45;&gt;6 -->\n",
       "<g id=\"edge6\" class=\"edge\">\n",
       "<title>4&#45;&gt;6</title>\n",
       "<path fill=\"none\" stroke=\"#000000\" d=\"M346.3744,-85.9947C359.351,-76.3401 373.5726,-65.7592 386.4742,-56.1604\"/>\n",
       "<polygon fill=\"#000000\" stroke=\"#000000\" points=\"388.8016,-58.7913 394.7354,-50.014 384.6232,-53.1751 388.8016,-58.7913\"/>\n",
       "</g>\n",
       "</g>\n",
       "</svg>\n"
      ],
      "text/plain": [
       "<graphviz.files.Source at 0x117eaf898>"
      ]
     },
     "execution_count": 2,
     "metadata": {},
     "output_type": "execute_result"
    }
   ],
   "source": [
    "# Regression tree\n",
    "df = pd.read_csv('data/Boston.csv')\n",
    "X = df.drop('medv', axis = 1)\n",
    "y = df.medv\n",
    "X_train, X_test, y_train, y_test = train_test_split(X, y, train_size = 0.8, random_state = 0)\n",
    "\n",
    "rtree = DecisionTreeRegressor(max_depth = 2).fit(X_train,y_train)\n",
    "print(mean_squared_error(y_test,rtree.predict(X_test)))\n",
    "\n",
    "# GridSearchCV to determine the best depth\n",
    "d = np.arange(1,10) \n",
    "est = GridSearchCV(DecisionTreeRegressor(),dict(max_depth = d),cv=5,scoring=\"neg_mean_squared_error\")\n",
    "est.fit(X,y)\n",
    "print(est.best_params_, -est.best_score_)\n",
    "\n",
    "# plot tree\n",
    "export_graphviz(rtree,out_file = \"Boston_tree.dot\",feature_names = X_train.columns)\n",
    "with open(\"Boston_tree.dot\") as f:\n",
    "    dot_graph = f.read()\n",
    "graphviz.Source(dot_graph)\n",
    "# os.remove(\"Boston_tree.dot\")"
   ]
  },
  {
   "cell_type": "code",
   "execution_count": 3,
   "metadata": {
    "collapsed": false
   },
   "outputs": [
    {
     "name": "stdout",
     "output_type": "stream",
     "text": [
      "25.8318941176\n",
      "0.810763211504\n",
      "{'n_estimators': 19} 20.9547961306\n"
     ]
    }
   ],
   "source": [
    "# Bagging - regression\n",
    "bagging_rtree = BaggingRegressor(oob_score=True).fit(X_train,y_train)\n",
    "print(mean_squared_error(y_test,bagging_rtree.predict(X_test)))\n",
    "print(bagging_rtree.oob_score_)\n",
    "\n",
    "# GridSearchCV to determine the best num B\n",
    "d = np.arange(1,20) \n",
    "est = GridSearchCV(BaggingRegressor(),dict(n_estimators = d),cv=5,scoring=\"neg_mean_squared_error\")\n",
    "est.fit(X,y)\n",
    "print(est.best_params_, -est.best_score_)\n"
   ]
  },
  {
   "cell_type": "code",
   "execution_count": 4,
   "metadata": {
    "collapsed": false
   },
   "outputs": [
    {
     "name": "stderr",
     "output_type": "stream",
     "text": [
      "/Users/lhd0430/anaconda/lib/python3.6/site-packages/sklearn/ensemble/forest.py:723: UserWarning: Some inputs do not have OOB scores. This probably means too few trees were used to compute any reliable oob estimates.\n",
      "  warn(\"Some inputs do not have OOB scores. \"\n"
     ]
    },
    {
     "name": "stdout",
     "output_type": "stream",
     "text": [
      "23.7974343137\n",
      "0.746094726808\n",
      "{'max_features': 9, 'n_estimators': 10} 18.6334664032\n"
     ]
    },
    {
     "data": {
      "image/png": "[encoded data removed]",
      "text/plain": [
       "<matplotlib.figure.Figure at 0x117f21080>"
      ]
     },
     "metadata": {},
     "output_type": "display_data"
    }
   ],
   "source": [
    "# Random forests - regression\n",
    "# if m=p then this is equivalent to bagging above\n",
    "rand_rtree = RandomForestRegressor(max_features=6, random_state=1,oob_score=True).fit(X_train,y_train)\n",
    "print(mean_squared_error(y_test,rand_rtree.predict(X_test)))\n",
    "print(rand_rtree.oob_score_)\n",
    "\n",
    "# GridSearchCV to determine the best num of features and num B (can apply this to other tuning parameters)\n",
    "m = np.arange(1,13) \n",
    "d = np.arange(10,12) \n",
    "est = GridSearchCV(RandomForestRegressor(),dict(max_features = m, n_estimators=d),cv=5,scoring=\"neg_mean_squared_error\")\n",
    "est.fit(X,y)\n",
    "print(est.best_params_, -est.best_score_)\n",
    "\n",
    "# Feature importance\n",
    "fimp = pd.DataFrame({\"Importance\":rand_rtree.feature_importances_*100}, index=X.columns)\n",
    "fig,ax = plt.subplots()\n",
    "ax.barh(np.arange(1,14),width = fimp.sort_values(by=\"Importance\").Importance,align='center')\n",
    "ax.set_yticks(np.arange(1,14,1))\n",
    "ax.set_yticklabels(fimp.sort_values(by=\"Importance\").index)\n",
    "plt.show()"
   ]
  },
  {
   "cell_type": "code",
   "execution_count": 13,
   "metadata": {
    "collapsed": false
   },
   "outputs": [
    {
     "name": "stdout",
     "output_type": "stream",
     "text": [
      "49.9485452783\n",
      "{'learning_rate': 0.10000000000000001} 18.4205859687\n"
     ]
    },
    {
     "data": {
      "image/png": "[encoded data removed]",
      "text/plain": [
       "<matplotlib.figure.Figure at 0x11a76d518>"
      ]
     },
     "metadata": {},
     "output_type": "display_data"
    }
   ],
   "source": [
    "# Boosting\n",
    "boost_rtree = GradientBoostingRegressor(n_estimators=500, learning_rate=0.001, max_depth=2).fit(X_train,y_train)\n",
    "print(mean_squared_error(y_test,boost_rtree.predict(X_test)))\n",
    "\n",
    "# GridSearchCV to determine the best learning rate (can apply this to other tuning parameters) \n",
    "r = np.arange(0.1,0.5) \n",
    "est = GridSearchCV(GradientBoostingRegressor(n_estimators=500, max_depth=2),dict(learning_rate=r),cv=5,scoring=\"neg_mean_squared_error\")\n",
    "est.fit(X,y)\n",
    "print(est.best_params_, -est.best_score_)\n",
    "\n",
    "# Feature importance\n",
    "fimp = pd.DataFrame({\"Importance\":boost_rtree.feature_importances_*100}, index=X.columns)\n",
    "fig,ax = plt.subplots()\n",
    "ax.barh(np.arange(1,14),width = fimp.sort_values(by=\"Importance\").Importance,align='center')\n",
    "ax.set_yticks(np.arange(1,14,1))\n",
    "ax.set_yticklabels(fimp.sort_values(by=\"Importance\").index)\n",
    "plt.show()"
   ]
  },
  {
   "cell_type": "code",
   "execution_count": null,
   "metadata": {
    "collapsed": true
   },
   "outputs": [],
   "source": []
  }
 ],
 "metadata": {
  "kernelspec": {
   "display_name": "Python 3",
   "language": "python",
   "name": "python3"
  },
  "language_info": {
   "codemirror_mode": {
    "name": "ipython",
    "version": 3
   },
   "file_extension": ".py",
   "mimetype": "text/x-python",
   "name": "python",
   "nbconvert_exporter": "python",
   "pygments_lexer": "ipython3",
   "version": "3.5.4"
  }
 },
 "nbformat": 4,
 "nbformat_minor": 0
}
